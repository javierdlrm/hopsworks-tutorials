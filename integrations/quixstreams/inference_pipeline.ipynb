{
 "cells": [
  {
   "cell_type": "code",
   "execution_count": 1,
   "id": "c5d8e18f",
   "metadata": {},
   "outputs": [
    {
     "name": "stdout",
     "output_type": "stream",
     "text": [
      "Connected. Call `.close()` to terminate connection gracefully.\n",
      "\n",
      "Logged in to project, explore it here https://hopsworks0.logicalclocks.com/p/121\n",
      "Connected. Call `.close()` to terminate connection gracefully.\n"
     ]
    }
   ],
   "source": [
    "import hopsworks\n",
    "\n",
    "project = hopsworks.login()\n",
    "\n",
    "fs = project.get_feature_store()\n",
    "\n",
    "# Get orderbook feature group\n",
    "orderbook_fg = fs.get_feature_group(\"orderbook\", 1)\n",
    "orderbook_agg_1m_fg = fs.get_feature_group(\"orderbook_agg_1m\", 1)\n",
    "orderbook_agg_2m_fg = fs.get_feature_group(\"orderbook_agg_2m\", 1)\n",
    "orderbook_agg_3m_fg = fs.get_feature_group(\"orderbook_agg_3m\", 1)"
   ]
  },
  {
   "cell_type": "code",
   "execution_count": 2,
   "id": "8270349f",
   "metadata": {},
   "outputs": [],
   "source": [
    "# Define query\n",
    "feature_join = orderbook_agg_1m_fg.select_all() \\\n",
    "    .join(orderbook_agg_2m_fg.select_all(), prefix=\"twomin\") \\\n",
    "    .join(orderbook_agg_3m_fg.select_all(), prefix=\"threemin\")"
   ]
  },
  {
   "cell_type": "code",
   "execution_count": 3,
   "id": "388378a0",
   "metadata": {},
   "outputs": [
    {
     "name": "stdout",
     "output_type": "stream",
     "text": [
      "Feature view created successfully, explore it at \n",
      "https://hopsworks0.logicalclocks.com/p/121/fs/69/fv/latest_orderbook_agg/version/1\n"
     ]
    }
   ],
   "source": [
    "# Create a feature view\n",
    "orderbook_agg_fv = fs.create_feature_view(name=\"latest_orderbook_agg\", query=feature_join)"
   ]
  },
  {
   "cell_type": "code",
   "execution_count": 4,
   "id": "56dd46bb",
   "metadata": {},
   "outputs": [
    {
     "name": "stdout",
     "output_type": "stream",
     "text": [
      "2024-04-25 17:06:49,171 WARNING: VersionWarning: No training dataset version was provided to initialise serving. Defaulting to version 1.\n",
      "\n"
     ]
    },
    {
     "data": {
      "text/plain": [
       "['BTC-USD',\n",
       " datetime.datetime(2024, 4, 25, 16, 58, 10),\n",
       " 64388.2,\n",
       " 64398.9,\n",
       " 64394.6,\n",
       " 1481080.0,\n",
       " 23.0,\n",
       " 1.66532,\n",
       " 64389.4,\n",
       " 64403.7,\n",
       " 64399.1,\n",
       " 1481180.0,\n",
       " 23.0,\n",
       " 1.55027,\n",
       " 1.2,\n",
       " 'BTC-USD',\n",
       " datetime.datetime(2024, 4, 25, 16, 57, 55),\n",
       " 64426.1,\n",
       " 64435.8,\n",
       " 1997350.0,\n",
       " 3994690.0,\n",
       " 2.0,\n",
       " 2.98968,\n",
       " 64427.1,\n",
       " 64438.7,\n",
       " 1997440.0,\n",
       " 3994890.0,\n",
       " 2.0,\n",
       " 4.11102,\n",
       " 0.01,\n",
       " 'BTC-USD',\n",
       " datetime.datetime(2024, 4, 25, 16, 57, 35),\n",
       " 64353.8,\n",
       " 64428.9,\n",
       " 2060590.0,\n",
       " 4121190.0,\n",
       " 1.0,\n",
       " 3.8873,\n",
       " 64353.8,\n",
       " 64434.9,\n",
       " 2060650.0,\n",
       " 4121300.0,\n",
       " 1.0,\n",
       " 5.02644,\n",
       " 0.31]"
      ]
     },
     "execution_count": 4,
     "metadata": {},
     "output_type": "execute_result"
    }
   ],
   "source": [
    "# Retrieve feature vectors for online predictions\n",
    "orderbook_agg_fv.get_feature_vector(entry = {\"ticker\": \"BTC-USD\"})"
   ]
  },
  {
   "cell_type": "code",
   "execution_count": null,
   "id": "09e9b316",
   "metadata": {},
   "outputs": [],
   "source": []
  }
 ],
 "metadata": {
  "kernelspec": {
   "display_name": "Python",
   "language": "python",
   "name": "python3"
  },
  "language_info": {
   "codemirror_mode": {
    "name": "ipython",
    "version": 3
   },
   "file_extension": ".py",
   "mimetype": "text/x-python",
   "name": "python",
   "nbconvert_exporter": "python",
   "pygments_lexer": "ipython3",
   "version": "3.10.11"
  }
 },
 "nbformat": 4,
 "nbformat_minor": 5
}