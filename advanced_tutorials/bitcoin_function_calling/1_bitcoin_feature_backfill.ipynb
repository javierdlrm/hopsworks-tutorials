{
 "cells": [
  {
   "cell_type": "markdown",
   "id": "13fe973d",
   "metadata": {},
   "source": [
    "# <span style=\"font-width:bold; font-size: 3rem; color:#1EB182;\"><img src=\"../../images/icon102.png\" width=\"38px\"></img> **Hopsworks Feature Store** </span><span style=\"font-width:bold; font-size: 3rem; color:#333;\">- Part 01: Feature Backfill</span>\n",
    "\n",
    "[![Open In Colab](https://colab.research.google.com/assets/colab-badge.svg)](https://colab.research.google.com/github/logicalclocks/hopsworks-tutorials/blob/master/advanced_tutorials/bitcoin/1_bitcoin_feature_backfill.ipynb)\n",
    "\n",
    "## 🗒️ This notebook is divided into the following sections:\n",
    "1. Fetch historical data.\n",
    "2. Connect to the Hopsworks feature store.\n",
    "3. Create feature groups and insert them to the feature store.\n",
    "\n",
    "![tutorial-flow](../../images/01_featuregroups.png)"
   ]
  },
  {
   "cell_type": "markdown",
   "id": "f76b5c5a",
   "metadata": {},
   "source": [
    "---"
   ]
  },
  {
   "cell_type": "markdown",
   "id": "09eff018",
   "metadata": {},
   "source": [
    "### <span style=\"color:#ff5f27;\"> 📝 Imports</span>"
   ]
  },
  {
   "cell_type": "code",
   "execution_count": 1,
   "id": "115a1c0a",
   "metadata": {},
   "outputs": [
    {
     "name": "stdout",
     "output_type": "stream",
     "text": [
      "\u001b[33mWARNING: Running pip as the 'root' user can result in broken permissions and conflicting behaviour with the system package manager. It is recommended to use a virtual environment instead: https://pip.pypa.io/warnings/venv\u001b[0m\u001b[33m\n",
      "\u001b[0m\u001b[33mWARNING: Running pip as the 'root' user can result in broken permissions and conflicting behaviour with the system package manager. It is recommended to use a virtual environment instead: https://pip.pypa.io/warnings/venv\u001b[0m\u001b[33m\n",
      "\u001b[0m\u001b[33mWARNING: Running pip as the 'root' user can result in broken permissions and conflicting behaviour with the system package manager. It is recommended to use a virtual environment instead: https://pip.pypa.io/warnings/venv\u001b[0m\u001b[33m\n",
      "\u001b[0m\u001b[33mWARNING: Running pip as the 'root' user can result in broken permissions and conflicting behaviour with the system package manager. It is recommended to use a virtual environment instead: https://pip.pypa.io/warnings/venv\u001b[0m\u001b[33m\n",
      "\u001b[0m\u001b[33mWARNING: Running pip as the 'root' user can result in broken permissions and conflicting behaviour with the system package manager. It is recommended to use a virtual environment instead: https://pip.pypa.io/warnings/venv\u001b[0m\u001b[33m\n",
      "\u001b[0m\u001b[33mWARNING: Running pip as the 'root' user can result in broken permissions and conflicting behaviour with the system package manager. It is recommended to use a virtual environment instead: https://pip.pypa.io/warnings/venv\u001b[0m\u001b[33m\n",
      "\u001b[0m"
     ]
    }
   ],
   "source": [
    "# !pip install -U hopsworks --quiet\n",
    "\n",
    "!pip install -U unicorn-binance-rest-api --quiet\n",
    "!pip install -U python-dotenv --quiet\n",
    "!pip install -U textblob --quiet\n",
    "!pip install -U vaderSentiment --quiet\n",
    "!pip install -U tweepy --quiet\n",
    "!pip install -U plotly --quiet"
   ]
  },
  {
   "cell_type": "code",
   "execution_count": 2,
   "id": "00d3a466",
   "metadata": {},
   "outputs": [
    {
     "name": "stdout",
     "output_type": "stream",
     "text": [
      "\u001b[33mWARNING: Running pip as the 'root' user can result in broken permissions and conflicting behaviour with the system package manager. It is recommended to use a virtual environment instead: https://pip.pypa.io/warnings/venv\u001b[0m\u001b[33m\n",
      "\u001b[0m"
     ]
    }
   ],
   "source": [
    "!pip install -U unicorn-binance-suite --quiet"
   ]
  },
  {
   "cell_type": "code",
   "execution_count": 3,
   "id": "0230c507",
   "metadata": {},
   "outputs": [
    {
     "name": "stdout",
     "output_type": "stream",
     "text": [
      "Downloading modules\n"
     ]
    }
   ],
   "source": [
    "# Hosted notebook environments may not have the local features package\n",
    "import os\n",
    "\n",
    "def need_download_modules():\n",
    "    if 'google.colab' in str(get_ipython()):\n",
    "        return True\n",
    "    if 'HOPSWORKS_PROJECT_ID' in os.environ:\n",
    "        return True\n",
    "    return False\n",
    "\n",
    "if need_download_modules():\n",
    "    print(\"Downloading modules\")\n",
    "    os.system('mkdir -p features')\n",
    "    os.system('cd features && wget https://raw.githubusercontent.com/logicalclocks/hopsworks-tutorials/master/advanced_tutorials/bitcoin/features/bitcoin_price.py')\n",
    "    os.system('cd features && wget https://raw.githubusercontent.com/logicalclocks/hopsworks-tutorials/master/advanced_tutorials/bitcoin/features/tweets.py')\n",
    "else:\n",
    "    print(\"Local environment\")"
   ]
  },
  {
   "cell_type": "code",
   "execution_count": 4,
   "id": "233c2042",
   "metadata": {},
   "outputs": [],
   "source": [
    "import os\n",
    "\n",
    "# Uncomment and fill in if you are running on Colab\n",
    "os.environ['TWITTER_API_KEY'] = ''\n",
    "os.environ['TWITTER_API_SECRET'] = ''\n",
    "os.environ['TWITTER_ACCESS_TOKEN'] = ''\n",
    "os.environ['TWITTER_ACCESS_TOKEN_SECRET'] = ''\n",
    "\n",
    "os.environ['BINANCE_API_KEY'] = ''\n",
    "os.environ['BINANCE_API_SECRET'] = ''"
   ]
  },
  {
   "cell_type": "code",
   "execution_count": 5,
   "id": "8e6fd864",
   "metadata": {
    "scrolled": true
   },
   "outputs": [
    {
     "name": "stdout",
     "output_type": "stream",
     "text": [
      "Importing tweets\n",
      " - tweepy\n",
      " - vaderSentiment\n",
      " - nltk\n"
     ]
    },
    {
     "name": "stderr",
     "output_type": "stream",
     "text": [
      "[nltk_data] Downloading package stopwords to\n",
      "[nltk_data]     /home/yarnapp/nltk_data...\n",
      "[nltk_data]   Package stopwords is already up-to-date!\n",
      "[nltk_data] Downloading package wordnet to /home/yarnapp/nltk_data...\n",
      "[nltk_data]   Package wordnet is already up-to-date!\n",
      "[nltk_data] Downloading package omw-1.4 to /home/yarnapp/nltk_data...\n",
      "[nltk_data]   Package omw-1.4 is already up-to-date!\n"
     ]
    }
   ],
   "source": [
    "import pandas as pd\n",
    "\n",
    "from features import bitcoin_price, tweets"
   ]
  },
  {
   "cell_type": "markdown",
   "id": "4c507ab6",
   "metadata": {
    "tags": []
   },
   "source": [
    "---\n",
    "## <span style=\"color:#ff5f27;\"> 🧙🏼‍♂️ Parsing Data</span>"
   ]
  },
  {
   "cell_type": "markdown",
   "id": "e52383a5",
   "metadata": {},
   "source": [
    "You will parse timeseries Bitcoin data from Binance using your own credentials, so you have to get a free Binance account and [create API-keys](https://www.binance.com/en/support/faq/360002502072).\n",
    "\n",
    "Also, you should [contact Twitter](https://developer.twitter.com/en/docs/twitter-api/getting-started/getting-access-to-the-twitter-api) for their API-keys.\n",
    "\n",
    "\n",
    "#### Don't forget to create an `.env` configuration file inside this directory where all the necessary environment variables will be stored:\n",
    "\n",
    "`TWITTER_API_KEY = \"YOUR_API_KEY\"`\n",
    "\n",
    "`TWITTER_API_SECRET = \"YOUR_API_KEY\"`\n",
    "\n",
    "`TWITTER_ACCESS_TOKEN = \"YOUR_API_KEY\"`\n",
    "\n",
    "`TWITTER_ACCESS_TOKEN_SECRET = \"YOUR_API_KEY\"`\n",
    "\n",
    "\n",
    "`BINANCE_API_KEY = \"YOUR_API_KEY\"`\n",
    "\n",
    "`BINANCE_API_SECRET = \"YOUR_API_KEY\"`\n",
    "\n",
    "> If you done it after you run this notebook, restart the Python Kernel (because `functions.py` does not have these variables in his namespace).\n",
    "\n",
    "![](images/api_keys_env_file.png)"
   ]
  },
  {
   "cell_type": "markdown",
   "id": "5cdb87b8",
   "metadata": {},
   "source": [
    "### <span style='color:#ff5f27'> 📈 Bitcoin Data parsing"
   ]
  },
  {
   "cell_type": "code",
   "execution_count": 6,
   "id": "4f4b34d4",
   "metadata": {},
   "outputs": [
    {
     "name": "stdout",
     "output_type": "stream",
     "text": [
      "2024-04-20 15:25:36,616 INFO: New instance of unicorn-binance-rest-api_2.2.1-python_3.10.11-compiled on Linux 6.2.0-39-generic for exchange None started ...\n",
      "2024-04-20 15:25:36,628 INFO: Loading license file `lucit_license.ini`\n",
      "2024-04-20 15:25:36,663 INFO: Loading profile `LUCIT`\n",
      "2024-04-20 15:25:36,663 INFO: New instance of lucit-licensing-python_1.8.2-python_3.10.11-compiled on Linux 6.2.0-39-generic started ...\n",
      "2024-04-20 15:25:36,964 INFO: Initiating `colorama_0.4.6`\n",
      "\n",
      "Parsed 1171 rows.\n",
      "\n"
     ]
    },
    {
     "data": {
      "text/html": [
       "<div>\n",
       "<style scoped>\n",
       "    .dataframe tbody tr th:only-of-type {\n",
       "        vertical-align: middle;\n",
       "    }\n",
       "\n",
       "    .dataframe tbody tr th {\n",
       "        vertical-align: top;\n",
       "    }\n",
       "\n",
       "    .dataframe thead th {\n",
       "        text-align: right;\n",
       "    }\n",
       "</style>\n",
       "<table border=\"1\" class=\"dataframe\">\n",
       "  <thead>\n",
       "    <tr style=\"text-align: right;\">\n",
       "      <th></th>\n",
       "      <th>date</th>\n",
       "      <th>open</th>\n",
       "      <th>high</th>\n",
       "      <th>low</th>\n",
       "      <th>close</th>\n",
       "      <th>volume</th>\n",
       "      <th>quote_av</th>\n",
       "      <th>trades</th>\n",
       "      <th>tb_base_av</th>\n",
       "      <th>tb_quote_av</th>\n",
       "      <th>unix</th>\n",
       "    </tr>\n",
       "  </thead>\n",
       "  <tbody>\n",
       "    <tr>\n",
       "      <th>0</th>\n",
       "      <td>2021-02-05 00:00:00</td>\n",
       "      <td>36936.65</td>\n",
       "      <td>38310.12</td>\n",
       "      <td>36570.00</td>\n",
       "      <td>38290.24</td>\n",
       "      <td>66681.334275</td>\n",
       "      <td>2.509278e+09</td>\n",
       "      <td>1853253</td>\n",
       "      <td>32756.385031</td>\n",
       "      <td>1.232714e+09</td>\n",
       "      <td>1612483200000</td>\n",
       "    </tr>\n",
       "    <tr>\n",
       "      <th>1</th>\n",
       "      <td>2021-02-06 00:00:00</td>\n",
       "      <td>38289.32</td>\n",
       "      <td>40955.51</td>\n",
       "      <td>38215.94</td>\n",
       "      <td>39186.94</td>\n",
       "      <td>98757.311183</td>\n",
       "      <td>3.922095e+09</td>\n",
       "      <td>2291646</td>\n",
       "      <td>52015.513362</td>\n",
       "      <td>2.065181e+09</td>\n",
       "      <td>1612569600000</td>\n",
       "    </tr>\n",
       "    <tr>\n",
       "      <th>2</th>\n",
       "      <td>2021-02-07 00:00:00</td>\n",
       "      <td>39181.01</td>\n",
       "      <td>39700.00</td>\n",
       "      <td>37351.00</td>\n",
       "      <td>38795.69</td>\n",
       "      <td>84363.679763</td>\n",
       "      <td>3.256521e+09</td>\n",
       "      <td>1976357</td>\n",
       "      <td>40764.388959</td>\n",
       "      <td>1.574483e+09</td>\n",
       "      <td>1612656000000</td>\n",
       "    </tr>\n",
       "  </tbody>\n",
       "</table>\n",
       "</div>"
      ],
      "text/plain": [
       "                  date      open      high       low     close        volume  \\\n",
       "0  2021-02-05 00:00:00  36936.65  38310.12  36570.00  38290.24  66681.334275   \n",
       "1  2021-02-06 00:00:00  38289.32  40955.51  38215.94  39186.94  98757.311183   \n",
       "2  2021-02-07 00:00:00  39181.01  39700.00  37351.00  38795.69  84363.679763   \n",
       "\n",
       "       quote_av   trades    tb_base_av   tb_quote_av           unix  \n",
       "0  2.509278e+09  1853253  32756.385031  1.232714e+09  1612483200000  \n",
       "1  3.922095e+09  2291646  52015.513362  2.065181e+09  1612569600000  \n",
       "2  3.256521e+09  1976357  40764.388959  1.574483e+09  1612656000000  "
      ]
     },
     "execution_count": 6,
     "metadata": {},
     "output_type": "execute_result"
    }
   ],
   "source": [
    "# we work with tweets newer then '2021-02-05'\n",
    "df_bitcoin = bitcoin_price.parse_btc_data(\n",
    "    start_date=\"2021-02-05\", #\"2024-01-05\"\n",
    "    end_date=\"today\",\n",
    ")\n",
    "\n",
    "df_bitcoin.reset_index(drop=True,inplace=True)\n",
    "\n",
    "print()\n",
    "print(f\"Parsed {df_bitcoin.shape[0]} rows.\")\n",
    "print()\n",
    "\n",
    "df_bitcoin.head(3)"
   ]
  },
  {
   "cell_type": "code",
   "execution_count": 7,
   "id": "0fd2e56d",
   "metadata": {
    "scrolled": true
   },
   "outputs": [
    {
     "data": {
      "text/html": [
       "<div>\n",
       "<style scoped>\n",
       "    .dataframe tbody tr th:only-of-type {\n",
       "        vertical-align: middle;\n",
       "    }\n",
       "\n",
       "    .dataframe tbody tr th {\n",
       "        vertical-align: top;\n",
       "    }\n",
       "\n",
       "    .dataframe thead th {\n",
       "        text-align: right;\n",
       "    }\n",
       "</style>\n",
       "<table border=\"1\" class=\"dataframe\">\n",
       "  <thead>\n",
       "    <tr style=\"text-align: right;\">\n",
       "      <th></th>\n",
       "      <th>date</th>\n",
       "      <th>open</th>\n",
       "      <th>high</th>\n",
       "      <th>low</th>\n",
       "      <th>close</th>\n",
       "      <th>volume</th>\n",
       "      <th>quote_av</th>\n",
       "      <th>trades</th>\n",
       "      <th>tb_base_av</th>\n",
       "      <th>tb_quote_av</th>\n",
       "      <th>...</th>\n",
       "      <th>exp_std_14_days</th>\n",
       "      <th>momentum_14_days</th>\n",
       "      <th>rate_of_change_14_days</th>\n",
       "      <th>strength_index_14_days</th>\n",
       "      <th>std_56_days</th>\n",
       "      <th>exp_mean_56_days</th>\n",
       "      <th>exp_std_56_days</th>\n",
       "      <th>momentum_56_days</th>\n",
       "      <th>rate_of_change_56_days</th>\n",
       "      <th>strength_index_56_days</th>\n",
       "    </tr>\n",
       "  </thead>\n",
       "  <tbody>\n",
       "    <tr>\n",
       "      <th>1168</th>\n",
       "      <td>2024-04-18</td>\n",
       "      <td>61277.38</td>\n",
       "      <td>64117.09</td>\n",
       "      <td>60803.35</td>\n",
       "      <td>63470.08</td>\n",
       "      <td>43601.60918</td>\n",
       "      <td>2.726741e+09</td>\n",
       "      <td>2142511</td>\n",
       "      <td>20870.20705</td>\n",
       "      <td>1.305027e+09</td>\n",
       "      <td>...</td>\n",
       "      <td>3272.959638</td>\n",
       "      <td>-5017.71</td>\n",
       "      <td>-6.414775</td>\n",
       "      <td>43.950640</td>\n",
       "      <td>5129.861015</td>\n",
       "      <td>63864.319253</td>\n",
       "      <td>8378.145402</td>\n",
       "      <td>12181.66</td>\n",
       "      <td>25.078615</td>\n",
       "      <td>53.668408</td>\n",
       "    </tr>\n",
       "    <tr>\n",
       "      <th>1169</th>\n",
       "      <td>2024-04-19</td>\n",
       "      <td>63470.09</td>\n",
       "      <td>65450.00</td>\n",
       "      <td>59600.01</td>\n",
       "      <td>63818.01</td>\n",
       "      <td>69774.30271</td>\n",
       "      <td>4.419893e+09</td>\n",
       "      <td>2828284</td>\n",
       "      <td>34941.50216</td>\n",
       "      <td>2.214810e+09</td>\n",
       "      <td>...</td>\n",
       "      <td>3122.122782</td>\n",
       "      <td>-4002.61</td>\n",
       "      <td>-7.370515</td>\n",
       "      <td>44.757668</td>\n",
       "      <td>4705.824240</td>\n",
       "      <td>63862.694367</td>\n",
       "      <td>8229.852416</td>\n",
       "      <td>13073.86</td>\n",
       "      <td>23.754533</td>\n",
       "      <td>53.869795</td>\n",
       "    </tr>\n",
       "    <tr>\n",
       "      <th>1170</th>\n",
       "      <td>2024-04-20</td>\n",
       "      <td>63818.01</td>\n",
       "      <td>64268.58</td>\n",
       "      <td>63090.07</td>\n",
       "      <td>63917.51</td>\n",
       "      <td>12889.45438</td>\n",
       "      <td>8.222620e+08</td>\n",
       "      <td>766949</td>\n",
       "      <td>6521.05787</td>\n",
       "      <td>4.160201e+08</td>\n",
       "      <td>...</td>\n",
       "      <td>2959.061998</td>\n",
       "      <td>-4978.49</td>\n",
       "      <td>-7.847245</td>\n",
       "      <td>45.001553</td>\n",
       "      <td>4279.097075</td>\n",
       "      <td>63864.617723</td>\n",
       "      <td>8084.186206</td>\n",
       "      <td>12349.29</td>\n",
       "      <td>23.562596</td>\n",
       "      <td>53.928105</td>\n",
       "    </tr>\n",
       "  </tbody>\n",
       "</table>\n",
       "<p>3 rows × 32 columns</p>\n",
       "</div>"
      ],
      "text/plain": [
       "           date      open      high       low     close       volume  \\\n",
       "1168 2024-04-18  61277.38  64117.09  60803.35  63470.08  43601.60918   \n",
       "1169 2024-04-19  63470.09  65450.00  59600.01  63818.01  69774.30271   \n",
       "1170 2024-04-20  63818.01  64268.58  63090.07  63917.51  12889.45438   \n",
       "\n",
       "          quote_av   trades   tb_base_av   tb_quote_av  ...  exp_std_14_days  \\\n",
       "1168  2.726741e+09  2142511  20870.20705  1.305027e+09  ...      3272.959638   \n",
       "1169  4.419893e+09  2828284  34941.50216  2.214810e+09  ...      3122.122782   \n",
       "1170  8.222620e+08   766949   6521.05787  4.160201e+08  ...      2959.061998   \n",
       "\n",
       "      momentum_14_days  rate_of_change_14_days  strength_index_14_days  \\\n",
       "1168          -5017.71               -6.414775               43.950640   \n",
       "1169          -4002.61               -7.370515               44.757668   \n",
       "1170          -4978.49               -7.847245               45.001553   \n",
       "\n",
       "      std_56_days  exp_mean_56_days  exp_std_56_days  momentum_56_days  \\\n",
       "1168  5129.861015      63864.319253      8378.145402          12181.66   \n",
       "1169  4705.824240      63862.694367      8229.852416          13073.86   \n",
       "1170  4279.097075      63864.617723      8084.186206          12349.29   \n",
       "\n",
       "      rate_of_change_56_days  strength_index_56_days  \n",
       "1168               25.078615               53.668408  \n",
       "1169               23.754533               53.869795  \n",
       "1170               23.562596               53.928105  \n",
       "\n",
       "[3 rows x 32 columns]"
      ]
     },
     "execution_count": 7,
     "metadata": {},
     "output_type": "execute_result"
    }
   ],
   "source": [
    "df_bitcoin_processed = bitcoin_price.process_btc_data(df_bitcoin)\n",
    "df_bitcoin_processed.tail(3)"
   ]
  },
  {
   "cell_type": "markdown",
   "id": "a9fdc2dd",
   "metadata": {},
   "source": [
    "> Older records may come with time=11pm or time=9pm, but new ones have time=10pm. Thats because of timezones and daylight saving time. Lets apply this function to make unix column usable."
   ]
  },
  {
   "cell_type": "code",
   "execution_count": 8,
   "id": "85f0b5d1",
   "metadata": {},
   "outputs": [],
   "source": [
    "df_bitcoin_processed.unix = df_bitcoin_processed.unix.apply(bitcoin_price.fix_unix)"
   ]
  },
  {
   "cell_type": "code",
   "execution_count": 9,
   "id": "d19911f1",
   "metadata": {},
   "outputs": [],
   "source": [
    "df_bitcoin_processed.date = df_bitcoin_processed.date.astype(str)"
   ]
  },
  {
   "cell_type": "code",
   "execution_count": 10,
   "id": "9cf48424",
   "metadata": {},
   "outputs": [
    {
     "data": {
      "text/plain": [
       "1171"
      ]
     },
     "execution_count": 10,
     "metadata": {},
     "output_type": "execute_result"
    }
   ],
   "source": [
    "df_bitcoin_processed.unix.count()"
   ]
  },
  {
   "cell_type": "code",
   "execution_count": 11,
   "id": "00e03593",
   "metadata": {},
   "outputs": [
    {
     "data": {
      "text/plain": [
       "datetime.datetime(2021, 2, 5, 0, 0, tzinfo=datetime.timezone.utc)"
      ]
     },
     "execution_count": 11,
     "metadata": {},
     "output_type": "execute_result"
    }
   ],
   "source": [
    "import datetime\n",
    "\n",
    "datetime.datetime.fromtimestamp(df_bitcoin_processed.unix[0] / 1000, datetime.timezone.utc)"
   ]
  },
  {
   "cell_type": "markdown",
   "id": "b08000bd",
   "metadata": {},
   "source": [
    "### <span style='color:#ff5f27'> 💭 Tweets Data"
   ]
  },
  {
   "cell_type": "code",
   "execution_count": 12,
   "id": "618ccade",
   "metadata": {},
   "outputs": [],
   "source": [
    "tweets_textblob = pd.read_csv(\"https://repo.hops.works/dev/davit/bitcoin/tweets_textblob.csv\")\n",
    "tweets_textblob.unix = tweets_textblob.unix.apply(tweets.fix_unix)"
   ]
  },
  {
   "cell_type": "code",
   "execution_count": 13,
   "id": "5e87e680",
   "metadata": {},
   "outputs": [],
   "source": [
    "tweets_vader = pd.read_csv(\"https://repo.hops.works/dev/davit/bitcoin/tweets_vader.csv\")\n",
    "tweets_vader.unix = tweets_vader.unix.apply(tweets.fix_unix)"
   ]
  },
  {
   "cell_type": "code",
   "execution_count": 14,
   "id": "a459e3b4",
   "metadata": {},
   "outputs": [],
   "source": [
    "tweets_textblob.date = tweets_textblob.date.apply(lambda x: x[:10])\n",
    "tweets_vader.date = tweets_vader.date.apply(lambda x: x[:10])\n",
    "\n",
    "tweets_textblob.drop(tweets_textblob.columns[0],axis=1,inplace=True)\n",
    "tweets_vader.drop(tweets_vader.columns[0],axis=1,inplace=True)"
   ]
  },
  {
   "cell_type": "code",
   "execution_count": 15,
   "id": "cc95a0b8",
   "metadata": {},
   "outputs": [
    {
     "data": {
      "text/html": [
       "<div>\n",
       "<style scoped>\n",
       "    .dataframe tbody tr th:only-of-type {\n",
       "        vertical-align: middle;\n",
       "    }\n",
       "\n",
       "    .dataframe tbody tr th {\n",
       "        vertical-align: top;\n",
       "    }\n",
       "\n",
       "    .dataframe thead th {\n",
       "        text-align: right;\n",
       "    }\n",
       "</style>\n",
       "<table border=\"1\" class=\"dataframe\">\n",
       "  <thead>\n",
       "    <tr style=\"text-align: right;\">\n",
       "      <th></th>\n",
       "      <th>date</th>\n",
       "      <th>subjectivity</th>\n",
       "      <th>polarity</th>\n",
       "      <th>unix</th>\n",
       "    </tr>\n",
       "  </thead>\n",
       "  <tbody>\n",
       "    <tr>\n",
       "      <th>525</th>\n",
       "      <td>2022-07-15</td>\n",
       "      <td>9579.905834</td>\n",
       "      <td>3556.036103</td>\n",
       "      <td>1657836000000</td>\n",
       "    </tr>\n",
       "    <tr>\n",
       "      <th>526</th>\n",
       "      <td>2022-07-16</td>\n",
       "      <td>8612.760526</td>\n",
       "      <td>3231.040465</td>\n",
       "      <td>1657922400000</td>\n",
       "    </tr>\n",
       "    <tr>\n",
       "      <th>527</th>\n",
       "      <td>2022-07-17</td>\n",
       "      <td>4215.003529</td>\n",
       "      <td>1331.957065</td>\n",
       "      <td>1658008800000</td>\n",
       "    </tr>\n",
       "  </tbody>\n",
       "</table>\n",
       "</div>"
      ],
      "text/plain": [
       "           date  subjectivity     polarity           unix\n",
       "525  2022-07-15   9579.905834  3556.036103  1657836000000\n",
       "526  2022-07-16   8612.760526  3231.040465  1657922400000\n",
       "527  2022-07-17   4215.003529  1331.957065  1658008800000"
      ]
     },
     "execution_count": 15,
     "metadata": {},
     "output_type": "execute_result"
    }
   ],
   "source": [
    "tweets_textblob.tail(3)"
   ]
  },
  {
   "cell_type": "code",
   "execution_count": 16,
   "id": "b05d906f",
   "metadata": {},
   "outputs": [
    {
     "data": {
      "text/html": [
       "<div>\n",
       "<style scoped>\n",
       "    .dataframe tbody tr th:only-of-type {\n",
       "        vertical-align: middle;\n",
       "    }\n",
       "\n",
       "    .dataframe tbody tr th {\n",
       "        vertical-align: top;\n",
       "    }\n",
       "\n",
       "    .dataframe thead th {\n",
       "        text-align: right;\n",
       "    }\n",
       "</style>\n",
       "<table border=\"1\" class=\"dataframe\">\n",
       "  <thead>\n",
       "    <tr style=\"text-align: right;\">\n",
       "      <th></th>\n",
       "      <th>date</th>\n",
       "      <th>compound</th>\n",
       "      <th>unix</th>\n",
       "    </tr>\n",
       "  </thead>\n",
       "  <tbody>\n",
       "    <tr>\n",
       "      <th>525</th>\n",
       "      <td>2022-07-15</td>\n",
       "      <td>6349.6604</td>\n",
       "      <td>1657836000000</td>\n",
       "    </tr>\n",
       "    <tr>\n",
       "      <th>526</th>\n",
       "      <td>2022-07-16</td>\n",
       "      <td>5737.0585</td>\n",
       "      <td>1657922400000</td>\n",
       "    </tr>\n",
       "    <tr>\n",
       "      <th>527</th>\n",
       "      <td>2022-07-17</td>\n",
       "      <td>2427.5174</td>\n",
       "      <td>1658008800000</td>\n",
       "    </tr>\n",
       "  </tbody>\n",
       "</table>\n",
       "</div>"
      ],
      "text/plain": [
       "           date   compound           unix\n",
       "525  2022-07-15  6349.6604  1657836000000\n",
       "526  2022-07-16  5737.0585  1657922400000\n",
       "527  2022-07-17  2427.5174  1658008800000"
      ]
     },
     "execution_count": 16,
     "metadata": {},
     "output_type": "execute_result"
    }
   ],
   "source": [
    "tweets_vader.tail(3)"
   ]
  },
  {
   "cell_type": "code",
   "execution_count": null,
   "id": "64913035",
   "metadata": {},
   "outputs": [],
   "source": [
    "# datetime.datetime.fromtimestamp(tweets_textblob.unix[0] / 1000, datetime.timezone.utc).replace(hour=0, minute=0, second=0, microsecond=0)"
   ]
  },
  {
   "cell_type": "code",
   "execution_count": null,
   "id": "0083ac46",
   "metadata": {},
   "outputs": [],
   "source": [
    "# df_bitcoin_processed.unix = tweets_textblob.unix\n",
    "\n",
    "len(tweets_textblob.unix)"
   ]
  },
  {
   "cell_type": "code",
   "execution_count": null,
   "id": "79b08ba1",
   "metadata": {},
   "outputs": [],
   "source": [
    "len(df_bitcoin_processed.unix)"
   ]
  },
  {
   "cell_type": "code",
   "execution_count": 21,
   "id": "58c7fad4",
   "metadata": {},
   "outputs": [],
   "source": [
    "tweets_textblob.unix = df_bitcoin_processed.unix[:len(tweets_textblob.unix)]\n",
    "tweets_vader.unix = df_bitcoin_processed.unix[:len(tweets_vader.unix)]"
   ]
  },
  {
   "cell_type": "code",
   "execution_count": 22,
   "id": "b8aa1a86",
   "metadata": {},
   "outputs": [
    {
     "data": {
      "text/plain": [
       "0      True\n",
       "1      True\n",
       "2      True\n",
       "3      True\n",
       "4      True\n",
       "       ... \n",
       "523    True\n",
       "524    True\n",
       "525    True\n",
       "526    True\n",
       "527    True\n",
       "Name: unix, Length: 528, dtype: bool"
      ]
     },
     "execution_count": 22,
     "metadata": {},
     "output_type": "execute_result"
    }
   ],
   "source": [
    "tweets_textblob.unix == df_bitcoin_processed.unix[:len(tweets_textblob.unix)]"
   ]
  },
  {
   "cell_type": "code",
   "execution_count": 23,
   "id": "030ae268",
   "metadata": {},
   "outputs": [
    {
     "data": {
      "text/plain": [
       "0      True\n",
       "1      True\n",
       "2      True\n",
       "3      True\n",
       "4      True\n",
       "       ... \n",
       "523    True\n",
       "524    True\n",
       "525    True\n",
       "526    True\n",
       "527    True\n",
       "Name: unix, Length: 528, dtype: bool"
      ]
     },
     "execution_count": 23,
     "metadata": {},
     "output_type": "execute_result"
    }
   ],
   "source": [
    "tweets_textblob.unix == tweets_vader.unix"
   ]
  },
  {
   "cell_type": "code",
   "execution_count": 24,
   "id": "af0f3604",
   "metadata": {},
   "outputs": [
    {
     "data": {
      "text/plain": [
       "0      True\n",
       "1      True\n",
       "2      True\n",
       "3      True\n",
       "4      True\n",
       "       ... \n",
       "523    True\n",
       "524    True\n",
       "525    True\n",
       "526    True\n",
       "527    True\n",
       "Name: unix, Length: 528, dtype: bool"
      ]
     },
     "execution_count": 24,
     "metadata": {},
     "output_type": "execute_result"
    }
   ],
   "source": [
    "tweets_vader.unix == df_bitcoin_processed.unix[:len(tweets_vader.unix)]"
   ]
  },
  {
   "cell_type": "markdown",
   "id": "2b0df873",
   "metadata": {},
   "source": [
    "---"
   ]
  },
  {
   "cell_type": "markdown",
   "id": "267a15cc",
   "metadata": {},
   "source": [
    "## <span style=\"color:#ff5f27;\"> 📡 Connecting to the Hopsworks Feature Store </span>"
   ]
  },
  {
   "cell_type": "code",
   "execution_count": 25,
   "id": "d8f79bb5",
   "metadata": {},
   "outputs": [
    {
     "name": "stdout",
     "output_type": "stream",
     "text": [
      "Connected. Call `.close()` to terminate connection gracefully.\n",
      "\n",
      "Logged in to project, explore it here https://snurran.hops.works/p/11394\n",
      "Connected. Call `.close()` to terminate connection gracefully.\n"
     ]
    }
   ],
   "source": [
    "import hopsworks\n",
    "\n",
    "project = hopsworks.login()\n",
    "\n",
    "fs = project.get_feature_store()"
   ]
  },
  {
   "cell_type": "markdown",
   "id": "a0791b17",
   "metadata": {},
   "source": [
    "## <span style=\"color:#ff5f27;\"> 🪄 Creating Feature Groups </span>"
   ]
  },
  {
   "cell_type": "markdown",
   "id": "301a925e",
   "metadata": {},
   "source": [
    "### <span style='color:#ff5f27'> 📈 Bitcoin Price Feature Group"
   ]
  },
  {
   "cell_type": "code",
   "execution_count": 26,
   "id": "995e20a5",
   "metadata": {
    "scrolled": true
   },
   "outputs": [
    {
     "name": "stdout",
     "output_type": "stream",
     "text": [
      "Feature Group created successfully, explore it at \n",
      "https://snurran.hops.works/p/11394/fs/11342/fg/12444\n"
     ]
    },
    {
     "data": {
      "application/vnd.jupyter.widget-view+json": {
       "model_id": "7332e6fc02964f94b04b131a3222e60f",
       "version_major": 2,
       "version_minor": 0
      },
      "text/plain": [
       "Uploading Dataframe: 0.00% |          | Rows 0/1171 | Elapsed Time: 00:00 | Remaining Time: ?"
      ]
     },
     "metadata": {},
     "output_type": "display_data"
    },
    {
     "name": "stdout",
     "output_type": "stream",
     "text": [
      "Launching job: bitcoin_price_1_offline_fg_materialization\n",
      "Job started successfully, you can follow the progress at \n",
      "https://snurran.hops.works/p/11394/jobs/named/bitcoin_price_1_offline_fg_materialization/executions\n"
     ]
    },
    {
     "data": {
      "text/plain": [
       "(<hsfs.core.job.Job at 0x7f7f1be388b0>, None)"
      ]
     },
     "execution_count": 26,
     "metadata": {},
     "output_type": "execute_result"
    }
   ],
   "source": [
    "btc_price_fg = fs.get_or_create_feature_group(\n",
    "    name='bitcoin_price',\n",
    "    description='Bitcoin price aggregated for days',\n",
    "    version=1,\n",
    "    primary_key=['unix'],\n",
    "    online_enabled=True,\n",
    "    event_time='unix',\n",
    ")\n",
    "\n",
    "btc_price_fg.insert(df_bitcoin_processed)"
   ]
  },
  {
   "cell_type": "markdown",
   "id": "ed39f6e4",
   "metadata": {},
   "source": [
    "### <span style='color:#ff5f27'> 💭 Tweets Feature Groups"
   ]
  },
  {
   "cell_type": "code",
   "execution_count": 27,
   "id": "1f7e9696",
   "metadata": {},
   "outputs": [
    {
     "name": "stdout",
     "output_type": "stream",
     "text": [
      "Feature Group created successfully, explore it at \n",
      "https://snurran.hops.works/p/11394/fs/11342/fg/12445\n"
     ]
    },
    {
     "data": {
      "application/vnd.jupyter.widget-view+json": {
       "model_id": "1c1c8ee8bb7b4a6a9e9067688e4258ad",
       "version_major": 2,
       "version_minor": 0
      },
      "text/plain": [
       "Uploading Dataframe: 0.00% |          | Rows 0/528 | Elapsed Time: 00:00 | Remaining Time: ?"
      ]
     },
     "metadata": {},
     "output_type": "display_data"
    },
    {
     "name": "stdout",
     "output_type": "stream",
     "text": [
      "Launching job: bitcoin_tweets_textblob_1_offline_fg_materialization\n",
      "Job started successfully, you can follow the progress at \n",
      "https://snurran.hops.works/p/11394/jobs/named/bitcoin_tweets_textblob_1_offline_fg_materialization/executions\n"
     ]
    },
    {
     "data": {
      "text/plain": [
       "(<hsfs.core.job.Job at 0x7f7f1bdabdc0>, None)"
      ]
     },
     "execution_count": 27,
     "metadata": {},
     "output_type": "execute_result"
    }
   ],
   "source": [
    "tweets_textblob_fg = fs.get_or_create_feature_group(\n",
    "    name='bitcoin_tweets_textblob',\n",
    "    version=1,\n",
    "    primary_key=['unix'],\n",
    "    online_enabled=True,\n",
    "    event_time='unix',\n",
    ")\n",
    "\n",
    "tweets_textblob_fg.insert(tweets_textblob)"
   ]
  },
  {
   "cell_type": "code",
   "execution_count": 28,
   "id": "3023e17d",
   "metadata": {},
   "outputs": [
    {
     "name": "stdout",
     "output_type": "stream",
     "text": [
      "Feature Group created successfully, explore it at \n",
      "https://snurran.hops.works/p/11394/fs/11342/fg/12446\n"
     ]
    },
    {
     "data": {
      "application/vnd.jupyter.widget-view+json": {
       "model_id": "2044f9a0bc2047799e9c3035edb29c50",
       "version_major": 2,
       "version_minor": 0
      },
      "text/plain": [
       "Uploading Dataframe: 0.00% |          | Rows 0/528 | Elapsed Time: 00:00 | Remaining Time: ?"
      ]
     },
     "metadata": {},
     "output_type": "display_data"
    },
    {
     "name": "stdout",
     "output_type": "stream",
     "text": [
      "Launching job: bitcoin_tweets_vader_1_offline_fg_materialization\n",
      "Job started successfully, you can follow the progress at \n",
      "https://snurran.hops.works/p/11394/jobs/named/bitcoin_tweets_vader_1_offline_fg_materialization/executions\n"
     ]
    },
    {
     "data": {
      "text/plain": [
       "(<hsfs.core.job.Job at 0x7f7f1be070d0>, None)"
      ]
     },
     "execution_count": 28,
     "metadata": {},
     "output_type": "execute_result"
    }
   ],
   "source": [
    "tweets_vader_fg = fs.get_or_create_feature_group(\n",
    "    name='bitcoin_tweets_vader',\n",
    "    version=1,\n",
    "    primary_key=['unix'],\n",
    "    online_enabled=True,\n",
    "    event_time='unix',\n",
    ")\n",
    "\n",
    "tweets_vader_fg.insert(tweets_vader)"
   ]
  },
  {
   "cell_type": "markdown",
   "id": "b9f87463",
   "metadata": {},
   "source": [
    "## <span style=\"color:#ff5f27;\">⏭️ **Next:** Part 02: Feature Pipeline</span>\n",
    "\n",
    "In the next notebook you will be parsing new monthly data for the Feature Groups.\n",
    "\n",
    "[![Open In Colab](https://colab.research.google.com/assets/colab-badge.svg)](https://colab.research.google.com/github/logicalclocks/hopsworks-tutorials/blob/master/advanced_tutorials/bitcoin/2_bitcoin_feature_pipeline.ipynb)"
   ]
  },
  {
   "cell_type": "code",
   "execution_count": null,
   "id": "8da5e249",
   "metadata": {},
   "outputs": [],
   "source": []
  }
 ],
 "metadata": {
  "kernelspec": {
   "display_name": "Python 3",
   "language": "python",
   "name": "python3"
  },
  "language_info": {
   "codemirror_mode": {
    "name": "ipython",
    "version": 3
   },
   "file_extension": ".py",
   "mimetype": "text/x-python",
   "name": "python",
   "nbconvert_exporter": "python",
   "pygments_lexer": "ipython3",
   "version": "3.10.11"
  }
 },
 "nbformat": 4,
 "nbformat_minor": 5
}
