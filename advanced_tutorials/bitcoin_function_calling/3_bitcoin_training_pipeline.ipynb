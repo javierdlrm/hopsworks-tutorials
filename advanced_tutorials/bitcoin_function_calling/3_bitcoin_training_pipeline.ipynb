{
 "cells": [
  {
   "cell_type": "markdown",
   "id": "ee9d493f",
   "metadata": {},
   "source": [
    "# <span style=\"font-width:bold; font-size: 3rem; color:#1EB182;\"><img src=\"../../images/icon102.png\" width=\"38px\"></img> **Hopsworks Feature Store** </span><span style=\"font-width:bold; font-size: 3rem; color:#333;\">- Part 03: Training Pipeline</span>\n",
    "\n",
    "[![Open In Colab](https://colab.research.google.com/assets/colab-badge.svg)](https://colab.research.google.com/github/logicalclocks/hopsworks-tutorials/blob/master/advanced_tutorials/bitcoin/3_bitcoin_training_pipeline.ipynb)\n",
    "\n",
    "<span style=\"font-width:bold; font-size: 1.4rem;\">This is the third part of advanced tutorials about Hopsworks Feature Store. This notebook explains how to read from a feature group, create training dataset within the feature store, train a model, register it in Hopsworks Model Registry and then use for batch predictions.</span>\n",
    "\n",
    "## 🗒️ This notebook is divided into the following sections: \n",
    "\n",
    "1. Fetch Feature Groups.\n",
    "2. Define Transformation functions.\n",
    "3. Create Feature Views.\n",
    "4. Create Training Dataset with training, validation and test splits.\n",
    "5. Train the model.\n",
    "6. Register model in Hopsworks model registry.\n",
    "7. Online model deployment.\n",
    "\n",
    "![part2](../../images/02_training-dataset.png) "
   ]
  },
  {
   "cell_type": "markdown",
   "id": "5cf1d0ba",
   "metadata": {},
   "source": [
    "### <span style=\"color:#ff5f27;\"> 📝 Imports</span>"
   ]
  },
  {
   "cell_type": "code",
   "execution_count": null,
   "id": "42714002",
   "metadata": {},
   "outputs": [],
   "source": [
    "!pip install -U hopsworks --quiet\n",
    "!pip install -U tensorflow==2.11.0 --quiet"
   ]
  },
  {
   "cell_type": "code",
   "execution_count": 1,
   "id": "d2644992",
   "metadata": {},
   "outputs": [],
   "source": [
    "import time\n",
    "import datetime\n",
    "import os\n",
    "\n",
    "import tensorflow as tf\n",
    "import pandas as pd\n",
    "import numpy as np\n",
    "\n",
    "import matplotlib.pyplot as plt"
   ]
  },
  {
   "cell_type": "code",
   "execution_count": 2,
   "id": "4a7226d6",
   "metadata": {},
   "outputs": [
    {
     "name": "stderr",
     "output_type": "stream",
     "text": [
      "<ipython-input-2-b1b7f67441cf>:7: DeprecationWarning: `set_matplotlib_formats` is deprecated since IPython 7.23, directly use `matplotlib_inline.backend_inline.set_matplotlib_formats()`\n",
      "  set_matplotlib_formats('retina')\n"
     ]
    }
   ],
   "source": [
    "from __future__ import print_function\n",
    "\n",
    "%config InlineBackend.figure_format='retina'\n",
    "%matplotlib inline\n",
    "\n",
    "from IPython.display import set_matplotlib_formats\n",
    "set_matplotlib_formats('retina')\n",
    "import inspect \n",
    "\n",
    "import warnings\n",
    "warnings.filterwarnings('ignore')"
   ]
  },
  {
   "cell_type": "markdown",
   "id": "62b3c9fc",
   "metadata": {},
   "source": [
    "---"
   ]
  },
  {
   "cell_type": "markdown",
   "id": "e08e6ca1",
   "metadata": {},
   "source": [
    "## <span style=\"color:#ff5f27;\"> 📡 Connecting to the Hopsworks Feature Store </span>"
   ]
  },
  {
   "cell_type": "code",
   "execution_count": 1,
   "id": "034e99a5",
   "metadata": {
    "scrolled": true
   },
   "outputs": [
    {
     "name": "stdout",
     "output_type": "stream",
     "text": [
      "Connected. Call `.close()` to terminate connection gracefully.\n",
      "\n",
      "Logged in to project, explore it here https://snurran.hops.works/p/11394\n",
      "Connected. Call `.close()` to terminate connection gracefully.\n"
     ]
    }
   ],
   "source": [
    "import hopsworks\n",
    "\n",
    "project = hopsworks.login()\n",
    "\n",
    "fs = project.get_feature_store()"
   ]
  },
  {
   "cell_type": "code",
   "execution_count": 4,
   "id": "03804fea",
   "metadata": {},
   "outputs": [
    {
     "name": "stdout",
     "output_type": "stream",
     "text": [
      "Finished: Reading data from Hopsworks, using ArrowFlight (0.47s) \n"
     ]
    },
    {
     "data": {
      "text/html": [
       "<div>\n",
       "<style scoped>\n",
       "    .dataframe tbody tr th:only-of-type {\n",
       "        vertical-align: middle;\n",
       "    }\n",
       "\n",
       "    .dataframe tbody tr th {\n",
       "        vertical-align: top;\n",
       "    }\n",
       "\n",
       "    .dataframe thead th {\n",
       "        text-align: right;\n",
       "    }\n",
       "</style>\n",
       "<table border=\"1\" class=\"dataframe\">\n",
       "  <thead>\n",
       "    <tr style=\"text-align: right;\">\n",
       "      <th></th>\n",
       "      <th>date</th>\n",
       "      <th>open</th>\n",
       "      <th>high</th>\n",
       "      <th>low</th>\n",
       "      <th>close</th>\n",
       "      <th>volume</th>\n",
       "      <th>quote_av</th>\n",
       "      <th>trades</th>\n",
       "      <th>tb_base_av</th>\n",
       "      <th>tb_quote_av</th>\n",
       "      <th>...</th>\n",
       "      <th>exp_std_14_days</th>\n",
       "      <th>momentum_14_days</th>\n",
       "      <th>rate_of_change_14_days</th>\n",
       "      <th>strength_index_14_days</th>\n",
       "      <th>std_56_days</th>\n",
       "      <th>exp_mean_56_days</th>\n",
       "      <th>exp_std_56_days</th>\n",
       "      <th>momentum_56_days</th>\n",
       "      <th>rate_of_change_56_days</th>\n",
       "      <th>strength_index_56_days</th>\n",
       "    </tr>\n",
       "  </thead>\n",
       "  <tbody>\n",
       "    <tr>\n",
       "      <th>0</th>\n",
       "      <td>2024-02-20</td>\n",
       "      <td>51774.74</td>\n",
       "      <td>52985.00</td>\n",
       "      <td>50760.37</td>\n",
       "      <td>52258.82</td>\n",
       "      <td>49614.47318</td>\n",
       "      <td>2.574875e+09</td>\n",
       "      <td>1971912</td>\n",
       "      <td>24994.25062</td>\n",
       "      <td>1.297330e+09</td>\n",
       "      <td>...</td>\n",
       "      <td>3549.277900</td>\n",
       "      <td>9159.87</td>\n",
       "      <td>17.833802</td>\n",
       "      <td>77.092296</td>\n",
       "      <td>3572.961909</td>\n",
       "      <td>45127.001142</td>\n",
       "      <td>4919.128120</td>\n",
       "      <td>9749.89</td>\n",
       "      <td>20.332037</td>\n",
       "      <td>64.173501</td>\n",
       "    </tr>\n",
       "    <tr>\n",
       "      <th>1</th>\n",
       "      <td>2024-03-21</td>\n",
       "      <td>67840.51</td>\n",
       "      <td>68240.47</td>\n",
       "      <td>64529.01</td>\n",
       "      <td>65501.27</td>\n",
       "      <td>53357.48002</td>\n",
       "      <td>3.551223e+09</td>\n",
       "      <td>2388390</td>\n",
       "      <td>26650.09786</td>\n",
       "      <td>1.774834e+09</td>\n",
       "      <td>...</td>\n",
       "      <td>3708.749952</td>\n",
       "      <td>-1321.90</td>\n",
       "      <td>-3.850204</td>\n",
       "      <td>55.493870</td>\n",
       "      <td>0.000000</td>\n",
       "      <td>65492.259255</td>\n",
       "      <td>5582.342768</td>\n",
       "      <td>0.00</td>\n",
       "      <td>0.000000</td>\n",
       "      <td>0.000000</td>\n",
       "    </tr>\n",
       "    <tr>\n",
       "      <th>2</th>\n",
       "      <td>2023-09-29</td>\n",
       "      <td>27021.39</td>\n",
       "      <td>27244.89</td>\n",
       "      <td>26665.16</td>\n",
       "      <td>26906.96</td>\n",
       "      <td>28478.76219</td>\n",
       "      <td>7.678273e+08</td>\n",
       "      <td>878610</td>\n",
       "      <td>14409.35554</td>\n",
       "      <td>3.885912e+08</td>\n",
       "      <td>...</td>\n",
       "      <td>416.882256</td>\n",
       "      <td>306.96</td>\n",
       "      <td>1.307584</td>\n",
       "      <td>55.319266</td>\n",
       "      <td>1322.394712</td>\n",
       "      <td>26976.115865</td>\n",
       "      <td>1370.541412</td>\n",
       "      <td>-2207.03</td>\n",
       "      <td>-7.447580</td>\n",
       "      <td>48.742089</td>\n",
       "    </tr>\n",
       "  </tbody>\n",
       "</table>\n",
       "<p>3 rows × 32 columns</p>\n",
       "</div>"
      ],
      "text/plain": [
       "         date      open      high       low     close       volume  \\\n",
       "0  2024-02-20  51774.74  52985.00  50760.37  52258.82  49614.47318   \n",
       "1  2024-03-21  67840.51  68240.47  64529.01  65501.27  53357.48002   \n",
       "2  2023-09-29  27021.39  27244.89  26665.16  26906.96  28478.76219   \n",
       "\n",
       "       quote_av   trades   tb_base_av   tb_quote_av  ...  exp_std_14_days  \\\n",
       "0  2.574875e+09  1971912  24994.25062  1.297330e+09  ...      3549.277900   \n",
       "1  3.551223e+09  2388390  26650.09786  1.774834e+09  ...      3708.749952   \n",
       "2  7.678273e+08   878610  14409.35554  3.885912e+08  ...       416.882256   \n",
       "\n",
       "   momentum_14_days  rate_of_change_14_days  strength_index_14_days  \\\n",
       "0           9159.87               17.833802               77.092296   \n",
       "1          -1321.90               -3.850204               55.493870   \n",
       "2            306.96                1.307584               55.319266   \n",
       "\n",
       "   std_56_days  exp_mean_56_days  exp_std_56_days  momentum_56_days  \\\n",
       "0  3572.961909      45127.001142      4919.128120           9749.89   \n",
       "1     0.000000      65492.259255      5582.342768              0.00   \n",
       "2  1322.394712      26976.115865      1370.541412          -2207.03   \n",
       "\n",
       "   rate_of_change_56_days  strength_index_56_days  \n",
       "0               20.332037               64.173501  \n",
       "1                0.000000                0.000000  \n",
       "2               -7.447580               48.742089  \n",
       "\n",
       "[3 rows x 32 columns]"
      ]
     },
     "execution_count": 4,
     "metadata": {},
     "output_type": "execute_result"
    }
   ],
   "source": [
    "btc_price_fg = fs.get_or_create_feature_group(\n",
    "    name='bitcoin_price',\n",
    "    version=1,\n",
    ")\n",
    "btc_price_fg.show(3)"
   ]
  },
  {
   "cell_type": "code",
   "execution_count": 5,
   "id": "28b7dd1d",
   "metadata": {},
   "outputs": [
    {
     "name": "stdout",
     "output_type": "stream",
     "text": [
      "Finished: Reading data from Hopsworks, using ArrowFlight (0.45s) \n"
     ]
    }
   ],
   "source": [
    "btc_price_df = btc_price_fg.read()"
   ]
  },
  {
   "cell_type": "code",
   "execution_count": 6,
   "id": "9a637a4b",
   "metadata": {},
   "outputs": [
    {
     "data": {
      "text/plain": [
       "count    1.171000e+03\n",
       "mean     1.663027e+12\n",
       "std      2.921900e+10\n",
       "min      1.612483e+12\n",
       "25%      1.637755e+12\n",
       "50%      1.663027e+12\n",
       "75%      1.688299e+12\n",
       "max      1.713571e+12\n",
       "Name: unix, dtype: float64"
      ]
     },
     "execution_count": 6,
     "metadata": {},
     "output_type": "execute_result"
    }
   ],
   "source": [
    "btc_price_df.unix.describe()"
   ]
  },
  {
   "cell_type": "code",
   "execution_count": 7,
   "id": "996f75d9",
   "metadata": {},
   "outputs": [
    {
     "name": "stdout",
     "output_type": "stream",
     "text": [
      "Finished: Reading data from Hopsworks, using ArrowFlight (0.47s) \n"
     ]
    },
    {
     "data": {
      "text/html": [
       "<div>\n",
       "<style scoped>\n",
       "    .dataframe tbody tr th:only-of-type {\n",
       "        vertical-align: middle;\n",
       "    }\n",
       "\n",
       "    .dataframe tbody tr th {\n",
       "        vertical-align: top;\n",
       "    }\n",
       "\n",
       "    .dataframe thead th {\n",
       "        text-align: right;\n",
       "    }\n",
       "</style>\n",
       "<table border=\"1\" class=\"dataframe\">\n",
       "  <thead>\n",
       "    <tr style=\"text-align: right;\">\n",
       "      <th></th>\n",
       "      <th>date</th>\n",
       "      <th>subjectivity</th>\n",
       "      <th>polarity</th>\n",
       "      <th>unix</th>\n",
       "    </tr>\n",
       "  </thead>\n",
       "  <tbody>\n",
       "    <tr>\n",
       "      <th>0</th>\n",
       "      <td>2021-03-15</td>\n",
       "      <td>0.0</td>\n",
       "      <td>0.0</td>\n",
       "      <td>1615766400000</td>\n",
       "    </tr>\n",
       "    <tr>\n",
       "      <th>1</th>\n",
       "      <td>2021-12-23</td>\n",
       "      <td>0.0</td>\n",
       "      <td>0.0</td>\n",
       "      <td>1640217600000</td>\n",
       "    </tr>\n",
       "    <tr>\n",
       "      <th>2</th>\n",
       "      <td>2021-10-16</td>\n",
       "      <td>0.0</td>\n",
       "      <td>0.0</td>\n",
       "      <td>1634342400000</td>\n",
       "    </tr>\n",
       "  </tbody>\n",
       "</table>\n",
       "</div>"
      ],
      "text/plain": [
       "         date  subjectivity  polarity           unix\n",
       "0  2021-03-15           0.0       0.0  1615766400000\n",
       "1  2021-12-23           0.0       0.0  1640217600000\n",
       "2  2021-10-16           0.0       0.0  1634342400000"
      ]
     },
     "execution_count": 7,
     "metadata": {},
     "output_type": "execute_result"
    }
   ],
   "source": [
    "tweets_textblob_fg = fs.get_or_create_feature_group(\n",
    "    name='bitcoin_tweets_textblob',\n",
    "    version=1,\n",
    ")\n",
    "tweets_textblob_fg.show(3)"
   ]
  },
  {
   "cell_type": "code",
   "execution_count": 8,
   "id": "6ea59f0d",
   "metadata": {},
   "outputs": [
    {
     "name": "stdout",
     "output_type": "stream",
     "text": [
      "Finished: Reading data from Hopsworks, using ArrowFlight (0.44s) \n"
     ]
    },
    {
     "data": {
      "text/plain": [
       "count    1.171000e+03\n",
       "mean     1.663027e+12\n",
       "std      2.921900e+10\n",
       "min      1.612483e+12\n",
       "25%      1.637755e+12\n",
       "50%      1.663027e+12\n",
       "75%      1.688299e+12\n",
       "max      1.713571e+12\n",
       "Name: unix, dtype: float64"
      ]
     },
     "execution_count": 8,
     "metadata": {},
     "output_type": "execute_result"
    }
   ],
   "source": [
    "tweets_textblob_df = tweets_textblob_fg.read()\n",
    "tweets_textblob_df.unix.describe()"
   ]
  },
  {
   "cell_type": "code",
   "execution_count": 9,
   "id": "f246f1ef",
   "metadata": {},
   "outputs": [
    {
     "name": "stdout",
     "output_type": "stream",
     "text": [
      "Finished: Reading data from Hopsworks, using ArrowFlight (0.50s) \n"
     ]
    },
    {
     "data": {
      "text/html": [
       "<div>\n",
       "<style scoped>\n",
       "    .dataframe tbody tr th:only-of-type {\n",
       "        vertical-align: middle;\n",
       "    }\n",
       "\n",
       "    .dataframe tbody tr th {\n",
       "        vertical-align: top;\n",
       "    }\n",
       "\n",
       "    .dataframe thead th {\n",
       "        text-align: right;\n",
       "    }\n",
       "</style>\n",
       "<table border=\"1\" class=\"dataframe\">\n",
       "  <thead>\n",
       "    <tr style=\"text-align: right;\">\n",
       "      <th></th>\n",
       "      <th>date</th>\n",
       "      <th>compound</th>\n",
       "      <th>unix</th>\n",
       "    </tr>\n",
       "  </thead>\n",
       "  <tbody>\n",
       "    <tr>\n",
       "      <th>0</th>\n",
       "      <td>2021-03-15</td>\n",
       "      <td>0.0</td>\n",
       "      <td>1615766400000</td>\n",
       "    </tr>\n",
       "    <tr>\n",
       "      <th>1</th>\n",
       "      <td>2021-12-23</td>\n",
       "      <td>0.0</td>\n",
       "      <td>1640217600000</td>\n",
       "    </tr>\n",
       "    <tr>\n",
       "      <th>2</th>\n",
       "      <td>2021-10-16</td>\n",
       "      <td>0.0</td>\n",
       "      <td>1634342400000</td>\n",
       "    </tr>\n",
       "  </tbody>\n",
       "</table>\n",
       "</div>"
      ],
      "text/plain": [
       "         date  compound           unix\n",
       "0  2021-03-15       0.0  1615766400000\n",
       "1  2021-12-23       0.0  1640217600000\n",
       "2  2021-10-16       0.0  1634342400000"
      ]
     },
     "execution_count": 9,
     "metadata": {},
     "output_type": "execute_result"
    }
   ],
   "source": [
    "tweets_vader_fg = fs.get_or_create_feature_group(\n",
    "    name='bitcoin_tweets_vader',\n",
    "    version=1,\n",
    ")\n",
    "tweets_vader_fg.show(3)"
   ]
  },
  {
   "cell_type": "code",
   "execution_count": 10,
   "id": "83c27810",
   "metadata": {},
   "outputs": [
    {
     "name": "stdout",
     "output_type": "stream",
     "text": [
      "Finished: Reading data from Hopsworks, using ArrowFlight (0.42s) \n"
     ]
    },
    {
     "data": {
      "text/plain": [
       "count    1.171000e+03\n",
       "mean     1.663027e+12\n",
       "std      2.921900e+10\n",
       "min      1.612483e+12\n",
       "25%      1.637755e+12\n",
       "50%      1.663027e+12\n",
       "75%      1.688299e+12\n",
       "max      1.713571e+12\n",
       "Name: unix, dtype: float64"
      ]
     },
     "execution_count": 10,
     "metadata": {},
     "output_type": "execute_result"
    }
   ],
   "source": [
    "tweets_vader_df = tweets_vader_fg.read()\n",
    "tweets_vader_df.unix.describe()"
   ]
  },
  {
   "cell_type": "code",
   "execution_count": 11,
   "id": "04b99509",
   "metadata": {},
   "outputs": [
    {
     "data": {
      "text/html": [
       "<div>\n",
       "<style scoped>\n",
       "    .dataframe tbody tr th:only-of-type {\n",
       "        vertical-align: middle;\n",
       "    }\n",
       "\n",
       "    .dataframe tbody tr th {\n",
       "        vertical-align: top;\n",
       "    }\n",
       "\n",
       "    .dataframe thead th {\n",
       "        text-align: right;\n",
       "    }\n",
       "</style>\n",
       "<table border=\"1\" class=\"dataframe\">\n",
       "  <thead>\n",
       "    <tr style=\"text-align: right;\">\n",
       "      <th></th>\n",
       "      <th>date_x</th>\n",
       "      <th>subjectivity</th>\n",
       "      <th>polarity</th>\n",
       "      <th>unix</th>\n",
       "      <th>date_y</th>\n",
       "      <th>compound</th>\n",
       "    </tr>\n",
       "  </thead>\n",
       "  <tbody>\n",
       "    <tr>\n",
       "      <th>0</th>\n",
       "      <td>2021-03-15</td>\n",
       "      <td>0.000000</td>\n",
       "      <td>0.000000</td>\n",
       "      <td>1615766400000</td>\n",
       "      <td>2021-03-15</td>\n",
       "      <td>0.0000</td>\n",
       "    </tr>\n",
       "    <tr>\n",
       "      <th>1</th>\n",
       "      <td>2021-12-23</td>\n",
       "      <td>0.000000</td>\n",
       "      <td>0.000000</td>\n",
       "      <td>1640217600000</td>\n",
       "      <td>2021-12-23</td>\n",
       "      <td>0.0000</td>\n",
       "    </tr>\n",
       "    <tr>\n",
       "      <th>2</th>\n",
       "      <td>2021-10-16</td>\n",
       "      <td>0.000000</td>\n",
       "      <td>0.000000</td>\n",
       "      <td>1634342400000</td>\n",
       "      <td>2021-10-16</td>\n",
       "      <td>0.0000</td>\n",
       "    </tr>\n",
       "    <tr>\n",
       "      <th>3</th>\n",
       "      <td>2021-07-18</td>\n",
       "      <td>9941.460874</td>\n",
       "      <td>5168.695531</td>\n",
       "      <td>1626566400000</td>\n",
       "      <td>2021-07-18</td>\n",
       "      <td>8772.5545</td>\n",
       "    </tr>\n",
       "    <tr>\n",
       "      <th>4</th>\n",
       "      <td>2022-06-16</td>\n",
       "      <td>0.000000</td>\n",
       "      <td>0.000000</td>\n",
       "      <td>1655337600000</td>\n",
       "      <td>2022-06-16</td>\n",
       "      <td>0.0000</td>\n",
       "    </tr>\n",
       "    <tr>\n",
       "      <th>...</th>\n",
       "      <td>...</td>\n",
       "      <td>...</td>\n",
       "      <td>...</td>\n",
       "      <td>...</td>\n",
       "      <td>...</td>\n",
       "      <td>...</td>\n",
       "    </tr>\n",
       "    <tr>\n",
       "      <th>1166</th>\n",
       "      <td>2023-09-22</td>\n",
       "      <td>1.000000</td>\n",
       "      <td>1.000000</td>\n",
       "      <td>1695340800000</td>\n",
       "      <td>2023-09-22</td>\n",
       "      <td>1.0000</td>\n",
       "    </tr>\n",
       "    <tr>\n",
       "      <th>1167</th>\n",
       "      <td>2023-03-09</td>\n",
       "      <td>1.000000</td>\n",
       "      <td>1.000000</td>\n",
       "      <td>1678320000000</td>\n",
       "      <td>2023-03-09</td>\n",
       "      <td>1.0000</td>\n",
       "    </tr>\n",
       "    <tr>\n",
       "      <th>1168</th>\n",
       "      <td>2023-03-04</td>\n",
       "      <td>1.000000</td>\n",
       "      <td>1.000000</td>\n",
       "      <td>1677888000000</td>\n",
       "      <td>2023-03-04</td>\n",
       "      <td>1.0000</td>\n",
       "    </tr>\n",
       "    <tr>\n",
       "      <th>1169</th>\n",
       "      <td>2022-08-16</td>\n",
       "      <td>1.000000</td>\n",
       "      <td>1.000000</td>\n",
       "      <td>1660608000000</td>\n",
       "      <td>2022-08-16</td>\n",
       "      <td>1.0000</td>\n",
       "    </tr>\n",
       "    <tr>\n",
       "      <th>1170</th>\n",
       "      <td>2024-04-01</td>\n",
       "      <td>1.000000</td>\n",
       "      <td>1.000000</td>\n",
       "      <td>1711929600000</td>\n",
       "      <td>2024-04-01</td>\n",
       "      <td>1.0000</td>\n",
       "    </tr>\n",
       "  </tbody>\n",
       "</table>\n",
       "<p>1171 rows × 6 columns</p>\n",
       "</div>"
      ],
      "text/plain": [
       "          date_x  subjectivity     polarity           unix      date_y  \\\n",
       "0     2021-03-15      0.000000     0.000000  1615766400000  2021-03-15   \n",
       "1     2021-12-23      0.000000     0.000000  1640217600000  2021-12-23   \n",
       "2     2021-10-16      0.000000     0.000000  1634342400000  2021-10-16   \n",
       "3     2021-07-18   9941.460874  5168.695531  1626566400000  2021-07-18   \n",
       "4     2022-06-16      0.000000     0.000000  1655337600000  2022-06-16   \n",
       "...          ...           ...          ...            ...         ...   \n",
       "1166  2023-09-22      1.000000     1.000000  1695340800000  2023-09-22   \n",
       "1167  2023-03-09      1.000000     1.000000  1678320000000  2023-03-09   \n",
       "1168  2023-03-04      1.000000     1.000000  1677888000000  2023-03-04   \n",
       "1169  2022-08-16      1.000000     1.000000  1660608000000  2022-08-16   \n",
       "1170  2024-04-01      1.000000     1.000000  1711929600000  2024-04-01   \n",
       "\n",
       "       compound  \n",
       "0        0.0000  \n",
       "1        0.0000  \n",
       "2        0.0000  \n",
       "3     8772.5545  \n",
       "4        0.0000  \n",
       "...         ...  \n",
       "1166     1.0000  \n",
       "1167     1.0000  \n",
       "1168     1.0000  \n",
       "1169     1.0000  \n",
       "1170     1.0000  \n",
       "\n",
       "[1171 rows x 6 columns]"
      ]
     },
     "execution_count": 11,
     "metadata": {},
     "output_type": "execute_result"
    }
   ],
   "source": [
    "pd.merge(tweets_textblob_df, tweets_vader_df, how='inner', left_on='unix', right_on='unix')"
   ]
  },
  {
   "cell_type": "code",
   "execution_count": 12,
   "id": "2ab0bee5",
   "metadata": {},
   "outputs": [
    {
     "data": {
      "text/html": [
       "<div>\n",
       "<style scoped>\n",
       "    .dataframe tbody tr th:only-of-type {\n",
       "        vertical-align: middle;\n",
       "    }\n",
       "\n",
       "    .dataframe tbody tr th {\n",
       "        vertical-align: top;\n",
       "    }\n",
       "\n",
       "    .dataframe thead th {\n",
       "        text-align: right;\n",
       "    }\n",
       "</style>\n",
       "<table border=\"1\" class=\"dataframe\">\n",
       "  <thead>\n",
       "    <tr style=\"text-align: right;\">\n",
       "      <th></th>\n",
       "      <th>date_x</th>\n",
       "      <th>open</th>\n",
       "      <th>high</th>\n",
       "      <th>low</th>\n",
       "      <th>close</th>\n",
       "      <th>volume</th>\n",
       "      <th>quote_av</th>\n",
       "      <th>trades</th>\n",
       "      <th>tb_base_av</th>\n",
       "      <th>tb_quote_av</th>\n",
       "      <th>...</th>\n",
       "      <th>rate_of_change_14_days</th>\n",
       "      <th>strength_index_14_days</th>\n",
       "      <th>std_56_days</th>\n",
       "      <th>exp_mean_56_days</th>\n",
       "      <th>exp_std_56_days</th>\n",
       "      <th>momentum_56_days</th>\n",
       "      <th>rate_of_change_56_days</th>\n",
       "      <th>strength_index_56_days</th>\n",
       "      <th>date_y</th>\n",
       "      <th>compound</th>\n",
       "    </tr>\n",
       "  </thead>\n",
       "  <tbody>\n",
       "    <tr>\n",
       "      <th>0</th>\n",
       "      <td>2024-02-20</td>\n",
       "      <td>51774.74</td>\n",
       "      <td>52985.00</td>\n",
       "      <td>50760.37</td>\n",
       "      <td>52258.82</td>\n",
       "      <td>49614.473180</td>\n",
       "      <td>2.574875e+09</td>\n",
       "      <td>1971912</td>\n",
       "      <td>24994.250620</td>\n",
       "      <td>1.297330e+09</td>\n",
       "      <td>...</td>\n",
       "      <td>17.833802</td>\n",
       "      <td>77.092296</td>\n",
       "      <td>3572.961909</td>\n",
       "      <td>45127.001142</td>\n",
       "      <td>4919.128120</td>\n",
       "      <td>9749.89</td>\n",
       "      <td>20.332037</td>\n",
       "      <td>64.173501</td>\n",
       "      <td>2024-02-20</td>\n",
       "      <td>1.0000</td>\n",
       "    </tr>\n",
       "    <tr>\n",
       "      <th>1</th>\n",
       "      <td>2024-03-21</td>\n",
       "      <td>67840.51</td>\n",
       "      <td>68240.47</td>\n",
       "      <td>64529.01</td>\n",
       "      <td>65501.27</td>\n",
       "      <td>53357.480020</td>\n",
       "      <td>3.551223e+09</td>\n",
       "      <td>2388390</td>\n",
       "      <td>26650.097860</td>\n",
       "      <td>1.774834e+09</td>\n",
       "      <td>...</td>\n",
       "      <td>-3.850204</td>\n",
       "      <td>55.493870</td>\n",
       "      <td>0.000000</td>\n",
       "      <td>65492.259255</td>\n",
       "      <td>5582.342768</td>\n",
       "      <td>0.00</td>\n",
       "      <td>0.000000</td>\n",
       "      <td>0.000000</td>\n",
       "      <td>2024-03-21</td>\n",
       "      <td>1.0000</td>\n",
       "    </tr>\n",
       "    <tr>\n",
       "      <th>2</th>\n",
       "      <td>2023-09-29</td>\n",
       "      <td>27021.39</td>\n",
       "      <td>27244.89</td>\n",
       "      <td>26665.16</td>\n",
       "      <td>26906.96</td>\n",
       "      <td>28478.762190</td>\n",
       "      <td>7.678273e+08</td>\n",
       "      <td>878610</td>\n",
       "      <td>14409.355540</td>\n",
       "      <td>3.885912e+08</td>\n",
       "      <td>...</td>\n",
       "      <td>1.307584</td>\n",
       "      <td>55.319266</td>\n",
       "      <td>1322.394712</td>\n",
       "      <td>26976.115865</td>\n",
       "      <td>1370.541412</td>\n",
       "      <td>-2207.03</td>\n",
       "      <td>-7.447580</td>\n",
       "      <td>48.742089</td>\n",
       "      <td>2023-09-29</td>\n",
       "      <td>1.0000</td>\n",
       "    </tr>\n",
       "    <tr>\n",
       "      <th>3</th>\n",
       "      <td>2021-12-23</td>\n",
       "      <td>48588.17</td>\n",
       "      <td>51375.00</td>\n",
       "      <td>47920.42</td>\n",
       "      <td>50838.81</td>\n",
       "      <td>35192.540460</td>\n",
       "      <td>1.738130e+09</td>\n",
       "      <td>1176050</td>\n",
       "      <td>17397.670340</td>\n",
       "      <td>8.596051e+08</td>\n",
       "      <td>...</td>\n",
       "      <td>7.845201</td>\n",
       "      <td>50.631759</td>\n",
       "      <td>6475.828680</td>\n",
       "      <td>52972.417968</td>\n",
       "      <td>6360.476899</td>\n",
       "      <td>-9737.08</td>\n",
       "      <td>-18.336096</td>\n",
       "      <td>48.917193</td>\n",
       "      <td>2021-12-23</td>\n",
       "      <td>0.0000</td>\n",
       "    </tr>\n",
       "    <tr>\n",
       "      <th>4</th>\n",
       "      <td>2023-01-28</td>\n",
       "      <td>23074.16</td>\n",
       "      <td>23189.00</td>\n",
       "      <td>22878.46</td>\n",
       "      <td>23022.60</td>\n",
       "      <td>148115.710850</td>\n",
       "      <td>3.408985e+09</td>\n",
       "      <td>4181816</td>\n",
       "      <td>73861.835660</td>\n",
       "      <td>1.700058e+09</td>\n",
       "      <td>...</td>\n",
       "      <td>10.306399</td>\n",
       "      <td>80.416972</td>\n",
       "      <td>2368.548321</td>\n",
       "      <td>19399.502617</td>\n",
       "      <td>2664.269700</td>\n",
       "      <td>6137.40</td>\n",
       "      <td>34.590224</td>\n",
       "      <td>60.919187</td>\n",
       "      <td>2023-01-28</td>\n",
       "      <td>1.0000</td>\n",
       "    </tr>\n",
       "    <tr>\n",
       "      <th>...</th>\n",
       "      <td>...</td>\n",
       "      <td>...</td>\n",
       "      <td>...</td>\n",
       "      <td>...</td>\n",
       "      <td>...</td>\n",
       "      <td>...</td>\n",
       "      <td>...</td>\n",
       "      <td>...</td>\n",
       "      <td>...</td>\n",
       "      <td>...</td>\n",
       "      <td>...</td>\n",
       "      <td>...</td>\n",
       "      <td>...</td>\n",
       "      <td>...</td>\n",
       "      <td>...</td>\n",
       "      <td>...</td>\n",
       "      <td>...</td>\n",
       "      <td>...</td>\n",
       "      <td>...</td>\n",
       "      <td>...</td>\n",
       "      <td>...</td>\n",
       "    </tr>\n",
       "    <tr>\n",
       "      <th>1166</th>\n",
       "      <td>2023-07-12</td>\n",
       "      <td>30622.10</td>\n",
       "      <td>30983.25</td>\n",
       "      <td>30210.00</td>\n",
       "      <td>30380.00</td>\n",
       "      <td>38108.996690</td>\n",
       "      <td>1.166497e+09</td>\n",
       "      <td>784195</td>\n",
       "      <td>18251.279650</td>\n",
       "      <td>5.587425e+08</td>\n",
       "      <td>...</td>\n",
       "      <td>-0.221070</td>\n",
       "      <td>57.769501</td>\n",
       "      <td>1919.248938</td>\n",
       "      <td>28818.332239</td>\n",
       "      <td>2027.077276</td>\n",
       "      <td>2974.39</td>\n",
       "      <td>13.268271</td>\n",
       "      <td>55.968973</td>\n",
       "      <td>2023-07-12</td>\n",
       "      <td>1.0000</td>\n",
       "    </tr>\n",
       "    <tr>\n",
       "      <th>1167</th>\n",
       "      <td>2021-09-25</td>\n",
       "      <td>42810.58</td>\n",
       "      <td>42966.84</td>\n",
       "      <td>41646.28</td>\n",
       "      <td>42670.64</td>\n",
       "      <td>33594.571890</td>\n",
       "      <td>1.428239e+09</td>\n",
       "      <td>949787</td>\n",
       "      <td>16555.729500</td>\n",
       "      <td>7.039480e+08</td>\n",
       "      <td>...</td>\n",
       "      <td>-7.288609</td>\n",
       "      <td>42.047909</td>\n",
       "      <td>3120.110676</td>\n",
       "      <td>44911.051038</td>\n",
       "      <td>4793.354623</td>\n",
       "      <td>1208.81</td>\n",
       "      <td>7.090397</td>\n",
       "      <td>49.471588</td>\n",
       "      <td>2021-09-25</td>\n",
       "      <td>0.0000</td>\n",
       "    </tr>\n",
       "    <tr>\n",
       "      <th>1168</th>\n",
       "      <td>2021-06-06</td>\n",
       "      <td>35516.07</td>\n",
       "      <td>36480.00</td>\n",
       "      <td>35222.00</td>\n",
       "      <td>35796.31</td>\n",
       "      <td>47650.206637</td>\n",
       "      <td>1.711857e+09</td>\n",
       "      <td>993430</td>\n",
       "      <td>23661.260636</td>\n",
       "      <td>8.502043e+08</td>\n",
       "      <td>...</td>\n",
       "      <td>-7.732647</td>\n",
       "      <td>38.330844</td>\n",
       "      <td>9403.101052</td>\n",
       "      <td>45531.376374</td>\n",
       "      <td>9348.505327</td>\n",
       "      <td>-24206.12</td>\n",
       "      <td>-40.199950</td>\n",
       "      <td>45.278204</td>\n",
       "      <td>2021-06-06</td>\n",
       "      <td>0.0000</td>\n",
       "    </tr>\n",
       "    <tr>\n",
       "      <th>1169</th>\n",
       "      <td>2022-03-31</td>\n",
       "      <td>47067.99</td>\n",
       "      <td>47600.00</td>\n",
       "      <td>45200.00</td>\n",
       "      <td>45510.34</td>\n",
       "      <td>48645.126670</td>\n",
       "      <td>2.262485e+09</td>\n",
       "      <td>1290541</td>\n",
       "      <td>22879.473280</td>\n",
       "      <td>1.064279e+09</td>\n",
       "      <td>...</td>\n",
       "      <td>8.987198</td>\n",
       "      <td>59.983628</td>\n",
       "      <td>2730.313519</td>\n",
       "      <td>42349.556831</td>\n",
       "      <td>3826.733146</td>\n",
       "      <td>8198.73</td>\n",
       "      <td>9.467615</td>\n",
       "      <td>51.627019</td>\n",
       "      <td>2022-03-31</td>\n",
       "      <td>0.0000</td>\n",
       "    </tr>\n",
       "    <tr>\n",
       "      <th>1170</th>\n",
       "      <td>2021-11-19</td>\n",
       "      <td>56891.62</td>\n",
       "      <td>58320.00</td>\n",
       "      <td>55600.00</td>\n",
       "      <td>58052.24</td>\n",
       "      <td>50715.887260</td>\n",
       "      <td>2.896190e+09</td>\n",
       "      <td>1560459</td>\n",
       "      <td>24072.285750</td>\n",
       "      <td>1.374772e+09</td>\n",
       "      <td>...</td>\n",
       "      <td>-5.560983</td>\n",
       "      <td>41.641275</td>\n",
       "      <td>7126.716801</td>\n",
       "      <td>58333.426284</td>\n",
       "      <td>7474.454949</td>\n",
       "      <td>15241.67</td>\n",
       "      <td>36.047268</td>\n",
       "      <td>52.880611</td>\n",
       "      <td>2021-11-19</td>\n",
       "      <td>13047.2853</td>\n",
       "    </tr>\n",
       "  </tbody>\n",
       "</table>\n",
       "<p>1171 rows × 34 columns</p>\n",
       "</div>"
      ],
      "text/plain": [
       "          date_x      open      high       low     close         volume  \\\n",
       "0     2024-02-20  51774.74  52985.00  50760.37  52258.82   49614.473180   \n",
       "1     2024-03-21  67840.51  68240.47  64529.01  65501.27   53357.480020   \n",
       "2     2023-09-29  27021.39  27244.89  26665.16  26906.96   28478.762190   \n",
       "3     2021-12-23  48588.17  51375.00  47920.42  50838.81   35192.540460   \n",
       "4     2023-01-28  23074.16  23189.00  22878.46  23022.60  148115.710850   \n",
       "...          ...       ...       ...       ...       ...            ...   \n",
       "1166  2023-07-12  30622.10  30983.25  30210.00  30380.00   38108.996690   \n",
       "1167  2021-09-25  42810.58  42966.84  41646.28  42670.64   33594.571890   \n",
       "1168  2021-06-06  35516.07  36480.00  35222.00  35796.31   47650.206637   \n",
       "1169  2022-03-31  47067.99  47600.00  45200.00  45510.34   48645.126670   \n",
       "1170  2021-11-19  56891.62  58320.00  55600.00  58052.24   50715.887260   \n",
       "\n",
       "          quote_av   trades    tb_base_av   tb_quote_av  ...  \\\n",
       "0     2.574875e+09  1971912  24994.250620  1.297330e+09  ...   \n",
       "1     3.551223e+09  2388390  26650.097860  1.774834e+09  ...   \n",
       "2     7.678273e+08   878610  14409.355540  3.885912e+08  ...   \n",
       "3     1.738130e+09  1176050  17397.670340  8.596051e+08  ...   \n",
       "4     3.408985e+09  4181816  73861.835660  1.700058e+09  ...   \n",
       "...            ...      ...           ...           ...  ...   \n",
       "1166  1.166497e+09   784195  18251.279650  5.587425e+08  ...   \n",
       "1167  1.428239e+09   949787  16555.729500  7.039480e+08  ...   \n",
       "1168  1.711857e+09   993430  23661.260636  8.502043e+08  ...   \n",
       "1169  2.262485e+09  1290541  22879.473280  1.064279e+09  ...   \n",
       "1170  2.896190e+09  1560459  24072.285750  1.374772e+09  ...   \n",
       "\n",
       "      rate_of_change_14_days  strength_index_14_days  std_56_days  \\\n",
       "0                  17.833802               77.092296  3572.961909   \n",
       "1                  -3.850204               55.493870     0.000000   \n",
       "2                   1.307584               55.319266  1322.394712   \n",
       "3                   7.845201               50.631759  6475.828680   \n",
       "4                  10.306399               80.416972  2368.548321   \n",
       "...                      ...                     ...          ...   \n",
       "1166               -0.221070               57.769501  1919.248938   \n",
       "1167               -7.288609               42.047909  3120.110676   \n",
       "1168               -7.732647               38.330844  9403.101052   \n",
       "1169                8.987198               59.983628  2730.313519   \n",
       "1170               -5.560983               41.641275  7126.716801   \n",
       "\n",
       "      exp_mean_56_days  exp_std_56_days  momentum_56_days  \\\n",
       "0         45127.001142      4919.128120           9749.89   \n",
       "1         65492.259255      5582.342768              0.00   \n",
       "2         26976.115865      1370.541412          -2207.03   \n",
       "3         52972.417968      6360.476899          -9737.08   \n",
       "4         19399.502617      2664.269700           6137.40   \n",
       "...                ...              ...               ...   \n",
       "1166      28818.332239      2027.077276           2974.39   \n",
       "1167      44911.051038      4793.354623           1208.81   \n",
       "1168      45531.376374      9348.505327         -24206.12   \n",
       "1169      42349.556831      3826.733146           8198.73   \n",
       "1170      58333.426284      7474.454949          15241.67   \n",
       "\n",
       "      rate_of_change_56_days  strength_index_56_days      date_y    compound  \n",
       "0                  20.332037               64.173501  2024-02-20      1.0000  \n",
       "1                   0.000000                0.000000  2024-03-21      1.0000  \n",
       "2                  -7.447580               48.742089  2023-09-29      1.0000  \n",
       "3                 -18.336096               48.917193  2021-12-23      0.0000  \n",
       "4                  34.590224               60.919187  2023-01-28      1.0000  \n",
       "...                      ...                     ...         ...         ...  \n",
       "1166               13.268271               55.968973  2023-07-12      1.0000  \n",
       "1167                7.090397               49.471588  2021-09-25      0.0000  \n",
       "1168              -40.199950               45.278204  2021-06-06      0.0000  \n",
       "1169                9.467615               51.627019  2022-03-31      0.0000  \n",
       "1170               36.047268               52.880611  2021-11-19  13047.2853  \n",
       "\n",
       "[1171 rows x 34 columns]"
      ]
     },
     "execution_count": 12,
     "metadata": {},
     "output_type": "execute_result"
    }
   ],
   "source": [
    "pd.merge(btc_price_df, tweets_vader_df, how='inner', left_on='unix', right_on='unix')"
   ]
  },
  {
   "cell_type": "markdown",
   "id": "428f9387",
   "metadata": {},
   "source": [
    "--- \n",
    "\n",
    "## <span style=\"color:#ff5f27;\"> 🖍 Feature View Creation and Retrieving </span>"
   ]
  },
  {
   "cell_type": "code",
   "execution_count": 13,
   "id": "30597151",
   "metadata": {
    "scrolled": true
   },
   "outputs": [
    {
     "name": "stdout",
     "output_type": "stream",
     "text": [
      "Finished: Reading data from Hopsworks, using ArrowFlight (1.23s) \n"
     ]
    },
    {
     "data": {
      "text/html": [
       "<div>\n",
       "<style scoped>\n",
       "    .dataframe tbody tr th:only-of-type {\n",
       "        vertical-align: middle;\n",
       "    }\n",
       "\n",
       "    .dataframe tbody tr th {\n",
       "        vertical-align: top;\n",
       "    }\n",
       "\n",
       "    .dataframe thead th {\n",
       "        text-align: right;\n",
       "    }\n",
       "</style>\n",
       "<table border=\"1\" class=\"dataframe\">\n",
       "  <thead>\n",
       "    <tr style=\"text-align: right;\">\n",
       "      <th></th>\n",
       "      <th>open</th>\n",
       "      <th>high</th>\n",
       "      <th>low</th>\n",
       "      <th>close</th>\n",
       "      <th>volume</th>\n",
       "      <th>quote_av</th>\n",
       "      <th>trades</th>\n",
       "      <th>tb_base_av</th>\n",
       "      <th>tb_quote_av</th>\n",
       "      <th>unix</th>\n",
       "      <th>...</th>\n",
       "      <th>strength_index_14_days</th>\n",
       "      <th>std_56_days</th>\n",
       "      <th>exp_mean_56_days</th>\n",
       "      <th>exp_std_56_days</th>\n",
       "      <th>momentum_56_days</th>\n",
       "      <th>rate_of_change_56_days</th>\n",
       "      <th>strength_index_56_days</th>\n",
       "      <th>subjectivity</th>\n",
       "      <th>polarity</th>\n",
       "      <th>compound</th>\n",
       "    </tr>\n",
       "  </thead>\n",
       "  <tbody>\n",
       "    <tr>\n",
       "      <th>0</th>\n",
       "      <td>45134.11</td>\n",
       "      <td>49790.00</td>\n",
       "      <td>44950.53</td>\n",
       "      <td>49587.03</td>\n",
       "      <td>85086.111648</td>\n",
       "      <td>4.057516e+09</td>\n",
       "      <td>2147223</td>\n",
       "      <td>42616.994361</td>\n",
       "      <td>2.032567e+09</td>\n",
       "      <td>1614556800000</td>\n",
       "      <td>...</td>\n",
       "      <td>59.771797</td>\n",
       "      <td>0.000000</td>\n",
       "      <td>48576.549642</td>\n",
       "      <td>4593.189433</td>\n",
       "      <td>0.00</td>\n",
       "      <td>0.000000</td>\n",
       "      <td>0.000000</td>\n",
       "      <td>0.000000</td>\n",
       "      <td>0.000000</td>\n",
       "      <td>0.0000</td>\n",
       "    </tr>\n",
       "    <tr>\n",
       "      <th>1</th>\n",
       "      <td>61188.38</td>\n",
       "      <td>61724.79</td>\n",
       "      <td>58966.78</td>\n",
       "      <td>58968.31</td>\n",
       "      <td>52601.052750</td>\n",
       "      <td>3.176398e+09</td>\n",
       "      <td>1829769</td>\n",
       "      <td>25325.267050</td>\n",
       "      <td>1.530051e+09</td>\n",
       "      <td>1615680000000</td>\n",
       "      <td>...</td>\n",
       "      <td>67.420311</td>\n",
       "      <td>0.000000</td>\n",
       "      <td>51255.917643</td>\n",
       "      <td>5252.636194</td>\n",
       "      <td>0.00</td>\n",
       "      <td>0.000000</td>\n",
       "      <td>0.000000</td>\n",
       "      <td>0.000000</td>\n",
       "      <td>0.000000</td>\n",
       "      <td>0.0000</td>\n",
       "    </tr>\n",
       "    <tr>\n",
       "      <th>2</th>\n",
       "      <td>57051.95</td>\n",
       "      <td>58492.85</td>\n",
       "      <td>56388.00</td>\n",
       "      <td>58202.01</td>\n",
       "      <td>41314.081973</td>\n",
       "      <td>2.380139e+09</td>\n",
       "      <td>1499113</td>\n",
       "      <td>20609.134161</td>\n",
       "      <td>1.187124e+09</td>\n",
       "      <td>1617494400000</td>\n",
       "      <td>...</td>\n",
       "      <td>57.784212</td>\n",
       "      <td>4658.916456</td>\n",
       "      <td>54552.981844</td>\n",
       "      <td>4600.224293</td>\n",
       "      <td>19406.32</td>\n",
       "      <td>25.503338</td>\n",
       "      <td>60.658543</td>\n",
       "      <td>0.000000</td>\n",
       "      <td>0.000000</td>\n",
       "      <td>0.0000</td>\n",
       "    </tr>\n",
       "    <tr>\n",
       "      <th>3</th>\n",
       "      <td>56425.00</td>\n",
       "      <td>56757.91</td>\n",
       "      <td>53536.02</td>\n",
       "      <td>53787.63</td>\n",
       "      <td>66984.756909</td>\n",
       "      <td>3.704550e+09</td>\n",
       "      <td>2134946</td>\n",
       "      <td>32188.929493</td>\n",
       "      <td>1.780066e+09</td>\n",
       "      <td>1618963200000</td>\n",
       "      <td>...</td>\n",
       "      <td>39.217387</td>\n",
       "      <td>4546.821474</td>\n",
       "      <td>56632.341083</td>\n",
       "      <td>4424.410086</td>\n",
       "      <td>4111.43</td>\n",
       "      <td>14.262520</td>\n",
       "      <td>55.422176</td>\n",
       "      <td>1357.734962</td>\n",
       "      <td>410.572924</td>\n",
       "      <td>528.0207</td>\n",
       "    </tr>\n",
       "    <tr>\n",
       "      <th>4</th>\n",
       "      <td>50047.84</td>\n",
       "      <td>50567.91</td>\n",
       "      <td>46930.00</td>\n",
       "      <td>49066.77</td>\n",
       "      <td>58255.645004</td>\n",
       "      <td>2.867858e+09</td>\n",
       "      <td>1475479</td>\n",
       "      <td>27767.331394</td>\n",
       "      <td>1.367921e+09</td>\n",
       "      <td>1619308800000</td>\n",
       "      <td>...</td>\n",
       "      <td>30.633196</td>\n",
       "      <td>3994.650335</td>\n",
       "      <td>55758.081414</td>\n",
       "      <td>4657.645682</td>\n",
       "      <td>3931.11</td>\n",
       "      <td>-1.049186</td>\n",
       "      <td>52.469246</td>\n",
       "      <td>0.000000</td>\n",
       "      <td>0.000000</td>\n",
       "      <td>0.0000</td>\n",
       "    </tr>\n",
       "    <tr>\n",
       "      <th>...</th>\n",
       "      <td>...</td>\n",
       "      <td>...</td>\n",
       "      <td>...</td>\n",
       "      <td>...</td>\n",
       "      <td>...</td>\n",
       "      <td>...</td>\n",
       "      <td>...</td>\n",
       "      <td>...</td>\n",
       "      <td>...</td>\n",
       "      <td>...</td>\n",
       "      <td>...</td>\n",
       "      <td>...</td>\n",
       "      <td>...</td>\n",
       "      <td>...</td>\n",
       "      <td>...</td>\n",
       "      <td>...</td>\n",
       "      <td>...</td>\n",
       "      <td>...</td>\n",
       "      <td>...</td>\n",
       "      <td>...</td>\n",
       "      <td>...</td>\n",
       "    </tr>\n",
       "    <tr>\n",
       "      <th>1166</th>\n",
       "      <td>43082.95</td>\n",
       "      <td>43488.00</td>\n",
       "      <td>42546.79</td>\n",
       "      <td>43200.00</td>\n",
       "      <td>29672.144180</td>\n",
       "      <td>1.277919e+09</td>\n",
       "      <td>1086342</td>\n",
       "      <td>15645.571100</td>\n",
       "      <td>6.738348e+08</td>\n",
       "      <td>1706832000000</td>\n",
       "      <td>...</td>\n",
       "      <td>54.773416</td>\n",
       "      <td>1527.372272</td>\n",
       "      <td>41786.325528</td>\n",
       "      <td>3250.127179</td>\n",
       "      <td>-970.99</td>\n",
       "      <td>-1.174920</td>\n",
       "      <td>55.358161</td>\n",
       "      <td>1.000000</td>\n",
       "      <td>1.000000</td>\n",
       "      <td>1.0000</td>\n",
       "    </tr>\n",
       "    <tr>\n",
       "      <th>1167</th>\n",
       "      <td>51728.85</td>\n",
       "      <td>54910.00</td>\n",
       "      <td>50901.44</td>\n",
       "      <td>54476.47</td>\n",
       "      <td>51256.721990</td>\n",
       "      <td>2.710403e+09</td>\n",
       "      <td>1808909</td>\n",
       "      <td>27198.835510</td>\n",
       "      <td>1.438372e+09</td>\n",
       "      <td>1708905600000</td>\n",
       "      <td>...</td>\n",
       "      <td>0.000000</td>\n",
       "      <td>0.000000</td>\n",
       "      <td>52180.421537</td>\n",
       "      <td>1642.239431</td>\n",
       "      <td>0.00</td>\n",
       "      <td>0.000000</td>\n",
       "      <td>0.000000</td>\n",
       "      <td>1.000000</td>\n",
       "      <td>1.000000</td>\n",
       "      <td>1.0000</td>\n",
       "    </tr>\n",
       "    <tr>\n",
       "      <th>1168</th>\n",
       "      <td>73072.40</td>\n",
       "      <td>73777.00</td>\n",
       "      <td>68555.00</td>\n",
       "      <td>71388.94</td>\n",
       "      <td>71757.628746</td>\n",
       "      <td>5.132190e+09</td>\n",
       "      <td>2994869</td>\n",
       "      <td>35676.748326</td>\n",
       "      <td>2.552190e+09</td>\n",
       "      <td>1710374400000</td>\n",
       "      <td>...</td>\n",
       "      <td>76.064504</td>\n",
       "      <td>0.000000</td>\n",
       "      <td>64940.947930</td>\n",
       "      <td>6667.979941</td>\n",
       "      <td>0.00</td>\n",
       "      <td>0.000000</td>\n",
       "      <td>0.000000</td>\n",
       "      <td>1.000000</td>\n",
       "      <td>1.000000</td>\n",
       "      <td>1.0000</td>\n",
       "    </tr>\n",
       "    <tr>\n",
       "      <th>1169</th>\n",
       "      <td>67116.52</td>\n",
       "      <td>67929.00</td>\n",
       "      <td>60660.57</td>\n",
       "      <td>63924.51</td>\n",
       "      <td>71395.220190</td>\n",
       "      <td>4.614469e+09</td>\n",
       "      <td>3341340</td>\n",
       "      <td>33221.669500</td>\n",
       "      <td>2.144846e+09</td>\n",
       "      <td>1712966400000</td>\n",
       "      <td>...</td>\n",
       "      <td>43.115823</td>\n",
       "      <td>0.000000</td>\n",
       "      <td>67484.558588</td>\n",
       "      <td>3970.267766</td>\n",
       "      <td>0.00</td>\n",
       "      <td>0.000000</td>\n",
       "      <td>0.000000</td>\n",
       "      <td>1.000000</td>\n",
       "      <td>1.000000</td>\n",
       "      <td>1.0000</td>\n",
       "    </tr>\n",
       "    <tr>\n",
       "      <th>1170</th>\n",
       "      <td>63924.52</td>\n",
       "      <td>65840.00</td>\n",
       "      <td>62134.00</td>\n",
       "      <td>65661.84</td>\n",
       "      <td>61599.178180</td>\n",
       "      <td>3.946125e+09</td>\n",
       "      <td>2657953</td>\n",
       "      <td>29732.296340</td>\n",
       "      <td>1.904847e+09</td>\n",
       "      <td>1713052800000</td>\n",
       "      <td>...</td>\n",
       "      <td>46.913906</td>\n",
       "      <td>0.000000</td>\n",
       "      <td>67408.774645</td>\n",
       "      <td>3903.704876</td>\n",
       "      <td>0.00</td>\n",
       "      <td>0.000000</td>\n",
       "      <td>0.000000</td>\n",
       "      <td>1.000000</td>\n",
       "      <td>1.000000</td>\n",
       "      <td>1.0000</td>\n",
       "    </tr>\n",
       "  </tbody>\n",
       "</table>\n",
       "<p>1171 rows × 34 columns</p>\n",
       "</div>"
      ],
      "text/plain": [
       "          open      high       low     close        volume      quote_av  \\\n",
       "0     45134.11  49790.00  44950.53  49587.03  85086.111648  4.057516e+09   \n",
       "1     61188.38  61724.79  58966.78  58968.31  52601.052750  3.176398e+09   \n",
       "2     57051.95  58492.85  56388.00  58202.01  41314.081973  2.380139e+09   \n",
       "3     56425.00  56757.91  53536.02  53787.63  66984.756909  3.704550e+09   \n",
       "4     50047.84  50567.91  46930.00  49066.77  58255.645004  2.867858e+09   \n",
       "...        ...       ...       ...       ...           ...           ...   \n",
       "1166  43082.95  43488.00  42546.79  43200.00  29672.144180  1.277919e+09   \n",
       "1167  51728.85  54910.00  50901.44  54476.47  51256.721990  2.710403e+09   \n",
       "1168  73072.40  73777.00  68555.00  71388.94  71757.628746  5.132190e+09   \n",
       "1169  67116.52  67929.00  60660.57  63924.51  71395.220190  4.614469e+09   \n",
       "1170  63924.52  65840.00  62134.00  65661.84  61599.178180  3.946125e+09   \n",
       "\n",
       "       trades    tb_base_av   tb_quote_av           unix  ...  \\\n",
       "0     2147223  42616.994361  2.032567e+09  1614556800000  ...   \n",
       "1     1829769  25325.267050  1.530051e+09  1615680000000  ...   \n",
       "2     1499113  20609.134161  1.187124e+09  1617494400000  ...   \n",
       "3     2134946  32188.929493  1.780066e+09  1618963200000  ...   \n",
       "4     1475479  27767.331394  1.367921e+09  1619308800000  ...   \n",
       "...       ...           ...           ...            ...  ...   \n",
       "1166  1086342  15645.571100  6.738348e+08  1706832000000  ...   \n",
       "1167  1808909  27198.835510  1.438372e+09  1708905600000  ...   \n",
       "1168  2994869  35676.748326  2.552190e+09  1710374400000  ...   \n",
       "1169  3341340  33221.669500  2.144846e+09  1712966400000  ...   \n",
       "1170  2657953  29732.296340  1.904847e+09  1713052800000  ...   \n",
       "\n",
       "      strength_index_14_days  std_56_days  exp_mean_56_days  exp_std_56_days  \\\n",
       "0                  59.771797     0.000000      48576.549642      4593.189433   \n",
       "1                  67.420311     0.000000      51255.917643      5252.636194   \n",
       "2                  57.784212  4658.916456      54552.981844      4600.224293   \n",
       "3                  39.217387  4546.821474      56632.341083      4424.410086   \n",
       "4                  30.633196  3994.650335      55758.081414      4657.645682   \n",
       "...                      ...          ...               ...              ...   \n",
       "1166               54.773416  1527.372272      41786.325528      3250.127179   \n",
       "1167                0.000000     0.000000      52180.421537      1642.239431   \n",
       "1168               76.064504     0.000000      64940.947930      6667.979941   \n",
       "1169               43.115823     0.000000      67484.558588      3970.267766   \n",
       "1170               46.913906     0.000000      67408.774645      3903.704876   \n",
       "\n",
       "      momentum_56_days  rate_of_change_56_days  strength_index_56_days  \\\n",
       "0                 0.00                0.000000                0.000000   \n",
       "1                 0.00                0.000000                0.000000   \n",
       "2             19406.32               25.503338               60.658543   \n",
       "3              4111.43               14.262520               55.422176   \n",
       "4              3931.11               -1.049186               52.469246   \n",
       "...                ...                     ...                     ...   \n",
       "1166           -970.99               -1.174920               55.358161   \n",
       "1167              0.00                0.000000                0.000000   \n",
       "1168              0.00                0.000000                0.000000   \n",
       "1169              0.00                0.000000                0.000000   \n",
       "1170              0.00                0.000000                0.000000   \n",
       "\n",
       "      subjectivity    polarity  compound  \n",
       "0         0.000000    0.000000    0.0000  \n",
       "1         0.000000    0.000000    0.0000  \n",
       "2         0.000000    0.000000    0.0000  \n",
       "3      1357.734962  410.572924  528.0207  \n",
       "4         0.000000    0.000000    0.0000  \n",
       "...            ...         ...       ...  \n",
       "1166      1.000000    1.000000    1.0000  \n",
       "1167      1.000000    1.000000    1.0000  \n",
       "1168      1.000000    1.000000    1.0000  \n",
       "1169      1.000000    1.000000    1.0000  \n",
       "1170      1.000000    1.000000    1.0000  \n",
       "\n",
       "[1171 rows x 34 columns]"
      ]
     },
     "execution_count": 13,
     "metadata": {},
     "output_type": "execute_result"
    }
   ],
   "source": [
    "# Query Preparation\n",
    "query = btc_price_fg.select_except([\"date\"]) \\\n",
    "               .join(tweets_textblob_fg.select([\"subjectivity\",\"polarity\"])) \\\n",
    "               .join(tweets_vader_fg.select(\"compound\"))\n",
    "\n",
    "final_df = query.read()\n",
    "final_df"
   ]
  },
  {
   "cell_type": "code",
   "execution_count": 14,
   "id": "530297f0",
   "metadata": {},
   "outputs": [
    {
     "data": {
      "text/plain": [
       "0       1614556800000\n",
       "1       1615680000000\n",
       "2       1617494400000\n",
       "3       1618963200000\n",
       "4       1619308800000\n",
       "            ...      \n",
       "1166    1706832000000\n",
       "1167    1708905600000\n",
       "1168    1710374400000\n",
       "1169    1712966400000\n",
       "1170    1713052800000\n",
       "Name: unix, Length: 1171, dtype: int64"
      ]
     },
     "execution_count": 14,
     "metadata": {},
     "output_type": "execute_result"
    }
   ],
   "source": [
    "final_df.unix"
   ]
  },
  {
   "cell_type": "code",
   "execution_count": 15,
   "id": "19817d83",
   "metadata": {},
   "outputs": [
    {
     "data": {
      "text/plain": [
       "0      2021-03-01 00:00:00+00:00\n",
       "1      2021-03-14 00:00:00+00:00\n",
       "2      2021-04-04 00:00:00+00:00\n",
       "3      2021-04-21 00:00:00+00:00\n",
       "4      2021-04-25 00:00:00+00:00\n",
       "                  ...           \n",
       "1166   2024-02-02 00:00:00+00:00\n",
       "1167   2024-02-26 00:00:00+00:00\n",
       "1168   2024-03-14 00:00:00+00:00\n",
       "1169   2024-04-13 00:00:00+00:00\n",
       "1170   2024-04-14 00:00:00+00:00\n",
       "Name: unix, Length: 1171, dtype: datetime64[ns, UTC]"
      ]
     },
     "execution_count": 15,
     "metadata": {},
     "output_type": "execute_result"
    }
   ],
   "source": [
    "final_df.unix.apply(lambda unix: datetime.datetime.fromtimestamp(unix / 1000, datetime.timezone.utc))"
   ]
  },
  {
   "cell_type": "code",
   "execution_count": 16,
   "id": "fbe19f4e",
   "metadata": {},
   "outputs": [
    {
     "data": {
      "text/plain": [
       "(1171, 34)"
      ]
     },
     "execution_count": 16,
     "metadata": {},
     "output_type": "execute_result"
    }
   ],
   "source": [
    "final_df.shape"
   ]
  },
  {
   "cell_type": "code",
   "execution_count": 17,
   "id": "500a9630",
   "metadata": {},
   "outputs": [],
   "source": [
    "columns_to_transform = final_df.columns\n",
    "columns_to_transform = columns_to_transform.tolist()\n",
    "columns_to_transform.remove(\"unix\")"
   ]
  },
  {
   "cell_type": "code",
   "execution_count": 18,
   "id": "c88dde7d",
   "metadata": {},
   "outputs": [],
   "source": [
    "# Load the transformation functions.\n",
    "min_max_scaler = fs.get_transformation_function(name=\"min_max_scaler\")\n",
    "\n",
    "# Map features to transformation functions.\n",
    "transformation_functions = {col: min_max_scaler for col in columns_to_transform}"
   ]
  },
  {
   "cell_type": "code",
   "execution_count": 19,
   "id": "f6df13c4",
   "metadata": {},
   "outputs": [
    {
     "data": {
      "text/plain": [
       "{'open': <hsfs.transformation_function.TransformationFunction at 0x7faf6dd73dc0>,\n",
       " 'high': <hsfs.transformation_function.TransformationFunction at 0x7faf6dd73dc0>,\n",
       " 'low': <hsfs.transformation_function.TransformationFunction at 0x7faf6dd73dc0>,\n",
       " 'close': <hsfs.transformation_function.TransformationFunction at 0x7faf6dd73dc0>,\n",
       " 'volume': <hsfs.transformation_function.TransformationFunction at 0x7faf6dd73dc0>,\n",
       " 'quote_av': <hsfs.transformation_function.TransformationFunction at 0x7faf6dd73dc0>,\n",
       " 'trades': <hsfs.transformation_function.TransformationFunction at 0x7faf6dd73dc0>,\n",
       " 'tb_base_av': <hsfs.transformation_function.TransformationFunction at 0x7faf6dd73dc0>,\n",
       " 'tb_quote_av': <hsfs.transformation_function.TransformationFunction at 0x7faf6dd73dc0>,\n",
       " 'mean_7_days': <hsfs.transformation_function.TransformationFunction at 0x7faf6dd73dc0>,\n",
       " 'mean_14_days': <hsfs.transformation_function.TransformationFunction at 0x7faf6dd73dc0>,\n",
       " 'mean_56_days': <hsfs.transformation_function.TransformationFunction at 0x7faf6dd73dc0>,\n",
       " 'std_7_days': <hsfs.transformation_function.TransformationFunction at 0x7faf6dd73dc0>,\n",
       " 'exp_mean_7_days': <hsfs.transformation_function.TransformationFunction at 0x7faf6dd73dc0>,\n",
       " 'exp_std_7_days': <hsfs.transformation_function.TransformationFunction at 0x7faf6dd73dc0>,\n",
       " 'momentum_7_days': <hsfs.transformation_function.TransformationFunction at 0x7faf6dd73dc0>,\n",
       " 'rate_of_change_7_days': <hsfs.transformation_function.TransformationFunction at 0x7faf6dd73dc0>,\n",
       " 'strength_index_7_days': <hsfs.transformation_function.TransformationFunction at 0x7faf6dd73dc0>,\n",
       " 'std_14_days': <hsfs.transformation_function.TransformationFunction at 0x7faf6dd73dc0>,\n",
       " 'exp_mean_14_days': <hsfs.transformation_function.TransformationFunction at 0x7faf6dd73dc0>,\n",
       " 'exp_std_14_days': <hsfs.transformation_function.TransformationFunction at 0x7faf6dd73dc0>,\n",
       " 'momentum_14_days': <hsfs.transformation_function.TransformationFunction at 0x7faf6dd73dc0>,\n",
       " 'rate_of_change_14_days': <hsfs.transformation_function.TransformationFunction at 0x7faf6dd73dc0>,\n",
       " 'strength_index_14_days': <hsfs.transformation_function.TransformationFunction at 0x7faf6dd73dc0>,\n",
       " 'std_56_days': <hsfs.transformation_function.TransformationFunction at 0x7faf6dd73dc0>,\n",
       " 'exp_mean_56_days': <hsfs.transformation_function.TransformationFunction at 0x7faf6dd73dc0>,\n",
       " 'exp_std_56_days': <hsfs.transformation_function.TransformationFunction at 0x7faf6dd73dc0>,\n",
       " 'momentum_56_days': <hsfs.transformation_function.TransformationFunction at 0x7faf6dd73dc0>,\n",
       " 'rate_of_change_56_days': <hsfs.transformation_function.TransformationFunction at 0x7faf6dd73dc0>,\n",
       " 'strength_index_56_days': <hsfs.transformation_function.TransformationFunction at 0x7faf6dd73dc0>,\n",
       " 'subjectivity': <hsfs.transformation_function.TransformationFunction at 0x7faf6dd73dc0>,\n",
       " 'polarity': <hsfs.transformation_function.TransformationFunction at 0x7faf6dd73dc0>,\n",
       " 'compound': <hsfs.transformation_function.TransformationFunction at 0x7faf6dd73dc0>}"
      ]
     },
     "execution_count": 19,
     "metadata": {},
     "output_type": "execute_result"
    }
   ],
   "source": [
    "transformation_functions"
   ]
  },
  {
   "cell_type": "code",
   "execution_count": 20,
   "id": "ff026f19",
   "metadata": {},
   "outputs": [
    {
     "name": "stdout",
     "output_type": "stream",
     "text": [
      "Feature view created successfully, explore it at \n",
      "https://snurran.hops.works/p/11394/fs/11342/fv/bitcoin_feature_view/version/1\n"
     ]
    }
   ],
   "source": [
    "feature_view = fs.get_or_create_feature_view(\n",
    "    name='bitcoin_feature_view',\n",
    "    version=1,\n",
    "    transformation_functions=transformation_functions,\n",
    "    query=query,\n",
    ")"
   ]
  },
  {
   "cell_type": "code",
   "execution_count": 22,
   "id": "5f1cdf86",
   "metadata": {},
   "outputs": [],
   "source": [
    "# # feature_view.init_serving(1)\n",
    "# today = datetime.datetime(2022, 2, 9, 22, 0, tzinfo=datetime.timezone.utc) # any day at 10PM\n",
    "# # today = datetime.datetime.today()\n",
    "# latest_date = int(time.mktime(today.timetuple()) * 1000) # converting todays datetime to unix\n",
    "# feature_view.get_feature_vector({\"unix\": latest_date})"
   ]
  },
  {
   "cell_type": "markdown",
   "id": "c21d4b0e",
   "metadata": {},
   "source": [
    "---\n",
    "\n",
    "## <span style=\"color:#ff5f27;\"> 🏋️ Training Dataset Creation</span>\n",
    "\n",
    "In Hopsworks training data is a query where the projection (set of features) is determined by the parent FeatureView with an optional snapshot on disk of the data returned by the query.\n",
    "\n",
    "**Training Dataset  may contain splits such as:** \n",
    "* Training set - the subset of training data used to train a model.\n",
    "* Validation set - the subset of training data used to evaluate hparams when training a model\n",
    "* Test set - the holdout subset of training data used to evaluate a mode\n",
    "\n",
    "To create training dataset you will use the `FeatureView.train_test_split()` method.\n",
    "\n",
    "Here are some importand things:\n",
    "\n",
    "- It will inherit the name of FeatureView.\n",
    "\n",
    "- The feature store currently supports the following data formats for\n",
    "training datasets: **tfrecord, csv, tsv, parquet, avro, orc**.\n",
    "\n",
    "- You can choose necessary format using **data_format** parameter.\n",
    "\n",
    "- **start_time** and **end_time** in order to filter dataset in specific time range.\n",
    "\n",
    "- You can create **train, test** splits using `create_train_test_split()`. \n",
    "\n",
    "- You can create **train,validation, test** splits using `train_validation_test_splits()` methods.\n",
    "\n",
    "- The only thing is that we should specify desired ratio of splits."
   ]
  },
  {
   "cell_type": "code",
   "execution_count": 23,
   "id": "c36fb1ee",
   "metadata": {},
   "outputs": [
    {
     "name": "stdout",
     "output_type": "stream",
     "text": [
      "Finished: Reading data from Hopsworks, using ArrowFlight (1.39s) \n"
     ]
    },
    {
     "name": "stderr",
     "output_type": "stream",
     "text": [
      "VersionWarning: Incremented version to `1`.\n"
     ]
    }
   ],
   "source": [
    "# You can combine different datetime formats.\n",
    "X_train, X_test, y_train, y_test = feature_view.train_test_split(\n",
    "    train_start=int(final_df.unix.min()),\n",
    "    train_end=int(np.percentile(final_df.unix, 80)), # get the date that represents 80th percentile\n",
    "    test_start=int(np.percentile(final_df.unix, 81)), # get the date that represents 81th percentile\n",
    "    test_end=int(final_df.unix.max()),\n",
    "    )"
   ]
  },
  {
   "cell_type": "code",
   "execution_count": 24,
   "id": "38fff5e1",
   "metadata": {},
   "outputs": [
    {
     "data": {
      "text/html": [
       "<div>\n",
       "<style scoped>\n",
       "    .dataframe tbody tr th:only-of-type {\n",
       "        vertical-align: middle;\n",
       "    }\n",
       "\n",
       "    .dataframe tbody tr th {\n",
       "        vertical-align: top;\n",
       "    }\n",
       "\n",
       "    .dataframe thead th {\n",
       "        text-align: right;\n",
       "    }\n",
       "</style>\n",
       "<table border=\"1\" class=\"dataframe\">\n",
       "  <thead>\n",
       "    <tr style=\"text-align: right;\">\n",
       "      <th></th>\n",
       "      <th>open</th>\n",
       "      <th>high</th>\n",
       "      <th>low</th>\n",
       "      <th>close</th>\n",
       "      <th>volume</th>\n",
       "      <th>quote_av</th>\n",
       "      <th>trades</th>\n",
       "      <th>tb_base_av</th>\n",
       "      <th>tb_quote_av</th>\n",
       "      <th>unix</th>\n",
       "      <th>...</th>\n",
       "      <th>strength_index_14_days</th>\n",
       "      <th>std_56_days</th>\n",
       "      <th>exp_mean_56_days</th>\n",
       "      <th>exp_std_56_days</th>\n",
       "      <th>momentum_56_days</th>\n",
       "      <th>rate_of_change_56_days</th>\n",
       "      <th>strength_index_56_days</th>\n",
       "      <th>subjectivity</th>\n",
       "      <th>polarity</th>\n",
       "      <th>compound</th>\n",
       "    </tr>\n",
       "  </thead>\n",
       "  <tbody>\n",
       "    <tr>\n",
       "      <th>0</th>\n",
       "      <td>0.567264</td>\n",
       "      <td>0.635380</td>\n",
       "      <td>0.580820</td>\n",
       "      <td>0.653320</td>\n",
       "      <td>0.101252</td>\n",
       "      <td>0.220671</td>\n",
       "      <td>0.123141</td>\n",
       "      <td>0.103712</td>\n",
       "      <td>0.220575</td>\n",
       "      <td>1614556800000</td>\n",
       "      <td>...</td>\n",
       "      <td>0.668601</td>\n",
       "      <td>0.000000</td>\n",
       "      <td>0.761636</td>\n",
       "      <td>0.481708</td>\n",
       "      <td>0.572084</td>\n",
       "      <td>0.460142</td>\n",
       "      <td>0.000000</td>\n",
       "      <td>0.000000</td>\n",
       "      <td>0.000000</td>\n",
       "      <td>0.000000</td>\n",
       "    </tr>\n",
       "    <tr>\n",
       "      <th>1</th>\n",
       "      <td>0.877524</td>\n",
       "      <td>0.861911</td>\n",
       "      <td>0.857022</td>\n",
       "      <td>0.834620</td>\n",
       "      <td>0.058039</td>\n",
       "      <td>0.169455</td>\n",
       "      <td>0.101854</td>\n",
       "      <td>0.057052</td>\n",
       "      <td>0.162561</td>\n",
       "      <td>1615680000000</td>\n",
       "      <td>...</td>\n",
       "      <td>0.754156</td>\n",
       "      <td>0.000000</td>\n",
       "      <td>0.826674</td>\n",
       "      <td>0.550867</td>\n",
       "      <td>0.572084</td>\n",
       "      <td>0.460142</td>\n",
       "      <td>0.000000</td>\n",
       "      <td>0.000000</td>\n",
       "      <td>0.000000</td>\n",
       "      <td>0.000000</td>\n",
       "    </tr>\n",
       "    <tr>\n",
       "      <th>2</th>\n",
       "      <td>0.797585</td>\n",
       "      <td>0.800567</td>\n",
       "      <td>0.806205</td>\n",
       "      <td>0.819811</td>\n",
       "      <td>0.043024</td>\n",
       "      <td>0.123173</td>\n",
       "      <td>0.079681</td>\n",
       "      <td>0.044327</td>\n",
       "      <td>0.122971</td>\n",
       "      <td>1617494400000</td>\n",
       "      <td>...</td>\n",
       "      <td>0.646368</td>\n",
       "      <td>0.490669</td>\n",
       "      <td>0.906705</td>\n",
       "      <td>0.482446</td>\n",
       "      <td>0.939772</td>\n",
       "      <td>0.686202</td>\n",
       "      <td>0.970821</td>\n",
       "      <td>0.000000</td>\n",
       "      <td>0.000000</td>\n",
       "      <td>0.000000</td>\n",
       "    </tr>\n",
       "    <tr>\n",
       "      <th>3</th>\n",
       "      <td>0.785469</td>\n",
       "      <td>0.767636</td>\n",
       "      <td>0.750004</td>\n",
       "      <td>0.734500</td>\n",
       "      <td>0.077173</td>\n",
       "      <td>0.200154</td>\n",
       "      <td>0.122318</td>\n",
       "      <td>0.075573</td>\n",
       "      <td>0.191425</td>\n",
       "      <td>1618963200000</td>\n",
       "      <td>...</td>\n",
       "      <td>0.438681</td>\n",
       "      <td>0.478863</td>\n",
       "      <td>0.957179</td>\n",
       "      <td>0.464007</td>\n",
       "      <td>0.649983</td>\n",
       "      <td>0.586564</td>\n",
       "      <td>0.887015</td>\n",
       "      <td>0.055470</td>\n",
       "      <td>0.041052</td>\n",
       "      <td>0.027883</td>\n",
       "    </tr>\n",
       "    <tr>\n",
       "      <th>4</th>\n",
       "      <td>0.662226</td>\n",
       "      <td>0.650145</td>\n",
       "      <td>0.619827</td>\n",
       "      <td>0.643266</td>\n",
       "      <td>0.065561</td>\n",
       "      <td>0.151522</td>\n",
       "      <td>0.078096</td>\n",
       "      <td>0.063642</td>\n",
       "      <td>0.143844</td>\n",
       "      <td>1619308800000</td>\n",
       "      <td>...</td>\n",
       "      <td>0.342660</td>\n",
       "      <td>0.420709</td>\n",
       "      <td>0.935957</td>\n",
       "      <td>0.488468</td>\n",
       "      <td>0.646566</td>\n",
       "      <td>0.450843</td>\n",
       "      <td>0.839754</td>\n",
       "      <td>0.000000</td>\n",
       "      <td>0.000000</td>\n",
       "      <td>0.000000</td>\n",
       "    </tr>\n",
       "    <tr>\n",
       "      <th>...</th>\n",
       "      <td>...</td>\n",
       "      <td>...</td>\n",
       "      <td>...</td>\n",
       "      <td>...</td>\n",
       "      <td>...</td>\n",
       "      <td>...</td>\n",
       "      <td>...</td>\n",
       "      <td>...</td>\n",
       "      <td>...</td>\n",
       "      <td>...</td>\n",
       "      <td>...</td>\n",
       "      <td>...</td>\n",
       "      <td>...</td>\n",
       "      <td>...</td>\n",
       "      <td>...</td>\n",
       "      <td>...</td>\n",
       "      <td>...</td>\n",
       "      <td>...</td>\n",
       "      <td>...</td>\n",
       "      <td>...</td>\n",
       "      <td>...</td>\n",
       "    </tr>\n",
       "    <tr>\n",
       "      <th>1151</th>\n",
       "      <td>0.204054</td>\n",
       "      <td>0.204102</td>\n",
       "      <td>0.212441</td>\n",
       "      <td>0.213801</td>\n",
       "      <td>0.035786</td>\n",
       "      <td>0.040290</td>\n",
       "      <td>0.028290</td>\n",
       "      <td>0.036188</td>\n",
       "      <td>0.039965</td>\n",
       "      <td>1687132800000</td>\n",
       "      <td>...</td>\n",
       "      <td>0.589414</td>\n",
       "      <td>0.112889</td>\n",
       "      <td>0.234195</td>\n",
       "      <td>0.149034</td>\n",
       "      <td>0.559454</td>\n",
       "      <td>0.414526</td>\n",
       "      <td>0.819268</td>\n",
       "      <td>0.000041</td>\n",
       "      <td>0.000100</td>\n",
       "      <td>0.000053</td>\n",
       "    </tr>\n",
       "    <tr>\n",
       "      <th>1152</th>\n",
       "      <td>0.272766</td>\n",
       "      <td>0.268274</td>\n",
       "      <td>0.280316</td>\n",
       "      <td>0.281448</td>\n",
       "      <td>0.033388</td>\n",
       "      <td>0.044548</td>\n",
       "      <td>0.040375</td>\n",
       "      <td>0.028856</td>\n",
       "      <td>0.037715</td>\n",
       "      <td>1688688000000</td>\n",
       "      <td>...</td>\n",
       "      <td>0.660053</td>\n",
       "      <td>0.190272</td>\n",
       "      <td>0.274639</td>\n",
       "      <td>0.218231</td>\n",
       "      <td>0.639339</td>\n",
       "      <td>0.578307</td>\n",
       "      <td>0.898266</td>\n",
       "      <td>0.000041</td>\n",
       "      <td>0.000100</td>\n",
       "      <td>0.000053</td>\n",
       "    </tr>\n",
       "    <tr>\n",
       "      <th>1153</th>\n",
       "      <td>0.280287</td>\n",
       "      <td>0.268208</td>\n",
       "      <td>0.287412</td>\n",
       "      <td>0.277893</td>\n",
       "      <td>0.008536</td>\n",
       "      <td>0.011901</td>\n",
       "      <td>0.010884</td>\n",
       "      <td>0.007651</td>\n",
       "      <td>0.010446</td>\n",
       "      <td>1688860800000</td>\n",
       "      <td>...</td>\n",
       "      <td>0.636932</td>\n",
       "      <td>0.194566</td>\n",
       "      <td>0.277497</td>\n",
       "      <td>0.215501</td>\n",
       "      <td>0.633530</td>\n",
       "      <td>0.557996</td>\n",
       "      <td>0.891353</td>\n",
       "      <td>0.000041</td>\n",
       "      <td>0.000100</td>\n",
       "      <td>0.000053</td>\n",
       "    </tr>\n",
       "    <tr>\n",
       "      <th>1154</th>\n",
       "      <td>0.259766</td>\n",
       "      <td>0.251062</td>\n",
       "      <td>0.268928</td>\n",
       "      <td>0.261532</td>\n",
       "      <td>0.019983</td>\n",
       "      <td>0.025672</td>\n",
       "      <td>0.015579</td>\n",
       "      <td>0.019537</td>\n",
       "      <td>0.024548</td>\n",
       "      <td>1690502400000</td>\n",
       "      <td>...</td>\n",
       "      <td>0.497118</td>\n",
       "      <td>0.198227</td>\n",
       "      <td>0.292420</td>\n",
       "      <td>0.171996</td>\n",
       "      <td>0.611333</td>\n",
       "      <td>0.533653</td>\n",
       "      <td>0.842671</td>\n",
       "      <td>0.000041</td>\n",
       "      <td>0.000100</td>\n",
       "      <td>0.000053</td>\n",
       "    </tr>\n",
       "    <tr>\n",
       "      <th>1155</th>\n",
       "      <td>0.257664</td>\n",
       "      <td>0.243660</td>\n",
       "      <td>0.266081</td>\n",
       "      <td>0.256855</td>\n",
       "      <td>0.003557</td>\n",
       "      <td>0.004501</td>\n",
       "      <td>0.001413</td>\n",
       "      <td>0.003534</td>\n",
       "      <td>0.004348</td>\n",
       "      <td>1691193600000</td>\n",
       "      <td>...</td>\n",
       "      <td>0.475771</td>\n",
       "      <td>0.166571</td>\n",
       "      <td>0.292499</td>\n",
       "      <td>0.149421</td>\n",
       "      <td>0.633300</td>\n",
       "      <td>0.567723</td>\n",
       "      <td>0.830313</td>\n",
       "      <td>0.000041</td>\n",
       "      <td>0.000100</td>\n",
       "      <td>0.000053</td>\n",
       "    </tr>\n",
       "  </tbody>\n",
       "</table>\n",
       "<p>936 rows × 34 columns</p>\n",
       "</div>"
      ],
      "text/plain": [
       "          open      high       low     close    volume  quote_av    trades  \\\n",
       "0     0.567264  0.635380  0.580820  0.653320  0.101252  0.220671  0.123141   \n",
       "1     0.877524  0.861911  0.857022  0.834620  0.058039  0.169455  0.101854   \n",
       "2     0.797585  0.800567  0.806205  0.819811  0.043024  0.123173  0.079681   \n",
       "3     0.785469  0.767636  0.750004  0.734500  0.077173  0.200154  0.122318   \n",
       "4     0.662226  0.650145  0.619827  0.643266  0.065561  0.151522  0.078096   \n",
       "...        ...       ...       ...       ...       ...       ...       ...   \n",
       "1151  0.204054  0.204102  0.212441  0.213801  0.035786  0.040290  0.028290   \n",
       "1152  0.272766  0.268274  0.280316  0.281448  0.033388  0.044548  0.040375   \n",
       "1153  0.280287  0.268208  0.287412  0.277893  0.008536  0.011901  0.010884   \n",
       "1154  0.259766  0.251062  0.268928  0.261532  0.019983  0.025672  0.015579   \n",
       "1155  0.257664  0.243660  0.266081  0.256855  0.003557  0.004501  0.001413   \n",
       "\n",
       "      tb_base_av  tb_quote_av           unix  ...  strength_index_14_days  \\\n",
       "0       0.103712     0.220575  1614556800000  ...                0.668601   \n",
       "1       0.057052     0.162561  1615680000000  ...                0.754156   \n",
       "2       0.044327     0.122971  1617494400000  ...                0.646368   \n",
       "3       0.075573     0.191425  1618963200000  ...                0.438681   \n",
       "4       0.063642     0.143844  1619308800000  ...                0.342660   \n",
       "...          ...          ...            ...  ...                     ...   \n",
       "1151    0.036188     0.039965  1687132800000  ...                0.589414   \n",
       "1152    0.028856     0.037715  1688688000000  ...                0.660053   \n",
       "1153    0.007651     0.010446  1688860800000  ...                0.636932   \n",
       "1154    0.019537     0.024548  1690502400000  ...                0.497118   \n",
       "1155    0.003534     0.004348  1691193600000  ...                0.475771   \n",
       "\n",
       "      std_56_days  exp_mean_56_days  exp_std_56_days  momentum_56_days  \\\n",
       "0        0.000000          0.761636         0.481708          0.572084   \n",
       "1        0.000000          0.826674         0.550867          0.572084   \n",
       "2        0.490669          0.906705         0.482446          0.939772   \n",
       "3        0.478863          0.957179         0.464007          0.649983   \n",
       "4        0.420709          0.935957         0.488468          0.646566   \n",
       "...           ...               ...              ...               ...   \n",
       "1151     0.112889          0.234195         0.149034          0.559454   \n",
       "1152     0.190272          0.274639         0.218231          0.639339   \n",
       "1153     0.194566          0.277497         0.215501          0.633530   \n",
       "1154     0.198227          0.292420         0.171996          0.611333   \n",
       "1155     0.166571          0.292499         0.149421          0.633300   \n",
       "\n",
       "      rate_of_change_56_days  strength_index_56_days  subjectivity  polarity  \\\n",
       "0                   0.460142                0.000000      0.000000  0.000000   \n",
       "1                   0.460142                0.000000      0.000000  0.000000   \n",
       "2                   0.686202                0.970821      0.000000  0.000000   \n",
       "3                   0.586564                0.887015      0.055470  0.041052   \n",
       "4                   0.450843                0.839754      0.000000  0.000000   \n",
       "...                      ...                     ...           ...       ...   \n",
       "1151                0.414526                0.819268      0.000041  0.000100   \n",
       "1152                0.578307                0.898266      0.000041  0.000100   \n",
       "1153                0.557996                0.891353      0.000041  0.000100   \n",
       "1154                0.533653                0.842671      0.000041  0.000100   \n",
       "1155                0.567723                0.830313      0.000041  0.000100   \n",
       "\n",
       "      compound  \n",
       "0     0.000000  \n",
       "1     0.000000  \n",
       "2     0.000000  \n",
       "3     0.027883  \n",
       "4     0.000000  \n",
       "...        ...  \n",
       "1151  0.000053  \n",
       "1152  0.000053  \n",
       "1153  0.000053  \n",
       "1154  0.000053  \n",
       "1155  0.000053  \n",
       "\n",
       "[936 rows x 34 columns]"
      ]
     },
     "execution_count": 24,
     "metadata": {},
     "output_type": "execute_result"
    }
   ],
   "source": [
    "X_train"
   ]
  },
  {
   "cell_type": "code",
   "execution_count": 25,
   "id": "16974204",
   "metadata": {},
   "outputs": [
    {
     "data": {
      "text/plain": [
       "((936, 34), (222, 34))"
      ]
     },
     "execution_count": 25,
     "metadata": {},
     "output_type": "execute_result"
    }
   ],
   "source": [
    "X_train.shape, X_test.shape"
   ]
  },
  {
   "cell_type": "code",
   "execution_count": 26,
   "id": "05772d21",
   "metadata": {},
   "outputs": [],
   "source": [
    "# lets remove redundant column \"unix\"\n",
    "X_train.drop(columns=[\"unix\"], inplace=True)\n",
    "X_test.drop(columns=[\"unix\"], inplace=True)"
   ]
  },
  {
   "cell_type": "code",
   "execution_count": 27,
   "id": "5a30b29f",
   "metadata": {},
   "outputs": [],
   "source": [
    "y_train = X_train[[\"close\"]]\n",
    "y_test = X_test[[\"close\"]]"
   ]
  },
  {
   "cell_type": "markdown",
   "id": "b384083d",
   "metadata": {},
   "source": [
    "---\n",
    "\n",
    "## <span style=\"color:#ff5f27;\">🤖 Time series model</span>"
   ]
  },
  {
   "cell_type": "code",
   "execution_count": 28,
   "id": "28adb3f5",
   "metadata": {},
   "outputs": [],
   "source": [
    "# Now lets define Tensorflow Dataset as we are going to train keras tensorflow model\n",
    "\n",
    "def windowed_dataset(dataset, target, window_size, batch_size):\n",
    "    ds = dataset.window(window_size, shift=1, drop_remainder=True)\n",
    "    ds = ds.flat_map(lambda x: x.batch(window_size))\n",
    "    ds = ds.map(lambda window: tf.reshape(window[-1:], [-1, 33]))\n",
    "        \n",
    "    target_ds = target.window(window_size, shift=1, drop_remainder=True)\n",
    "    target_ds = target_ds.flat_map(lambda window: window.batch(window_size))\n",
    "    target_ds = target_ds.map(lambda window: window[-1:])\n",
    "    \n",
    "    ds = tf.data.Dataset.zip((ds, target_ds))\n",
    "    ds = ds.batch(batch_size,True)\n",
    "    ds = ds.prefetch(1)\n",
    "    return ds"
   ]
  },
  {
   "cell_type": "code",
   "execution_count": 29,
   "id": "55a68fa5",
   "metadata": {},
   "outputs": [
    {
     "name": "stdout",
     "output_type": "stream",
     "text": [
      "2024-04-20 15:40:14,157 WARNING: From /srv/hops/anaconda/envs/theenv/lib/python3.10/site-packages/tensorflow/python/autograph/pyct/static_analysis/liveness.py:83: Analyzer.lamba_check (from tensorflow.python.autograph.pyct.static_analysis.liveness) is deprecated and will be removed after 2023-09-23.\n",
      "Instructions for updating:\n",
      "Lambda fuctions will be no more assumed to be used in the statement where they are used, or at least in the same block. https://github.com/tensorflow/tensorflow/issues/56089\n"
     ]
    },
    {
     "data": {
      "text/plain": [
       "<PrefetchDataset element_spec=(TensorSpec(shape=(16, None, 33), dtype=tf.float32, name=None), TensorSpec(shape=(16, None), dtype=tf.float32, name=None))>"
      ]
     },
     "execution_count": 29,
     "metadata": {},
     "output_type": "execute_result"
    }
   ],
   "source": [
    "training_dataset = tf.data.Dataset.from_tensor_slices(tf.cast(X_train.values, tf.float32)) \n",
    "training_target = tf.data.Dataset.from_tensor_slices(y_train.values.flatten().tolist()) \n",
    "training_dataset = training_dataset.repeat(500)\n",
    "training_dataset = windowed_dataset(training_dataset, training_target, window_size=2, batch_size=16)\n",
    "training_dataset"
   ]
  },
  {
   "cell_type": "code",
   "execution_count": 30,
   "id": "e61eab44",
   "metadata": {},
   "outputs": [
    {
     "data": {
      "text/plain": [
       "<PrefetchDataset element_spec=(TensorSpec(shape=(16, None, 33), dtype=tf.float32, name=None), TensorSpec(shape=(16, None), dtype=tf.float32, name=None))>"
      ]
     },
     "execution_count": 30,
     "metadata": {},
     "output_type": "execute_result"
    }
   ],
   "source": [
    "test_dataset = tf.data.Dataset.from_tensor_slices(tf.cast(X_test.values, tf.float32))\n",
    "validation_target = tf.data.Dataset.from_tensor_slices(y_test.values.flatten().tolist()) \n",
    "training_dataset = training_dataset.repeat(500)\n",
    "test_dataset = windowed_dataset(test_dataset, validation_target, window_size=2, batch_size=16)\n",
    "test_dataset"
   ]
  },
  {
   "cell_type": "code",
   "execution_count": 31,
   "id": "47d6171b",
   "metadata": {},
   "outputs": [],
   "source": [
    "def build_model(input_dim):\n",
    "    inputs = tf.keras.layers.Input(shape=(input_dim[0],input_dim[1]))\n",
    "    x = tf.keras.layers.Conv1D(filters = 128, kernel_size=1, padding='same', kernel_initializer=\"uniform\")(inputs)\n",
    "    x = tf.keras.layers.BatchNormalization()(x)\n",
    "    x = tf.keras.layers.LeakyReLU(alpha=0.2)(x)    \n",
    "    x = tf.keras.layers.MaxPooling1D(pool_size=2, padding='same')(x)\n",
    "    x = tf.keras.layers.Conv1D(filters = input_dim[1], kernel_size= 1,padding='same',  kernel_initializer=\"uniform\")(x)\n",
    "    x = tf.keras.layers.BatchNormalization()(x)\n",
    "    x = tf.keras.layers.LeakyReLU(alpha=0.2)(x)    \n",
    "    x = tf.keras.layers.MaxPooling1D(pool_size=2, padding='same')(x)    \n",
    "\n",
    "    x = tf.keras.layers.Flatten()(x)\n",
    "    x = tf.keras.layers.Dense(33, activation=\"relu\", kernel_initializer=\"uniform\")(x)\n",
    "    x = tf.keras.layers.Dropout(0.2)(x)\n",
    "    x = tf.keras.layers.Dense(1, activation=\"relu\", kernel_initializer=\"uniform\")(x)\n",
    "    \n",
    "    model = tf.keras.Model(inputs, x)\n",
    "    model.summary()\n",
    "    model.compile(loss='mse',optimizer='adam',metrics=['mae'])\n",
    "    return model"
   ]
  },
  {
   "cell_type": "code",
   "execution_count": 32,
   "id": "ea3ec4d5",
   "metadata": {},
   "outputs": [
    {
     "name": "stdout",
     "output_type": "stream",
     "text": [
      "Model: \"model\"\n",
      "_________________________________________________________________\n",
      " Layer (type)                Output Shape              Param #   \n",
      "=================================================================\n",
      " input_1 (InputLayer)        [(None, 1, 33)]           0         \n",
      "                                                                 \n",
      " conv1d (Conv1D)             (None, 1, 128)            4352      \n",
      "                                                                 \n",
      " batch_normalization (BatchN  (None, 1, 128)           512       \n",
      " ormalization)                                                   \n",
      "                                                                 \n",
      " leaky_re_lu (LeakyReLU)     (None, 1, 128)            0         \n",
      "                                                                 \n",
      " max_pooling1d (MaxPooling1D  (None, 1, 128)           0         \n",
      " )                                                               \n",
      "                                                                 \n",
      " conv1d_1 (Conv1D)           (None, 1, 33)             4257      \n",
      "                                                                 \n",
      " batch_normalization_1 (Batc  (None, 1, 33)            132       \n",
      " hNormalization)                                                 \n",
      "                                                                 \n",
      " leaky_re_lu_1 (LeakyReLU)   (None, 1, 33)             0         \n",
      "                                                                 \n",
      " max_pooling1d_1 (MaxPooling  (None, 1, 33)            0         \n",
      " 1D)                                                             \n",
      "                                                                 \n",
      " flatten (Flatten)           (None, 33)                0         \n",
      "                                                                 \n",
      " dense (Dense)               (None, 33)                1122      \n",
      "                                                                 \n",
      " dropout (Dropout)           (None, 33)                0         \n",
      "                                                                 \n",
      " dense_1 (Dense)             (None, 1)                 34        \n",
      "                                                                 \n",
      "=================================================================\n",
      "Total params: 10,409\n",
      "Trainable params: 10,087\n",
      "Non-trainable params: 322\n",
      "_________________________________________________________________\n"
     ]
    }
   ],
   "source": [
    "model = build_model([1, X_train.shape[1]])"
   ]
  },
  {
   "cell_type": "code",
   "execution_count": 33,
   "id": "eb285c64",
   "metadata": {},
   "outputs": [
    {
     "name": "stdout",
     "output_type": "stream",
     "text": [
      "19.146690313937142\n"
     ]
    }
   ],
   "source": [
    "from timeit import default_timer as timer\n",
    "start = timer()\n",
    "history = model.fit(\n",
    "    training_dataset,\n",
    "    epochs=10,\n",
    "    verbose=0,\n",
    "    steps_per_epoch=500,\n",
    "    validation_data=test_dataset,\n",
    "    validation_steps=1,                    \n",
    ")\n",
    "end = timer()\n",
    "print(end - start)"
   ]
  },
  {
   "cell_type": "code",
   "execution_count": 34,
   "id": "29f3e941",
   "metadata": {},
   "outputs": [
    {
     "data": {
      "text/plain": [
       "dict_keys(['loss', 'mae', 'val_loss', 'val_mae'])"
      ]
     },
     "execution_count": 34,
     "metadata": {},
     "output_type": "execute_result"
    }
   ],
   "source": [
    "history_dict = history.history\n",
    "history_dict.keys()"
   ]
  },
  {
   "cell_type": "markdown",
   "id": "4d97c4e4",
   "metadata": {},
   "source": [
    "### <span style='color:#ff5f27'>⚖️ Model Validation</span>"
   ]
  },
  {
   "cell_type": "code",
   "execution_count": 35,
   "id": "431ea12b",
   "metadata": {},
   "outputs": [
    {
     "data": {
      "image/png": "[encoded data removed]",
      "text/plain": [
       "<Figure size 1500x700 with 1 Axes>"
      ]
     },
     "metadata": {
      "image/png": {
       "height": 633,
       "width": 1242
      }
     },
     "output_type": "display_data"
    }
   ],
   "source": [
    "loss_values = history_dict['mae']\n",
    "val_loss_values = history_dict['val_mae']\n",
    "\n",
    "loss_values50 = loss_values\n",
    "val_loss_values50 = val_loss_values\n",
    "epochs = range(1, len(loss_values50) + 1)\n",
    "plt.plot(epochs, loss_values50, 'b',color = 'blue', label='Training loss')\n",
    "plt.plot(epochs, val_loss_values50, 'b',color='red', label='Validation loss')\n",
    "plt.rc('font', size = 18)\n",
    "plt.title('Training and validation loss')\n",
    "plt.xlabel('Epochs')\n",
    "plt.ylabel('Loss')\n",
    "plt.legend()\n",
    "plt.xticks(epochs)\n",
    "fig_loss = plt.gcf()\n",
    "fig_loss.set_size_inches(15,7)\n",
    "plt.show()"
   ]
  },
  {
   "cell_type": "code",
   "execution_count": 36,
   "id": "5262af84",
   "metadata": {},
   "outputs": [
    {
     "name": "stdout",
     "output_type": "stream",
     "text": [
      "7/7 [==============================] - 0s 678us/step\n"
     ]
    },
    {
     "data": {
      "text/plain": [
       "array([[0.1564294 ],\n",
       "       [0.17384453],\n",
       "       [0.14654914],\n",
       "       [0.14341141],\n",
       "       [0.20453109]], dtype=float32)"
      ]
     },
     "execution_count": 36,
     "metadata": {},
     "output_type": "execute_result"
    }
   ],
   "source": [
    "y_pred_scaled = model.predict(X_test.values.reshape(-1, 1, X_test.shape[1]))\n",
    "y_pred_scaled[:5]"
   ]
  },
  {
   "cell_type": "code",
   "execution_count": 37,
   "id": "babbc4cc",
   "metadata": {},
   "outputs": [
    {
     "name": "stdout",
     "output_type": "stream",
     "text": [
      "2024-04-20 15:40:36,473 INFO: Default Online Store Client is set to sql.\n",
      "2024-04-20 15:40:39,066 INFO: Initialising Vector Server Online SQL client\n",
      "2024-04-20 15:40:41,356 INFO: Default Online Store Client is set to sql.\n",
      "2024-04-20 15:40:43,953 INFO: Initialising Vector Server Online SQL client\n"
     ]
    }
   ],
   "source": [
    "import inspect \n",
    "# Recall that you applied transformation functions, such as min max scaler and laber encoder. \n",
    "# Now you want to transform them back to human readable format.\n",
    "feature_view.init_serving(1)\n",
    "# td_transformation_functions = feature_view._single_vector_server._transformation_functions\n",
    "td_transformation_functions = feature_view._single_vector_server._transformation_functions\n",
    "\n",
    "y_pred = pd.DataFrame(y_pred_scaled, columns=[\"close\"])\n",
    "\n",
    "for feature_name in td_transformation_functions:\n",
    "    if feature_name == \"close\":\n",
    "        td_transformation_function = td_transformation_functions[feature_name]\n",
    "        sig, foobar_locals = inspect.signature(td_transformation_function.transformation_fn), locals()\n",
    "        param_dict = dict([(param.name, param.default) for param in sig.parameters.values() if param.default != inspect._empty])\n",
    "        if td_transformation_function.name == \"min_max_scaler\":\n",
    "            y_pred[feature_name] = y_pred[feature_name].map(lambda x: x*(param_dict[\"max_value\"]-param_dict[\"min_value\"])+param_dict[\"min_value\"])\n",
    "            y_test[feature_name] = y_test[feature_name].map(lambda x: x*(param_dict[\"max_value\"]-param_dict[\"min_value\"])+param_dict[\"min_value\"])"
   ]
  },
  {
   "cell_type": "code",
   "execution_count": 82,
   "id": "b67acea0",
   "metadata": {},
   "outputs": [
    {
     "name": "stdout",
     "output_type": "stream",
     "text": [
      "MAE: 4007.2110612219444\n"
     ]
    }
   ],
   "source": [
    "from sklearn.metrics import mean_absolute_error\n",
    "\n",
    "print(\"MAE:\", mean_absolute_error(y_test, y_pred))"
   ]
  },
  {
   "cell_type": "code",
   "execution_count": 81,
   "id": "91f51d92",
   "metadata": {},
   "outputs": [
    {
     "data": {
      "image/png": "[encoded data removed]",
      "text/plain": [
       "<Figure size 640x480 with 1 Axes>"
      ]
     },
     "metadata": {
      "image/png": {
       "height": 563,
       "width": 780
      }
     },
     "output_type": "display_data"
    }
   ],
   "source": [
    "colors = ['darkslategrey']\n",
    "\n",
    "fig = plt.figure()\n",
    "ax = fig.add_axes([0,0,1,1])\n",
    "\n",
    "ax.plot(y_test.reset_index(drop=True), 'black')\n",
    "ax.plot(y_pred.reset_index(drop=True), 'orange')\n",
    "ax.set_ylabel('$price$')\n",
    "ax.set_xlabel('$time$')\n",
    "ax.grid(True)\n",
    "ax.legend([\"actual\", \"pred\"])\n",
    "\n",
    "plt.grid(True)\n",
    "plt.show()"
   ]
  },
  {
   "cell_type": "markdown",
   "id": "a78bc2d0",
   "metadata": {
    "tags": []
   },
   "source": [
    "---\n",
    "## <span style='color:#ff5f27'>🗄 Model Registry</span>"
   ]
  },
  {
   "cell_type": "code",
   "execution_count": 40,
   "id": "ae7e1fad",
   "metadata": {},
   "outputs": [
    {
     "name": "stdout",
     "output_type": "stream",
     "text": [
      "Exporting trained model to: bitcoin_price_model\n",
      "2024-04-20 15:40:48,490 WARNING: Found untraced functions such as _jit_compiled_convolution_op, _jit_compiled_convolution_op, _update_step_xla while saving (showing 3 of 3). These functions will not be directly callable after loading.\n",
      "2024-04-20 15:40:51,140 INFO: Assets written to: bitcoin_price_model/assets\n"
     ]
    }
   ],
   "source": [
    "# The 'bitcoin_price_model' directory will be saved to the model registry\n",
    "model_dir = \"bitcoin_price_model\"\n",
    "if not os.path.isdir(model_dir):\n",
    "    os.mkdir(model_dir)\n",
    "\n",
    "img_model_dir = model_dir + \"/images\"\n",
    "if not os.path.isdir(img_model_dir):\n",
    "    os.mkdir(img_model_dir)\n",
    "\n",
    "fig.savefig(img_model_dir + \"/chart.png\") \n",
    "fig_loss.savefig(img_model_dir + \"/loss.png\")\n",
    "\n",
    "print('Exporting trained model to: {}'.format(model_dir))\n",
    "    \n",
    "tf.saved_model.save(model, model_dir)"
   ]
  },
  {
   "cell_type": "code",
   "execution_count": 41,
   "id": "c0eefa10",
   "metadata": {},
   "outputs": [
    {
     "name": "stdout",
     "output_type": "stream",
     "text": [
      "Connected. Call `.close()` to terminate connection gracefully.\n"
     ]
    },
    {
     "data": {
      "application/vnd.jupyter.widget-view+json": {
       "model_id": "a8a9853e4c614d848717903db47a15a9",
       "version_major": 2,
       "version_minor": 0
      },
      "text/plain": [
       "  0%|          | 0/6 [00:00<?, ?it/s]"
      ]
     },
     "metadata": {},
     "output_type": "display_data"
    },
    {
     "name": "stdout",
     "output_type": "stream",
     "text": [
      "Model created, explore it at https://snurran.hops.works/p/11394/models/bitcoin_price_model/1\n"
     ]
    },
    {
     "data": {
      "text/plain": [
       "Model(name: 'bitcoin_price_model', version: 1)"
      ]
     },
     "execution_count": 41,
     "metadata": {},
     "output_type": "execute_result"
    }
   ],
   "source": [
    "mr = project.get_model_registry()\n",
    "\n",
    "metrics={'loss': history_dict['val_mae'][0]} \n",
    "\n",
    "today = datetime.datetime.today()\n",
    "latest_date = int(time.mktime(today.timetuple()) * 1000) # converting todays datetime to unix\n",
    "\n",
    "tf_model = mr.tensorflow.create_model(\n",
    "    name=\"bitcoin_price_model\", \n",
    "    metrics=metrics,\n",
    "    input_example=[latest_date],\n",
    "    description=\"Bitcoin daily price prediction model.\",\n",
    ")\n",
    "\n",
    "tf_model.save(model_dir)"
   ]
  },
  {
   "cell_type": "markdown",
   "id": "9c5467b6",
   "metadata": {},
   "source": [
    "---\n",
    "## <span style=\"color:#ff5f27;\">🚀 Model Deployment</span>"
   ]
  },
  {
   "cell_type": "code",
   "execution_count": 42,
   "id": "51b51c02",
   "metadata": {},
   "outputs": [
    {
     "name": "stdout",
     "output_type": "stream",
     "text": [
      "Overwriting btc_model_transformer.py\n"
     ]
    }
   ],
   "source": [
    "%%writefile btc_model_transformer.py\n",
    "\n",
    "import os\n",
    "import hsfs\n",
    "import numpy as np\n",
    "\n",
    "class Transformer(object):\n",
    "    \n",
    "    def __init__(self):        \n",
    "        # get feature store handle\n",
    "        fs_conn = hsfs.connection()\n",
    "        self.fs = fs_conn.get_feature_store()\n",
    "        \n",
    "        # get feature views\n",
    "        self.fv = self.fs.get_feature_view(\"bitcoin_feature_view\", 1)\n",
    "        \n",
    "        # initialise serving\n",
    "        self.fv.init_serving(1)\n",
    "\n",
    "    def flat2gen(self, alist):\n",
    "        for item in alist:\n",
    "            if isinstance(item, list):\n",
    "                for subitem in item: yield subitem\n",
    "            else:\n",
    "                yield item\n",
    "        \n",
    "    def preprocess(self, inputs):\n",
    "        feature_vector = self.fv.get_feature_vector({\"unix\": inputs[\"instances\"][0][0]})\n",
    "        feature_vector = [*feature_vector[:9], *feature_vector[10:]]\n",
    "        return { \"instances\" :  np.array(list(self.flat2gen(feature_vector))).reshape(-1, 1, len(feature_vector)).tolist() }\n",
    "\n",
    "    def postprocess(self, outputs):\n",
    "        return outputs"
   ]
  },
  {
   "cell_type": "code",
   "execution_count": 43,
   "id": "f741389a",
   "metadata": {},
   "outputs": [
    {
     "data": {
      "application/vnd.jupyter.widget-view+json": {
       "model_id": "cdcba46b14714d589a83c09b1c640ef4",
       "version_major": 2,
       "version_minor": 0
      },
      "text/plain": [
       "Uploading: 0.000%|          | 0/981 elapsed<00:00 remaining<?"
      ]
     },
     "metadata": {},
     "output_type": "display_data"
    }
   ],
   "source": [
    "from hsml.transformer import Transformer\n",
    "\n",
    "dataset_api = project.get_dataset_api()\n",
    "\n",
    "uploaded_file_path = dataset_api.upload(\"btc_model_transformer.py\", \"Resources\", overwrite=True)\n",
    "transformer_script_path = os.path.join(\"/Projects\", project.name, uploaded_file_path)\n",
    "transformer_script = Transformer(script_file=transformer_script_path, resources={\"num_instances\": 1})"
   ]
  },
  {
   "cell_type": "code",
   "execution_count": 44,
   "id": "8bb4df1f",
   "metadata": {},
   "outputs": [],
   "source": [
    "# we can retrieve the model using code like this\n",
    "tf_model = mr.get_model(\"bitcoin_price_model\", version = 1)"
   ]
  },
  {
   "cell_type": "code",
   "execution_count": 45,
   "id": "fdce50d4",
   "metadata": {},
   "outputs": [
    {
     "name": "stdout",
     "output_type": "stream",
     "text": [
      "Deployment created, explore it at https://snurran.hops.works/p/11394/deployments/7204\n",
      "Before making predictions, start the deployment by using `.start()`\n"
     ]
    }
   ],
   "source": [
    "deployment = tf_model.deploy(\n",
    "    name=\"btcpricepredictor\",\n",
    "    description=\"Predict the price of Bitcoin (BTC) at a specific date.\",\n",
    "    transformer=transformer_script,\n",
    "    resources={\"num_instances\": 1},\n",
    ")"
   ]
  },
  {
   "cell_type": "code",
   "execution_count": 46,
   "id": "131a0a62",
   "metadata": {},
   "outputs": [
    {
     "name": "stdout",
     "output_type": "stream",
     "text": [
      "Deployment is warming up...\n"
     ]
    }
   ],
   "source": [
    "print(\"Deployment is warming up...\")\n",
    "time.sleep(40)"
   ]
  },
  {
   "cell_type": "markdown",
   "id": "2fe18068",
   "metadata": {},
   "source": [
    "The deployment has now been registered. Lets retrieve it from Hopsworks for demonstration purpose."
   ]
  },
  {
   "cell_type": "code",
   "execution_count": 4,
   "id": "6dd3f8f3",
   "metadata": {},
   "outputs": [
    {
     "name": "stdout",
     "output_type": "stream",
     "text": [
      "Connected. Call `.close()` to terminate connection gracefully.\n"
     ]
    }
   ],
   "source": [
    "ms = project.get_model_serving()\n",
    "\n",
    "# get deployment object\n",
    "deployment = ms.get_deployment(\"btcmodeldeployment\")\n",
    "# deployment = ms.get_deployment(\"btcpricepredictor\")"
   ]
  },
  {
   "cell_type": "code",
   "execution_count": 48,
   "id": "843cc319",
   "metadata": {},
   "outputs": [
    {
     "name": "stdout",
     "output_type": "stream",
     "text": [
      "Deployment: btcmodeldeployment\n",
      "{\n",
      "    \"artifact_version\": 1,\n",
      "    \"batching_configuration\": {\n",
      "        \"batching_enabled\": false\n",
      "    },\n",
      "    \"created\": \"2024-04-20T17:42:46.000Z\",\n",
      "    \"creator\": \"Javier de la R\\u00faa Mart\\u00ednez\",\n",
      "    \"description\": null,\n",
      "    \"id\": 7204,\n",
      "    \"inference_logging\": \"NONE\",\n",
      "    \"model_framework\": \"TENSORFLOW\",\n",
      "    \"model_name\": \"bitcoin_price_model\",\n",
      "    \"model_path\": \"/Projects/bitcoin_function_calling/Models/bitcoin_price_model\",\n",
      "    \"model_server\": \"TENSORFLOW_SERVING\",\n",
      "    \"model_version\": 1,\n",
      "    \"name\": \"btcmodeldeployment\",\n",
      "    \"predictor\": null,\n",
      "    \"predictor_resources\": {\n",
      "        \"limits\": {\n",
      "            \"cores\": 1.0,\n",
      "            \"gpus\": 0,\n",
      "            \"memory\": 1024\n",
      "        },\n",
      "        \"requests\": {\n",
      "            \"cores\": 0.2,\n",
      "            \"gpus\": 0,\n",
      "            \"memory\": 32\n",
      "        }\n",
      "    },\n",
      "    \"requested_instances\": 1,\n",
      "    \"requested_transformer_instances\": 1,\n",
      "    \"serving_tool\": \"KSERVE\",\n",
      "    \"transformer\": \"btc_model_transformer.py\",\n",
      "    \"transformer_resources\": {\n",
      "        \"limits\": {\n",
      "            \"cores\": 1.0,\n",
      "            \"gpus\": 0,\n",
      "            \"memory\": 1024\n",
      "        },\n",
      "        \"requests\": {\n",
      "            \"cores\": 0.2,\n",
      "            \"gpus\": 0,\n",
      "            \"memory\": 32\n",
      "        }\n",
      "    }\n",
      "}\n"
     ]
    }
   ],
   "source": [
    "print(\"Deployment: \" + deployment.name)\n",
    "deployment.describe()"
   ]
  },
  {
   "cell_type": "markdown",
   "id": "86d4a386",
   "metadata": {},
   "source": [
    "To start it you need to run:"
   ]
  },
  {
   "cell_type": "code",
   "execution_count": 49,
   "id": "6b5b8639",
   "metadata": {},
   "outputs": [
    {
     "data": {
      "application/vnd.jupyter.widget-view+json": {
       "model_id": "f53a73a3761a483380d7076b0d642219",
       "version_major": 2,
       "version_minor": 0
      },
      "text/plain": [
       "  0%|          | 0/6 [00:00<?, ?it/s]"
      ]
     },
     "metadata": {},
     "output_type": "display_data"
    },
    {
     "name": "stdout",
     "output_type": "stream",
     "text": [
      "Start making predictions by using `.predict()`\n"
     ]
    }
   ],
   "source": [
    "deployment.start(await_running=120)"
   ]
  },
  {
   "cell_type": "markdown",
   "id": "e58cde90",
   "metadata": {},
   "source": [
    "For trouble shooting one can use get_logs method"
   ]
  },
  {
   "cell_type": "code",
   "execution_count": 50,
   "id": "8d32e35a",
   "metadata": {},
   "outputs": [
    {
     "name": "stdout",
     "output_type": "stream",
     "text": [
      "Explore all the logs and filters in the Kibana logs at https://snurran.hops.works/p/11394/deployments/7204\n",
      "\n",
      "Instance name: btcmodeldeployment-predictor-default-00001-deployment-74b6stwq9\n",
      "2024-04-20 15:43:29.959037: I external/org_tensorflow/tensorflow/cc/saved_model/loader.cc:305] SavedModel load for tags { serve }; Status: success: OK. Took 148396 microseconds.\n",
      "2024-04-20 15:43:29.959976: I tensorflow_serving/servables/tensorflow/saved_model_warmup_util.cc:62] No warmup data file found at /mnt/models/1/assets.extra/tf_serving_warmup_requests\n",
      "2024-04-20 15:43:30.406435: I tensorflow_serving/core/loader_harness.cc:95] Successfully loaded servable version {name: btcmodeldeployment version: 1}\n",
      "2024-04-20 15:43:30.410894: I tensorflow_serving/model_servers/server_core.cc:486] Finished adding/updating models\n",
      "2024-04-20 15:43:30.410935: I tensorflow_serving/model_servers/server.cc:118] Using InsecureServerCredentials\n",
      "2024-04-20 15:43:30.410943: I tensorflow_serving/model_servers/server.cc:383] Profiler service is enabled\n",
      "2024-04-20 15:43:30.412079: I tensorflow_serving/model_servers/server.cc:409] Running gRPC ModelServer at 0.0.0.0:9000 ...\n",
      "[warn] getaddrinfo: address family for nodename not supported\n",
      "2024-04-20 15:43:30.416761: I tensorflow_serving/model_servers/server.cc:430] Exporting HTTP/REST API at:localhost:8080 ...\n",
      "[evhttp_server.cc : 245] NET_LOG: Entering the event loop ...\n",
      "\n",
      "\n"
     ]
    }
   ],
   "source": [
    "deployment.get_logs()"
   ]
  },
  {
   "cell_type": "markdown",
   "id": "a64025fa",
   "metadata": {},
   "source": [
    "---\n",
    "## <span style=\"color:#ff5f27;\">🔮 Predicting</span>\n",
    "\n",
    "Using the deployment let's use the input example that we registered together with the model to query the deployment."
   ]
  },
  {
   "cell_type": "code",
   "execution_count": 7,
   "id": "4800df63",
   "metadata": {},
   "outputs": [
    {
     "data": {
      "text/plain": [
       "{'predictions': [[0.456968099]]}"
      ]
     },
     "execution_count": 7,
     "metadata": {},
     "output_type": "execute_result"
    }
   ],
   "source": [
    "import datetime\n",
    "import time\n",
    "\n",
    "# today = datetime.datetime.today()\n",
    "today = datetime.datetime(2022, 2, 9, 0, 0, tzinfo=datetime.timezone.utc) # any day at 10PM\n",
    "latest_date = int(time.mktime(today.timetuple()) * 1000) # converting todays datetime to unix\n",
    "\n",
    "deployment_output = deployment.predict(inputs=[latest_date])\n",
    "# or deployment.predict({ \"instances\": [[latest_date]] })\n",
    "\n",
    "deployment_output"
   ]
  },
  {
   "cell_type": "code",
   "execution_count": null,
   "id": "775b4264",
   "metadata": {},
   "outputs": [],
   "source": [
    "today = datetime.datetime.today().replace(hour=0, minute=0, second=0, microsecond=0) + datetime.timedelta(days=1)\n",
    "# today = datetime.datetime(2022, 2, 9, 22, 0, tzinfo=datetime.timezone.utc) # any day at 10PM\n",
    "latest_date = int(time.mktime(today.timetuple()) * 1000) # converting todays datetime to unix\n",
    "\n",
    "deployment_output = deployment.predict(inputs=[latest_date])\n",
    "# or deployment.predict({ \"instances\": [[latest_date]] })\n",
    "\n",
    "deployment_output"
   ]
  },
  {
   "cell_type": "code",
   "execution_count": 69,
   "id": "6dd39c0c",
   "metadata": {},
   "outputs": [],
   "source": [
    "from features import tweets\n",
    "\n",
    "pred_encoded = pd.DataFrame(\n",
    "    deployment_output[\"predictions\"],\n",
    "    columns=[\"close\"],\n",
    ") # since we applied transformation function to the 'close' columns,\n",
    "  # now we need to provide a df with the same column name to decode.\n",
    "\n",
    "pred = tweets.decode_features(pred_encoded, feature_view=feature_view)"
   ]
  },
  {
   "cell_type": "code",
   "execution_count": 70,
   "id": "4202ebd9",
   "metadata": {},
   "outputs": [],
   "source": [
    "pred = pred.rename(columns={\"close\": \"predicted_price\"})\n",
    "pred[\"datetime\"] = [today.strftime(\"%Y-%m-%d\")]"
   ]
  },
  {
   "cell_type": "code",
   "execution_count": 71,
   "id": "f85dc8da",
   "metadata": {},
   "outputs": [
    {
     "data": {
      "text/html": [
       "<div>\n",
       "<style scoped>\n",
       "    .dataframe tbody tr th:only-of-type {\n",
       "        vertical-align: middle;\n",
       "    }\n",
       "\n",
       "    .dataframe tbody tr th {\n",
       "        vertical-align: top;\n",
       "    }\n",
       "\n",
       "    .dataframe thead th {\n",
       "        text-align: right;\n",
       "    }\n",
       "</style>\n",
       "<table border=\"1\" class=\"dataframe\">\n",
       "  <thead>\n",
       "    <tr style=\"text-align: right;\">\n",
       "      <th></th>\n",
       "      <th>predicted_price</th>\n",
       "      <th>datetime</th>\n",
       "    </tr>\n",
       "  </thead>\n",
       "  <tbody>\n",
       "    <tr>\n",
       "      <th>0</th>\n",
       "      <td>63520.159626</td>\n",
       "      <td>2024-04-20</td>\n",
       "    </tr>\n",
       "  </tbody>\n",
       "</table>\n",
       "</div>"
      ],
      "text/plain": [
       "   predicted_price    datetime\n",
       "0     63520.159626  2024-04-20"
      ]
     },
     "execution_count": 71,
     "metadata": {},
     "output_type": "execute_result"
    }
   ],
   "source": [
    "pred"
   ]
  },
  {
   "cell_type": "code",
   "execution_count": null,
   "id": "2ba49b5a",
   "metadata": {},
   "outputs": [],
   "source": [
    "# # For trouble shooting one you can use get_logs method.\n",
    "# deployment.get_logs()"
   ]
  },
  {
   "cell_type": "markdown",
   "id": "99b4dc38",
   "metadata": {
    "tags": []
   },
   "source": [
    "---\n",
    "## <span style=\"color:#ff5f27;\"> ✨ Load Batch Data of last days</span>"
   ]
  },
  {
   "cell_type": "code",
   "execution_count": null,
   "id": "7d802222",
   "metadata": {},
   "outputs": [],
   "source": [
    "feature_view.init_batch_scoring(1)\n",
    "\n",
    "batch_data = feature_view.get_batch_data().drop('unix',axis=1)\n",
    "batch_data.head()"
   ]
  },
  {
   "cell_type": "code",
   "execution_count": null,
   "id": "bfe1860f",
   "metadata": {},
   "outputs": [],
   "source": [
    "model = mr.get_model(\"bitcoin_price_model\", version=1)\n",
    "model_dir = model.download()\n",
    "\n",
    "loaded_model = tf.saved_model.load(model_dir)\n",
    "serving_function = loaded_model.signatures[\"serving_default\"]"
   ]
  },
  {
   "cell_type": "code",
   "execution_count": null,
   "id": "1fbc2d3b",
   "metadata": {},
   "outputs": [],
   "source": [
    "predictions_batch = serving_function(\n",
    "    tf.constant(\n",
    "        batch_data.values.reshape(\n",
    "            -1, \n",
    "            batch_data.shape[0], \n",
    "            batch_data.shape[1]), \n",
    "        tf.float32\n",
    "    )\n",
    ")['dense_1'].numpy()"
   ]
  },
  {
   "cell_type": "markdown",
   "id": "dccafda6",
   "metadata": {},
   "source": [
    "Recall that you applied transformation functions, such as min max scaler and laber encoder. \n",
    "\n",
    "Now you want to transform them back to human readable format."
   ]
  },
  {
   "cell_type": "code",
   "execution_count": null,
   "id": "a62ccab4",
   "metadata": {},
   "outputs": [],
   "source": [
    "pred_batch_encoded = pd.DataFrame(\n",
    "    predictions_batch,\n",
    "    columns=[\"close\"]\n",
    ") # since we applied transformation function to the 'close' columns,\n",
    "  # now we need to provide a df with the same column name to decode.\n",
    "                                                \n",
    "pred_batch = tweets.decode_features(pred_batch_encoded, feature_view=feature_view)"
   ]
  },
  {
   "cell_type": "code",
   "execution_count": null,
   "id": "105c1405",
   "metadata": {},
   "outputs": [],
   "source": [
    "pred_batch.tail(5)"
   ]
  },
  {
   "cell_type": "markdown",
   "id": "15cef0cc",
   "metadata": {},
   "source": [
    "---\n",
    "## <span style=\"color:#ff5f27;\"> ⏭️ **Next:** Part 04: Batch Inference</span>\n",
    "\n",
    "In the following notebook you will use your model for Batch Inference.\n",
    "\n",
    "[![Open In Colab](https://colab.research.google.com/assets/colab-badge.svg)](https://colab.research.google.com/github/logicalclocks/hopsworks-tutorials/blob/master/bitcoin/4_bitcoin_batch_inference.ipynb)"
   ]
  }
 ],
 "metadata": {
  "kernelspec": {
   "display_name": "Python 3",
   "language": "python",
   "name": "python3"
  },
  "language_info": {
   "codemirror_mode": {
    "name": "ipython",
    "version": 3
   },
   "file_extension": ".py",
   "mimetype": "text/x-python",
   "name": "python",
   "nbconvert_exporter": "python",
   "pygments_lexer": "ipython3",
   "version": "3.10.11"
  },
  "vscode": {
   "interpreter": {
    "hash": "a3502d2fd240c5a16c1ad36292676af1ecc0e366e100e74e6e336a5116ced841"
   }
  }
 },
 "nbformat": 4,
 "nbformat_minor": 5
}
