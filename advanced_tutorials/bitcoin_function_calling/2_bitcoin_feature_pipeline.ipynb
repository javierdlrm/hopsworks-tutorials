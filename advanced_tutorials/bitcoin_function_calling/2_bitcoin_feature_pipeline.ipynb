{
 "cells": [
  {
   "cell_type": "markdown",
   "id": "6ec9c38e",
   "metadata": {},
   "source": [
    "# <span style=\"font-width:bold; font-size: 3rem; color:#1EB182;\"><img src=\"../../images/icon102.png\" width=\"38px\"></img> **Hopsworks Feature Store** </span><span style=\"font-width:bold; font-size: 3rem; color:#333;\">- Part 02: Feature Pipeline</span>\n",
    "\n",
    "[![Open In Colab](https://colab.research.google.com/assets/colab-badge.svg)](https://colab.research.google.com/github/logicalclocks/hopsworks-tutorials/blob/master/advanced_tutorials/bitcoin/2_bitcoin_feature_pipeline.ipynb)\n",
    "\n",
    "\n",
    "## 🗒️ This notebook is divided into the following sections:\n",
    "1. Parsing Data.\n",
    "2. Feature Group Insertion."
   ]
  },
  {
   "cell_type": "markdown",
   "id": "3c00f0bb",
   "metadata": {},
   "source": [
    "### <span style=\"color:#ff5f27;\"> 📝 Imports</span>"
   ]
  },
  {
   "cell_type": "code",
   "execution_count": 1,
   "id": "edf8f31c",
   "metadata": {},
   "outputs": [
    {
     "name": "stdout",
     "output_type": "stream",
     "text": [
      "\u001b[33mWARNING: Running pip as the 'root' user can result in broken permissions and conflicting behaviour with the system package manager. It is recommended to use a virtual environment instead: https://pip.pypa.io/warnings/venv\u001b[0m\u001b[33m\n",
      "\u001b[0m\u001b[33mWARNING: Running pip as the 'root' user can result in broken permissions and conflicting behaviour with the system package manager. It is recommended to use a virtual environment instead: https://pip.pypa.io/warnings/venv\u001b[0m\u001b[33m\n",
      "\u001b[0m\u001b[33mWARNING: Running pip as the 'root' user can result in broken permissions and conflicting behaviour with the system package manager. It is recommended to use a virtual environment instead: https://pip.pypa.io/warnings/venv\u001b[0m\u001b[33m\n",
      "\u001b[0m\u001b[33mWARNING: Running pip as the 'root' user can result in broken permissions and conflicting behaviour with the system package manager. It is recommended to use a virtual environment instead: https://pip.pypa.io/warnings/venv\u001b[0m\u001b[33m\n",
      "\u001b[0m\u001b[33mWARNING: Running pip as the 'root' user can result in broken permissions and conflicting behaviour with the system package manager. It is recommended to use a virtual environment instead: https://pip.pypa.io/warnings/venv\u001b[0m\u001b[33m\n",
      "\u001b[0m\u001b[33mWARNING: Running pip as the 'root' user can result in broken permissions and conflicting behaviour with the system package manager. It is recommended to use a virtual environment instead: https://pip.pypa.io/warnings/venv\u001b[0m\u001b[33m\n",
      "\u001b[0m\u001b[33mWARNING: Running pip as the 'root' user can result in broken permissions and conflicting behaviour with the system package manager. It is recommended to use a virtual environment instead: https://pip.pypa.io/warnings/venv\u001b[0m\u001b[33m\n",
      "\u001b[0m"
     ]
    }
   ],
   "source": [
    "!pip install -U hopsworks --quiet\n",
    "\n",
    "!pip install -U unicorn-binance-rest-api --quiet\n",
    "!pip install -U python-dotenv --quiet\n",
    "!pip install -U textblob --quiet\n",
    "!pip install -U vaderSentiment --quiet\n",
    "!pip install -U tweepy --quiet\n",
    "!pip install -U plotly --quiet"
   ]
  },
  {
   "cell_type": "code",
   "execution_count": 2,
   "id": "475baada",
   "metadata": {},
   "outputs": [
    {
     "name": "stdout",
     "output_type": "stream",
     "text": [
      "Downloading modules\n"
     ]
    }
   ],
   "source": [
    "# Hosted notebook environments may not have the local features package\n",
    "import os\n",
    "\n",
    "def need_download_modules():\n",
    "    if 'google.colab' in str(get_ipython()):\n",
    "        return True\n",
    "    if 'HOPSWORKS_PROJECT_ID' in os.environ:\n",
    "        return True\n",
    "    return False\n",
    "\n",
    "if need_download_modules():\n",
    "    print(\"Downloading modules\")\n",
    "    os.system('mkdir -p features')\n",
    "    os.system('cd features && wget https://raw.githubusercontent.com/logicalclocks/hopsworks-tutorials/master/advanced_tutorials/bitcoin/features/bitcoin_price.py')\n",
    "    os.system('cd features && wget https://raw.githubusercontent.com/logicalclocks/hopsworks-tutorials/master/advanced_tutorials/bitcoin/features/tweets.py')\n",
    "else:\n",
    "    print(\"Local environment\")"
   ]
  },
  {
   "cell_type": "code",
   "execution_count": 3,
   "id": "b6e623a4",
   "metadata": {},
   "outputs": [],
   "source": [
    "import os\n",
    "\n",
    "# Uncomment and fill in if you are running on Colab\n",
    "os.environ['TWITTER_API_KEY'] = ''\n",
    "os.environ['TWITTER_API_SECRET'] = ''\n",
    "os.environ['TWITTER_ACCESS_TOKEN'] = ''\n",
    "os.environ['TWITTER_ACCESS_TOKEN_SECRET'] = ''\n",
    "\n",
    "os.environ['BINANCE_API_KEY'] = ''\n",
    "os.environ['BINANCE_API_SECRET'] = ''"
   ]
  },
  {
   "cell_type": "code",
   "execution_count": 4,
   "id": "41ddea17",
   "metadata": {},
   "outputs": [
    {
     "name": "stdout",
     "output_type": "stream",
     "text": [
      "Importing tweets\n",
      " - tweepy\n",
      " - vaderSentiment\n",
      " - nltk\n"
     ]
    },
    {
     "name": "stderr",
     "output_type": "stream",
     "text": [
      "[nltk_data] Downloading package stopwords to\n",
      "[nltk_data]     /home/yarnapp/nltk_data...\n",
      "[nltk_data]   Package stopwords is already up-to-date!\n",
      "[nltk_data] Downloading package wordnet to /home/yarnapp/nltk_data...\n",
      "[nltk_data]   Package wordnet is already up-to-date!\n",
      "[nltk_data] Downloading package omw-1.4 to /home/yarnapp/nltk_data...\n",
      "[nltk_data]   Package omw-1.4 is already up-to-date!\n"
     ]
    }
   ],
   "source": [
    "import pandas as pd\n",
    "from features import bitcoin_price, tweets"
   ]
  },
  {
   "cell_type": "markdown",
   "id": "ac39a575",
   "metadata": {},
   "source": [
    "---\n",
    "## <span style=\"color:#ff5f27;\"> 🧙🏼‍♂️ Parsing Data</span>"
   ]
  },
  {
   "cell_type": "markdown",
   "id": "6162cbf5",
   "metadata": {},
   "source": [
    "You will parse timeseries Bitcoin data from Binance using your own credentials, so you have to get a free Binance account and [create API-keys](https://www.binance.com/en/support/faq/360002502072).\n",
    "\n",
    "Also, you should [contact Twitter](https://developer.twitter.com/en/docs/twitter-api/getting-started/getting-access-to-the-twitter-api) for their API-keys.\n",
    "\n",
    "\n",
    "#### Don't forget to create an `.env` configuration file inside this directory where all the necessary environment variables will be stored:\n",
    "\n",
    "`TWITTER_API_KEY = \"YOUR_API_KEY\"`\n",
    "\n",
    "`TWITTER_API_SECRET = \"YOUR_API_KEY\"`\n",
    "\n",
    "`TWITTER_ACCESS_TOKEN = \"YOUR_API_KEY\"`\n",
    "\n",
    "`TWITTER_ACCESS_TOKEN_SECRET = \"YOUR_API_KEY\"`\n",
    "\n",
    "\n",
    "`BINANCE_API_KEY = \"YOUR_API_KEY\"`\n",
    "\n",
    "`BINANCE_API_SECRET = \"YOUR_API_KEY\"`\n",
    "\n",
    "> If you done it after you run this notebook, restart the Python Kernel (because `functions.py` does not have these variables in his namespace).\n",
    "\n",
    "![](images/api_keys_env_file.png)"
   ]
  },
  {
   "cell_type": "markdown",
   "id": "558a84a2",
   "metadata": {},
   "source": [
    "### <span style='color:#ff5f27'> 📈 Bitcoin Data"
   ]
  },
  {
   "cell_type": "code",
   "execution_count": 5,
   "id": "fdeebf4b",
   "metadata": {
    "scrolled": true
   },
   "outputs": [
    {
     "name": "stdout",
     "output_type": "stream",
     "text": [
      "2024-04-20 15:31:03,043 INFO: New instance of unicorn-binance-rest-api_2.2.1-python_3.10.11-compiled on Linux 6.2.0-39-generic for exchange None started ...\n",
      "2024-04-20 15:31:03,056 INFO: Loading license file `lucit_license.ini`\n",
      "2024-04-20 15:31:03,104 INFO: Loading profile `LUCIT`\n",
      "2024-04-20 15:31:03,105 INFO: New instance of lucit-licensing-python_1.8.2-python_3.10.11-compiled on Linux 6.2.0-39-generic started ...\n",
      "2024-04-20 15:31:03,406 INFO: Initiating `colorama_0.4.6`\n"
     ]
    },
    {
     "data": {
      "text/html": [
       "<div>\n",
       "<style scoped>\n",
       "    .dataframe tbody tr th:only-of-type {\n",
       "        vertical-align: middle;\n",
       "    }\n",
       "\n",
       "    .dataframe tbody tr th {\n",
       "        vertical-align: top;\n",
       "    }\n",
       "\n",
       "    .dataframe thead th {\n",
       "        text-align: right;\n",
       "    }\n",
       "</style>\n",
       "<table border=\"1\" class=\"dataframe\">\n",
       "  <thead>\n",
       "    <tr style=\"text-align: right;\">\n",
       "      <th></th>\n",
       "      <th>date</th>\n",
       "      <th>open</th>\n",
       "      <th>high</th>\n",
       "      <th>low</th>\n",
       "      <th>close</th>\n",
       "      <th>volume</th>\n",
       "      <th>quote_av</th>\n",
       "      <th>trades</th>\n",
       "      <th>tb_base_av</th>\n",
       "      <th>tb_quote_av</th>\n",
       "      <th>unix</th>\n",
       "    </tr>\n",
       "  </thead>\n",
       "  <tbody>\n",
       "    <tr>\n",
       "      <th>0</th>\n",
       "      <td>2024-02-23 00:00:00</td>\n",
       "      <td>51288.42</td>\n",
       "      <td>51548.54</td>\n",
       "      <td>50521.0</td>\n",
       "      <td>50744.15</td>\n",
       "      <td>30545.79544</td>\n",
       "      <td>1.559144e+09</td>\n",
       "      <td>1487039</td>\n",
       "      <td>14610.80906</td>\n",
       "      <td>7.458210e+08</td>\n",
       "      <td>1708646400000</td>\n",
       "    </tr>\n",
       "    <tr>\n",
       "      <th>1</th>\n",
       "      <td>2024-02-24 00:00:00</td>\n",
       "      <td>50744.15</td>\n",
       "      <td>51698.00</td>\n",
       "      <td>50585.0</td>\n",
       "      <td>51568.22</td>\n",
       "      <td>16560.42110</td>\n",
       "      <td>8.477934e+08</td>\n",
       "      <td>855015</td>\n",
       "      <td>8462.15627</td>\n",
       "      <td>4.332396e+08</td>\n",
       "      <td>1708732800000</td>\n",
       "    </tr>\n",
       "    <tr>\n",
       "      <th>2</th>\n",
       "      <td>2024-02-25 00:00:00</td>\n",
       "      <td>51568.21</td>\n",
       "      <td>51958.55</td>\n",
       "      <td>51279.8</td>\n",
       "      <td>51728.85</td>\n",
       "      <td>18721.63159</td>\n",
       "      <td>9.669511e+08</td>\n",
       "      <td>923992</td>\n",
       "      <td>9544.17672</td>\n",
       "      <td>4.929525e+08</td>\n",
       "      <td>1708819200000</td>\n",
       "    </tr>\n",
       "  </tbody>\n",
       "</table>\n",
       "</div>"
      ],
      "text/plain": [
       "                  date      open      high      low     close       volume  \\\n",
       "0  2024-02-23 00:00:00  51288.42  51548.54  50521.0  50744.15  30545.79544   \n",
       "1  2024-02-24 00:00:00  50744.15  51698.00  50585.0  51568.22  16560.42110   \n",
       "2  2024-02-25 00:00:00  51568.21  51958.55  51279.8  51728.85  18721.63159   \n",
       "\n",
       "       quote_av   trades   tb_base_av   tb_quote_av           unix  \n",
       "0  1.559144e+09  1487039  14610.80906  7.458210e+08  1708646400000  \n",
       "1  8.477934e+08   855015   8462.15627  4.332396e+08  1708732800000  \n",
       "2  9.669511e+08   923992   9544.17672  4.929525e+08  1708819200000  "
      ]
     },
     "execution_count": 5,
     "metadata": {},
     "output_type": "execute_result"
    }
   ],
   "source": [
    "# we should take 56+ days because of feature engineering with window aggregations.\n",
    "df_bitcoin = bitcoin_price.parse_btc_data(number_of_days_ago=57)\n",
    "df_bitcoin.head(3)"
   ]
  },
  {
   "cell_type": "code",
   "execution_count": 6,
   "id": "2c9f33c9",
   "metadata": {
    "scrolled": true
   },
   "outputs": [
    {
     "data": {
      "text/html": [
       "<div>\n",
       "<style scoped>\n",
       "    .dataframe tbody tr th:only-of-type {\n",
       "        vertical-align: middle;\n",
       "    }\n",
       "\n",
       "    .dataframe tbody tr th {\n",
       "        vertical-align: top;\n",
       "    }\n",
       "\n",
       "    .dataframe thead th {\n",
       "        text-align: right;\n",
       "    }\n",
       "</style>\n",
       "<table border=\"1\" class=\"dataframe\">\n",
       "  <thead>\n",
       "    <tr style=\"text-align: right;\">\n",
       "      <th></th>\n",
       "      <th>date</th>\n",
       "      <th>open</th>\n",
       "      <th>high</th>\n",
       "      <th>low</th>\n",
       "      <th>close</th>\n",
       "      <th>volume</th>\n",
       "      <th>quote_av</th>\n",
       "      <th>trades</th>\n",
       "      <th>tb_base_av</th>\n",
       "      <th>tb_quote_av</th>\n",
       "      <th>...</th>\n",
       "      <th>exp_std_14_days</th>\n",
       "      <th>momentum_14_days</th>\n",
       "      <th>rate_of_change_14_days</th>\n",
       "      <th>strength_index_14_days</th>\n",
       "      <th>std_56_days</th>\n",
       "      <th>exp_mean_56_days</th>\n",
       "      <th>exp_std_56_days</th>\n",
       "      <th>momentum_56_days</th>\n",
       "      <th>rate_of_change_56_days</th>\n",
       "      <th>strength_index_56_days</th>\n",
       "    </tr>\n",
       "  </thead>\n",
       "  <tbody>\n",
       "    <tr>\n",
       "      <th>55</th>\n",
       "      <td>2024-04-18</td>\n",
       "      <td>61277.38</td>\n",
       "      <td>64117.09</td>\n",
       "      <td>60803.35</td>\n",
       "      <td>63470.08</td>\n",
       "      <td>43601.60918</td>\n",
       "      <td>2.726741e+09</td>\n",
       "      <td>2142511</td>\n",
       "      <td>20870.20705</td>\n",
       "      <td>1.305027e+09</td>\n",
       "      <td>...</td>\n",
       "      <td>3259.91581</td>\n",
       "      <td>-5017.71</td>\n",
       "      <td>-6.414775</td>\n",
       "      <td>44.593135</td>\n",
       "      <td>5129.861015</td>\n",
       "      <td>66726.875601</td>\n",
       "      <td>3956.587429</td>\n",
       "      <td>0.00</td>\n",
       "      <td>25.078615</td>\n",
       "      <td>0.000000</td>\n",
       "    </tr>\n",
       "    <tr>\n",
       "      <th>56</th>\n",
       "      <td>2024-04-19</td>\n",
       "      <td>63470.09</td>\n",
       "      <td>65450.00</td>\n",
       "      <td>59600.01</td>\n",
       "      <td>63818.01</td>\n",
       "      <td>69774.30271</td>\n",
       "      <td>4.419893e+09</td>\n",
       "      <td>2828284</td>\n",
       "      <td>34941.50216</td>\n",
       "      <td>2.214810e+09</td>\n",
       "      <td>...</td>\n",
       "      <td>3110.61663</td>\n",
       "      <td>-4002.61</td>\n",
       "      <td>-7.370515</td>\n",
       "      <td>45.380545</td>\n",
       "      <td>4705.824240</td>\n",
       "      <td>66609.483564</td>\n",
       "      <td>3918.524698</td>\n",
       "      <td>13073.86</td>\n",
       "      <td>23.754533</td>\n",
       "      <td>56.075637</td>\n",
       "    </tr>\n",
       "    <tr>\n",
       "      <th>57</th>\n",
       "      <td>2024-04-20</td>\n",
       "      <td>63818.01</td>\n",
       "      <td>64268.58</td>\n",
       "      <td>63090.07</td>\n",
       "      <td>63958.24</td>\n",
       "      <td>12927.63062</td>\n",
       "      <td>8.247033e+08</td>\n",
       "      <td>769531</td>\n",
       "      <td>6537.65889</td>\n",
       "      <td>4.170816e+08</td>\n",
       "      <td>...</td>\n",
       "      <td>2946.10378</td>\n",
       "      <td>-4937.76</td>\n",
       "      <td>-7.788523</td>\n",
       "      <td>45.715393</td>\n",
       "      <td>4278.672431</td>\n",
       "      <td>66503.049082</td>\n",
       "      <td>3874.583771</td>\n",
       "      <td>12390.02</td>\n",
       "      <td>23.641334</td>\n",
       "      <td>56.133849</td>\n",
       "    </tr>\n",
       "  </tbody>\n",
       "</table>\n",
       "<p>3 rows × 32 columns</p>\n",
       "</div>"
      ],
      "text/plain": [
       "         date      open      high       low     close       volume  \\\n",
       "55 2024-04-18  61277.38  64117.09  60803.35  63470.08  43601.60918   \n",
       "56 2024-04-19  63470.09  65450.00  59600.01  63818.01  69774.30271   \n",
       "57 2024-04-20  63818.01  64268.58  63090.07  63958.24  12927.63062   \n",
       "\n",
       "        quote_av   trades   tb_base_av   tb_quote_av  ...  exp_std_14_days  \\\n",
       "55  2.726741e+09  2142511  20870.20705  1.305027e+09  ...       3259.91581   \n",
       "56  4.419893e+09  2828284  34941.50216  2.214810e+09  ...       3110.61663   \n",
       "57  8.247033e+08   769531   6537.65889  4.170816e+08  ...       2946.10378   \n",
       "\n",
       "    momentum_14_days  rate_of_change_14_days  strength_index_14_days  \\\n",
       "55          -5017.71               -6.414775               44.593135   \n",
       "56          -4002.61               -7.370515               45.380545   \n",
       "57          -4937.76               -7.788523               45.715393   \n",
       "\n",
       "    std_56_days  exp_mean_56_days  exp_std_56_days  momentum_56_days  \\\n",
       "55  5129.861015      66726.875601      3956.587429              0.00   \n",
       "56  4705.824240      66609.483564      3918.524698          13073.86   \n",
       "57  4278.672431      66503.049082      3874.583771          12390.02   \n",
       "\n",
       "    rate_of_change_56_days  strength_index_56_days  \n",
       "55               25.078615                0.000000  \n",
       "56               23.754533               56.075637  \n",
       "57               23.641334               56.133849  \n",
       "\n",
       "[3 rows x 32 columns]"
      ]
     },
     "execution_count": 6,
     "metadata": {},
     "output_type": "execute_result"
    }
   ],
   "source": [
    "df_bitcoin_processed = bitcoin_price.process_btc_data(df_bitcoin)\n",
    "df_bitcoin_processed.tail(3)"
   ]
  },
  {
   "cell_type": "code",
   "execution_count": 7,
   "id": "afece38f",
   "metadata": {},
   "outputs": [],
   "source": [
    "df_bitcoin_processed.date = df_bitcoin_processed.date.astype(str)"
   ]
  },
  {
   "cell_type": "markdown",
   "id": "54b690f1",
   "metadata": {},
   "source": [
    "### <span style='color:#ff5f27'> 💭 Tweets Data"
   ]
  },
  {
   "cell_type": "code",
   "execution_count": null,
   "id": "1aa63924",
   "metadata": {
    "scrolled": true
   },
   "outputs": [],
   "source": [
    "df_tweets_parsed = tweets.get_last_tweets()\n",
    "df_tweets_parsed.head()"
   ]
  },
  {
   "cell_type": "code",
   "execution_count": null,
   "id": "37266ea2",
   "metadata": {},
   "outputs": [],
   "source": [
    "tweets_textblob = tweets.textblob_processing(df_tweets_parsed)"
   ]
  },
  {
   "cell_type": "code",
   "execution_count": null,
   "id": "ed0dd4af",
   "metadata": {},
   "outputs": [],
   "source": [
    "tweets_vader = tweets.vader_processing(df_tweets_parsed)"
   ]
  },
  {
   "cell_type": "code",
   "execution_count": null,
   "id": "96f6be36",
   "metadata": {},
   "outputs": [],
   "source": [
    "tweets_textblob.date = tweets_textblob.date.apply(lambda x: x[:10])\n",
    "tweets_vader.date = tweets_vader.date.apply(lambda x: x[:10])"
   ]
  },
  {
   "cell_type": "code",
   "execution_count": null,
   "id": "00cfc6e8",
   "metadata": {},
   "outputs": [],
   "source": [
    "tweets_textblob.head()"
   ]
  },
  {
   "cell_type": "markdown",
   "id": "d1ae74e4",
   "metadata": {},
   "source": [
    "---"
   ]
  },
  {
   "cell_type": "markdown",
   "id": "713dc203",
   "metadata": {
    "tags": []
   },
   "source": [
    "### <span style=\"color:#ff5f27;\"> 📡 Connecting to the Hopsworks Feature Store </span>"
   ]
  },
  {
   "cell_type": "code",
   "execution_count": 8,
   "id": "c9099c05",
   "metadata": {},
   "outputs": [
    {
     "name": "stdout",
     "output_type": "stream",
     "text": [
      "Connected. Call `.close()` to terminate connection gracefully.\n",
      "\n",
      "Logged in to project, explore it here https://snurran.hops.works/p/11394\n",
      "Connected. Call `.close()` to terminate connection gracefully.\n"
     ]
    }
   ],
   "source": [
    "import hopsworks\n",
    "\n",
    "project = hopsworks.login()\n",
    "\n",
    "fs = project.get_feature_store()"
   ]
  },
  {
   "cell_type": "code",
   "execution_count": 9,
   "id": "9c2405d3",
   "metadata": {},
   "outputs": [],
   "source": [
    "btc_price_fg = fs.get_or_create_feature_group(\n",
    "    name='bitcoin_price',\n",
    "    version=1,\n",
    ")\n",
    "\n",
    "tweets_textblob_fg = fs.get_or_create_feature_group(\n",
    "    name='bitcoin_tweets_textblob',\n",
    "    version=1,\n",
    ")\n",
    "\n",
    "tweets_vader_fg = fs.get_or_create_feature_group(\n",
    "    name='bitcoin_tweets_vader',\n",
    "    version=1,\n",
    ")"
   ]
  },
  {
   "cell_type": "markdown",
   "id": "84f053ab",
   "metadata": {},
   "source": [
    "---"
   ]
  },
  {
   "cell_type": "markdown",
   "id": "7890cec8",
   "metadata": {},
   "source": [
    "### <span style='color:#ff5f27'> 💫 Filling the gap in tweets"
   ]
  },
  {
   "cell_type": "code",
   "execution_count": 35,
   "id": "3219de57",
   "metadata": {},
   "outputs": [
    {
     "name": "stdout",
     "output_type": "stream",
     "text": [
      "Finished: Reading data from Hopsworks, using ArrowFlight (0.60s) \n"
     ]
    }
   ],
   "source": [
    "btc_dates = btc_price_fg.read().date.sort_values().reset_index(drop=True).astype(str)"
   ]
  },
  {
   "cell_type": "code",
   "execution_count": 36,
   "id": "34356efa",
   "metadata": {},
   "outputs": [
    {
     "name": "stdout",
     "output_type": "stream",
     "text": [
      "Finished: Reading data from Hopsworks, using ArrowFlight (0.46s) \n"
     ]
    }
   ],
   "source": [
    "stored_tweets_df = tweets_textblob_fg.read()"
   ]
  },
  {
   "cell_type": "code",
   "execution_count": 37,
   "id": "33431725",
   "metadata": {},
   "outputs": [],
   "source": [
    "stored_dates = stored_tweets_df.date.apply(lambda x: str(x)[:10]).drop_duplicates().sort_values().reset_index(drop=True)"
   ]
  },
  {
   "cell_type": "code",
   "execution_count": 38,
   "id": "60ad7962",
   "metadata": {},
   "outputs": [
    {
     "data": {
      "text/plain": [
       "0       2021-02-05\n",
       "1       2021-02-06\n",
       "2       2021-02-07\n",
       "3       2021-02-08\n",
       "4       2021-02-09\n",
       "           ...    \n",
       "1166    2024-04-16\n",
       "1167    2024-04-17\n",
       "1168    2024-04-18\n",
       "1169    2024-04-19\n",
       "1170    2024-04-20\n",
       "Name: date, Length: 1171, dtype: object"
      ]
     },
     "execution_count": 38,
     "metadata": {},
     "output_type": "execute_result"
    }
   ],
   "source": [
    "btc_dates"
   ]
  },
  {
   "cell_type": "code",
   "execution_count": 39,
   "id": "53a6a4d5",
   "metadata": {},
   "outputs": [
    {
     "data": {
      "text/plain": [
       "0      2021-02-05\n",
       "1      2021-02-06\n",
       "2      2021-02-07\n",
       "3      2021-02-08\n",
       "4      2021-02-09\n",
       "          ...    \n",
       "523    2022-07-13\n",
       "524    2022-07-14\n",
       "525    2022-07-15\n",
       "526    2022-07-16\n",
       "527    2022-07-17\n",
       "Name: date, Length: 528, dtype: object"
      ]
     },
     "execution_count": 39,
     "metadata": {},
     "output_type": "execute_result"
    }
   ],
   "source": [
    "stored_dates"
   ]
  },
  {
   "cell_type": "code",
   "execution_count": 40,
   "id": "0491008c",
   "metadata": {},
   "outputs": [],
   "source": [
    "missing_dates = list(set(btc_dates) - set(stored_dates))"
   ]
  },
  {
   "cell_type": "code",
   "execution_count": 41,
   "id": "19bc51cb",
   "metadata": {},
   "outputs": [
    {
     "data": {
      "text/plain": [
       "643"
      ]
     },
     "execution_count": 41,
     "metadata": {},
     "output_type": "execute_result"
    }
   ],
   "source": [
    "len(missing_dates)"
   ]
  },
  {
   "cell_type": "code",
   "execution_count": 43,
   "id": "fbfd82ef",
   "metadata": {},
   "outputs": [],
   "source": [
    "tweets_textblob_fix = pd.DataFrame(\n",
    "    {\n",
    "        \"date\": missing_dates,\n",
    "        \"subjectivity\": [1.0] * len(missing_dates),\n",
    "        \"polarity\": [1.0] * len(missing_dates),\n",
    "    })"
   ]
  },
  {
   "cell_type": "code",
   "execution_count": 45,
   "id": "98dea0ac",
   "metadata": {},
   "outputs": [],
   "source": [
    "tweets_vader_fix = pd.DataFrame(\n",
    "    {\n",
    "        \"date\": missing_dates,\n",
    "        \"compound\": [1.0] * len(missing_dates),\n",
    "    })"
   ]
  },
  {
   "cell_type": "code",
   "execution_count": 46,
   "id": "38eef48f",
   "metadata": {},
   "outputs": [
    {
     "data": {
      "text/html": [
       "<div>\n",
       "<style scoped>\n",
       "    .dataframe tbody tr th:only-of-type {\n",
       "        vertical-align: middle;\n",
       "    }\n",
       "\n",
       "    .dataframe tbody tr th {\n",
       "        vertical-align: top;\n",
       "    }\n",
       "\n",
       "    .dataframe thead th {\n",
       "        text-align: right;\n",
       "    }\n",
       "</style>\n",
       "<table border=\"1\" class=\"dataframe\">\n",
       "  <thead>\n",
       "    <tr style=\"text-align: right;\">\n",
       "      <th></th>\n",
       "      <th>date</th>\n",
       "      <th>compound</th>\n",
       "    </tr>\n",
       "  </thead>\n",
       "  <tbody>\n",
       "    <tr>\n",
       "      <th>0</th>\n",
       "      <td>2022-12-20</td>\n",
       "      <td>1.0</td>\n",
       "    </tr>\n",
       "    <tr>\n",
       "      <th>1</th>\n",
       "      <td>2023-10-22</td>\n",
       "      <td>1.0</td>\n",
       "    </tr>\n",
       "    <tr>\n",
       "      <th>2</th>\n",
       "      <td>2023-05-31</td>\n",
       "      <td>1.0</td>\n",
       "    </tr>\n",
       "    <tr>\n",
       "      <th>3</th>\n",
       "      <td>2022-08-25</td>\n",
       "      <td>1.0</td>\n",
       "    </tr>\n",
       "    <tr>\n",
       "      <th>4</th>\n",
       "      <td>2023-01-19</td>\n",
       "      <td>1.0</td>\n",
       "    </tr>\n",
       "    <tr>\n",
       "      <th>...</th>\n",
       "      <td>...</td>\n",
       "      <td>...</td>\n",
       "    </tr>\n",
       "    <tr>\n",
       "      <th>638</th>\n",
       "      <td>2022-12-08</td>\n",
       "      <td>1.0</td>\n",
       "    </tr>\n",
       "    <tr>\n",
       "      <th>639</th>\n",
       "      <td>2023-04-12</td>\n",
       "      <td>1.0</td>\n",
       "    </tr>\n",
       "    <tr>\n",
       "      <th>640</th>\n",
       "      <td>2024-01-15</td>\n",
       "      <td>1.0</td>\n",
       "    </tr>\n",
       "    <tr>\n",
       "      <th>641</th>\n",
       "      <td>2023-07-09</td>\n",
       "      <td>1.0</td>\n",
       "    </tr>\n",
       "    <tr>\n",
       "      <th>642</th>\n",
       "      <td>2023-12-14</td>\n",
       "      <td>1.0</td>\n",
       "    </tr>\n",
       "  </tbody>\n",
       "</table>\n",
       "<p>643 rows × 2 columns</p>\n",
       "</div>"
      ],
      "text/plain": [
       "           date  compound\n",
       "0    2022-12-20       1.0\n",
       "1    2023-10-22       1.0\n",
       "2    2023-05-31       1.0\n",
       "3    2022-08-25       1.0\n",
       "4    2023-01-19       1.0\n",
       "..          ...       ...\n",
       "638  2022-12-08       1.0\n",
       "639  2023-04-12       1.0\n",
       "640  2024-01-15       1.0\n",
       "641  2023-07-09       1.0\n",
       "642  2023-12-14       1.0\n",
       "\n",
       "[643 rows x 2 columns]"
      ]
     },
     "execution_count": 46,
     "metadata": {},
     "output_type": "execute_result"
    }
   ],
   "source": [
    "tweets_vader_fix"
   ]
  },
  {
   "cell_type": "code",
   "execution_count": 47,
   "id": "a4e54e8b",
   "metadata": {},
   "outputs": [],
   "source": [
    "tweets_vader_fix[\"unix\"] = tweets_vader_fix.date.apply(tweets.convert_date_to_unix)\n",
    "tweets_textblob_fix[\"unix\"] = tweets_textblob_fix.date.apply(tweets.convert_date_to_unix)"
   ]
  },
  {
   "cell_type": "code",
   "execution_count": 48,
   "id": "8e44bf98",
   "metadata": {},
   "outputs": [
    {
     "data": {
      "text/html": [
       "<div>\n",
       "<style scoped>\n",
       "    .dataframe tbody tr th:only-of-type {\n",
       "        vertical-align: middle;\n",
       "    }\n",
       "\n",
       "    .dataframe tbody tr th {\n",
       "        vertical-align: top;\n",
       "    }\n",
       "\n",
       "    .dataframe thead th {\n",
       "        text-align: right;\n",
       "    }\n",
       "</style>\n",
       "<table border=\"1\" class=\"dataframe\">\n",
       "  <thead>\n",
       "    <tr style=\"text-align: right;\">\n",
       "      <th></th>\n",
       "      <th>date</th>\n",
       "      <th>compound</th>\n",
       "      <th>unix</th>\n",
       "    </tr>\n",
       "  </thead>\n",
       "  <tbody>\n",
       "    <tr>\n",
       "      <th>230</th>\n",
       "      <td>2022-07-18</td>\n",
       "      <td>1.0</td>\n",
       "      <td>1658102400000</td>\n",
       "    </tr>\n",
       "    <tr>\n",
       "      <th>85</th>\n",
       "      <td>2022-07-19</td>\n",
       "      <td>1.0</td>\n",
       "      <td>1658188800000</td>\n",
       "    </tr>\n",
       "    <tr>\n",
       "      <th>608</th>\n",
       "      <td>2022-07-20</td>\n",
       "      <td>1.0</td>\n",
       "      <td>1658275200000</td>\n",
       "    </tr>\n",
       "    <tr>\n",
       "      <th>542</th>\n",
       "      <td>2022-07-21</td>\n",
       "      <td>1.0</td>\n",
       "      <td>1658361600000</td>\n",
       "    </tr>\n",
       "    <tr>\n",
       "      <th>70</th>\n",
       "      <td>2022-07-22</td>\n",
       "      <td>1.0</td>\n",
       "      <td>1658448000000</td>\n",
       "    </tr>\n",
       "    <tr>\n",
       "      <th>...</th>\n",
       "      <td>...</td>\n",
       "      <td>...</td>\n",
       "      <td>...</td>\n",
       "    </tr>\n",
       "    <tr>\n",
       "      <th>634</th>\n",
       "      <td>2024-04-16</td>\n",
       "      <td>1.0</td>\n",
       "      <td>1713225600000</td>\n",
       "    </tr>\n",
       "    <tr>\n",
       "      <th>226</th>\n",
       "      <td>2024-04-17</td>\n",
       "      <td>1.0</td>\n",
       "      <td>1713312000000</td>\n",
       "    </tr>\n",
       "    <tr>\n",
       "      <th>447</th>\n",
       "      <td>2024-04-18</td>\n",
       "      <td>1.0</td>\n",
       "      <td>1713398400000</td>\n",
       "    </tr>\n",
       "    <tr>\n",
       "      <th>186</th>\n",
       "      <td>2024-04-19</td>\n",
       "      <td>1.0</td>\n",
       "      <td>1713484800000</td>\n",
       "    </tr>\n",
       "    <tr>\n",
       "      <th>366</th>\n",
       "      <td>2024-04-20</td>\n",
       "      <td>1.0</td>\n",
       "      <td>1713571200000</td>\n",
       "    </tr>\n",
       "  </tbody>\n",
       "</table>\n",
       "<p>643 rows × 3 columns</p>\n",
       "</div>"
      ],
      "text/plain": [
       "           date  compound           unix\n",
       "230  2022-07-18       1.0  1658102400000\n",
       "85   2022-07-19       1.0  1658188800000\n",
       "608  2022-07-20       1.0  1658275200000\n",
       "542  2022-07-21       1.0  1658361600000\n",
       "70   2022-07-22       1.0  1658448000000\n",
       "..          ...       ...            ...\n",
       "634  2024-04-16       1.0  1713225600000\n",
       "226  2024-04-17       1.0  1713312000000\n",
       "447  2024-04-18       1.0  1713398400000\n",
       "186  2024-04-19       1.0  1713484800000\n",
       "366  2024-04-20       1.0  1713571200000\n",
       "\n",
       "[643 rows x 3 columns]"
      ]
     },
     "execution_count": 48,
     "metadata": {},
     "output_type": "execute_result"
    }
   ],
   "source": [
    "tweets_vader_fix.sort_values(\"date\")"
   ]
  },
  {
   "cell_type": "code",
   "execution_count": 49,
   "id": "785eef2f",
   "metadata": {},
   "outputs": [],
   "source": [
    "# tweets_vader_batch = pd.concat([tweets_vader_fix, tweets_vader]).sort_values(\"date\").reset_index(drop=True)\n",
    "# tweets_textblob_batch = pd.concat([tweets_textblob_fix, tweets_textblob]).sort_values(\"date\").reset_index(drop=True)\n",
    "\n",
    "tweets_vader_batch = tweets_vader_fix.sort_values(\"date\").reset_index(drop=True)\n",
    "tweets_textblob_batch = tweets_textblob_fix.sort_values(\"date\").reset_index(drop=True)"
   ]
  },
  {
   "cell_type": "code",
   "execution_count": 50,
   "id": "d5dd2fcb",
   "metadata": {},
   "outputs": [
    {
     "data": {
      "text/plain": [
       "643"
      ]
     },
     "execution_count": 50,
     "metadata": {},
     "output_type": "execute_result"
    }
   ],
   "source": [
    "len(tweets_textblob_batch)"
   ]
  },
  {
   "cell_type": "code",
   "execution_count": 51,
   "id": "09d486e5",
   "metadata": {},
   "outputs": [
    {
     "data": {
      "text/plain": [
       "datetime.datetime(2022, 7, 18, 0, 0, tzinfo=datetime.timezone.utc)"
      ]
     },
     "execution_count": 51,
     "metadata": {},
     "output_type": "execute_result"
    }
   ],
   "source": [
    "import datetime\n",
    "datetime.datetime.fromtimestamp(tweets_textblob_batch.unix[0] / 1000, datetime.timezone.utc)"
   ]
  },
  {
   "cell_type": "code",
   "execution_count": 52,
   "id": "eb33e7fa",
   "metadata": {},
   "outputs": [
    {
     "name": "stdout",
     "output_type": "stream",
     "text": [
      "<class 'pandas.core.frame.DataFrame'>\n",
      "RangeIndex: 643 entries, 0 to 642\n",
      "Data columns (total 4 columns):\n",
      " #   Column        Non-Null Count  Dtype  \n",
      "---  ------        --------------  -----  \n",
      " 0   date          643 non-null    object \n",
      " 1   subjectivity  643 non-null    float64\n",
      " 2   polarity      643 non-null    float64\n",
      " 3   unix          643 non-null    int64  \n",
      "dtypes: float64(2), int64(1), object(1)\n",
      "memory usage: 20.2+ KB\n"
     ]
    }
   ],
   "source": [
    "tweets_textblob_batch.info()"
   ]
  },
  {
   "cell_type": "markdown",
   "id": "2e1c5f14",
   "metadata": {},
   "source": [
    "---"
   ]
  },
  {
   "cell_type": "markdown",
   "id": "72e3304d",
   "metadata": {},
   "source": [
    "## <span style=\"color:#ff5f27;\">⬆️ Uploading new data to the Feature Store</span>"
   ]
  },
  {
   "cell_type": "markdown",
   "id": "c49fa2d5",
   "metadata": {},
   "source": [
    "### <span style='color:#ff5f27'> 📈 Bitcoin Feature Group"
   ]
  },
  {
   "cell_type": "code",
   "execution_count": 53,
   "id": "a9fec833",
   "metadata": {
    "scrolled": true
   },
   "outputs": [
    {
     "data": {
      "application/vnd.jupyter.widget-view+json": {
       "model_id": "59cbf34b17fa4f89a51c71754a3ef80b",
       "version_major": 2,
       "version_minor": 0
      },
      "text/plain": [
       "Uploading Dataframe: 0.00% |          | Rows 0/58 | Elapsed Time: 00:00 | Remaining Time: ?"
      ]
     },
     "metadata": {},
     "output_type": "display_data"
    },
    {
     "name": "stdout",
     "output_type": "stream",
     "text": [
      "Launching job: bitcoin_price_1_offline_fg_materialization\n",
      "Job started successfully, you can follow the progress at \n",
      "https://snurran.hops.works/p/11394/jobs/named/bitcoin_price_1_offline_fg_materialization/executions\n"
     ]
    },
    {
     "data": {
      "text/plain": [
       "(<hsfs.core.job.Job at 0x7ff55010f520>, None)"
      ]
     },
     "execution_count": 53,
     "metadata": {},
     "output_type": "execute_result"
    }
   ],
   "source": [
    "btc_price_fg.insert(df_bitcoin_processed)"
   ]
  },
  {
   "cell_type": "markdown",
   "id": "b4685727",
   "metadata": {},
   "source": [
    "### <span style='color:#ff5f27'> 💭 Tweets Feature Groups"
   ]
  },
  {
   "cell_type": "code",
   "execution_count": 54,
   "id": "7ab2060e",
   "metadata": {},
   "outputs": [
    {
     "data": {
      "application/vnd.jupyter.widget-view+json": {
       "model_id": "e2e33aa0d8714fcbb54115d5cb4e98e9",
       "version_major": 2,
       "version_minor": 0
      },
      "text/plain": [
       "Uploading Dataframe: 0.00% |          | Rows 0/643 | Elapsed Time: 00:00 | Remaining Time: ?"
      ]
     },
     "metadata": {},
     "output_type": "display_data"
    },
    {
     "name": "stdout",
     "output_type": "stream",
     "text": [
      "Launching job: bitcoin_tweets_textblob_1_offline_fg_materialization\n",
      "Job started successfully, you can follow the progress at \n",
      "https://snurran.hops.works/p/11394/jobs/named/bitcoin_tweets_textblob_1_offline_fg_materialization/executions\n"
     ]
    },
    {
     "data": {
      "text/plain": [
       "(<hsfs.core.job.Job at 0x7ff5501753c0>, None)"
      ]
     },
     "execution_count": 54,
     "metadata": {},
     "output_type": "execute_result"
    }
   ],
   "source": [
    "tweets_textblob_fg.insert(tweets_textblob_batch)"
   ]
  },
  {
   "cell_type": "code",
   "execution_count": 55,
   "id": "39331233",
   "metadata": {},
   "outputs": [
    {
     "data": {
      "application/vnd.jupyter.widget-view+json": {
       "model_id": "26b99556739547dc9a2107aa4a587e5f",
       "version_major": 2,
       "version_minor": 0
      },
      "text/plain": [
       "Uploading Dataframe: 0.00% |          | Rows 0/643 | Elapsed Time: 00:00 | Remaining Time: ?"
      ]
     },
     "metadata": {},
     "output_type": "display_data"
    },
    {
     "name": "stdout",
     "output_type": "stream",
     "text": [
      "Launching job: bitcoin_tweets_vader_1_offline_fg_materialization\n",
      "Job started successfully, you can follow the progress at \n",
      "https://snurran.hops.works/p/11394/jobs/named/bitcoin_tweets_vader_1_offline_fg_materialization/executions\n"
     ]
    },
    {
     "data": {
      "text/plain": [
       "(<hsfs.core.job.Job at 0x7ff55d1a8520>, None)"
      ]
     },
     "execution_count": 55,
     "metadata": {},
     "output_type": "execute_result"
    }
   ],
   "source": [
    "tweets_vader_fg.insert(tweets_vader_batch)"
   ]
  },
  {
   "cell_type": "markdown",
   "id": "0a55dd67",
   "metadata": {},
   "source": [
    "## <span style=\"color:#ff5f27;\">⏭️ **Next:** Part 03: Training Pipeline </span>\n",
    "\n",
    "In the next notebook you will create a feature view, training dataset, train a model and register it in Hopsworks Model Registry.\n",
    "\n",
    "[![Open In Colab](https://colab.research.google.com/assets/colab-badge.svg)](https://colab.research.google.com/github/logicalclocks/hopsworks-tutorials/blob/master/advanced_tutorials/bitcoin/3_bitcoin_training_pipeline.ipynb)"
   ]
  }
 ],
 "metadata": {
  "kernelspec": {
   "display_name": "Python 3",
   "language": "python",
   "name": "python3"
  },
  "language_info": {
   "codemirror_mode": {
    "name": "ipython",
    "version": 3
   },
   "file_extension": ".py",
   "mimetype": "text/x-python",
   "name": "python",
   "nbconvert_exporter": "python",
   "pygments_lexer": "ipython3",
   "version": "3.10.11"
  }
 },
 "nbformat": 4,
 "nbformat_minor": 5
}
