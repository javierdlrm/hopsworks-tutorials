{
 "cells": [
  {
   "cell_type": "markdown",
   "id": "f6941937",
   "metadata": {},
   "source": [
    "# <span style=\"font-width:bold; font-size: 3rem; color:#1EB182;\"><img src=\"../../images/icon102.png\" width=\"38px\"></img> **Hopsworks Feature Store** </span><span style=\"font-width:bold; font-size: 3rem; color:#333;\">- Part 01: Feature Backfill</span>\n",
    "\n",
    "[![Open In Colab](https://colab.research.google.com/assets/colab-badge.svg)](https://colab.research.google.com/github/logicalclocks/hopsworks-tutorials/blob/master/advanced_tutorials/bitcoin/1_bitcoin_feature_backfill.ipynb)\n",
    "\n",
    "## 🗒️ This notebook is divided into the following sections:\n",
    "1. Fetch historical data.\n",
    "2. Connect to the Hopsworks feature store.\n",
    "3. Create feature groups and insert them to the feature store.\n",
    "\n",
    "![tutorial-flow](../../images/01_featuregroups.png)"
   ]
  },
  {
   "cell_type": "markdown",
   "id": "3ed2980e",
   "metadata": {},
   "source": [
    "---"
   ]
  },
  {
   "cell_type": "markdown",
   "id": "8e7bd3ed",
   "metadata": {},
   "source": [
    "### <span style=\"color:#ff5f27;\"> 📝 Imports</span>"
   ]
  },
  {
   "cell_type": "code",
   "execution_count": null,
   "id": "73739d5c",
   "metadata": {},
   "outputs": [],
   "source": [
    "!pip install -U hopsworks --quiet\n",
    "\n",
    "!pip install -U unicorn-binance-rest-api --quiet\n",
    "!pip install -U python-dotenv --quiet\n",
    "!pip install -U textblob --quiet\n",
    "!pip install -U vaderSentiment --quiet\n",
    "!pip install -U tweepy --quiet\n",
    "!pip install -U plotly --quiet"
   ]
  },
  {
   "cell_type": "code",
   "execution_count": null,
   "id": "cad757ee",
   "metadata": {},
   "outputs": [],
   "source": [
    "!pip install -U unicorn-binance-suite --quiet"
   ]
  },
  {
   "cell_type": "code",
   "execution_count": 1,
   "id": "2dbdb308",
   "metadata": {},
   "outputs": [
    {
     "name": "stdout",
     "output_type": "stream",
     "text": [
      "Local environment\n"
     ]
    }
   ],
   "source": [
    "# Hosted notebook environments may not have the local features package\n",
    "import os\n",
    "\n",
    "def need_download_modules():\n",
    "    if 'google.colab' in str(get_ipython()):\n",
    "        return True\n",
    "    if 'HOPSWORKS_PROJECT_ID' in os.environ:\n",
    "        return True\n",
    "    return False\n",
    "\n",
    "if need_download_modules():\n",
    "    print(\"Downloading modules\")\n",
    "    os.system('mkdir -p features')\n",
    "    os.system('cd features && wget https://raw.githubusercontent.com/logicalclocks/hopsworks-tutorials/master/advanced_tutorials/bitcoin/features/bitcoin_price.py')\n",
    "    os.system('cd features && wget https://raw.githubusercontent.com/logicalclocks/hopsworks-tutorials/master/advanced_tutorials/bitcoin/features/tweets.py')\n",
    "else:\n",
    "    print(\"Local environment\")"
   ]
  },
  {
   "cell_type": "code",
   "execution_count": 2,
   "id": "c2b982b4",
   "metadata": {},
   "outputs": [],
   "source": [
    "# Uncomment and fill in if you are running on Colab\n",
    "os.environ['TWITTER_API_KEY'] = 'ZAIeNMmR0iwEhxyrKWzfB3mwT'\n",
    "os.environ['TWITTER_API_SECRET'] = 'SGNOmB6zebv6IO2I05hiuFypKwv6DRgGi1s5NLi2KT5y9VgMIo'\n",
    "os.environ['TWITTER_ACCESS_TOKEN'] = '1535178833435021317-9XZOFOHnNUXYuq08JHC3GW0p1Vanom'\n",
    "os.environ['TWITTER_ACCESS_TOKEN_SECRET'] = 's7lz5HUTBz8yffYGgDiyHBNbXQuPGqMopmN6fmeiyXZOg'\n",
    "\n",
    "os.environ['BINANCE_API_KEY'] = 'w3IvBp92KAbrmu1ZjjDiYI4Ev5vTqtRTOkr28tkRBS3iH3z4B0FidCk4JxB6dWjZ'\n",
    "os.environ['BINANCE_API_SECRET'] = 'f1RC3X5yuWbtzQMBVTl0LwDPTacK1BiLPXcUwwfXTenxh4TcJZ04qXAMik8FYmWp'"
   ]
  },
  {
   "cell_type": "code",
   "execution_count": 3,
   "id": "4df97210",
   "metadata": {
    "scrolled": true
   },
   "outputs": [
    {
     "name": "stdout",
     "output_type": "stream",
     "text": [
      "Importing tweets\n",
      " - tweepy\n",
      " - vaderSentiment\n",
      " - nltk\n"
     ]
    },
    {
     "name": "stderr",
     "output_type": "stream",
     "text": [
      "[nltk_data] Downloading package stopwords to\n",
      "[nltk_data]     /home/javierdlrm/nltk_data...\n",
      "[nltk_data]   Package stopwords is already up-to-date!\n",
      "[nltk_data] Downloading package wordnet to\n",
      "[nltk_data]     /home/javierdlrm/nltk_data...\n",
      "[nltk_data]   Package wordnet is already up-to-date!\n",
      "[nltk_data] Downloading package omw-1.4 to\n",
      "[nltk_data]     /home/javierdlrm/nltk_data...\n",
      "[nltk_data]   Package omw-1.4 is already up-to-date!\n"
     ]
    }
   ],
   "source": [
    "import pandas as pd\n",
    "\n",
    "from features import bitcoin_price, tweets"
   ]
  },
  {
   "cell_type": "markdown",
   "id": "64257bfe",
   "metadata": {
    "tags": []
   },
   "source": [
    "---\n",
    "## <span style=\"color:#ff5f27;\"> 🧙🏼‍♂️ Parsing Data</span>"
   ]
  },
  {
   "cell_type": "markdown",
   "id": "89d0af4b-4ecf-4505-8bd2-f1e0637da879",
   "metadata": {},
   "source": [
    "You will parse timeseries Bitcoin data from Binance using your own credentials, so you have to get a free Binance account and [create API-keys](https://www.binance.com/en/support/faq/360002502072).\n",
    "\n",
    "Also, you should [contact Twitter](https://developer.twitter.com/en/docs/twitter-api/getting-started/getting-access-to-the-twitter-api) for their API-keys.\n",
    "\n",
    "\n",
    "#### Don't forget to create an `.env` configuration file inside this directory where all the necessary environment variables will be stored:\n",
    "\n",
    "`TWITTER_API_KEY = \"YOUR_API_KEY\"`\n",
    "\n",
    "`TWITTER_API_SECRET = \"YOUR_API_KEY\"`\n",
    "\n",
    "`TWITTER_ACCESS_TOKEN = \"YOUR_API_KEY\"`\n",
    "\n",
    "`TWITTER_ACCESS_TOKEN_SECRET = \"YOUR_API_KEY\"`\n",
    "\n",
    "\n",
    "`BINANCE_API_KEY = \"YOUR_API_KEY\"`\n",
    "\n",
    "`BINANCE_API_SECRET = \"YOUR_API_KEY\"`\n",
    "\n",
    "> If you done it after you run this notebook, restart the Python Kernel (because `functions.py` does not have these variables in his namespace).\n",
    "\n",
    "![](images/api_keys_env_file.png)"
   ]
  },
  {
   "cell_type": "markdown",
   "id": "0daf36bd",
   "metadata": {},
   "source": [
    "### <span style='color:#ff5f27'> 📈 Bitcoin Data parsing"
   ]
  },
  {
   "cell_type": "code",
   "execution_count": 4,
   "id": "8fae36c0",
   "metadata": {},
   "outputs": [
    {
     "name": "stdout",
     "output_type": "stream",
     "text": [
      "\n",
      "Parsed 1171 rows.\n",
      "\n"
     ]
    },
    {
     "data": {
      "text/html": [
       "<div>\n",
       "<style scoped>\n",
       "    .dataframe tbody tr th:only-of-type {\n",
       "        vertical-align: middle;\n",
       "    }\n",
       "\n",
       "    .dataframe tbody tr th {\n",
       "        vertical-align: top;\n",
       "    }\n",
       "\n",
       "    .dataframe thead th {\n",
       "        text-align: right;\n",
       "    }\n",
       "</style>\n",
       "<table border=\"1\" class=\"dataframe\">\n",
       "  <thead>\n",
       "    <tr style=\"text-align: right;\">\n",
       "      <th></th>\n",
       "      <th>date</th>\n",
       "      <th>open</th>\n",
       "      <th>high</th>\n",
       "      <th>low</th>\n",
       "      <th>close</th>\n",
       "      <th>volume</th>\n",
       "      <th>quote_av</th>\n",
       "      <th>trades</th>\n",
       "      <th>tb_base_av</th>\n",
       "      <th>tb_quote_av</th>\n",
       "      <th>unix</th>\n",
       "    </tr>\n",
       "  </thead>\n",
       "  <tbody>\n",
       "    <tr>\n",
       "      <th>0</th>\n",
       "      <td>2021-02-05 00:00:00</td>\n",
       "      <td>36936.65</td>\n",
       "      <td>38310.12</td>\n",
       "      <td>36570.00</td>\n",
       "      <td>38290.24</td>\n",
       "      <td>66681.334275</td>\n",
       "      <td>2.509278e+09</td>\n",
       "      <td>1853253</td>\n",
       "      <td>32756.385031</td>\n",
       "      <td>1.232714e+09</td>\n",
       "      <td>1612479600000</td>\n",
       "    </tr>\n",
       "    <tr>\n",
       "      <th>1</th>\n",
       "      <td>2021-02-06 00:00:00</td>\n",
       "      <td>38289.32</td>\n",
       "      <td>40955.51</td>\n",
       "      <td>38215.94</td>\n",
       "      <td>39186.94</td>\n",
       "      <td>98757.311183</td>\n",
       "      <td>3.922095e+09</td>\n",
       "      <td>2291646</td>\n",
       "      <td>52015.513362</td>\n",
       "      <td>2.065181e+09</td>\n",
       "      <td>1612566000000</td>\n",
       "    </tr>\n",
       "    <tr>\n",
       "      <th>2</th>\n",
       "      <td>2021-02-07 00:00:00</td>\n",
       "      <td>39181.01</td>\n",
       "      <td>39700.00</td>\n",
       "      <td>37351.00</td>\n",
       "      <td>38795.69</td>\n",
       "      <td>84363.679763</td>\n",
       "      <td>3.256521e+09</td>\n",
       "      <td>1976357</td>\n",
       "      <td>40764.388959</td>\n",
       "      <td>1.574483e+09</td>\n",
       "      <td>1612652400000</td>\n",
       "    </tr>\n",
       "  </tbody>\n",
       "</table>\n",
       "</div>"
      ],
      "text/plain": [
       "                  date      open      high       low     close        volume  \\\n",
       "0  2021-02-05 00:00:00  36936.65  38310.12  36570.00  38290.24  66681.334275   \n",
       "1  2021-02-06 00:00:00  38289.32  40955.51  38215.94  39186.94  98757.311183   \n",
       "2  2021-02-07 00:00:00  39181.01  39700.00  37351.00  38795.69  84363.679763   \n",
       "\n",
       "       quote_av   trades    tb_base_av   tb_quote_av           unix  \n",
       "0  2.509278e+09  1853253  32756.385031  1.232714e+09  1612479600000  \n",
       "1  3.922095e+09  2291646  52015.513362  2.065181e+09  1612566000000  \n",
       "2  3.256521e+09  1976357  40764.388959  1.574483e+09  1612652400000  "
      ]
     },
     "execution_count": 4,
     "metadata": {},
     "output_type": "execute_result"
    }
   ],
   "source": [
    "# we work with tweets newer then '2021-02-05'\n",
    "df_bitcoin = bitcoin_price.parse_btc_data(\n",
    "    start_date=\"2021-02-05\", #\"2024-01-05\", \n",
    "    end_date=\"today\",\n",
    ")\n",
    "\n",
    "df_bitcoin.reset_index(drop=True,inplace=True)\n",
    "\n",
    "print()\n",
    "print(f\"Parsed {df_bitcoin.shape[0]} rows.\")\n",
    "print()\n",
    "\n",
    "df_bitcoin.head(3)"
   ]
  },
  {
   "cell_type": "code",
   "execution_count": 5,
   "id": "c258372f",
   "metadata": {
    "scrolled": true
   },
   "outputs": [
    {
     "data": {
      "text/html": [
       "<div>\n",
       "<style scoped>\n",
       "    .dataframe tbody tr th:only-of-type {\n",
       "        vertical-align: middle;\n",
       "    }\n",
       "\n",
       "    .dataframe tbody tr th {\n",
       "        vertical-align: top;\n",
       "    }\n",
       "\n",
       "    .dataframe thead th {\n",
       "        text-align: right;\n",
       "    }\n",
       "</style>\n",
       "<table border=\"1\" class=\"dataframe\">\n",
       "  <thead>\n",
       "    <tr style=\"text-align: right;\">\n",
       "      <th></th>\n",
       "      <th>date</th>\n",
       "      <th>open</th>\n",
       "      <th>high</th>\n",
       "      <th>low</th>\n",
       "      <th>close</th>\n",
       "      <th>volume</th>\n",
       "      <th>quote_av</th>\n",
       "      <th>trades</th>\n",
       "      <th>tb_base_av</th>\n",
       "      <th>tb_quote_av</th>\n",
       "      <th>...</th>\n",
       "      <th>exp_std_14_days</th>\n",
       "      <th>momentum_14_days</th>\n",
       "      <th>rate_of_change_14_days</th>\n",
       "      <th>strength_index_14_days</th>\n",
       "      <th>std_56_days</th>\n",
       "      <th>exp_mean_56_days</th>\n",
       "      <th>exp_std_56_days</th>\n",
       "      <th>momentum_56_days</th>\n",
       "      <th>rate_of_change_56_days</th>\n",
       "      <th>strength_index_56_days</th>\n",
       "    </tr>\n",
       "  </thead>\n",
       "  <tbody>\n",
       "    <tr>\n",
       "      <th>1168</th>\n",
       "      <td>2024-04-18</td>\n",
       "      <td>61277.38</td>\n",
       "      <td>64117.09</td>\n",
       "      <td>60803.35</td>\n",
       "      <td>63470.08</td>\n",
       "      <td>43601.60918</td>\n",
       "      <td>2.726741e+09</td>\n",
       "      <td>2142511</td>\n",
       "      <td>20870.20705</td>\n",
       "      <td>1.305027e+09</td>\n",
       "      <td>...</td>\n",
       "      <td>3272.959638</td>\n",
       "      <td>-5017.71</td>\n",
       "      <td>-6.414775</td>\n",
       "      <td>43.950640</td>\n",
       "      <td>5129.861015</td>\n",
       "      <td>63864.319253</td>\n",
       "      <td>8378.145402</td>\n",
       "      <td>12181.66</td>\n",
       "      <td>25.078615</td>\n",
       "      <td>53.668408</td>\n",
       "    </tr>\n",
       "    <tr>\n",
       "      <th>1169</th>\n",
       "      <td>2024-04-19</td>\n",
       "      <td>63470.09</td>\n",
       "      <td>65450.00</td>\n",
       "      <td>59600.01</td>\n",
       "      <td>63818.01</td>\n",
       "      <td>69774.30271</td>\n",
       "      <td>4.419893e+09</td>\n",
       "      <td>2828284</td>\n",
       "      <td>34941.50216</td>\n",
       "      <td>2.214810e+09</td>\n",
       "      <td>...</td>\n",
       "      <td>3122.122782</td>\n",
       "      <td>-4002.61</td>\n",
       "      <td>-7.370515</td>\n",
       "      <td>44.757668</td>\n",
       "      <td>4705.824240</td>\n",
       "      <td>63862.694367</td>\n",
       "      <td>8229.852416</td>\n",
       "      <td>13073.86</td>\n",
       "      <td>23.754533</td>\n",
       "      <td>53.869795</td>\n",
       "    </tr>\n",
       "    <tr>\n",
       "      <th>1170</th>\n",
       "      <td>2024-04-20</td>\n",
       "      <td>63818.01</td>\n",
       "      <td>64268.58</td>\n",
       "      <td>63090.07</td>\n",
       "      <td>63907.69</td>\n",
       "      <td>12631.74338</td>\n",
       "      <td>8.057937e+08</td>\n",
       "      <td>742745</td>\n",
       "      <td>6414.37977</td>\n",
       "      <td>4.092027e+08</td>\n",
       "      <td>...</td>\n",
       "      <td>2959.713754</td>\n",
       "      <td>-4988.31</td>\n",
       "      <td>-7.861403</td>\n",
       "      <td>44.977579</td>\n",
       "      <td>4279.200486</td>\n",
       "      <td>63864.273161</td>\n",
       "      <td>8084.184116</td>\n",
       "      <td>12339.47</td>\n",
       "      <td>23.543613</td>\n",
       "      <td>53.922357</td>\n",
       "    </tr>\n",
       "  </tbody>\n",
       "</table>\n",
       "<p>3 rows × 32 columns</p>\n",
       "</div>"
      ],
      "text/plain": [
       "           date      open      high       low     close       volume  \\\n",
       "1168 2024-04-18  61277.38  64117.09  60803.35  63470.08  43601.60918   \n",
       "1169 2024-04-19  63470.09  65450.00  59600.01  63818.01  69774.30271   \n",
       "1170 2024-04-20  63818.01  64268.58  63090.07  63907.69  12631.74338   \n",
       "\n",
       "          quote_av   trades   tb_base_av   tb_quote_av  ...  exp_std_14_days  \\\n",
       "1168  2.726741e+09  2142511  20870.20705  1.305027e+09  ...      3272.959638   \n",
       "1169  4.419893e+09  2828284  34941.50216  2.214810e+09  ...      3122.122782   \n",
       "1170  8.057937e+08   742745   6414.37977  4.092027e+08  ...      2959.713754   \n",
       "\n",
       "      momentum_14_days  rate_of_change_14_days  strength_index_14_days  \\\n",
       "1168          -5017.71               -6.414775               43.950640   \n",
       "1169          -4002.61               -7.370515               44.757668   \n",
       "1170          -4988.31               -7.861403               44.977579   \n",
       "\n",
       "      std_56_days  exp_mean_56_days  exp_std_56_days  momentum_56_days  \\\n",
       "1168  5129.861015      63864.319253      8378.145402          12181.66   \n",
       "1169  4705.824240      63862.694367      8229.852416          13073.86   \n",
       "1170  4279.200486      63864.273161      8084.184116          12339.47   \n",
       "\n",
       "      rate_of_change_56_days  strength_index_56_days  \n",
       "1168               25.078615               53.668408  \n",
       "1169               23.754533               53.869795  \n",
       "1170               23.543613               53.922357  \n",
       "\n",
       "[3 rows x 32 columns]"
      ]
     },
     "execution_count": 5,
     "metadata": {},
     "output_type": "execute_result"
    }
   ],
   "source": [
    "df_bitcoin_processed = bitcoin_price.process_btc_data(df_bitcoin)\n",
    "df_bitcoin_processed.tail(3)"
   ]
  },
  {
   "cell_type": "markdown",
   "id": "f7519a6d",
   "metadata": {},
   "source": [
    "> Older records may come with time=11pm or time=9pm, but new ones have time=10pm. Thats because of timezones and daylight saving time. Lets apply this function to make unix column usable."
   ]
  },
  {
   "cell_type": "code",
   "execution_count": 6,
   "id": "9303f1d9",
   "metadata": {},
   "outputs": [],
   "source": [
    "df_bitcoin_processed.unix = df_bitcoin_processed.unix.apply(bitcoin_price.fix_unix)"
   ]
  },
  {
   "cell_type": "code",
   "execution_count": 7,
   "id": "865e3081-f596-4877-9938-98d2a2e9eece",
   "metadata": {},
   "outputs": [],
   "source": [
    "df_bitcoin_processed.date = df_bitcoin_processed.date.astype(str)"
   ]
  },
  {
   "cell_type": "markdown",
   "id": "bf93d06f",
   "metadata": {},
   "source": [
    "### <span style='color:#ff5f27'> 💭 Tweets Data"
   ]
  },
  {
   "cell_type": "code",
   "execution_count": null,
   "id": "152070ef",
   "metadata": {},
   "outputs": [],
   "source": [
    "tweets_textblob = pd.read_csv(\"https://repo.hops.works/dev/davit/bitcoin/tweets_textblob.csv\")\n",
    "tweets_textblob.unix = tweets_textblob.unix.apply(tweets.fix_unix)"
   ]
  },
  {
   "cell_type": "code",
   "execution_count": null,
   "id": "3c13f7ee",
   "metadata": {},
   "outputs": [],
   "source": [
    "tweets_vader = pd.read_csv(\"https://repo.hops.works/dev/davit/bitcoin/tweets_vader.csv\")\n",
    "tweets_vader.unix = tweets_vader.unix.apply(tweets.fix_unix)"
   ]
  },
  {
   "cell_type": "code",
   "execution_count": null,
   "id": "9b101425",
   "metadata": {},
   "outputs": [],
   "source": [
    "tweets_textblob.date = tweets_textblob.date.apply(lambda x: x[:10])\n",
    "tweets_vader.date = tweets_vader.date.apply(lambda x: x[:10])\n",
    "\n",
    "tweets_textblob.drop(tweets_textblob.columns[0],axis=1,inplace=True)\n",
    "tweets_vader.drop(tweets_vader.columns[0],axis=1,inplace=True)"
   ]
  },
  {
   "cell_type": "code",
   "execution_count": null,
   "id": "78225d90-a676-4622-8a11-21ed82014a97",
   "metadata": {},
   "outputs": [],
   "source": [
    "tweets_textblob.tail(3)"
   ]
  },
  {
   "cell_type": "code",
   "execution_count": null,
   "id": "d93df826-c48a-40c4-bdd6-878474fa01d4",
   "metadata": {},
   "outputs": [],
   "source": [
    "tweets_vader.tail(3)"
   ]
  },
  {
   "cell_type": "markdown",
   "id": "81d0f608",
   "metadata": {},
   "source": [
    "---"
   ]
  },
  {
   "cell_type": "markdown",
   "id": "ad04e49a",
   "metadata": {},
   "source": [
    "## <span style=\"color:#ff5f27;\"> 📡 Connecting to the Hopsworks Feature Store </span>"
   ]
  },
  {
   "cell_type": "code",
   "execution_count": null,
   "id": "05499fe9",
   "metadata": {},
   "outputs": [],
   "source": [
    "!pip uninstall hopsworks hsfs hsml -y\n",
    "!pip install --no-cache --upgrade hopsworks==3.7.0 --quiet"
   ]
  },
  {
   "cell_type": "code",
   "execution_count": null,
   "id": "b4c90c57",
   "metadata": {},
   "outputs": [],
   "source": [
    "import hopsworks\n",
    "hopsworks.version.__version__"
   ]
  },
  {
   "cell_type": "code",
   "execution_count": null,
   "id": "dad669b7",
   "metadata": {},
   "outputs": [],
   "source": [
    "import hopsworks\n",
    "\n",
    "# project = hopsworks.login()\n",
    "# project = hopsworks.login(\n",
    "#     host=\"127.0.0.1\",\n",
    "#     port=\"8181\",\n",
    "#     project=\"BinanceFunctionCalling\",\n",
    "#     api_key_value=\"If1pZaYvBO4vFrXP.9JmiCchSUYcyjeRT9rYcbl2KcAUvfNW0Wd81ETdeRdVdgSuB1taPB11DwIIx4vkd\"\n",
    "# )\n",
    "project = hopsworks.login(\n",
    "    host=\"snurran.hops.works\",\n",
    "    project=\"bitcoin_function_calling\",\n",
    "    api_key_value=\"fvXq78IOAB91Wb1t.JGlQSTTdBz4yzBc1eVjxjKxtzei6DnksLcfirR2y54t1g7pcNv3tXHUHoymZ1rJ6\"\n",
    ")\n",
    "\n",
    "fs = project.get_feature_store()"
   ]
  },
  {
   "cell_type": "markdown",
   "id": "9958dad6",
   "metadata": {},
   "source": [
    "## <span style=\"color:#ff5f27;\"> 🪄 Creating Feature Groups </span>"
   ]
  },
  {
   "cell_type": "markdown",
   "id": "d010da72",
   "metadata": {},
   "source": [
    "### <span style='color:#ff5f27'> 📈 Bitcoin Price Feature Group"
   ]
  },
  {
   "cell_type": "code",
   "execution_count": null,
   "id": "ea4a4018",
   "metadata": {
    "scrolled": true
   },
   "outputs": [],
   "source": [
    "btc_price_fg = fs.get_or_create_feature_group(\n",
    "    name='bitcoin_price',\n",
    "    description='Bitcoin price aggregated for days',\n",
    "    version=1,\n",
    "    primary_key=['unix'],\n",
    "    online_enabled=True,\n",
    "    event_time='unix',\n",
    ")\n",
    "\n",
    "btc_price_fg.insert(df_bitcoin_processed)"
   ]
  },
  {
   "cell_type": "markdown",
   "id": "f5e00b6c",
   "metadata": {},
   "source": [
    "### <span style='color:#ff5f27'> 💭 Tweets Feature Groups"
   ]
  },
  {
   "cell_type": "code",
   "execution_count": null,
   "id": "fdcc2c10",
   "metadata": {},
   "outputs": [],
   "source": [
    "tweets_textblob_fg = fs.get_or_create_feature_group(\n",
    "    name='bitcoin_tweets_textblob',\n",
    "    version=1,\n",
    "    primary_key=['unix'],\n",
    "    online_enabled=True,\n",
    "    event_time='unix',\n",
    ")\n",
    "\n",
    "tweets_textblob_fg.insert(tweets_textblob)"
   ]
  },
  {
   "cell_type": "code",
   "execution_count": null,
   "id": "a47bf43b",
   "metadata": {},
   "outputs": [],
   "source": [
    "tweets_vader_fg = fs.get_or_create_feature_group(\n",
    "    name='bitcoin_tweets_vader',\n",
    "    version=1,\n",
    "    primary_key=['unix'],\n",
    "    online_enabled=True,\n",
    "    event_time='unix',\n",
    ")\n",
    "\n",
    "tweets_vader_fg.insert(tweets_vader)"
   ]
  },
  {
   "cell_type": "markdown",
   "id": "fe294724",
   "metadata": {},
   "source": [
    "## <span style=\"color:#ff5f27;\">⏭️ **Next:** Part 02: Feature Pipeline</span>\n",
    "\n",
    "In the next notebook you will be parsing new monthly data for the Feature Groups.\n",
    "\n",
    "[![Open In Colab](https://colab.research.google.com/assets/colab-badge.svg)](https://colab.research.google.com/github/logicalclocks/hopsworks-tutorials/blob/master/advanced_tutorials/bitcoin/2_bitcoin_feature_pipeline.ipynb)"
   ]
  }
 ],
 "metadata": {
  "kernelspec": {
   "display_name": "Python 3 (ipykernel)",
   "language": "python",
   "name": "python3"
  },
  "language_info": {
   "codemirror_mode": {
    "name": "ipython",
    "version": 3
   },
   "file_extension": ".py",
   "mimetype": "text/x-python",
   "name": "python",
   "nbconvert_exporter": "python",
   "pygments_lexer": "ipython3",
   "version": "3.10.13"
  }
 },
 "nbformat": 4,
 "nbformat_minor": 5
}
