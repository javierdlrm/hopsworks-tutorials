{
 "cells": [
  {
   "cell_type": "markdown",
   "id": "17f991f3",
   "metadata": {},
   "source": [
    "# <span style=\"font-width:bold; font-size: 3rem; color:#1EB182;\"><img src=\"../../images/icon102.png\" width=\"38px\"></img> **Hopsworks Feature Store** </span><span style=\"font-width:bold; font-size: 3rem; color:#333;\">- Part 03: Training Pipeline</span>\n",
    "\n",
    "[![Open In Colab](https://colab.research.google.com/assets/colab-badge.svg)](https://colab.research.google.com/github/logicalclocks/hopsworks-tutorials/blob/master/advanced_tutorials/bitcoin/3_bitcoin_training_pipeline.ipynb)\n",
    "\n",
    "<span style=\"font-width:bold; font-size: 1.4rem;\">This is the third part of advanced tutorials about Hopsworks Feature Store. This notebook explains how to read from a feature group, create training dataset within the feature store, train a model, register it in Hopsworks Model Registry and then use for batch predictions.</span>\n",
    "\n",
    "## 🗒️ This notebook is divided into the following sections: \n",
    "\n",
    "1. Fetch Feature Groups.\n",
    "2. Define Transformation functions.\n",
    "3. Create Feature Views.\n",
    "4. Create Training Dataset with training, validation and test splits.\n",
    "5. Train the model.\n",
    "6. Register model in Hopsworks model registry.\n",
    "7. Online model deployment.\n",
    "\n",
    "![part2](../../images/02_training-dataset.png) "
   ]
  },
  {
   "cell_type": "markdown",
   "id": "cb26879f",
   "metadata": {},
   "source": [
    "### <span style=\"color:#ff5f27;\"> 📝 Imports</span>"
   ]
  },
  {
   "cell_type": "code",
   "execution_count": null,
   "id": "0864725e",
   "metadata": {},
   "outputs": [],
   "source": [
    "!pip install -U hopsworks --quiet\n",
    "!pip install -U tensorflow==2.11.0 --quiet"
   ]
  },
  {
   "cell_type": "code",
   "execution_count": 1,
   "id": "c1ce9346",
   "metadata": {},
   "outputs": [
    {
     "name": "stderr",
     "output_type": "stream",
     "text": [
      "2024-04-20 14:58:41.774574: I tensorflow/core/platform/cpu_feature_guard.cc:193] This TensorFlow binary is optimized with oneAPI Deep Neural Network Library (oneDNN) to use the following CPU instructions in performance-critical operations:  AVX2 AVX_VNNI FMA\n",
      "To enable them in other operations, rebuild TensorFlow with the appropriate compiler flags.\n",
      "2024-04-20 14:58:41.963949: I tensorflow/core/util/port.cc:104] oneDNN custom operations are on. You may see slightly different numerical results due to floating-point round-off errors from different computation orders. To turn them off, set the environment variable `TF_ENABLE_ONEDNN_OPTS=0`.\n",
      "2024-04-20 14:58:41.994940: W tensorflow/compiler/xla/stream_executor/platform/default/dso_loader.cc:64] Could not load dynamic library 'libcudart.so.11.0'; dlerror: libcudart.so.11.0: cannot open shared object file: No such file or directory\n",
      "2024-04-20 14:58:41.994951: I tensorflow/compiler/xla/stream_executor/cuda/cudart_stub.cc:29] Ignore above cudart dlerror if you do not have a GPU set up on your machine.\n",
      "2024-04-20 14:58:42.770073: W tensorflow/compiler/xla/stream_executor/platform/default/dso_loader.cc:64] Could not load dynamic library 'libnvinfer.so.7'; dlerror: libnvinfer.so.7: cannot open shared object file: No such file or directory\n",
      "2024-04-20 14:58:42.770126: W tensorflow/compiler/xla/stream_executor/platform/default/dso_loader.cc:64] Could not load dynamic library 'libnvinfer_plugin.so.7'; dlerror: libnvinfer_plugin.so.7: cannot open shared object file: No such file or directory\n",
      "2024-04-20 14:58:42.770130: W tensorflow/compiler/tf2tensorrt/utils/py_utils.cc:38] TF-TRT Warning: Cannot dlopen some TensorRT libraries. If you would like to use Nvidia GPU with TensorRT, please make sure the missing libraries mentioned above are installed properly.\n"
     ]
    }
   ],
   "source": [
    "import time\n",
    "import datetime\n",
    "import os\n",
    "\n",
    "import tensorflow as tf\n",
    "import pandas as pd\n",
    "import numpy as np\n",
    "\n",
    "import matplotlib.pyplot as plt"
   ]
  },
  {
   "cell_type": "code",
   "execution_count": 2,
   "id": "fa9e77a6-d4a5-44fc-b43d-a27e6025747e",
   "metadata": {},
   "outputs": [
    {
     "name": "stderr",
     "output_type": "stream",
     "text": [
      "/tmp/ipykernel_15449/2084168556.py:7: DeprecationWarning: `set_matplotlib_formats` is deprecated since IPython 7.23, directly use `matplotlib_inline.backend_inline.set_matplotlib_formats()`\n",
      "  set_matplotlib_formats('retina')\n"
     ]
    }
   ],
   "source": [
    "from __future__ import print_function\n",
    "\n",
    "%config InlineBackend.figure_format='retina'\n",
    "%matplotlib inline\n",
    "\n",
    "from IPython.display import set_matplotlib_formats\n",
    "set_matplotlib_formats('retina')\n",
    "import inspect \n",
    "\n",
    "import warnings\n",
    "warnings.filterwarnings('ignore')"
   ]
  },
  {
   "cell_type": "markdown",
   "id": "1dbfb4b9",
   "metadata": {},
   "source": [
    "---"
   ]
  },
  {
   "cell_type": "markdown",
   "id": "09d58833",
   "metadata": {},
   "source": [
    "## <span style=\"color:#ff5f27;\"> 📡 Connecting to the Hopsworks Feature Store </span>"
   ]
  },
  {
   "cell_type": "code",
   "execution_count": 3,
   "id": "a6a94824",
   "metadata": {
    "scrolled": true
   },
   "outputs": [
    {
     "name": "stdout",
     "output_type": "stream",
     "text": [
      "Connected. Call `.close()` to terminate connection gracefully.\n",
      "\n",
      "Logged in to project, explore it here https://127.0.0.1:8181/p/122\n",
      "Connected. Call `.close()` to terminate connection gracefully.\n"
     ]
    }
   ],
   "source": [
    "import hopsworks\n",
    "\n",
    "project = hopsworks.login(\n",
    "    host=\"127.0.0.1\",\n",
    "    port=\"8181\",\n",
    "    project=\"BinanceFunctionCalling\",\n",
    "    api_key_value=\"If1pZaYvBO4vFrXP.9JmiCchSUYcyjeRT9rYcbl2KcAUvfNW0Wd81ETdeRdVdgSuB1taPB11DwIIx4vkd\"\n",
    ")\n",
    "\n",
    "fs = project.get_feature_store()"
   ]
  },
  {
   "cell_type": "code",
   "execution_count": 4,
   "id": "ea412aca",
   "metadata": {},
   "outputs": [
    {
     "name": "stdout",
     "output_type": "stream",
     "text": [
      "WARNING:py.warnings:DeprecationWarning: ssl.PROTOCOL_TLS is deprecated\n",
      "\n",
      "Finished: Reading data from Hopsworks, using Hive (1.61s) \n"
     ]
    },
    {
     "data": {
      "text/html": [
       "<div>\n",
       "<style scoped>\n",
       "    .dataframe tbody tr th:only-of-type {\n",
       "        vertical-align: middle;\n",
       "    }\n",
       "\n",
       "    .dataframe tbody tr th {\n",
       "        vertical-align: top;\n",
       "    }\n",
       "\n",
       "    .dataframe thead th {\n",
       "        text-align: right;\n",
       "    }\n",
       "</style>\n",
       "<table border=\"1\" class=\"dataframe\">\n",
       "  <thead>\n",
       "    <tr style=\"text-align: right;\">\n",
       "      <th></th>\n",
       "      <th>date</th>\n",
       "      <th>open</th>\n",
       "      <th>high</th>\n",
       "      <th>low</th>\n",
       "      <th>close</th>\n",
       "      <th>volume</th>\n",
       "      <th>quote_av</th>\n",
       "      <th>trades</th>\n",
       "      <th>tb_base_av</th>\n",
       "      <th>tb_quote_av</th>\n",
       "      <th>...</th>\n",
       "      <th>exp_std_14_days</th>\n",
       "      <th>momentum_14_days</th>\n",
       "      <th>rate_of_change_14_days</th>\n",
       "      <th>strength_index_14_days</th>\n",
       "      <th>std_56_days</th>\n",
       "      <th>exp_mean_56_days</th>\n",
       "      <th>exp_std_56_days</th>\n",
       "      <th>momentum_56_days</th>\n",
       "      <th>rate_of_change_56_days</th>\n",
       "      <th>strength_index_56_days</th>\n",
       "    </tr>\n",
       "  </thead>\n",
       "  <tbody>\n",
       "    <tr>\n",
       "      <th>0</th>\n",
       "      <td>2024-01-29</td>\n",
       "      <td>42031.05</td>\n",
       "      <td>43333.00</td>\n",
       "      <td>41804.88</td>\n",
       "      <td>43302.70</td>\n",
       "      <td>31542.74207</td>\n",
       "      <td>1.343462e+09</td>\n",
       "      <td>1197856</td>\n",
       "      <td>15996.88627</td>\n",
       "      <td>6.815047e+08</td>\n",
       "      <td>...</td>\n",
       "      <td>1541.663335</td>\n",
       "      <td>791.60</td>\n",
       "      <td>0.381914</td>\n",
       "      <td>55.594233</td>\n",
       "      <td>1549.201847</td>\n",
       "      <td>41606.561619</td>\n",
       "      <td>3453.983926</td>\n",
       "      <td>1311.60</td>\n",
       "      <td>-1.748495</td>\n",
       "      <td>55.666293</td>\n",
       "    </tr>\n",
       "    <tr>\n",
       "      <th>1</th>\n",
       "      <td>2024-01-19</td>\n",
       "      <td>41327.51</td>\n",
       "      <td>42196.86</td>\n",
       "      <td>40280.00</td>\n",
       "      <td>41659.03</td>\n",
       "      <td>48342.74559</td>\n",
       "      <td>1.993846e+09</td>\n",
       "      <td>1641428</td>\n",
       "      <td>24347.50020</td>\n",
       "      <td>1.004479e+09</td>\n",
       "      <td>...</td>\n",
       "      <td>1675.924939</td>\n",
       "      <td>-2486.08</td>\n",
       "      <td>-5.252168</td>\n",
       "      <td>43.562788</td>\n",
       "      <td>2270.970318</td>\n",
       "      <td>41749.072147</td>\n",
       "      <td>4044.207989</td>\n",
       "      <td>3945.46</td>\n",
       "      <td>10.265461</td>\n",
       "      <td>54.004663</td>\n",
       "    </tr>\n",
       "    <tr>\n",
       "      <th>2</th>\n",
       "      <td>2024-01-28</td>\n",
       "      <td>42120.63</td>\n",
       "      <td>42842.68</td>\n",
       "      <td>41620.81</td>\n",
       "      <td>42031.06</td>\n",
       "      <td>27294.99838</td>\n",
       "      <td>1.154366e+09</td>\n",
       "      <td>1032493</td>\n",
       "      <td>12971.18820</td>\n",
       "      <td>5.486703e+08</td>\n",
       "      <td>...</td>\n",
       "      <td>1534.866851</td>\n",
       "      <td>298.71</td>\n",
       "      <td>-1.129211</td>\n",
       "      <td>49.569965</td>\n",
       "      <td>1553.288549</td>\n",
       "      <td>41544.883859</td>\n",
       "      <td>3500.490526</td>\n",
       "      <td>2058.80</td>\n",
       "      <td>0.095163</td>\n",
       "      <td>54.142138</td>\n",
       "    </tr>\n",
       "  </tbody>\n",
       "</table>\n",
       "<p>3 rows × 32 columns</p>\n",
       "</div>"
      ],
      "text/plain": [
       "         date      open      high       low     close       volume  \\\n",
       "0  2024-01-29  42031.05  43333.00  41804.88  43302.70  31542.74207   \n",
       "1  2024-01-19  41327.51  42196.86  40280.00  41659.03  48342.74559   \n",
       "2  2024-01-28  42120.63  42842.68  41620.81  42031.06  27294.99838   \n",
       "\n",
       "       quote_av   trades   tb_base_av   tb_quote_av  ...  exp_std_14_days  \\\n",
       "0  1.343462e+09  1197856  15996.88627  6.815047e+08  ...      1541.663335   \n",
       "1  1.993846e+09  1641428  24347.50020  1.004479e+09  ...      1675.924939   \n",
       "2  1.154366e+09  1032493  12971.18820  5.486703e+08  ...      1534.866851   \n",
       "\n",
       "   momentum_14_days  rate_of_change_14_days  strength_index_14_days  \\\n",
       "0            791.60                0.381914               55.594233   \n",
       "1          -2486.08               -5.252168               43.562788   \n",
       "2            298.71               -1.129211               49.569965   \n",
       "\n",
       "   std_56_days  exp_mean_56_days  exp_std_56_days  momentum_56_days  \\\n",
       "0  1549.201847      41606.561619      3453.983926           1311.60   \n",
       "1  2270.970318      41749.072147      4044.207989           3945.46   \n",
       "2  1553.288549      41544.883859      3500.490526           2058.80   \n",
       "\n",
       "   rate_of_change_56_days  strength_index_56_days  \n",
       "0               -1.748495               55.666293  \n",
       "1               10.265461               54.004663  \n",
       "2                0.095163               54.142138  \n",
       "\n",
       "[3 rows x 32 columns]"
      ]
     },
     "execution_count": 4,
     "metadata": {},
     "output_type": "execute_result"
    }
   ],
   "source": [
    "btc_price_fg = fs.get_or_create_feature_group(\n",
    "    name='bitcoin_price',\n",
    "    version=1,\n",
    ")\n",
    "btc_price_fg.show(3)"
   ]
  },
  {
   "cell_type": "code",
   "execution_count": 5,
   "id": "92fe1379",
   "metadata": {},
   "outputs": [
    {
     "name": "stdout",
     "output_type": "stream",
     "text": [
      "WARNING:py.warnings:DeprecationWarning: ssl.PROTOCOL_TLS is deprecated\n",
      "\n",
      "Finished: Reading data from Hopsworks, using Hive (1.27s) \n"
     ]
    },
    {
     "data": {
      "text/html": [
       "<div>\n",
       "<style scoped>\n",
       "    .dataframe tbody tr th:only-of-type {\n",
       "        vertical-align: middle;\n",
       "    }\n",
       "\n",
       "    .dataframe tbody tr th {\n",
       "        vertical-align: top;\n",
       "    }\n",
       "\n",
       "    .dataframe thead th {\n",
       "        text-align: right;\n",
       "    }\n",
       "</style>\n",
       "<table border=\"1\" class=\"dataframe\">\n",
       "  <thead>\n",
       "    <tr style=\"text-align: right;\">\n",
       "      <th></th>\n",
       "      <th>date</th>\n",
       "      <th>subjectivity</th>\n",
       "      <th>polarity</th>\n",
       "      <th>unix</th>\n",
       "    </tr>\n",
       "  </thead>\n",
       "  <tbody>\n",
       "    <tr>\n",
       "      <th>0</th>\n",
       "      <td>2021-05-19</td>\n",
       "      <td>0.000000</td>\n",
       "      <td>0.000000</td>\n",
       "      <td>1621375200000</td>\n",
       "    </tr>\n",
       "    <tr>\n",
       "      <th>1</th>\n",
       "      <td>2021-12-08</td>\n",
       "      <td>0.000000</td>\n",
       "      <td>0.000000</td>\n",
       "      <td>1638914400000</td>\n",
       "    </tr>\n",
       "    <tr>\n",
       "      <th>2</th>\n",
       "      <td>2021-04-06</td>\n",
       "      <td>1114.342144</td>\n",
       "      <td>380.316299</td>\n",
       "      <td>1617660000000</td>\n",
       "    </tr>\n",
       "  </tbody>\n",
       "</table>\n",
       "</div>"
      ],
      "text/plain": [
       "         date  subjectivity    polarity           unix\n",
       "0  2021-05-19      0.000000    0.000000  1621375200000\n",
       "1  2021-12-08      0.000000    0.000000  1638914400000\n",
       "2  2021-04-06   1114.342144  380.316299  1617660000000"
      ]
     },
     "execution_count": 5,
     "metadata": {},
     "output_type": "execute_result"
    }
   ],
   "source": [
    "tweets_textblob_fg = fs.get_or_create_feature_group(\n",
    "    name='bitcoin_tweets_textblob',\n",
    "    version=1,\n",
    ")\n",
    "tweets_textblob_fg.show(3)"
   ]
  },
  {
   "cell_type": "code",
   "execution_count": 6,
   "id": "e9377661",
   "metadata": {},
   "outputs": [
    {
     "name": "stdout",
     "output_type": "stream",
     "text": [
      "WARNING:py.warnings:DeprecationWarning: ssl.PROTOCOL_TLS is deprecated\n",
      "\n",
      "Finished: Reading data from Hopsworks, using Hive (1.31s) \n"
     ]
    },
    {
     "data": {
      "text/html": [
       "<div>\n",
       "<style scoped>\n",
       "    .dataframe tbody tr th:only-of-type {\n",
       "        vertical-align: middle;\n",
       "    }\n",
       "\n",
       "    .dataframe tbody tr th {\n",
       "        vertical-align: top;\n",
       "    }\n",
       "\n",
       "    .dataframe thead th {\n",
       "        text-align: right;\n",
       "    }\n",
       "</style>\n",
       "<table border=\"1\" class=\"dataframe\">\n",
       "  <thead>\n",
       "    <tr style=\"text-align: right;\">\n",
       "      <th></th>\n",
       "      <th>date</th>\n",
       "      <th>compound</th>\n",
       "      <th>unix</th>\n",
       "    </tr>\n",
       "  </thead>\n",
       "  <tbody>\n",
       "    <tr>\n",
       "      <th>0</th>\n",
       "      <td>2021-05-19</td>\n",
       "      <td>0.0000</td>\n",
       "      <td>1621375200000</td>\n",
       "    </tr>\n",
       "    <tr>\n",
       "      <th>1</th>\n",
       "      <td>2021-12-08</td>\n",
       "      <td>0.0000</td>\n",
       "      <td>1638914400000</td>\n",
       "    </tr>\n",
       "    <tr>\n",
       "      <th>2</th>\n",
       "      <td>2021-04-06</td>\n",
       "      <td>646.5593</td>\n",
       "      <td>1617660000000</td>\n",
       "    </tr>\n",
       "  </tbody>\n",
       "</table>\n",
       "</div>"
      ],
      "text/plain": [
       "         date  compound           unix\n",
       "0  2021-05-19    0.0000  1621375200000\n",
       "1  2021-12-08    0.0000  1638914400000\n",
       "2  2021-04-06  646.5593  1617660000000"
      ]
     },
     "execution_count": 6,
     "metadata": {},
     "output_type": "execute_result"
    }
   ],
   "source": [
    "tweets_vader_fg = fs.get_or_create_feature_group(\n",
    "    name='bitcoin_tweets_vader',\n",
    "    version=1,\n",
    ")\n",
    "tweets_vader_fg.show(3)"
   ]
  },
  {
   "cell_type": "markdown",
   "id": "1177d12e",
   "metadata": {},
   "source": [
    "--- \n",
    "\n",
    "## <span style=\"color:#ff5f27;\"> 🖍 Feature View Creation and Retrieving </span>"
   ]
  },
  {
   "cell_type": "code",
   "execution_count": 7,
   "id": "9f2966e0",
   "metadata": {
    "scrolled": true
   },
   "outputs": [
    {
     "name": "stdout",
     "output_type": "stream",
     "text": [
      "WARNING:py.warnings:DeprecationWarning: ssl.PROTOCOL_TLS is deprecated\n",
      "\n",
      "Finished: Reading data from Hopsworks, using Hive (72.59s) \n"
     ]
    },
    {
     "data": {
      "text/html": [
       "<div>\n",
       "<style scoped>\n",
       "    .dataframe tbody tr th:only-of-type {\n",
       "        vertical-align: middle;\n",
       "    }\n",
       "\n",
       "    .dataframe tbody tr th {\n",
       "        vertical-align: top;\n",
       "    }\n",
       "\n",
       "    .dataframe thead th {\n",
       "        text-align: right;\n",
       "    }\n",
       "</style>\n",
       "<table border=\"1\" class=\"dataframe\">\n",
       "  <thead>\n",
       "    <tr style=\"text-align: right;\">\n",
       "      <th></th>\n",
       "      <th>open</th>\n",
       "      <th>high</th>\n",
       "      <th>low</th>\n",
       "      <th>close</th>\n",
       "      <th>volume</th>\n",
       "      <th>quote_av</th>\n",
       "      <th>trades</th>\n",
       "      <th>tb_base_av</th>\n",
       "      <th>tb_quote_av</th>\n",
       "      <th>unix</th>\n",
       "      <th>...</th>\n",
       "      <th>strength_index_14_days</th>\n",
       "      <th>std_56_days</th>\n",
       "      <th>exp_mean_56_days</th>\n",
       "      <th>exp_std_56_days</th>\n",
       "      <th>momentum_56_days</th>\n",
       "      <th>rate_of_change_56_days</th>\n",
       "      <th>strength_index_56_days</th>\n",
       "      <th>subjectivity</th>\n",
       "      <th>polarity</th>\n",
       "      <th>compound</th>\n",
       "    </tr>\n",
       "  </thead>\n",
       "  <tbody>\n",
       "    <tr>\n",
       "      <th>0</th>\n",
       "      <td>19963.61</td>\n",
       "      <td>20059.42</td>\n",
       "      <td>19240.00</td>\n",
       "      <td>19328.75</td>\n",
       "      <td>139506.458620</td>\n",
       "      <td>2.754215e+09</td>\n",
       "      <td>3626399</td>\n",
       "      <td>67681.116120</td>\n",
       "      <td>1.336338e+09</td>\n",
       "      <td>1657576800000</td>\n",
       "      <td>...</td>\n",
       "      <td>34.708886</td>\n",
       "      <td>4690.589502</td>\n",
       "      <td>24725.158998</td>\n",
       "      <td>6627.871367</td>\n",
       "      <td>-11116.18</td>\n",
       "      <td>-32.688370</td>\n",
       "      <td>38.454138</td>\n",
       "      <td>5245.445020</td>\n",
       "      <td>1639.767053</td>\n",
       "      <td>3274.2284</td>\n",
       "    </tr>\n",
       "    <tr>\n",
       "      <th>1</th>\n",
       "      <td>20861.11</td>\n",
       "      <td>20868.48</td>\n",
       "      <td>19875.23</td>\n",
       "      <td>19963.61</td>\n",
       "      <td>137535.407240</td>\n",
       "      <td>2.813718e+09</td>\n",
       "      <td>3232941</td>\n",
       "      <td>66869.470650</td>\n",
       "      <td>1.368290e+09</td>\n",
       "      <td>1657490400000</td>\n",
       "      <td>...</td>\n",
       "      <td>37.762341</td>\n",
       "      <td>4688.008567</td>\n",
       "      <td>24921.392054</td>\n",
       "      <td>6663.983065</td>\n",
       "      <td>-9910.40</td>\n",
       "      <td>-34.427144</td>\n",
       "      <td>38.997601</td>\n",
       "      <td>1860.584702</td>\n",
       "      <td>564.521069</td>\n",
       "      <td>1225.4469</td>\n",
       "    </tr>\n",
       "    <tr>\n",
       "      <th>2</th>\n",
       "      <td>21491.18</td>\n",
       "      <td>21888.00</td>\n",
       "      <td>20964.73</td>\n",
       "      <td>21038.07</td>\n",
       "      <td>53278.104640</td>\n",
       "      <td>1.139258e+09</td>\n",
       "      <td>885306</td>\n",
       "      <td>26051.163720</td>\n",
       "      <td>5.571926e+08</td>\n",
       "      <td>1656194400000</td>\n",
       "      <td>...</td>\n",
       "      <td>34.675082</td>\n",
       "      <td>5063.934220</td>\n",
       "      <td>28108.152447</td>\n",
       "      <td>7106.714392</td>\n",
       "      <td>-17430.28</td>\n",
       "      <td>-45.391349</td>\n",
       "      <td>38.701644</td>\n",
       "      <td>9690.480091</td>\n",
       "      <td>3666.560057</td>\n",
       "      <td>6471.5038</td>\n",
       "    </tr>\n",
       "    <tr>\n",
       "      <th>3</th>\n",
       "      <td>19988.00</td>\n",
       "      <td>21233.00</td>\n",
       "      <td>19890.07</td>\n",
       "      <td>21110.13</td>\n",
       "      <td>83127.087160</td>\n",
       "      <td>1.710695e+09</td>\n",
       "      <td>1207858</td>\n",
       "      <td>42716.837210</td>\n",
       "      <td>8.792443e+08</td>\n",
       "      <td>1655935200000</td>\n",
       "      <td>...</td>\n",
       "      <td>34.025926</td>\n",
       "      <td>5210.643871</td>\n",
       "      <td>28883.485581</td>\n",
       "      <td>7084.509006</td>\n",
       "      <td>-18631.94</td>\n",
       "      <td>-45.305032</td>\n",
       "      <td>38.600515</td>\n",
       "      <td>8597.067814</td>\n",
       "      <td>3097.039064</td>\n",
       "      <td>4974.9807</td>\n",
       "    </tr>\n",
       "    <tr>\n",
       "      <th>4</th>\n",
       "      <td>22485.27</td>\n",
       "      <td>23362.88</td>\n",
       "      <td>20846.00</td>\n",
       "      <td>22136.41</td>\n",
       "      <td>187201.646710</td>\n",
       "      <td>4.136109e+09</td>\n",
       "      <td>2583151</td>\n",
       "      <td>92764.742864</td>\n",
       "      <td>2.051108e+09</td>\n",
       "      <td>1655157600000</td>\n",
       "      <td>...</td>\n",
       "      <td>23.565782</td>\n",
       "      <td>4740.745532</td>\n",
       "      <td>32031.089107</td>\n",
       "      <td>5677.796672</td>\n",
       "      <td>-19356.77</td>\n",
       "      <td>-46.476357</td>\n",
       "      <td>37.724084</td>\n",
       "      <td>5638.753930</td>\n",
       "      <td>1530.246449</td>\n",
       "      <td>2678.4928</td>\n",
       "    </tr>\n",
       "    <tr>\n",
       "      <th>...</th>\n",
       "      <td>...</td>\n",
       "      <td>...</td>\n",
       "      <td>...</td>\n",
       "      <td>...</td>\n",
       "      <td>...</td>\n",
       "      <td>...</td>\n",
       "      <td>...</td>\n",
       "      <td>...</td>\n",
       "      <td>...</td>\n",
       "      <td>...</td>\n",
       "      <td>...</td>\n",
       "      <td>...</td>\n",
       "      <td>...</td>\n",
       "      <td>...</td>\n",
       "      <td>...</td>\n",
       "      <td>...</td>\n",
       "      <td>...</td>\n",
       "      <td>...</td>\n",
       "      <td>...</td>\n",
       "      <td>...</td>\n",
       "      <td>...</td>\n",
       "    </tr>\n",
       "    <tr>\n",
       "      <th>523</th>\n",
       "      <td>39942.37</td>\n",
       "      <td>40870.36</td>\n",
       "      <td>39766.40</td>\n",
       "      <td>40551.90</td>\n",
       "      <td>24026.357390</td>\n",
       "      <td>9.668884e+08</td>\n",
       "      <td>616536</td>\n",
       "      <td>11755.544390</td>\n",
       "      <td>4.731004e+08</td>\n",
       "      <td>1649973600000</td>\n",
       "      <td>...</td>\n",
       "      <td>41.895300</td>\n",
       "      <td>2979.790623</td>\n",
       "      <td>42491.516793</td>\n",
       "      <td>3323.772390</td>\n",
       "      <td>577.46</td>\n",
       "      <td>1.179490</td>\n",
       "      <td>47.524327</td>\n",
       "      <td>14093.132138</td>\n",
       "      <td>6520.605107</td>\n",
       "      <td>10735.3436</td>\n",
       "    </tr>\n",
       "    <tr>\n",
       "      <th>524</th>\n",
       "      <td>49152.46</td>\n",
       "      <td>49699.05</td>\n",
       "      <td>47727.21</td>\n",
       "      <td>49396.33</td>\n",
       "      <td>45580.820120</td>\n",
       "      <td>2.231486e+09</td>\n",
       "      <td>1371839</td>\n",
       "      <td>22420.903240</td>\n",
       "      <td>1.097786e+09</td>\n",
       "      <td>1638655200000</td>\n",
       "      <td>...</td>\n",
       "      <td>32.199668</td>\n",
       "      <td>3867.173131</td>\n",
       "      <td>57120.587745</td>\n",
       "      <td>6156.286084</td>\n",
       "      <td>-5262.67</td>\n",
       "      <td>-14.050514</td>\n",
       "      <td>47.141010</td>\n",
       "      <td>0.000000</td>\n",
       "      <td>0.000000</td>\n",
       "      <td>0.0000</td>\n",
       "    </tr>\n",
       "    <tr>\n",
       "      <th>525</th>\n",
       "      <td>54949.72</td>\n",
       "      <td>56561.31</td>\n",
       "      <td>54080.00</td>\n",
       "      <td>54659.00</td>\n",
       "      <td>89237.836128</td>\n",
       "      <td>4.923958e+09</td>\n",
       "      <td>2427176</td>\n",
       "      <td>44656.915748</td>\n",
       "      <td>2.464422e+09</td>\n",
       "      <td>1633816800000</td>\n",
       "      <td>...</td>\n",
       "      <td>66.704104</td>\n",
       "      <td>3486.926798</td>\n",
       "      <td>46749.457751</td>\n",
       "      <td>5381.619736</td>\n",
       "      <td>7685.18</td>\n",
       "      <td>19.079442</td>\n",
       "      <td>56.753370</td>\n",
       "      <td>0.000000</td>\n",
       "      <td>0.000000</td>\n",
       "      <td>0.0000</td>\n",
       "    </tr>\n",
       "    <tr>\n",
       "      <th>526</th>\n",
       "      <td>39456.61</td>\n",
       "      <td>40900.00</td>\n",
       "      <td>38772.00</td>\n",
       "      <td>40019.56</td>\n",
       "      <td>101344.528441</td>\n",
       "      <td>4.040889e+09</td>\n",
       "      <td>2631048</td>\n",
       "      <td>49019.136276</td>\n",
       "      <td>1.954994e+09</td>\n",
       "      <td>1627423200000</td>\n",
       "      <td>...</td>\n",
       "      <td>70.402631</td>\n",
       "      <td>2556.702456</td>\n",
       "      <td>36008.130250</td>\n",
       "      <td>6019.814622</td>\n",
       "      <td>2450.88</td>\n",
       "      <td>1.969002</td>\n",
       "      <td>51.120627</td>\n",
       "      <td>5188.627551</td>\n",
       "      <td>1976.296947</td>\n",
       "      <td>3544.8208</td>\n",
       "    </tr>\n",
       "    <tr>\n",
       "      <th>527</th>\n",
       "      <td>36936.65</td>\n",
       "      <td>38310.12</td>\n",
       "      <td>36570.00</td>\n",
       "      <td>38290.24</td>\n",
       "      <td>66681.334275</td>\n",
       "      <td>2.509278e+09</td>\n",
       "      <td>1853253</td>\n",
       "      <td>32756.385031</td>\n",
       "      <td>1.232714e+09</td>\n",
       "      <td>1612476000000</td>\n",
       "      <td>...</td>\n",
       "      <td>0.000000</td>\n",
       "      <td>0.000000</td>\n",
       "      <td>38290.240000</td>\n",
       "      <td>0.000000</td>\n",
       "      <td>0.00</td>\n",
       "      <td>0.000000</td>\n",
       "      <td>0.000000</td>\n",
       "      <td>462.983446</td>\n",
       "      <td>153.870358</td>\n",
       "      <td>229.4372</td>\n",
       "    </tr>\n",
       "  </tbody>\n",
       "</table>\n",
       "<p>528 rows × 34 columns</p>\n",
       "</div>"
      ],
      "text/plain": [
       "         open      high       low     close         volume      quote_av  \\\n",
       "0    19963.61  20059.42  19240.00  19328.75  139506.458620  2.754215e+09   \n",
       "1    20861.11  20868.48  19875.23  19963.61  137535.407240  2.813718e+09   \n",
       "2    21491.18  21888.00  20964.73  21038.07   53278.104640  1.139258e+09   \n",
       "3    19988.00  21233.00  19890.07  21110.13   83127.087160  1.710695e+09   \n",
       "4    22485.27  23362.88  20846.00  22136.41  187201.646710  4.136109e+09   \n",
       "..        ...       ...       ...       ...            ...           ...   \n",
       "523  39942.37  40870.36  39766.40  40551.90   24026.357390  9.668884e+08   \n",
       "524  49152.46  49699.05  47727.21  49396.33   45580.820120  2.231486e+09   \n",
       "525  54949.72  56561.31  54080.00  54659.00   89237.836128  4.923958e+09   \n",
       "526  39456.61  40900.00  38772.00  40019.56  101344.528441  4.040889e+09   \n",
       "527  36936.65  38310.12  36570.00  38290.24   66681.334275  2.509278e+09   \n",
       "\n",
       "      trades    tb_base_av   tb_quote_av           unix  ...  \\\n",
       "0    3626399  67681.116120  1.336338e+09  1657576800000  ...   \n",
       "1    3232941  66869.470650  1.368290e+09  1657490400000  ...   \n",
       "2     885306  26051.163720  5.571926e+08  1656194400000  ...   \n",
       "3    1207858  42716.837210  8.792443e+08  1655935200000  ...   \n",
       "4    2583151  92764.742864  2.051108e+09  1655157600000  ...   \n",
       "..       ...           ...           ...            ...  ...   \n",
       "523   616536  11755.544390  4.731004e+08  1649973600000  ...   \n",
       "524  1371839  22420.903240  1.097786e+09  1638655200000  ...   \n",
       "525  2427176  44656.915748  2.464422e+09  1633816800000  ...   \n",
       "526  2631048  49019.136276  1.954994e+09  1627423200000  ...   \n",
       "527  1853253  32756.385031  1.232714e+09  1612476000000  ...   \n",
       "\n",
       "     strength_index_14_days  std_56_days  exp_mean_56_days  exp_std_56_days  \\\n",
       "0                 34.708886  4690.589502      24725.158998      6627.871367   \n",
       "1                 37.762341  4688.008567      24921.392054      6663.983065   \n",
       "2                 34.675082  5063.934220      28108.152447      7106.714392   \n",
       "3                 34.025926  5210.643871      28883.485581      7084.509006   \n",
       "4                 23.565782  4740.745532      32031.089107      5677.796672   \n",
       "..                      ...          ...               ...              ...   \n",
       "523               41.895300  2979.790623      42491.516793      3323.772390   \n",
       "524               32.199668  3867.173131      57120.587745      6156.286084   \n",
       "525               66.704104  3486.926798      46749.457751      5381.619736   \n",
       "526               70.402631  2556.702456      36008.130250      6019.814622   \n",
       "527                0.000000     0.000000      38290.240000         0.000000   \n",
       "\n",
       "     momentum_56_days  rate_of_change_56_days  strength_index_56_days  \\\n",
       "0           -11116.18              -32.688370               38.454138   \n",
       "1            -9910.40              -34.427144               38.997601   \n",
       "2           -17430.28              -45.391349               38.701644   \n",
       "3           -18631.94              -45.305032               38.600515   \n",
       "4           -19356.77              -46.476357               37.724084   \n",
       "..                ...                     ...                     ...   \n",
       "523            577.46                1.179490               47.524327   \n",
       "524          -5262.67              -14.050514               47.141010   \n",
       "525           7685.18               19.079442               56.753370   \n",
       "526           2450.88                1.969002               51.120627   \n",
       "527              0.00                0.000000                0.000000   \n",
       "\n",
       "     subjectivity     polarity    compound  \n",
       "0     5245.445020  1639.767053   3274.2284  \n",
       "1     1860.584702   564.521069   1225.4469  \n",
       "2     9690.480091  3666.560057   6471.5038  \n",
       "3     8597.067814  3097.039064   4974.9807  \n",
       "4     5638.753930  1530.246449   2678.4928  \n",
       "..            ...          ...         ...  \n",
       "523  14093.132138  6520.605107  10735.3436  \n",
       "524      0.000000     0.000000      0.0000  \n",
       "525      0.000000     0.000000      0.0000  \n",
       "526   5188.627551  1976.296947   3544.8208  \n",
       "527    462.983446   153.870358    229.4372  \n",
       "\n",
       "[528 rows x 34 columns]"
      ]
     },
     "execution_count": 7,
     "metadata": {},
     "output_type": "execute_result"
    }
   ],
   "source": [
    "# Query Preparation\n",
    "query = btc_price_fg.select_except([\"date\"]) \\\n",
    "               .join(tweets_textblob_fg.select([\"subjectivity\",\"polarity\"])) \\\n",
    "               .join(tweets_vader_fg.select(\"compound\"))\n",
    "\n",
    "final_df = query.read()\n",
    "final_df"
   ]
  },
  {
   "cell_type": "code",
   "execution_count": 8,
   "id": "e3c11153-651f-4cc5-b876-71f41c3a9f81",
   "metadata": {},
   "outputs": [
    {
     "data": {
      "text/plain": [
       "(528, 34)"
      ]
     },
     "execution_count": 8,
     "metadata": {},
     "output_type": "execute_result"
    }
   ],
   "source": [
    "final_df.shape"
   ]
  },
  {
   "cell_type": "code",
   "execution_count": 9,
   "id": "fa931945",
   "metadata": {},
   "outputs": [],
   "source": [
    "columns_to_transform = final_df.columns\n",
    "columns_to_transform = columns_to_transform.tolist()\n",
    "columns_to_transform.remove(\"unix\")"
   ]
  },
  {
   "cell_type": "code",
   "execution_count": 10,
   "id": "7ef0a265-3101-4a16-abd1-be5942f21264",
   "metadata": {},
   "outputs": [],
   "source": [
    "# Load the transformation functions.\n",
    "min_max_scaler = fs.get_transformation_function(name=\"min_max_scaler\")\n",
    "\n",
    "# Map features to transformation functions.\n",
    "transformation_functions = {col: min_max_scaler for col in columns_to_transform}"
   ]
  },
  {
   "cell_type": "code",
   "execution_count": 11,
   "id": "236ecda6-9dfb-44e7-8fa1-9851064814c7",
   "metadata": {},
   "outputs": [
    {
     "data": {
      "text/plain": [
       "{'open': <hsfs.transformation_function.TransformationFunction at 0x7f914066bb20>,\n",
       " 'high': <hsfs.transformation_function.TransformationFunction at 0x7f914066bb20>,\n",
       " 'low': <hsfs.transformation_function.TransformationFunction at 0x7f914066bb20>,\n",
       " 'close': <hsfs.transformation_function.TransformationFunction at 0x7f914066bb20>,\n",
       " 'volume': <hsfs.transformation_function.TransformationFunction at 0x7f914066bb20>,\n",
       " 'quote_av': <hsfs.transformation_function.TransformationFunction at 0x7f914066bb20>,\n",
       " 'trades': <hsfs.transformation_function.TransformationFunction at 0x7f914066bb20>,\n",
       " 'tb_base_av': <hsfs.transformation_function.TransformationFunction at 0x7f914066bb20>,\n",
       " 'tb_quote_av': <hsfs.transformation_function.TransformationFunction at 0x7f914066bb20>,\n",
       " 'mean_7_days': <hsfs.transformation_function.TransformationFunction at 0x7f914066bb20>,\n",
       " 'mean_14_days': <hsfs.transformation_function.TransformationFunction at 0x7f914066bb20>,\n",
       " 'mean_56_days': <hsfs.transformation_function.TransformationFunction at 0x7f914066bb20>,\n",
       " 'std_7_days': <hsfs.transformation_function.TransformationFunction at 0x7f914066bb20>,\n",
       " 'exp_mean_7_days': <hsfs.transformation_function.TransformationFunction at 0x7f914066bb20>,\n",
       " 'exp_std_7_days': <hsfs.transformation_function.TransformationFunction at 0x7f914066bb20>,\n",
       " 'momentum_7_days': <hsfs.transformation_function.TransformationFunction at 0x7f914066bb20>,\n",
       " 'rate_of_change_7_days': <hsfs.transformation_function.TransformationFunction at 0x7f914066bb20>,\n",
       " 'strength_index_7_days': <hsfs.transformation_function.TransformationFunction at 0x7f914066bb20>,\n",
       " 'std_14_days': <hsfs.transformation_function.TransformationFunction at 0x7f914066bb20>,\n",
       " 'exp_mean_14_days': <hsfs.transformation_function.TransformationFunction at 0x7f914066bb20>,\n",
       " 'exp_std_14_days': <hsfs.transformation_function.TransformationFunction at 0x7f914066bb20>,\n",
       " 'momentum_14_days': <hsfs.transformation_function.TransformationFunction at 0x7f914066bb20>,\n",
       " 'rate_of_change_14_days': <hsfs.transformation_function.TransformationFunction at 0x7f914066bb20>,\n",
       " 'strength_index_14_days': <hsfs.transformation_function.TransformationFunction at 0x7f914066bb20>,\n",
       " 'std_56_days': <hsfs.transformation_function.TransformationFunction at 0x7f914066bb20>,\n",
       " 'exp_mean_56_days': <hsfs.transformation_function.TransformationFunction at 0x7f914066bb20>,\n",
       " 'exp_std_56_days': <hsfs.transformation_function.TransformationFunction at 0x7f914066bb20>,\n",
       " 'momentum_56_days': <hsfs.transformation_function.TransformationFunction at 0x7f914066bb20>,\n",
       " 'rate_of_change_56_days': <hsfs.transformation_function.TransformationFunction at 0x7f914066bb20>,\n",
       " 'strength_index_56_days': <hsfs.transformation_function.TransformationFunction at 0x7f914066bb20>,\n",
       " 'subjectivity': <hsfs.transformation_function.TransformationFunction at 0x7f914066bb20>,\n",
       " 'polarity': <hsfs.transformation_function.TransformationFunction at 0x7f914066bb20>,\n",
       " 'compound': <hsfs.transformation_function.TransformationFunction at 0x7f914066bb20>}"
      ]
     },
     "execution_count": 11,
     "metadata": {},
     "output_type": "execute_result"
    }
   ],
   "source": [
    "transformation_functions"
   ]
  },
  {
   "cell_type": "code",
   "execution_count": 60,
   "id": "a7f368df",
   "metadata": {},
   "outputs": [],
   "source": [
    "feature_view = fs.get_or_create_feature_view(\n",
    "    name='bitcoin_feature_view',\n",
    "    version=1,\n",
    "    transformation_functions=transformation_functions,\n",
    "    query=query,\n",
    ")"
   ]
  },
  {
   "cell_type": "code",
   "execution_count": 61,
   "id": "43cabbdf",
   "metadata": {},
   "outputs": [
    {
     "name": "stdout",
     "output_type": "stream",
     "text": [
      "WARNING:py.warnings:VersionWarning: No training dataset version was provided to initialise serving. Defaulting to version 1.\n",
      "\n"
     ]
    },
    {
     "ename": "AttributeError",
     "evalue": "'VectorServer' object has no attribute 'required_serving_keys'",
     "output_type": "error",
     "traceback": [
      "\u001b[0;31m---------------------------------------------------------------------------\u001b[0m",
      "\u001b[0;31mAttributeError\u001b[0m                            Traceback (most recent call last)",
      "Cell \u001b[0;32mIn[61], line 6\u001b[0m\n\u001b[1;32m      3\u001b[0m today \u001b[38;5;241m=\u001b[39m datetime\u001b[38;5;241m.\u001b[39mdatetime\u001b[38;5;241m.\u001b[39mtoday()\n\u001b[1;32m      4\u001b[0m latest_date \u001b[38;5;241m=\u001b[39m \u001b[38;5;28mint\u001b[39m(time\u001b[38;5;241m.\u001b[39mmktime(today\u001b[38;5;241m.\u001b[39mtimetuple()) \u001b[38;5;241m*\u001b[39m \u001b[38;5;241m1000\u001b[39m) \u001b[38;5;66;03m# converting todays datetime to unix\u001b[39;00m\n\u001b[0;32m----> 6\u001b[0m \u001b[43mfeature_view\u001b[49m\u001b[38;5;241;43m.\u001b[39;49m\u001b[43mget_feature_vector\u001b[49m\u001b[43m(\u001b[49m\u001b[43m{\u001b[49m\u001b[38;5;124;43m\"\u001b[39;49m\u001b[38;5;124;43munix\u001b[39;49m\u001b[38;5;124;43m\"\u001b[39;49m\u001b[43m:\u001b[49m\u001b[43m \u001b[49m\u001b[43mlatest_date\u001b[49m\u001b[43m}\u001b[49m\u001b[43m)\u001b[49m\n",
      "File \u001b[0;32m~/.pyenv/versions/3.10.13/envs/tutorials/lib/python3.10/site-packages/hsfs/feature_view.py:496\u001b[0m, in \u001b[0;36mFeatureView.get_feature_vector\u001b[0;34m(self, entry, passed_features, external, return_type, allow_missing)\u001b[0m\n\u001b[1;32m    494\u001b[0m \u001b[38;5;28;01mif\u001b[39;00m \u001b[38;5;28mself\u001b[39m\u001b[38;5;241m.\u001b[39m_vector_db_client:\n\u001b[1;32m    495\u001b[0m     passed_features \u001b[38;5;241m=\u001b[39m \u001b[38;5;28mself\u001b[39m\u001b[38;5;241m.\u001b[39m_update_with_vector_db_result(entry, passed_features)\n\u001b[0;32m--> 496\u001b[0m \u001b[38;5;28;01mreturn\u001b[39;00m \u001b[38;5;28;43mself\u001b[39;49m\u001b[38;5;241;43m.\u001b[39;49m\u001b[43m_vector_server\u001b[49m\u001b[38;5;241;43m.\u001b[39;49m\u001b[43mget_feature_vector\u001b[49m\u001b[43m(\u001b[49m\n\u001b[1;32m    497\u001b[0m \u001b[43m    \u001b[49m\u001b[43mentry\u001b[49m\u001b[43m,\u001b[49m\u001b[43m \u001b[49m\u001b[43mreturn_type\u001b[49m\u001b[43m,\u001b[49m\u001b[43m \u001b[49m\u001b[43mpassed_features\u001b[49m\u001b[43m,\u001b[49m\u001b[43m \u001b[49m\u001b[43mallow_missing\u001b[49m\n\u001b[1;32m    498\u001b[0m \u001b[43m\u001b[49m\u001b[43m)\u001b[49m\n",
      "File \u001b[0;32m~/.pyenv/versions/3.10.13/envs/tutorials/lib/python3.10/site-packages/hsfs/core/vector_server.py:175\u001b[0m, in \u001b[0;36mVectorServer.get_feature_vector\u001b[0;34m(self, entry, return_type, passed_features, allow_missing)\u001b[0m\n\u001b[1;32m    170\u001b[0m result_dict \u001b[38;5;241m=\u001b[39m \u001b[38;5;28mself\u001b[39m\u001b[38;5;241m.\u001b[39m_apply_transformation(serving_vector)\n\u001b[1;32m    172\u001b[0m _logger\u001b[38;5;241m.\u001b[39mdebug(\n\u001b[1;32m    173\u001b[0m     \u001b[38;5;124m\"\u001b[39m\u001b[38;5;124mConverting to row vectors to list, optionally filling missing values\u001b[39m\u001b[38;5;124m\"\u001b[39m\n\u001b[1;32m    174\u001b[0m )\n\u001b[0;32m--> 175\u001b[0m vector \u001b[38;5;241m=\u001b[39m \u001b[38;5;28;43mself\u001b[39;49m\u001b[38;5;241;43m.\u001b[39;49m\u001b[43m_generate_vector\u001b[49m\u001b[43m(\u001b[49m\u001b[43mresult_dict\u001b[49m\u001b[43m,\u001b[49m\u001b[43m \u001b[49m\u001b[43mallow_missing\u001b[49m\u001b[43m)\u001b[49m\n\u001b[1;32m    177\u001b[0m \u001b[38;5;28;01mreturn\u001b[39;00m \u001b[38;5;28mself\u001b[39m\u001b[38;5;241m.\u001b[39mhandle_feature_vector_return_type(\n\u001b[1;32m    178\u001b[0m     vector, batch\u001b[38;5;241m=\u001b[39m\u001b[38;5;28;01mFalse\u001b[39;00m, inference_helper\u001b[38;5;241m=\u001b[39m\u001b[38;5;28;01mFalse\u001b[39;00m, return_type\u001b[38;5;241m=\u001b[39mreturn_type\n\u001b[1;32m    179\u001b[0m )\n",
      "File \u001b[0;32m~/.pyenv/versions/3.10.13/envs/tutorials/lib/python3.10/site-packages/hsfs/core/vector_server.py:355\u001b[0m, in \u001b[0;36mVectorServer._generate_vector\u001b[0;34m(self, result_dict, fill_na)\u001b[0m\n\u001b[1;32m    347\u001b[0m         feature_values\u001b[38;5;241m.\u001b[39mappend(\u001b[38;5;28;01mNone\u001b[39;00m)\n\u001b[1;32m    348\u001b[0m     \u001b[38;5;28;01melse\u001b[39;00m:\n\u001b[1;32m    349\u001b[0m         \u001b[38;5;28;01mraise\u001b[39;00m client\u001b[38;5;241m.\u001b[39mexceptions\u001b[38;5;241m.\u001b[39mFeatureStoreException(\n\u001b[1;32m    350\u001b[0m             \u001b[38;5;124mf\u001b[39m\u001b[38;5;124m\"\u001b[39m\u001b[38;5;124mFeature \u001b[39m\u001b[38;5;124m'\u001b[39m\u001b[38;5;132;01m{\u001b[39;00mfeature_name\u001b[38;5;132;01m}\u001b[39;00m\u001b[38;5;124m'\u001b[39m\u001b[38;5;124m is missing from vector.\u001b[39m\u001b[38;5;124m\"\u001b[39m\n\u001b[1;32m    351\u001b[0m             \u001b[38;5;124m\"\u001b[39m\u001b[38;5;124mPossible reasons: \u001b[39m\u001b[38;5;124m\"\u001b[39m\n\u001b[1;32m    352\u001b[0m             \u001b[38;5;124m\"\u001b[39m\u001b[38;5;124m1. There is no match in the given entry.\u001b[39m\u001b[38;5;124m\"\u001b[39m\n\u001b[1;32m    353\u001b[0m             \u001b[38;5;124m\"\u001b[39m\u001b[38;5;124m Please check if the entry exists in the online feature store\u001b[39m\u001b[38;5;124m\"\u001b[39m\n\u001b[1;32m    354\u001b[0m             \u001b[38;5;124m\"\u001b[39m\u001b[38;5;124m or provide the feature as passed_feature. \u001b[39m\u001b[38;5;124m\"\u001b[39m\n\u001b[0;32m--> 355\u001b[0m             \u001b[38;5;124mf\u001b[39m\u001b[38;5;124m\"\u001b[39m\u001b[38;5;124m2. Required entries [\u001b[39m\u001b[38;5;132;01m{\u001b[39;00m\u001b[38;5;124m'\u001b[39m\u001b[38;5;124m, \u001b[39m\u001b[38;5;124m'\u001b[39m\u001b[38;5;241m.\u001b[39mjoin(\u001b[38;5;28;43mself\u001b[39;49m\u001b[38;5;241;43m.\u001b[39;49m\u001b[43mrequired_serving_keys\u001b[49m)\u001b[38;5;132;01m}\u001b[39;00m\u001b[38;5;124m] or \u001b[39m\u001b[38;5;124m\"\u001b[39m\n\u001b[1;32m    356\u001b[0m             \u001b[38;5;124mf\u001b[39m\u001b[38;5;124m\"\u001b[39m\u001b[38;5;124m[\u001b[39m\u001b[38;5;132;01m{\u001b[39;00m\u001b[38;5;124m'\u001b[39m\u001b[38;5;124m, \u001b[39m\u001b[38;5;124m'\u001b[39m\u001b[38;5;241m.\u001b[39mjoin(\u001b[38;5;28mset\u001b[39m(sk\u001b[38;5;241m.\u001b[39mfeature_name\u001b[38;5;250m \u001b[39m\u001b[38;5;28;01mfor\u001b[39;00m\u001b[38;5;250m \u001b[39msk\u001b[38;5;250m \u001b[39m\u001b[38;5;129;01min\u001b[39;00m\u001b[38;5;250m \u001b[39m\u001b[38;5;28mself\u001b[39m\u001b[38;5;241m.\u001b[39m_serving_keys))\u001b[38;5;132;01m}\u001b[39;00m\u001b[38;5;124m] are not provided.\u001b[39m\u001b[38;5;124m\"\u001b[39m\n\u001b[1;32m    357\u001b[0m         )\n\u001b[1;32m    358\u001b[0m \u001b[38;5;28;01melse\u001b[39;00m:\n\u001b[1;32m    359\u001b[0m     feature_values\u001b[38;5;241m.\u001b[39mappend(result_dict[feature_name])\n",
      "\u001b[0;31mAttributeError\u001b[0m: 'VectorServer' object has no attribute 'required_serving_keys'"
     ]
    }
   ],
   "source": [
    "# feature_view.init_serving(1)\n",
    "\n",
    "today = datetime.datetime.today()\n",
    "latest_date = int(time.mktime(today.timetuple()) * 1000) # converting todays datetime to unix\n",
    "\n",
    "feature_view.get_feature_vector({\"unix\": latest_date})"
   ]
  },
  {
   "cell_type": "markdown",
   "id": "ea634203-9eef-4b52-90d1-cf0c5c6c4de8",
   "metadata": {},
   "source": [
    "---\n",
    "\n",
    "## <span style=\"color:#ff5f27;\"> 🏋️ Training Dataset Creation</span>\n",
    "\n",
    "In Hopsworks training data is a query where the projection (set of features) is determined by the parent FeatureView with an optional snapshot on disk of the data returned by the query.\n",
    "\n",
    "**Training Dataset  may contain splits such as:** \n",
    "* Training set - the subset of training data used to train a model.\n",
    "* Validation set - the subset of training data used to evaluate hparams when training a model\n",
    "* Test set - the holdout subset of training data used to evaluate a mode\n",
    "\n",
    "To create training dataset you will use the `FeatureView.train_test_split()` method.\n",
    "\n",
    "Here are some importand things:\n",
    "\n",
    "- It will inherit the name of FeatureView.\n",
    "\n",
    "- The feature store currently supports the following data formats for\n",
    "training datasets: **tfrecord, csv, tsv, parquet, avro, orc**.\n",
    "\n",
    "- You can choose necessary format using **data_format** parameter.\n",
    "\n",
    "- **start_time** and **end_time** in order to filter dataset in specific time range.\n",
    "\n",
    "- You can create **train, test** splits using `create_train_test_split()`. \n",
    "\n",
    "- You can create **train,validation, test** splits using `train_validation_test_splits()` methods.\n",
    "\n",
    "- The only thing is that we should specify desired ratio of splits."
   ]
  },
  {
   "cell_type": "code",
   "execution_count": 13,
   "id": "84394f5f",
   "metadata": {},
   "outputs": [
    {
     "name": "stdout",
     "output_type": "stream",
     "text": [
      "WARNING:py.warnings:DeprecationWarning: ssl.PROTOCOL_TLS is deprecated\n",
      "\n",
      "Finished: Reading data from Hopsworks, using Hive (58.60s) \n",
      "WARNING:py.warnings:VersionWarning: Incremented version to `1`.\n",
      "\n"
     ]
    }
   ],
   "source": [
    "# You can combine different datetime formats.\n",
    "X_train, X_test, y_train, y_test = feature_view.train_test_split(\n",
    "    train_start=int(final_df.unix.min()),\n",
    "    train_end=int(np.percentile(final_df.unix, 80)), # get the date that represents 80th percentile\n",
    "    test_start=int(np.percentile(final_df.unix, 81)), # get the date that represents 81th percentile\n",
    "    test_end=int(final_df.unix.max()),\n",
    "    )"
   ]
  },
  {
   "cell_type": "code",
   "execution_count": 14,
   "id": "bc385fe6-a333-4724-9ea0-f581a3cb203b",
   "metadata": {},
   "outputs": [
    {
     "data": {
      "text/html": [
       "<div>\n",
       "<style scoped>\n",
       "    .dataframe tbody tr th:only-of-type {\n",
       "        vertical-align: middle;\n",
       "    }\n",
       "\n",
       "    .dataframe tbody tr th {\n",
       "        vertical-align: top;\n",
       "    }\n",
       "\n",
       "    .dataframe thead th {\n",
       "        text-align: right;\n",
       "    }\n",
       "</style>\n",
       "<table border=\"1\" class=\"dataframe\">\n",
       "  <thead>\n",
       "    <tr style=\"text-align: right;\">\n",
       "      <th></th>\n",
       "      <th>open</th>\n",
       "      <th>high</th>\n",
       "      <th>low</th>\n",
       "      <th>close</th>\n",
       "      <th>volume</th>\n",
       "      <th>quote_av</th>\n",
       "      <th>trades</th>\n",
       "      <th>tb_base_av</th>\n",
       "      <th>tb_quote_av</th>\n",
       "      <th>unix</th>\n",
       "      <th>...</th>\n",
       "      <th>strength_index_14_days</th>\n",
       "      <th>std_56_days</th>\n",
       "      <th>exp_mean_56_days</th>\n",
       "      <th>exp_std_56_days</th>\n",
       "      <th>momentum_56_days</th>\n",
       "      <th>rate_of_change_56_days</th>\n",
       "      <th>strength_index_56_days</th>\n",
       "      <th>subjectivity</th>\n",
       "      <th>polarity</th>\n",
       "      <th>compound</th>\n",
       "    </tr>\n",
       "  </thead>\n",
       "  <tbody>\n",
       "    <tr>\n",
       "      <th>0</th>\n",
       "      <td>0.189379</td>\n",
       "      <td>0.191029</td>\n",
       "      <td>0.207524</td>\n",
       "      <td>0.225249</td>\n",
       "      <td>0.145416</td>\n",
       "      <td>0.140119</td>\n",
       "      <td>0.220493</td>\n",
       "      <td>0.152704</td>\n",
       "      <td>0.147742</td>\n",
       "      <td>1612476000000</td>\n",
       "      <td>...</td>\n",
       "      <td>0.000000</td>\n",
       "      <td>0.000000</td>\n",
       "      <td>0.115061</td>\n",
       "      <td>0.000000</td>\n",
       "      <td>0.572084</td>\n",
       "      <td>0.436733</td>\n",
       "      <td>0.000000</td>\n",
       "      <td>0.018915</td>\n",
       "      <td>0.015860</td>\n",
       "      <td>0.012116</td>\n",
       "    </tr>\n",
       "    <tr>\n",
       "      <th>1</th>\n",
       "      <td>0.481730</td>\n",
       "      <td>0.472435</td>\n",
       "      <td>0.462886</td>\n",
       "      <td>0.463682</td>\n",
       "      <td>0.202421</td>\n",
       "      <td>0.263302</td>\n",
       "      <td>0.318952</td>\n",
       "      <td>0.209505</td>\n",
       "      <td>0.272479</td>\n",
       "      <td>1613080800000</td>\n",
       "      <td>...</td>\n",
       "      <td>0.000000</td>\n",
       "      <td>0.000000</td>\n",
       "      <td>0.362753</td>\n",
       "      <td>0.428692</td>\n",
       "      <td>0.572084</td>\n",
       "      <td>0.436733</td>\n",
       "      <td>0.000000</td>\n",
       "      <td>0.000000</td>\n",
       "      <td>0.000000</td>\n",
       "      <td>0.000000</td>\n",
       "    </tr>\n",
       "    <tr>\n",
       "      <th>2</th>\n",
       "      <td>0.460215</td>\n",
       "      <td>0.491457</td>\n",
       "      <td>0.486650</td>\n",
       "      <td>0.497872</td>\n",
       "      <td>0.166372</td>\n",
       "      <td>0.224436</td>\n",
       "      <td>0.261718</td>\n",
       "      <td>0.190192</td>\n",
       "      <td>0.254954</td>\n",
       "      <td>1613253600000</td>\n",
       "      <td>...</td>\n",
       "      <td>0.000000</td>\n",
       "      <td>0.000000</td>\n",
       "      <td>0.402766</td>\n",
       "      <td>0.415996</td>\n",
       "      <td>0.572084</td>\n",
       "      <td>0.436733</td>\n",
       "      <td>0.000000</td>\n",
       "      <td>0.059559</td>\n",
       "      <td>0.061997</td>\n",
       "      <td>0.056620</td>\n",
       "    </tr>\n",
       "    <tr>\n",
       "      <th>3</th>\n",
       "      <td>0.480205</td>\n",
       "      <td>0.517335</td>\n",
       "      <td>0.486368</td>\n",
       "      <td>0.512597</td>\n",
       "      <td>0.211165</td>\n",
       "      <td>0.284423</td>\n",
       "      <td>0.280829</td>\n",
       "      <td>0.233062</td>\n",
       "      <td>0.312983</td>\n",
       "      <td>1613426400000</td>\n",
       "      <td>...</td>\n",
       "      <td>0.000000</td>\n",
       "      <td>0.000000</td>\n",
       "      <td>0.435028</td>\n",
       "      <td>0.404232</td>\n",
       "      <td>0.572084</td>\n",
       "      <td>0.436733</td>\n",
       "      <td>0.000000</td>\n",
       "      <td>0.000000</td>\n",
       "      <td>0.000000</td>\n",
       "      <td>0.000000</td>\n",
       "    </tr>\n",
       "    <tr>\n",
       "      <th>4</th>\n",
       "      <td>0.512597</td>\n",
       "      <td>0.568198</td>\n",
       "      <td>0.538306</td>\n",
       "      <td>0.591734</td>\n",
       "      <td>0.202045</td>\n",
       "      <td>0.285665</td>\n",
       "      <td>0.335582</td>\n",
       "      <td>0.229603</td>\n",
       "      <td>0.322460</td>\n",
       "      <td>1613512800000</td>\n",
       "      <td>...</td>\n",
       "      <td>0.000000</td>\n",
       "      <td>0.000000</td>\n",
       "      <td>0.462300</td>\n",
       "      <td>0.436895</td>\n",
       "      <td>0.572084</td>\n",
       "      <td>0.436733</td>\n",
       "      <td>0.000000</td>\n",
       "      <td>0.000000</td>\n",
       "      <td>0.000000</td>\n",
       "      <td>0.000000</td>\n",
       "    </tr>\n",
       "    <tr>\n",
       "      <th>...</th>\n",
       "      <td>...</td>\n",
       "      <td>...</td>\n",
       "      <td>...</td>\n",
       "      <td>...</td>\n",
       "      <td>...</td>\n",
       "      <td>...</td>\n",
       "      <td>...</td>\n",
       "      <td>...</td>\n",
       "      <td>...</td>\n",
       "      <td>...</td>\n",
       "      <td>...</td>\n",
       "      <td>...</td>\n",
       "      <td>...</td>\n",
       "      <td>...</td>\n",
       "      <td>...</td>\n",
       "      <td>...</td>\n",
       "      <td>...</td>\n",
       "      <td>...</td>\n",
       "      <td>...</td>\n",
       "      <td>...</td>\n",
       "      <td>...</td>\n",
       "    </tr>\n",
       "    <tr>\n",
       "      <th>522</th>\n",
       "      <td>0.327464</td>\n",
       "      <td>0.309047</td>\n",
       "      <td>0.322925</td>\n",
       "      <td>0.297762</td>\n",
       "      <td>0.076171</td>\n",
       "      <td>0.085792</td>\n",
       "      <td>0.079858</td>\n",
       "      <td>0.077386</td>\n",
       "      <td>0.087591</td>\n",
       "      <td>1632780000000</td>\n",
       "      <td>...</td>\n",
       "      <td>0.454841</td>\n",
       "      <td>0.295872</td>\n",
       "      <td>0.393828</td>\n",
       "      <td>0.485848</td>\n",
       "      <td>0.625504</td>\n",
       "      <td>0.467078</td>\n",
       "      <td>0.775921</td>\n",
       "      <td>0.000000</td>\n",
       "      <td>0.000000</td>\n",
       "      <td>0.000000</td>\n",
       "    </tr>\n",
       "    <tr>\n",
       "      <th>523</th>\n",
       "      <td>0.676410</td>\n",
       "      <td>0.639726</td>\n",
       "      <td>0.656165</td>\n",
       "      <td>0.635870</td>\n",
       "      <td>0.110468</td>\n",
       "      <td>0.177268</td>\n",
       "      <td>0.194362</td>\n",
       "      <td>0.113499</td>\n",
       "      <td>0.181671</td>\n",
       "      <td>1633557600000</td>\n",
       "      <td>...</td>\n",
       "      <td>0.773572</td>\n",
       "      <td>0.321096</td>\n",
       "      <td>0.448647</td>\n",
       "      <td>0.518678</td>\n",
       "      <td>0.749923</td>\n",
       "      <td>0.552534</td>\n",
       "      <td>0.903476</td>\n",
       "      <td>0.000000</td>\n",
       "      <td>0.000000</td>\n",
       "      <td>0.000000</td>\n",
       "    </tr>\n",
       "    <tr>\n",
       "      <th>524</th>\n",
       "      <td>0.557291</td>\n",
       "      <td>0.529646</td>\n",
       "      <td>0.570251</td>\n",
       "      <td>0.546152</td>\n",
       "      <td>0.004169</td>\n",
       "      <td>0.019562</td>\n",
       "      <td>0.031392</td>\n",
       "      <td>0.009974</td>\n",
       "      <td>0.027802</td>\n",
       "      <td>1640383200000</td>\n",
       "      <td>...</td>\n",
       "      <td>0.579159</td>\n",
       "      <td>0.679245</td>\n",
       "      <td>0.754090</td>\n",
       "      <td>0.646791</td>\n",
       "      <td>0.354962</td>\n",
       "      <td>0.272284</td>\n",
       "      <td>0.780427</td>\n",
       "      <td>0.000000</td>\n",
       "      <td>0.000000</td>\n",
       "      <td>0.000000</td>\n",
       "    </tr>\n",
       "    <tr>\n",
       "      <th>525</th>\n",
       "      <td>0.333652</td>\n",
       "      <td>0.354204</td>\n",
       "      <td>0.343179</td>\n",
       "      <td>0.372319</td>\n",
       "      <td>0.099011</td>\n",
       "      <td>0.116227</td>\n",
       "      <td>0.154345</td>\n",
       "      <td>0.107071</td>\n",
       "      <td>0.125885</td>\n",
       "      <td>1644184800000</td>\n",
       "      <td>...</td>\n",
       "      <td>0.739562</td>\n",
       "      <td>0.476198</td>\n",
       "      <td>0.333457</td>\n",
       "      <td>0.682687</td>\n",
       "      <td>0.517844</td>\n",
       "      <td>0.350583</td>\n",
       "      <td>0.770003</td>\n",
       "      <td>0.000000</td>\n",
       "      <td>0.000000</td>\n",
       "      <td>0.000000</td>\n",
       "    </tr>\n",
       "    <tr>\n",
       "      <th>526</th>\n",
       "      <td>0.467582</td>\n",
       "      <td>0.438548</td>\n",
       "      <td>0.471450</td>\n",
       "      <td>0.457862</td>\n",
       "      <td>0.068966</td>\n",
       "      <td>0.094874</td>\n",
       "      <td>0.086163</td>\n",
       "      <td>0.078551</td>\n",
       "      <td>0.107120</td>\n",
       "      <td>1648591200000</td>\n",
       "      <td>...</td>\n",
       "      <td>0.799805</td>\n",
       "      <td>0.288055</td>\n",
       "      <td>0.288666</td>\n",
       "      <td>0.403365</td>\n",
       "      <td>0.764804</td>\n",
       "      <td>0.678560</td>\n",
       "      <td>0.850299</td>\n",
       "      <td>0.000000</td>\n",
       "      <td>0.000000</td>\n",
       "      <td>0.000000</td>\n",
       "    </tr>\n",
       "  </tbody>\n",
       "</table>\n",
       "<p>422 rows × 34 columns</p>\n",
       "</div>"
      ],
      "text/plain": [
       "         open      high       low     close    volume  quote_av    trades  \\\n",
       "0    0.189379  0.191029  0.207524  0.225249  0.145416  0.140119  0.220493   \n",
       "1    0.481730  0.472435  0.462886  0.463682  0.202421  0.263302  0.318952   \n",
       "2    0.460215  0.491457  0.486650  0.497872  0.166372  0.224436  0.261718   \n",
       "3    0.480205  0.517335  0.486368  0.512597  0.211165  0.284423  0.280829   \n",
       "4    0.512597  0.568198  0.538306  0.591734  0.202045  0.285665  0.335582   \n",
       "..        ...       ...       ...       ...       ...       ...       ...   \n",
       "522  0.327464  0.309047  0.322925  0.297762  0.076171  0.085792  0.079858   \n",
       "523  0.676410  0.639726  0.656165  0.635870  0.110468  0.177268  0.194362   \n",
       "524  0.557291  0.529646  0.570251  0.546152  0.004169  0.019562  0.031392   \n",
       "525  0.333652  0.354204  0.343179  0.372319  0.099011  0.116227  0.154345   \n",
       "526  0.467582  0.438548  0.471450  0.457862  0.068966  0.094874  0.086163   \n",
       "\n",
       "     tb_base_av  tb_quote_av           unix  ...  strength_index_14_days  \\\n",
       "0      0.152704     0.147742  1612476000000  ...                0.000000   \n",
       "1      0.209505     0.272479  1613080800000  ...                0.000000   \n",
       "2      0.190192     0.254954  1613253600000  ...                0.000000   \n",
       "3      0.233062     0.312983  1613426400000  ...                0.000000   \n",
       "4      0.229603     0.322460  1613512800000  ...                0.000000   \n",
       "..          ...          ...            ...  ...                     ...   \n",
       "522    0.077386     0.087591  1632780000000  ...                0.454841   \n",
       "523    0.113499     0.181671  1633557600000  ...                0.773572   \n",
       "524    0.009974     0.027802  1640383200000  ...                0.579159   \n",
       "525    0.107071     0.125885  1644184800000  ...                0.739562   \n",
       "526    0.078551     0.107120  1648591200000  ...                0.799805   \n",
       "\n",
       "     std_56_days  exp_mean_56_days  exp_std_56_days  momentum_56_days  \\\n",
       "0       0.000000          0.115061         0.000000          0.572084   \n",
       "1       0.000000          0.362753         0.428692          0.572084   \n",
       "2       0.000000          0.402766         0.415996          0.572084   \n",
       "3       0.000000          0.435028         0.404232          0.572084   \n",
       "4       0.000000          0.462300         0.436895          0.572084   \n",
       "..           ...               ...              ...               ...   \n",
       "522     0.295872          0.393828         0.485848          0.625504   \n",
       "523     0.321096          0.448647         0.518678          0.749923   \n",
       "524     0.679245          0.754090         0.646791          0.354962   \n",
       "525     0.476198          0.333457         0.682687          0.517844   \n",
       "526     0.288055          0.288666         0.403365          0.764804   \n",
       "\n",
       "     rate_of_change_56_days  strength_index_56_days  subjectivity  polarity  \\\n",
       "0                  0.436733                0.000000      0.018915  0.015860   \n",
       "1                  0.436733                0.000000      0.000000  0.000000   \n",
       "2                  0.436733                0.000000      0.059559  0.061997   \n",
       "3                  0.436733                0.000000      0.000000  0.000000   \n",
       "4                  0.436733                0.000000      0.000000  0.000000   \n",
       "..                      ...                     ...           ...       ...   \n",
       "522                0.467078                0.775921      0.000000  0.000000   \n",
       "523                0.552534                0.903476      0.000000  0.000000   \n",
       "524                0.272284                0.780427      0.000000  0.000000   \n",
       "525                0.350583                0.770003      0.000000  0.000000   \n",
       "526                0.678560                0.850299      0.000000  0.000000   \n",
       "\n",
       "     compound  \n",
       "0    0.012116  \n",
       "1    0.000000  \n",
       "2    0.056620  \n",
       "3    0.000000  \n",
       "4    0.000000  \n",
       "..        ...  \n",
       "522  0.000000  \n",
       "523  0.000000  \n",
       "524  0.000000  \n",
       "525  0.000000  \n",
       "526  0.000000  \n",
       "\n",
       "[422 rows x 34 columns]"
      ]
     },
     "execution_count": 14,
     "metadata": {},
     "output_type": "execute_result"
    }
   ],
   "source": [
    "X_train"
   ]
  },
  {
   "cell_type": "code",
   "execution_count": 15,
   "id": "26654b81-b599-4187-aa9e-955476e63ce5",
   "metadata": {},
   "outputs": [
    {
     "data": {
      "text/plain": [
       "((422, 34), (100, 34))"
      ]
     },
     "execution_count": 15,
     "metadata": {},
     "output_type": "execute_result"
    }
   ],
   "source": [
    "X_train.shape, X_test.shape"
   ]
  },
  {
   "cell_type": "code",
   "execution_count": 16,
   "id": "490d3fd9",
   "metadata": {},
   "outputs": [],
   "source": [
    "# lets remove redundant column \"unix\"\n",
    "X_train.drop(columns=[\"unix\"], inplace=True)\n",
    "X_test.drop(columns=[\"unix\"], inplace=True)"
   ]
  },
  {
   "cell_type": "code",
   "execution_count": 17,
   "id": "9cb27c2a",
   "metadata": {},
   "outputs": [],
   "source": [
    "y_train = X_train[[\"close\"]]\n",
    "y_test = X_test[[\"close\"]]"
   ]
  },
  {
   "cell_type": "markdown",
   "id": "40620977",
   "metadata": {},
   "source": [
    "---\n",
    "\n",
    "## <span style=\"color:#ff5f27;\">🤖 Time series model</span>"
   ]
  },
  {
   "cell_type": "code",
   "execution_count": 18,
   "id": "d8e922a8",
   "metadata": {},
   "outputs": [],
   "source": [
    "# Now lets define Tensorflow Dataset as we are going to train keras tensorflow model\n",
    "\n",
    "def windowed_dataset(dataset, target, window_size, batch_size):\n",
    "    ds = dataset.window(window_size, shift=1, drop_remainder=True)\n",
    "    ds = ds.flat_map(lambda x: x.batch(window_size))\n",
    "    ds = ds.map(lambda window: tf.reshape(window[-1:], [-1, 33]))\n",
    "        \n",
    "    target_ds = target.window(window_size, shift=1, drop_remainder=True)\n",
    "    target_ds = target_ds.flat_map(lambda window: window.batch(window_size))\n",
    "    target_ds = target_ds.map(lambda window: window[-1:])\n",
    "    \n",
    "    ds = tf.data.Dataset.zip((ds, target_ds))\n",
    "    ds = ds.batch(batch_size,True)\n",
    "    ds = ds.prefetch(1)\n",
    "    return ds"
   ]
  },
  {
   "cell_type": "code",
   "execution_count": 19,
   "id": "18517f29",
   "metadata": {},
   "outputs": [
    {
     "name": "stdout",
     "output_type": "stream",
     "text": [
      "WARNING:tensorflow:From /home/javierdlrm/.pyenv/versions/3.10.13/envs/tutorials/lib/python3.10/site-packages/tensorflow/python/autograph/pyct/static_analysis/liveness.py:83: Analyzer.lamba_check (from tensorflow.python.autograph.pyct.static_analysis.liveness) is deprecated and will be removed after 2023-09-23.\n",
      "Instructions for updating:\n",
      "Lambda fuctions will be no more assumed to be used in the statement where they are used, or at least in the same block. https://github.com/tensorflow/tensorflow/issues/56089\n",
      "WARNING:tensorflow:From /home/javierdlrm/.pyenv/versions/3.10.13/envs/tutorials/lib/python3.10/site-packages/tensorflow/python/autograph/pyct/static_analysis/liveness.py:83: Analyzer.lamba_check (from tensorflow.python.autograph.pyct.static_analysis.liveness) is deprecated and will be removed after 2023-09-23.\n",
      "Instructions for updating:\n",
      "Lambda fuctions will be no more assumed to be used in the statement where they are used, or at least in the same block. https://github.com/tensorflow/tensorflow/issues/56089\n"
     ]
    },
    {
     "name": "stderr",
     "output_type": "stream",
     "text": [
      "2024-04-20 15:02:09.613881: I tensorflow/compiler/xla/stream_executor/cuda/cuda_gpu_executor.cc:967] could not open file to read NUMA node: /sys/bus/pci/devices/0000:01:00.0/numa_node\n",
      "Your kernel may have been built without NUMA support.\n",
      "2024-04-20 15:02:09.613982: W tensorflow/compiler/xla/stream_executor/platform/default/dso_loader.cc:64] Could not load dynamic library 'libcudart.so.11.0'; dlerror: libcudart.so.11.0: cannot open shared object file: No such file or directory\n",
      "2024-04-20 15:02:09.614021: W tensorflow/compiler/xla/stream_executor/platform/default/dso_loader.cc:64] Could not load dynamic library 'libcublas.so.11'; dlerror: libcublas.so.11: cannot open shared object file: No such file or directory\n",
      "2024-04-20 15:02:09.614044: W tensorflow/compiler/xla/stream_executor/platform/default/dso_loader.cc:64] Could not load dynamic library 'libcublasLt.so.11'; dlerror: libcublasLt.so.11: cannot open shared object file: No such file or directory\n",
      "2024-04-20 15:02:09.614069: W tensorflow/compiler/xla/stream_executor/platform/default/dso_loader.cc:64] Could not load dynamic library 'libcufft.so.10'; dlerror: libcufft.so.10: cannot open shared object file: No such file or directory\n",
      "2024-04-20 15:02:09.614092: W tensorflow/compiler/xla/stream_executor/platform/default/dso_loader.cc:64] Could not load dynamic library 'libcurand.so.10'; dlerror: libcurand.so.10: cannot open shared object file: No such file or directory\n",
      "2024-04-20 15:02:09.614114: W tensorflow/compiler/xla/stream_executor/platform/default/dso_loader.cc:64] Could not load dynamic library 'libcusolver.so.11'; dlerror: libcusolver.so.11: cannot open shared object file: No such file or directory\n",
      "2024-04-20 15:02:09.614140: W tensorflow/compiler/xla/stream_executor/platform/default/dso_loader.cc:64] Could not load dynamic library 'libcusparse.so.11'; dlerror: libcusparse.so.11: cannot open shared object file: No such file or directory\n",
      "2024-04-20 15:02:09.614161: W tensorflow/compiler/xla/stream_executor/platform/default/dso_loader.cc:64] Could not load dynamic library 'libcudnn.so.8'; dlerror: libcudnn.so.8: cannot open shared object file: No such file or directory\n",
      "2024-04-20 15:02:09.614165: W tensorflow/core/common_runtime/gpu/gpu_device.cc:1934] Cannot dlopen some GPU libraries. Please make sure the missing libraries mentioned above are installed properly if you would like to use GPU. Follow the guide at https://www.tensorflow.org/install/gpu for how to download and setup the required libraries for your platform.\n",
      "Skipping registering GPU devices...\n",
      "2024-04-20 15:02:09.616191: I tensorflow/core/platform/cpu_feature_guard.cc:193] This TensorFlow binary is optimized with oneAPI Deep Neural Network Library (oneDNN) to use the following CPU instructions in performance-critical operations:  AVX2 AVX_VNNI FMA\n",
      "To enable them in other operations, rebuild TensorFlow with the appropriate compiler flags.\n"
     ]
    },
    {
     "data": {
      "text/plain": [
       "<PrefetchDataset element_spec=(TensorSpec(shape=(16, None, 33), dtype=tf.float32, name=None), TensorSpec(shape=(16, None), dtype=tf.float32, name=None))>"
      ]
     },
     "execution_count": 19,
     "metadata": {},
     "output_type": "execute_result"
    }
   ],
   "source": [
    "training_dataset = tf.data.Dataset.from_tensor_slices(tf.cast(X_train.values, tf.float32)) \n",
    "training_target = tf.data.Dataset.from_tensor_slices(y_train.values.flatten().tolist()) \n",
    "training_dataset = training_dataset.repeat(500)\n",
    "training_dataset = windowed_dataset(training_dataset, training_target, window_size=2, batch_size=16)\n",
    "training_dataset"
   ]
  },
  {
   "cell_type": "code",
   "execution_count": 20,
   "id": "3908b7a5",
   "metadata": {},
   "outputs": [
    {
     "data": {
      "text/plain": [
       "<PrefetchDataset element_spec=(TensorSpec(shape=(16, None, 33), dtype=tf.float32, name=None), TensorSpec(shape=(16, None), dtype=tf.float32, name=None))>"
      ]
     },
     "execution_count": 20,
     "metadata": {},
     "output_type": "execute_result"
    }
   ],
   "source": [
    "test_dataset = tf.data.Dataset.from_tensor_slices(tf.cast(X_test.values, tf.float32))\n",
    "validation_target = tf.data.Dataset.from_tensor_slices(y_test.values.flatten().tolist()) \n",
    "training_dataset = training_dataset.repeat(500)\n",
    "test_dataset = windowed_dataset(test_dataset, validation_target, window_size=2, batch_size=16)\n",
    "test_dataset"
   ]
  },
  {
   "cell_type": "code",
   "execution_count": 21,
   "id": "4bfcae6e",
   "metadata": {},
   "outputs": [],
   "source": [
    "def build_model(input_dim):\n",
    "    inputs = tf.keras.layers.Input(shape=(input_dim[0],input_dim[1]))\n",
    "    x = tf.keras.layers.Conv1D(filters = 128, kernel_size=1, padding='same', kernel_initializer=\"uniform\")(inputs)\n",
    "    x = tf.keras.layers.BatchNormalization()(x)\n",
    "    x = tf.keras.layers.LeakyReLU(alpha=0.2)(x)    \n",
    "    x = tf.keras.layers.MaxPooling1D(pool_size=2, padding='same')(x)\n",
    "    x = tf.keras.layers.Conv1D(filters = input_dim[1], kernel_size= 1,padding='same',  kernel_initializer=\"uniform\")(x)\n",
    "    x = tf.keras.layers.BatchNormalization()(x)\n",
    "    x = tf.keras.layers.LeakyReLU(alpha=0.2)(x)    \n",
    "    x = tf.keras.layers.MaxPooling1D(pool_size=2, padding='same')(x)    \n",
    "\n",
    "    x = tf.keras.layers.Flatten()(x)\n",
    "    x = tf.keras.layers.Dense(33, activation=\"relu\", kernel_initializer=\"uniform\")(x)\n",
    "    x = tf.keras.layers.Dropout(0.2)(x)\n",
    "    x = tf.keras.layers.Dense(1, activation=\"relu\", kernel_initializer=\"uniform\")(x)\n",
    "    \n",
    "    model = tf.keras.Model(inputs, x)\n",
    "    model.summary()\n",
    "    model.compile(loss='mse',optimizer='adam',metrics=['mae'])\n",
    "    return model"
   ]
  },
  {
   "cell_type": "code",
   "execution_count": 22,
   "id": "01761fba",
   "metadata": {},
   "outputs": [
    {
     "name": "stdout",
     "output_type": "stream",
     "text": [
      "Model: \"model\"\n",
      "_________________________________________________________________\n",
      " Layer (type)                Output Shape              Param #   \n",
      "=================================================================\n",
      " input_1 (InputLayer)        [(None, 1, 33)]           0         \n",
      "                                                                 \n",
      " conv1d (Conv1D)             (None, 1, 128)            4352      \n",
      "                                                                 \n",
      " batch_normalization (BatchN  (None, 1, 128)           512       \n",
      " ormalization)                                                   \n",
      "                                                                 \n",
      " leaky_re_lu (LeakyReLU)     (None, 1, 128)            0         \n",
      "                                                                 \n",
      " max_pooling1d (MaxPooling1D  (None, 1, 128)           0         \n",
      " )                                                               \n",
      "                                                                 \n",
      " conv1d_1 (Conv1D)           (None, 1, 33)             4257      \n",
      "                                                                 \n",
      " batch_normalization_1 (Batc  (None, 1, 33)            132       \n",
      " hNormalization)                                                 \n",
      "                                                                 \n",
      " leaky_re_lu_1 (LeakyReLU)   (None, 1, 33)             0         \n",
      "                                                                 \n",
      " max_pooling1d_1 (MaxPooling  (None, 1, 33)            0         \n",
      " 1D)                                                             \n",
      "                                                                 \n",
      " flatten (Flatten)           (None, 33)                0         \n",
      "                                                                 \n",
      " dense (Dense)               (None, 33)                1122      \n",
      "                                                                 \n",
      " dropout (Dropout)           (None, 33)                0         \n",
      "                                                                 \n",
      " dense_1 (Dense)             (None, 1)                 34        \n",
      "                                                                 \n",
      "=================================================================\n",
      "Total params: 10,409\n",
      "Trainable params: 10,087\n",
      "Non-trainable params: 322\n",
      "_________________________________________________________________\n"
     ]
    }
   ],
   "source": [
    "model = build_model([1, X_train.shape[1]])"
   ]
  },
  {
   "cell_type": "code",
   "execution_count": 23,
   "id": "e4ef7d50",
   "metadata": {},
   "outputs": [
    {
     "name": "stdout",
     "output_type": "stream",
     "text": [
      "17.58110223000017\n"
     ]
    }
   ],
   "source": [
    "from timeit import default_timer as timer\n",
    "start = timer()\n",
    "history = model.fit(\n",
    "    training_dataset,\n",
    "    epochs=10,\n",
    "    verbose=0,\n",
    "    steps_per_epoch=500,\n",
    "    validation_data=test_dataset,\n",
    "    validation_steps=1,                    \n",
    ")\n",
    "end = timer()\n",
    "print(end - start)"
   ]
  },
  {
   "cell_type": "code",
   "execution_count": 24,
   "id": "982d91c9",
   "metadata": {},
   "outputs": [
    {
     "data": {
      "text/plain": [
       "dict_keys(['loss', 'mae', 'val_loss', 'val_mae'])"
      ]
     },
     "execution_count": 24,
     "metadata": {},
     "output_type": "execute_result"
    }
   ],
   "source": [
    "history_dict = history.history\n",
    "history_dict.keys()"
   ]
  },
  {
   "cell_type": "markdown",
   "id": "e8e62a7f",
   "metadata": {},
   "source": [
    "### <span style='color:#ff5f27'>⚖️ Model Validation</span>"
   ]
  },
  {
   "cell_type": "code",
   "execution_count": 43,
   "id": "fe2f23c5",
   "metadata": {},
   "outputs": [
    {
     "data": {
      "image/png": "[encoded data removed]",
      "text/plain": [
       "<Figure size 1500x700 with 1 Axes>"
      ]
     },
     "metadata": {
      "image/png": {
       "height": 653,
       "width": 1277
      }
     },
     "output_type": "display_data"
    }
   ],
   "source": [
    "loss_values = history_dict['mae']\n",
    "val_loss_values = history_dict['val_mae']\n",
    "\n",
    "loss_values50 = loss_values\n",
    "val_loss_values50 = val_loss_values\n",
    "epochs = range(1, len(loss_values50) + 1)\n",
    "plt.plot(epochs, loss_values50, 'b',color = 'blue', label='Training loss')\n",
    "plt.plot(epochs, val_loss_values50, 'b',color='red', label='Validation loss')\n",
    "plt.rc('font', size = 18)\n",
    "plt.title('Training and validation loss')\n",
    "plt.xlabel('Epochs')\n",
    "plt.ylabel('Loss')\n",
    "plt.legend()\n",
    "plt.xticks(epochs)\n",
    "fig = plt.gcf()\n",
    "fig.set_size_inches(15,7)\n",
    "plt.show()"
   ]
  },
  {
   "cell_type": "code",
   "execution_count": 46,
   "id": "ea86f752",
   "metadata": {},
   "outputs": [],
   "source": [
    "fig.savefig(\"loss.png\")"
   ]
  },
  {
   "cell_type": "code",
   "execution_count": 26,
   "id": "90c11499",
   "metadata": {},
   "outputs": [
    {
     "name": "stdout",
     "output_type": "stream",
     "text": [
      "4/4 [==============================] - 0s 2ms/step\n"
     ]
    },
    {
     "data": {
      "text/plain": [
       "array([[0.2960928 ],\n",
       "       [0.28552625],\n",
       "       [0.33543056],\n",
       "       [0.2894034 ],\n",
       "       [0.30713624]], dtype=float32)"
      ]
     },
     "execution_count": 26,
     "metadata": {},
     "output_type": "execute_result"
    }
   ],
   "source": [
    "y_pred_scaled = model.predict(X_test.values.reshape(-1, 1, X_test.shape[1]))\n",
    "y_pred_scaled[:5]"
   ]
  },
  {
   "cell_type": "code",
   "execution_count": 30,
   "id": "6bba72de",
   "metadata": {},
   "outputs": [],
   "source": [
    "import inspect \n",
    "# Recall that you applied transformation functions, such as min max scaler and laber encoder. \n",
    "# Now you want to transform them back to human readable format.\n",
    "feature_view.init_serving(1)\n",
    "# td_transformation_functions = feature_view._single_vector_server._transformation_functions\n",
    "td_transformation_functions = feature_view._vector_server._transformation_functions\n",
    "\n",
    "y_pred = pd.DataFrame(y_pred_scaled, columns=[\"close\"])\n",
    "\n",
    "for feature_name in td_transformation_functions:\n",
    "    if feature_name == \"close\":\n",
    "        td_transformation_function = td_transformation_functions[feature_name]\n",
    "        sig, foobar_locals = inspect.signature(td_transformation_function.transformation_fn), locals()\n",
    "        param_dict = dict([(param.name, param.default) for param in sig.parameters.values() if param.default != inspect._empty])\n",
    "        if td_transformation_function.name == \"min_max_scaler\":\n",
    "            y_pred[feature_name] = y_pred[feature_name].map(lambda x: x*(param_dict[\"max_value\"]-param_dict[\"min_value\"])+param_dict[\"min_value\"])\n",
    "            y_test[feature_name] = y_test[feature_name].map(lambda x: x*(param_dict[\"max_value\"]-param_dict[\"min_value\"])+param_dict[\"min_value\"])"
   ]
  },
  {
   "cell_type": "code",
   "execution_count": 31,
   "id": "b20c5432-19d5-4968-a102-328c600d3cff",
   "metadata": {},
   "outputs": [
    {
     "name": "stdout",
     "output_type": "stream",
     "text": [
      "MAE: 7406.38937395346\n"
     ]
    }
   ],
   "source": [
    "from sklearn.metrics import mean_absolute_error\n",
    "\n",
    "print(\"MAE:\", mean_absolute_error(y_test, y_pred))"
   ]
  },
  {
   "cell_type": "code",
   "execution_count": 32,
   "id": "bb54dc51",
   "metadata": {},
   "outputs": [
    {
     "data": {
      "image/png": "[encoded data removed]",
      "text/plain": [
       "<Figure size 640x480 with 1 Axes>"
      ]
     },
     "metadata": {
      "image/png": {
       "height": 563,
       "width": 780
      }
     },
     "output_type": "display_data"
    }
   ],
   "source": [
    "colors = ['darkslategrey']\n",
    "\n",
    "fig = plt.figure()\n",
    "ax = fig.add_axes([0,0,1,1])\n",
    "\n",
    "ax.plot(y_test, 'black')\n",
    "ax.plot(y_pred, 'orange')\n",
    "ax.set_ylabel('$price$')\n",
    "ax.set_xlabel('$time$')\n",
    "ax.grid(True)\n",
    "ax.legend([\"actual\", \"pred\"])\n",
    "\n",
    "plt.grid(True)\n",
    "plt.show()"
   ]
  },
  {
   "cell_type": "markdown",
   "id": "eabdebb9",
   "metadata": {
    "tags": []
   },
   "source": [
    "---\n",
    "## <span style='color:#ff5f27'>🗄 Model Registry</span>"
   ]
  },
  {
   "cell_type": "code",
   "execution_count": 33,
   "id": "64ff88e0",
   "metadata": {},
   "outputs": [
    {
     "name": "stdout",
     "output_type": "stream",
     "text": [
      "Exporting trained model to: bitcoin_price_model\n",
      "WARNING:absl:Found untraced functions such as _jit_compiled_convolution_op, _jit_compiled_convolution_op, _update_step_xla while saving (showing 3 of 3). These functions will not be directly callable after loading.\n",
      "INFO:tensorflow:Assets written to: bitcoin_price_model/assets\n",
      "INFO:tensorflow:Assets written to: bitcoin_price_model/assets\n"
     ]
    }
   ],
   "source": [
    "# The 'bitcoin_price_model' directory will be saved to the model registry\n",
    "model_dir = \"bitcoin_price_model\"\n",
    "if not os.path.isdir(model_dir):\n",
    "    os.mkdir(model_dir)\n",
    "\n",
    "img_model_dir = model_dir + \"/images\"\n",
    "if not os.path.isdir(img_model_dir):\n",
    "    os.mkdir(model_dir)\n",
    "\n",
    "fig.savefig(img_model_dir + \"/chart.png\") \n",
    "\n",
    "print('Exporting trained model to: {}'.format(model_dir))\n",
    "    \n",
    "tf.saved_model.save(model, model_dir)"
   ]
  },
  {
   "cell_type": "code",
   "execution_count": 35,
   "id": "0d54efe5",
   "metadata": {},
   "outputs": [
    {
     "name": "stdout",
     "output_type": "stream",
     "text": [
      "Connected. Call `.close()` to terminate connection gracefully.\n"
     ]
    },
    {
     "data": {
      "application/vnd.jupyter.widget-view+json": {
       "model_id": "c645522f772648a69073307688c1b671",
       "version_major": 2,
       "version_minor": 0
      },
      "text/plain": [
       "  0%|          | 0/6 [00:00<?, ?it/s]"
      ]
     },
     "metadata": {},
     "output_type": "display_data"
    },
    {
     "data": {
      "application/vnd.jupyter.widget-view+json": {
       "model_id": "553e08a7d38b444ba8f9a51eef43517f",
       "version_major": 2,
       "version_minor": 0
      },
      "text/plain": [
       "Uploading: 0.000%|          | 0/53 elapsed<00:00 remaining<?"
      ]
     },
     "metadata": {},
     "output_type": "display_data"
    },
    {
     "data": {
      "application/vnd.jupyter.widget-view+json": {
       "model_id": "643126f435bf4b7e84dafc4ef82b8513",
       "version_major": 2,
       "version_minor": 0
      },
      "text/plain": [
       "Uploading: 0.000%|          | 0/263008 elapsed<00:00 remaining<?"
      ]
     },
     "metadata": {},
     "output_type": "display_data"
    },
    {
     "data": {
      "application/vnd.jupyter.widget-view+json": {
       "model_id": "1c610489b6a3463580bf2ac4c57d7bfc",
       "version_major": 2,
       "version_minor": 0
      },
      "text/plain": [
       "Uploading: 0.000%|          | 0/50974 elapsed<00:00 remaining<?"
      ]
     },
     "metadata": {},
     "output_type": "display_data"
    },
    {
     "data": {
      "application/vnd.jupyter.widget-view+json": {
       "model_id": "60feaa0d6227464eb7352e3d0a569fe4",
       "version_major": 2,
       "version_minor": 0
      },
      "text/plain": [
       "Uploading: 0.000%|          | 0/2796 elapsed<00:00 remaining<?"
      ]
     },
     "metadata": {},
     "output_type": "display_data"
    },
    {
     "data": {
      "application/vnd.jupyter.widget-view+json": {
       "model_id": "0d17e2bacbf74e138f1d36d34871c80e",
       "version_major": 2,
       "version_minor": 0
      },
      "text/plain": [
       "Uploading: 0.000%|          | 0/135946 elapsed<00:00 remaining<?"
      ]
     },
     "metadata": {},
     "output_type": "display_data"
    },
    {
     "data": {
      "application/vnd.jupyter.widget-view+json": {
       "model_id": "31cfd05e770948e1ab6cf21b76503085",
       "version_major": 2,
       "version_minor": 0
      },
      "text/plain": [
       "Uploading: 0.000%|          | 0/15 elapsed<00:00 remaining<?"
      ]
     },
     "metadata": {},
     "output_type": "display_data"
    },
    {
     "name": "stdout",
     "output_type": "stream",
     "text": [
      "Model created, explore it at https://127.0.0.1:8181/p/122/models/bitcoin_price_model/1\n"
     ]
    },
    {
     "data": {
      "text/plain": [
       "Model(name: 'bitcoin_price_model', version: 1)"
      ]
     },
     "execution_count": 35,
     "metadata": {},
     "output_type": "execute_result"
    }
   ],
   "source": [
    "mr = project.get_model_registry()\n",
    "\n",
    "metrics={'loss': history_dict['val_mae'][0]} \n",
    "\n",
    "today = datetime.datetime.today()\n",
    "latest_date = int(time.mktime(today.timetuple()) * 1000) # converting todays datetime to unix\n",
    "\n",
    "tf_model = mr.tensorflow.create_model(\n",
    "    name=\"bitcoin_price_model\", \n",
    "    metrics=metrics,\n",
    "    input_example=[latest_date],\n",
    "    description=\"Bitcoin daily price prediction model.\",\n",
    ")\n",
    "\n",
    "tf_model.save(model_dir)"
   ]
  },
  {
   "cell_type": "markdown",
   "id": "c98bbb11",
   "metadata": {},
   "source": [
    "---\n",
    "## <span style=\"color:#ff5f27;\">🚀 Model Deployment</span>"
   ]
  },
  {
   "cell_type": "code",
   "execution_count": 36,
   "id": "63894db1",
   "metadata": {},
   "outputs": [
    {
     "name": "stdout",
     "output_type": "stream",
     "text": [
      "Writing btc_model_transformer.py\n"
     ]
    }
   ],
   "source": [
    "%%writefile btc_model_transformer.py\n",
    "\n",
    "import os\n",
    "import hsfs\n",
    "import numpy as np\n",
    "\n",
    "class Transformer(object):\n",
    "    \n",
    "    def __init__(self):        \n",
    "        # get feature store handle\n",
    "        fs_conn = hsfs.connection()\n",
    "        self.fs = fs_conn.get_feature_store()\n",
    "        \n",
    "        # get feature views\n",
    "        self.fv = self.fs.get_feature_view(\"bitcoin_feature_view\", 1)\n",
    "        \n",
    "        # initialise serving\n",
    "        self.fv.init_serving(1)\n",
    "\n",
    "    def flat2gen(self, alist):\n",
    "        for item in alist:\n",
    "            if isinstance(item, list):\n",
    "                for subitem in item: yield subitem\n",
    "            else:\n",
    "                yield item\n",
    "        \n",
    "    def preprocess(self, inputs):\n",
    "        feature_vector = self.fv.get_feature_vector({\"unix\": inputs[\"instances\"][0][0]})\n",
    "        feature_vector = [*feature_vector[:9], *feature_vector[10:]]\n",
    "        return { \"instances\" :  np.array(list(self.flat2gen(feature_vector))).reshape(-1, 1, len(feature_vector)).tolist() }\n",
    "\n",
    "    def postprocess(self, outputs):\n",
    "        return outputs"
   ]
  },
  {
   "cell_type": "code",
   "execution_count": 37,
   "id": "6d4df257",
   "metadata": {},
   "outputs": [
    {
     "data": {
      "application/vnd.jupyter.widget-view+json": {
       "model_id": "f41eb20abff743088b68f4ed9ec5aa0a",
       "version_major": 2,
       "version_minor": 0
      },
      "text/plain": [
       "Uploading: 0.000%|          | 0/985 elapsed<00:00 remaining<?"
      ]
     },
     "metadata": {},
     "output_type": "display_data"
    }
   ],
   "source": [
    "from hsml.transformer import Transformer\n",
    "\n",
    "dataset_api = project.get_dataset_api()\n",
    "\n",
    "uploaded_file_path = dataset_api.upload(\"btc_model_transformer.py\", \"Resources\", overwrite=True)\n",
    "transformer_script_path = os.path.join(\"/Projects\", project.name, uploaded_file_path)\n",
    "transformer_script = Transformer(script_file=transformer_script_path, resources={\"num_instances\": 1})"
   ]
  },
  {
   "cell_type": "code",
   "execution_count": 38,
   "id": "611abd83",
   "metadata": {},
   "outputs": [],
   "source": [
    "# we can retrieve the model using code like this\n",
    "tf_model = mr.get_model(\"bitcoin_price_model\", version = 1)"
   ]
  },
  {
   "cell_type": "code",
   "execution_count": 39,
   "id": "c0fd6742",
   "metadata": {},
   "outputs": [
    {
     "name": "stdout",
     "output_type": "stream",
     "text": [
      "Deployment created, explore it at https://127.0.0.1:8181/p/122/deployments/1\n",
      "Before making predictions, start the deployment by using `.start()`\n"
     ]
    }
   ],
   "source": [
    "deployment = tf_model.deploy(\n",
    "    name=\"btcmodeldeployment\",\n",
    "    transformer=transformer_script,\n",
    "    resources={\"num_instances\": 1},\n",
    ")"
   ]
  },
  {
   "cell_type": "code",
   "execution_count": 40,
   "id": "b546da30-d03c-45cd-b48b-0a63709f2124",
   "metadata": {},
   "outputs": [
    {
     "name": "stdout",
     "output_type": "stream",
     "text": [
      "Deployment is warming up...\n"
     ]
    }
   ],
   "source": [
    "print(\"Deployment is warming up...\")\n",
    "time.sleep(40)"
   ]
  },
  {
   "cell_type": "markdown",
   "id": "a91570d5",
   "metadata": {},
   "source": [
    "The deployment has now been registered. Lets retrieve it from Hopsworks for demonstration purpose."
   ]
  },
  {
   "cell_type": "code",
   "execution_count": 41,
   "id": "40cc82e4",
   "metadata": {},
   "outputs": [
    {
     "name": "stdout",
     "output_type": "stream",
     "text": [
      "Connected. Call `.close()` to terminate connection gracefully.\n"
     ]
    }
   ],
   "source": [
    "ms = project.get_model_serving()\n",
    "\n",
    "# get deployment object\n",
    "deployment = ms.get_deployment(\"btcmodeldeployment\")"
   ]
  },
  {
   "cell_type": "code",
   "execution_count": 51,
   "id": "55c98b11",
   "metadata": {},
   "outputs": [
    {
     "name": "stdout",
     "output_type": "stream",
     "text": [
      "Deployment: btcmodeldeployment\n",
      "{\n",
      "    \"api_protocol\": \"REST\",\n",
      "    \"artifact_version\": 1,\n",
      "    \"batching_configuration\": {\n",
      "        \"batching_enabled\": false\n",
      "    },\n",
      "    \"created\": \"2024-04-20T13:10:36.000Z\",\n",
      "    \"creator\": \"Admin Admin\",\n",
      "    \"description\": null,\n",
      "    \"id\": 1,\n",
      "    \"inference_logging\": \"NONE\",\n",
      "    \"model_framework\": \"TENSORFLOW\",\n",
      "    \"model_name\": \"bitcoin_price_model\",\n",
      "    \"model_path\": \"/Projects/BinanceFunctionCalling/Models/bitcoin_price_model\",\n",
      "    \"model_server\": \"TENSORFLOW_SERVING\",\n",
      "    \"model_version\": 1,\n",
      "    \"name\": \"btcmodeldeployment\",\n",
      "    \"predictor\": null,\n",
      "    \"predictor_resources\": {\n",
      "        \"limits\": {\n",
      "            \"cores\": 1.0,\n",
      "            \"gpus\": 0,\n",
      "            \"memory\": 1024\n",
      "        },\n",
      "        \"requests\": {\n",
      "            \"cores\": 0.2,\n",
      "            \"gpus\": 0,\n",
      "            \"memory\": 32\n",
      "        }\n",
      "    },\n",
      "    \"requested_instances\": 0,\n",
      "    \"requested_transformer_instances\": 0,\n",
      "    \"serving_tool\": \"KSERVE\",\n",
      "    \"transformer\": \"btc_model_transformer.py\",\n",
      "    \"transformer_resources\": {\n",
      "        \"limits\": {\n",
      "            \"cores\": 1.0,\n",
      "            \"gpus\": 0,\n",
      "            \"memory\": 1024\n",
      "        },\n",
      "        \"requests\": {\n",
      "            \"cores\": 0.2,\n",
      "            \"gpus\": 0,\n",
      "            \"memory\": 32\n",
      "        }\n",
      "    }\n",
      "}\n"
     ]
    }
   ],
   "source": [
    "print(\"Deployment: \" + deployment.name)\n",
    "deployment.describe()"
   ]
  },
  {
   "cell_type": "markdown",
   "id": "eda5ca8e",
   "metadata": {},
   "source": [
    "To start it you need to run:"
   ]
  },
  {
   "cell_type": "code",
   "execution_count": 52,
   "id": "ead8293c",
   "metadata": {},
   "outputs": [
    {
     "name": "stdout",
     "output_type": "stream",
     "text": [
      "Deployment is already running\n",
      "Start making predictions by using `.predict()`\n"
     ]
    }
   ],
   "source": [
    "deployment.start(await_running=120)"
   ]
  },
  {
   "cell_type": "markdown",
   "id": "9e1477bb",
   "metadata": {},
   "source": [
    "For trouble shooting one can use get_logs method"
   ]
  },
  {
   "cell_type": "code",
   "execution_count": 53,
   "id": "5de5eef7",
   "metadata": {},
   "outputs": [
    {
     "name": "stdout",
     "output_type": "stream",
     "text": [
      "Explore all the logs and filters in the Kibana logs at https://127.0.0.1:8181/p/122/deployments/1\n",
      "\n",
      "Instance name: btcmodeldeployment-predictor-00002-deployment-69f9f74c66-wg555\n",
      "2024-04-20 13:19:34.135983: I external/org_tensorflow/tensorflow/cc/saved_model/loader.cc:305] SavedModel load for tags { serve }; Status: success: OK. Took 334405 microseconds.\n",
      "2024-04-20 13:19:34.138551: I tensorflow_serving/servables/tensorflow/saved_model_warmup_util.cc:62] No warmup data file found at /mnt/models/1/assets.extra/tf_serving_warmup_requests\n",
      "2024-04-20 13:19:34.693473: I tensorflow_serving/core/loader_harness.cc:95] Successfully loaded servable version {name: btcmodeldeployment version: 1}\n",
      "2024-04-20 13:19:34.698409: I tensorflow_serving/model_servers/server_core.cc:486] Finished adding/updating models\n",
      "2024-04-20 13:19:34.698481: I tensorflow_serving/model_servers/server.cc:118] Using InsecureServerCredentials\n",
      "2024-04-20 13:19:34.698497: I tensorflow_serving/model_servers/server.cc:383] Profiler service is enabled\n",
      "2024-04-20 13:19:34.700640: I tensorflow_serving/model_servers/server.cc:409] Running gRPC ModelServer at 0.0.0.0:9000 ...\n",
      "[warn] getaddrinfo: address family for nodename not supported\n",
      "2024-04-20 13:19:34.709654: I tensorflow_serving/model_servers/server.cc:430] Exporting HTTP/REST API at:localhost:8080 ...\n",
      "[evhttp_server.cc : 245] NET_LOG: Entering the event loop ...\n",
      "\n",
      "\n"
     ]
    }
   ],
   "source": [
    "deployment.get_logs()"
   ]
  },
  {
   "cell_type": "markdown",
   "id": "d13bbab5",
   "metadata": {},
   "source": [
    "---\n",
    "## <span style=\"color:#ff5f27;\">🔮 Predicting</span>\n",
    "\n",
    "Using the deployment let's use the input example that we registered together with the model to query the deployment."
   ]
  },
  {
   "cell_type": "code",
   "execution_count": 54,
   "id": "04cf8c10",
   "metadata": {},
   "outputs": [
    {
     "ename": "RestAPIError",
     "evalue": "Metadata operation error: (url: http://127.0.0.1:32080/v1/models/btcmodeldeployment:predict). Server response: \nHTTP code: 500, HTTP reason: Internal Server Error, body: b'{\"error\":\"HTTPError : HTTP 500: Feature \\'open\\' is missing from vector.Possible reasons: 1. There is no match in the given entry. Please check if the entry exists in the online feature store or provide the feature as passed_feature. 2. Required entries [unix] or [unix] are not provided.\"}', error code: , error msg: , user msg: \n\n Check the model server logs by using `.get_logs()`",
     "output_type": "error",
     "traceback": [
      "\u001b[0;31m---------------------------------------------------------------------------\u001b[0m",
      "\u001b[0;31mRestAPIError\u001b[0m                              Traceback (most recent call last)",
      "Cell \u001b[0;32mIn[54], line 4\u001b[0m\n\u001b[1;32m      1\u001b[0m today \u001b[38;5;241m=\u001b[39m datetime\u001b[38;5;241m.\u001b[39mdatetime\u001b[38;5;241m.\u001b[39mtoday()\n\u001b[1;32m      2\u001b[0m latest_date \u001b[38;5;241m=\u001b[39m \u001b[38;5;28mint\u001b[39m(time\u001b[38;5;241m.\u001b[39mmktime(today\u001b[38;5;241m.\u001b[39mtimetuple()) \u001b[38;5;241m*\u001b[39m \u001b[38;5;241m1000\u001b[39m) \u001b[38;5;66;03m# converting todays datetime to unix\u001b[39;00m\n\u001b[0;32m----> 4\u001b[0m deployment_output \u001b[38;5;241m=\u001b[39m \u001b[43mdeployment\u001b[49m\u001b[38;5;241;43m.\u001b[39;49m\u001b[43mpredict\u001b[49m\u001b[43m(\u001b[49m\u001b[43minputs\u001b[49m\u001b[38;5;241;43m=\u001b[39;49m\u001b[43m[\u001b[49m\u001b[43mlatest_date\u001b[49m\u001b[43m]\u001b[49m\u001b[43m)\u001b[49m\n\u001b[1;32m      5\u001b[0m \u001b[38;5;66;03m# or deployment.predict({ \"instances\": [[latest_date]] })\u001b[39;00m\n\u001b[1;32m      7\u001b[0m deployment_output\n",
      "File \u001b[0;32m~/.pyenv/versions/3.10.13/envs/tutorials/lib/python3.10/site-packages/hsml/deployment.py:206\u001b[0m, in \u001b[0;36mDeployment.predict\u001b[0;34m(self, data, inputs)\u001b[0m\n\u001b[1;32m    168\u001b[0m \u001b[38;5;28;01mdef\u001b[39;00m \u001b[38;5;21mpredict\u001b[39m(\n\u001b[1;32m    169\u001b[0m     \u001b[38;5;28mself\u001b[39m,\n\u001b[1;32m    170\u001b[0m     data: Union[Dict, InferInput] \u001b[38;5;241m=\u001b[39m \u001b[38;5;28;01mNone\u001b[39;00m,\n\u001b[1;32m    171\u001b[0m     inputs: Union[List, Dict] \u001b[38;5;241m=\u001b[39m \u001b[38;5;28;01mNone\u001b[39;00m,\n\u001b[1;32m    172\u001b[0m ):\n\u001b[1;32m    173\u001b[0m \u001b[38;5;250m    \u001b[39m\u001b[38;5;124;03m\"\"\"Send inference requests to the deployment.\u001b[39;00m\n\u001b[1;32m    174\u001b[0m \u001b[38;5;124;03m       One of data or inputs parameters must be set. If both are set, inputs will be ignored.\u001b[39;00m\n\u001b[1;32m    175\u001b[0m \n\u001b[0;32m   (...)\u001b[0m\n\u001b[1;32m    203\u001b[0m \u001b[38;5;124;03m        `dict`. Inference response.\u001b[39;00m\n\u001b[1;32m    204\u001b[0m \u001b[38;5;124;03m    \"\"\"\u001b[39;00m\n\u001b[0;32m--> 206\u001b[0m     \u001b[38;5;28;01mreturn\u001b[39;00m \u001b[38;5;28;43mself\u001b[39;49m\u001b[38;5;241;43m.\u001b[39;49m\u001b[43m_serving_engine\u001b[49m\u001b[38;5;241;43m.\u001b[39;49m\u001b[43mpredict\u001b[49m\u001b[43m(\u001b[49m\u001b[38;5;28;43mself\u001b[39;49m\u001b[43m,\u001b[49m\u001b[43m \u001b[49m\u001b[43mdata\u001b[49m\u001b[43m,\u001b[49m\u001b[43m \u001b[49m\u001b[43minputs\u001b[49m\u001b[43m)\u001b[49m\n",
      "File \u001b[0;32m~/.pyenv/versions/3.10.13/envs/tutorials/lib/python3.10/site-packages/hsml/engine/serving_engine.py:538\u001b[0m, in \u001b[0;36mServingEngine.predict\u001b[0;34m(self, deployment_instance, data, inputs)\u001b[0m\n\u001b[1;32m    531\u001b[0m     \u001b[38;5;28;01mraise\u001b[39;00m ModelServingException(\n\u001b[1;32m    532\u001b[0m         \u001b[38;5;124m\"\u001b[39m\u001b[38;5;124mDeployment not created or running. If it is already created, start it by using `.start()` or check its status with .get_state()\u001b[39m\u001b[38;5;124m\"\u001b[39m\n\u001b[1;32m    533\u001b[0m     )\n\u001b[1;32m    535\u001b[0m re\u001b[38;5;241m.\u001b[39margs \u001b[38;5;241m=\u001b[39m (\n\u001b[1;32m    536\u001b[0m     re\u001b[38;5;241m.\u001b[39margs[\u001b[38;5;241m0\u001b[39m] \u001b[38;5;241m+\u001b[39m \u001b[38;5;124m\"\u001b[39m\u001b[38;5;130;01m\\n\u001b[39;00m\u001b[38;5;130;01m\\n\u001b[39;00m\u001b[38;5;124m Check the model server logs by using `.get_logs()`\u001b[39m\u001b[38;5;124m\"\u001b[39m,\n\u001b[1;32m    537\u001b[0m )\n\u001b[0;32m--> 538\u001b[0m \u001b[38;5;28;01mraise\u001b[39;00m re\n",
      "File \u001b[0;32m~/.pyenv/versions/3.10.13/envs/tutorials/lib/python3.10/site-packages/hsml/engine/serving_engine.py:522\u001b[0m, in \u001b[0;36mServingEngine.predict\u001b[0;34m(self, deployment_instance, data, inputs)\u001b[0m\n\u001b[1;32m    520\u001b[0m through_hopsworks \u001b[38;5;241m=\u001b[39m serving_tool \u001b[38;5;241m!=\u001b[39m PREDICTOR\u001b[38;5;241m.\u001b[39mSERVING_TOOL_KSERVE\n\u001b[1;32m    521\u001b[0m \u001b[38;5;28;01mtry\u001b[39;00m:\n\u001b[0;32m--> 522\u001b[0m     \u001b[38;5;28;01mreturn\u001b[39;00m \u001b[38;5;28;43mself\u001b[39;49m\u001b[38;5;241;43m.\u001b[39;49m\u001b[43m_serving_api\u001b[49m\u001b[38;5;241;43m.\u001b[39;49m\u001b[43msend_inference_request\u001b[49m\u001b[43m(\u001b[49m\n\u001b[1;32m    523\u001b[0m \u001b[43m        \u001b[49m\u001b[43mdeployment_instance\u001b[49m\u001b[43m,\u001b[49m\u001b[43m \u001b[49m\u001b[43mpayload\u001b[49m\u001b[43m,\u001b[49m\u001b[43m \u001b[49m\u001b[43mthrough_hopsworks\u001b[49m\n\u001b[1;32m    524\u001b[0m \u001b[43m    \u001b[49m\u001b[43m)\u001b[49m\n\u001b[1;32m    525\u001b[0m \u001b[38;5;28;01mexcept\u001b[39;00m RestAPIError \u001b[38;5;28;01mas\u001b[39;00m re:\n\u001b[1;32m    526\u001b[0m     \u001b[38;5;28;01mif\u001b[39;00m (\n\u001b[1;32m    527\u001b[0m         re\u001b[38;5;241m.\u001b[39mresponse\u001b[38;5;241m.\u001b[39mstatus_code \u001b[38;5;241m==\u001b[39m RestAPIError\u001b[38;5;241m.\u001b[39mSTATUS_CODE_NOT_FOUND\n\u001b[1;32m    528\u001b[0m         \u001b[38;5;129;01mor\u001b[39;00m re\u001b[38;5;241m.\u001b[39merror_code\n\u001b[1;32m    529\u001b[0m         \u001b[38;5;241m==\u001b[39m ModelServingException\u001b[38;5;241m.\u001b[39mERROR_CODE_DEPLOYMENT_NOT_RUNNING\n\u001b[1;32m    530\u001b[0m     ):\n",
      "File \u001b[0;32m~/.pyenv/versions/3.10.13/envs/tutorials/lib/python3.10/site-packages/hsml/core/serving_api.py:214\u001b[0m, in \u001b[0;36mServingApi.send_inference_request\u001b[0;34m(self, deployment_instance, data, through_hopsworks)\u001b[0m\n\u001b[1;32m    201\u001b[0m \u001b[38;5;250m\u001b[39m\u001b[38;5;124;03m\"\"\"Send inference requests to a deployment with a certain id\u001b[39;00m\n\u001b[1;32m    202\u001b[0m \n\u001b[1;32m    203\u001b[0m \u001b[38;5;124;03m:param deployment_instance: metadata object of the deployment to be used for the prediction\u001b[39;00m\n\u001b[0;32m   (...)\u001b[0m\n\u001b[1;32m    210\u001b[0m \u001b[38;5;124;03m:rtype: Union[Dict, List[InferOutput]]\u001b[39;00m\n\u001b[1;32m    211\u001b[0m \u001b[38;5;124;03m\"\"\"\u001b[39;00m\n\u001b[1;32m    212\u001b[0m \u001b[38;5;28;01mif\u001b[39;00m deployment_instance\u001b[38;5;241m.\u001b[39mapi_protocol \u001b[38;5;241m==\u001b[39m IE\u001b[38;5;241m.\u001b[39mAPI_PROTOCOL_REST:\n\u001b[1;32m    213\u001b[0m     \u001b[38;5;66;03m# REST protocol, use hopsworks or istio client\u001b[39;00m\n\u001b[0;32m--> 214\u001b[0m     \u001b[38;5;28;01mreturn\u001b[39;00m \u001b[38;5;28;43mself\u001b[39;49m\u001b[38;5;241;43m.\u001b[39;49m\u001b[43m_send_inference_request_via_rest_protocol\u001b[49m\u001b[43m(\u001b[49m\n\u001b[1;32m    215\u001b[0m \u001b[43m        \u001b[49m\u001b[43mdeployment_instance\u001b[49m\u001b[43m,\u001b[49m\u001b[43m \u001b[49m\u001b[43mdata\u001b[49m\u001b[43m,\u001b[49m\u001b[43m \u001b[49m\u001b[43mthrough_hopsworks\u001b[49m\n\u001b[1;32m    216\u001b[0m \u001b[43m    \u001b[49m\u001b[43m)\u001b[49m\n\u001b[1;32m    217\u001b[0m \u001b[38;5;28;01melse\u001b[39;00m:\n\u001b[1;32m    218\u001b[0m     \u001b[38;5;66;03m# gRPC protocol, use the deployment grpc channel\u001b[39;00m\n\u001b[1;32m    219\u001b[0m     \u001b[38;5;28;01mreturn\u001b[39;00m \u001b[38;5;28mself\u001b[39m\u001b[38;5;241m.\u001b[39m_send_inference_request_via_grpc_protocol(\n\u001b[1;32m    220\u001b[0m         deployment_instance, data\n\u001b[1;32m    221\u001b[0m     )\n",
      "File \u001b[0;32m~/.pyenv/versions/3.10.13/envs/tutorials/lib/python3.10/site-packages/hsml/core/serving_api.py:255\u001b[0m, in \u001b[0;36mServingApi._send_inference_request_via_rest_protocol\u001b[0;34m(self, deployment_instance, data, through_hopsworks)\u001b[0m\n\u001b[1;32m    250\u001b[0m         path_params \u001b[38;5;241m=\u001b[39m \u001b[38;5;28mself\u001b[39m\u001b[38;5;241m.\u001b[39m_get_hopsworks_inference_path(\n\u001b[1;32m    251\u001b[0m             _client\u001b[38;5;241m.\u001b[39m_project_id, deployment_instance\n\u001b[1;32m    252\u001b[0m         )\n\u001b[1;32m    254\u001b[0m \u001b[38;5;66;03m# send inference request\u001b[39;00m\n\u001b[0;32m--> 255\u001b[0m \u001b[38;5;28;01mreturn\u001b[39;00m \u001b[43m_client\u001b[49m\u001b[38;5;241;43m.\u001b[39;49m\u001b[43m_send_request\u001b[49m\u001b[43m(\u001b[49m\n\u001b[1;32m    256\u001b[0m \u001b[43m    \u001b[49m\u001b[38;5;124;43m\"\u001b[39;49m\u001b[38;5;124;43mPOST\u001b[39;49m\u001b[38;5;124;43m\"\u001b[39;49m\u001b[43m,\u001b[49m\u001b[43m \u001b[49m\u001b[43mpath_params\u001b[49m\u001b[43m,\u001b[49m\u001b[43m \u001b[49m\u001b[43mheaders\u001b[49m\u001b[38;5;241;43m=\u001b[39;49m\u001b[43mheaders\u001b[49m\u001b[43m,\u001b[49m\u001b[43m \u001b[49m\u001b[43mdata\u001b[49m\u001b[38;5;241;43m=\u001b[39;49m\u001b[43mjson\u001b[49m\u001b[38;5;241;43m.\u001b[39;49m\u001b[43mdumps\u001b[49m\u001b[43m(\u001b[49m\u001b[43mdata\u001b[49m\u001b[43m)\u001b[49m\n\u001b[1;32m    257\u001b[0m \u001b[43m\u001b[49m\u001b[43m)\u001b[49m\n",
      "File \u001b[0;32m~/.pyenv/versions/3.10.13/envs/tutorials/lib/python3.10/site-packages/hsml/decorators.py:35\u001b[0m, in \u001b[0;36mconnected.<locals>.if_connected\u001b[0;34m(inst, *args, **kwargs)\u001b[0m\n\u001b[1;32m     33\u001b[0m \u001b[38;5;28;01mif\u001b[39;00m \u001b[38;5;129;01mnot\u001b[39;00m inst\u001b[38;5;241m.\u001b[39m_connected:\n\u001b[1;32m     34\u001b[0m     \u001b[38;5;28;01mraise\u001b[39;00m NoHopsworksConnectionError\n\u001b[0;32m---> 35\u001b[0m \u001b[38;5;28;01mreturn\u001b[39;00m \u001b[43mfn\u001b[49m\u001b[43m(\u001b[49m\u001b[43minst\u001b[49m\u001b[43m,\u001b[49m\u001b[43m \u001b[49m\u001b[38;5;241;43m*\u001b[39;49m\u001b[43margs\u001b[49m\u001b[43m,\u001b[49m\u001b[43m \u001b[49m\u001b[38;5;241;43m*\u001b[39;49m\u001b[38;5;241;43m*\u001b[39;49m\u001b[43mkwargs\u001b[49m\u001b[43m)\u001b[49m\n",
      "File \u001b[0;32m~/.pyenv/versions/3.10.13/envs/tutorials/lib/python3.10/site-packages/hsml/client/base.py:108\u001b[0m, in \u001b[0;36mClient._send_request\u001b[0;34m(self, method, path_params, query_params, headers, data, stream, files)\u001b[0m\n\u001b[1;32m    105\u001b[0m     response \u001b[38;5;241m=\u001b[39m \u001b[38;5;28mself\u001b[39m\u001b[38;5;241m.\u001b[39m_session\u001b[38;5;241m.\u001b[39msend(prepped, verify\u001b[38;5;241m=\u001b[39m\u001b[38;5;28mself\u001b[39m\u001b[38;5;241m.\u001b[39m_verify, stream\u001b[38;5;241m=\u001b[39mstream)\n\u001b[1;32m    107\u001b[0m \u001b[38;5;28;01mif\u001b[39;00m response\u001b[38;5;241m.\u001b[39mstatus_code \u001b[38;5;241m/\u001b[39m\u001b[38;5;241m/\u001b[39m \u001b[38;5;241m100\u001b[39m \u001b[38;5;241m!=\u001b[39m \u001b[38;5;241m2\u001b[39m:\n\u001b[0;32m--> 108\u001b[0m     \u001b[38;5;28;01mraise\u001b[39;00m exceptions\u001b[38;5;241m.\u001b[39mRestAPIError(url, response)\n\u001b[1;32m    110\u001b[0m \u001b[38;5;28;01mif\u001b[39;00m stream:\n\u001b[1;32m    111\u001b[0m     \u001b[38;5;28;01mreturn\u001b[39;00m response\n",
      "\u001b[0;31mRestAPIError\u001b[0m: Metadata operation error: (url: http://127.0.0.1:32080/v1/models/btcmodeldeployment:predict). Server response: \nHTTP code: 500, HTTP reason: Internal Server Error, body: b'{\"error\":\"HTTPError : HTTP 500: Feature \\'open\\' is missing from vector.Possible reasons: 1. There is no match in the given entry. Please check if the entry exists in the online feature store or provide the feature as passed_feature. 2. Required entries [unix] or [unix] are not provided.\"}', error code: , error msg: , user msg: \n\n Check the model server logs by using `.get_logs()`"
     ]
    }
   ],
   "source": [
    "today = datetime.datetime.today()\n",
    "latest_date = int(time.mktime(today.timetuple()) * 1000) # converting todays datetime to unix\n",
    "\n",
    "deployment_output = deployment.predict(inputs=[latest_date])\n",
    "# or deployment.predict({ \"instances\": [[latest_date]] })\n",
    "\n",
    "deployment_output"
   ]
  },
  {
   "cell_type": "code",
   "execution_count": null,
   "id": "c95324a8-7772-45f2-94c0-bd771a934112",
   "metadata": {},
   "outputs": [],
   "source": [
    "pred_encoded = pd.DataFrame(\n",
    "    deployment_output[\"predictions\"],\n",
    "    columns=[\"close\"],\n",
    ") # since we applied transformation function to the 'close' columns,\n",
    "  # now we need to provide a df with the same column name to decode.\n",
    "                                                \n",
    "pred = decode_features(pred_encoded, feature_view=feature_view)"
   ]
  },
  {
   "cell_type": "code",
   "execution_count": null,
   "id": "0b43c0b0-cc0c-4013-959a-9340222902e2",
   "metadata": {},
   "outputs": [],
   "source": [
    "pred = pred.rename(columns={\"close\": \"predicted_price\"})\n",
    "pred[\"datetime\"] = [today.strftime(\"%Y-%m-%d\")]"
   ]
  },
  {
   "cell_type": "code",
   "execution_count": null,
   "id": "54c5e3ab-d096-4ce1-9c2c-f0749c7280cd",
   "metadata": {},
   "outputs": [],
   "source": [
    "pred"
   ]
  },
  {
   "cell_type": "code",
   "execution_count": null,
   "id": "08889a70",
   "metadata": {},
   "outputs": [],
   "source": [
    "# # For trouble shooting one you can use get_logs method.\n",
    "# deployment.get_logs()"
   ]
  },
  {
   "cell_type": "markdown",
   "id": "7fe78327",
   "metadata": {
    "tags": []
   },
   "source": [
    "---\n",
    "## <span style=\"color:#ff5f27;\"> ✨ Load Batch Data of last days</span>"
   ]
  },
  {
   "cell_type": "code",
   "execution_count": null,
   "id": "7cf2a1b0",
   "metadata": {},
   "outputs": [],
   "source": [
    "feature_view.init_batch_scoring(1)\n",
    "\n",
    "batch_data = feature_view.get_batch_data().drop('unix',axis=1)\n",
    "batch_data.head()"
   ]
  },
  {
   "cell_type": "code",
   "execution_count": null,
   "id": "cf1dafb7",
   "metadata": {},
   "outputs": [],
   "source": [
    "model = mr.get_model(\"bitcoin_price_model\", version=1)\n",
    "model_dir = model.download()\n",
    "\n",
    "loaded_model = tf.saved_model.load(model_dir)\n",
    "serving_function = loaded_model.signatures[\"serving_default\"]"
   ]
  },
  {
   "cell_type": "code",
   "execution_count": null,
   "id": "0da030f8",
   "metadata": {},
   "outputs": [],
   "source": [
    "predictions_batch = serving_function(\n",
    "    tf.constant(\n",
    "        batch_data.values.reshape(\n",
    "            -1, \n",
    "            batch_data.shape[0], \n",
    "            batch_data.shape[1]), \n",
    "        tf.float32\n",
    "    )\n",
    ")['dense_1'].numpy()"
   ]
  },
  {
   "cell_type": "markdown",
   "id": "fcbcbcb9",
   "metadata": {},
   "source": [
    "Recall that you applied transformation functions, such as min max scaler and laber encoder. \n",
    "\n",
    "Now you want to transform them back to human readable format."
   ]
  },
  {
   "cell_type": "code",
   "execution_count": null,
   "id": "ff93cf7b-35f1-4cc9-937d-7ef0078dce15",
   "metadata": {},
   "outputs": [],
   "source": [
    "pred_batch_encoded = pd.DataFrame(\n",
    "    predictions_batch,\n",
    "    columns=[\"close\"]\n",
    ") # since we applied transformation function to the 'close' columns,\n",
    "  # now we need to provide a df with the same column name to decode.\n",
    "                                                \n",
    "pred_batch = decode_features(pred_batch_encoded, feature_view=feature_view)"
   ]
  },
  {
   "cell_type": "code",
   "execution_count": null,
   "id": "973e3224-a929-4508-a9cf-f5233f205874",
   "metadata": {},
   "outputs": [],
   "source": [
    "pred_batch.tail(5)"
   ]
  },
  {
   "cell_type": "markdown",
   "id": "af816335",
   "metadata": {},
   "source": [
    "---\n",
    "## <span style=\"color:#ff5f27;\"> ⏭️ **Next:** Part 04: Batch Inference</span>\n",
    "\n",
    "In the following notebook you will use your model for Batch Inference.\n",
    "\n",
    "[![Open In Colab](https://colab.research.google.com/assets/colab-badge.svg)](https://colab.research.google.com/github/logicalclocks/hopsworks-tutorials/blob/master/bitcoin/4_bitcoin_batch_inference.ipynb)"
   ]
  }
 ],
 "metadata": {
  "kernelspec": {
   "display_name": "Python 3 (ipykernel)",
   "language": "python",
   "name": "python3"
  },
  "language_info": {
   "codemirror_mode": {
    "name": "ipython",
    "version": 3
   },
   "file_extension": ".py",
   "mimetype": "text/x-python",
   "name": "python",
   "nbconvert_exporter": "python",
   "pygments_lexer": "ipython3",
   "version": "3.10.13"
  },
  "vscode": {
   "interpreter": {
    "hash": "a3502d2fd240c5a16c1ad36292676af1ecc0e366e100e74e6e336a5116ced841"
   }
  }
 },
 "nbformat": 4,
 "nbformat_minor": 5
}
