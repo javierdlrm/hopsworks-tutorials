{
 "cells": [
  {
   "cell_type": "markdown",
   "id": "54e1c59f",
   "metadata": {},
   "source": [
    "# <span style=\"font-width:bold; font-size: 3rem; color:#1EB182;\"><img src=\"../../images/icon102.png\" width=\"38px\"></img> **Hopsworks Feature Store** </span><span style=\"font-width:bold; font-size: 3rem; color:#333;\">- Part 02: Feature Pipeline</span>\n",
    "\n",
    "[![Open In Colab](https://colab.research.google.com/assets/colab-badge.svg)](https://colab.research.google.com/github/logicalclocks/hopsworks-tutorials/blob/master/advanced_tutorials/bitcoin/2_bitcoin_feature_pipeline.ipynb)\n",
    "\n",
    "\n",
    "## 🗒️ This notebook is divided into the following sections:\n",
    "1. Parsing Data.\n",
    "2. Feature Group Insertion."
   ]
  },
  {
   "cell_type": "markdown",
   "id": "e2228834",
   "metadata": {},
   "source": [
    "### <span style=\"color:#ff5f27;\"> 📝 Imports</span>"
   ]
  },
  {
   "cell_type": "code",
   "execution_count": null,
   "id": "1e8d2e06",
   "metadata": {},
   "outputs": [],
   "source": [
    "!pip install -U hopsworks --quiet\n",
    "\n",
    "!pip install -U unicorn-binance-rest-api --quiet\n",
    "!pip install -U python-dotenv --quiet\n",
    "!pip install -U textblob --quiet\n",
    "!pip install -U vaderSentiment --quiet\n",
    "!pip install -U tweepy --quiet\n",
    "!pip install -U plotly --quiet"
   ]
  },
  {
   "cell_type": "code",
   "execution_count": 1,
   "id": "38c535bb",
   "metadata": {},
   "outputs": [
    {
     "name": "stdout",
     "output_type": "stream",
     "text": [
      "Local environment\n"
     ]
    }
   ],
   "source": [
    "# Hosted notebook environments may not have the local features package\n",
    "import os\n",
    "\n",
    "def need_download_modules():\n",
    "    if 'google.colab' in str(get_ipython()):\n",
    "        return True\n",
    "    if 'HOPSWORKS_PROJECT_ID' in os.environ:\n",
    "        return True\n",
    "    return False\n",
    "\n",
    "if need_download_modules():\n",
    "    print(\"Downloading modules\")\n",
    "    os.system('mkdir -p features')\n",
    "    os.system('cd features && wget https://raw.githubusercontent.com/logicalclocks/hopsworks-tutorials/master/advanced_tutorials/bitcoin/features/bitcoin_price.py')\n",
    "    os.system('cd features && wget https://raw.githubusercontent.com/logicalclocks/hopsworks-tutorials/master/advanced_tutorials/bitcoin/features/tweets.py')\n",
    "else:\n",
    "    print(\"Local environment\")"
   ]
  },
  {
   "cell_type": "code",
   "execution_count": 8,
   "id": "76227ee1",
   "metadata": {},
   "outputs": [],
   "source": [
    "# Uncomment and fill in if you are running on Colab\n",
    "os.environ['TWITTER_API_KEY'] = \"uSTbFVcyHvU0TBF75gYGPZ3L8\" # 'ZAIeNMmR0iwEhxyrKWzfB3mwT'\n",
    "os.environ['TWITTER_API_SECRET'] = \"k4MJgLot1ciUCmx4mFiEXjgZF6hH7pBwSw2pB5Ri7R98sib0uC\" # 'SGNOmB6zebv6IO2I05hiuFypKwv6DRgGi1s5NLi2KT5y9VgMIo'\n",
    "os.environ['TWITTER_ACCESS_TOKEN'] = \"3407876583-mAeYLekmpIou76oJIK7Bl2abGI6GoM9cxYlThny\" # '1535178833435021317-9XZOFOHnNUXYuq08JHC3GW0p1Vanom'\n",
    "os.environ['TWITTER_ACCESS_TOKEN_SECRET'] = \"dMrztRakJTOOLRB8KEN2yXvZefuXk33MKFjgADUSeetYz\" #'s7lz5HUTBz8yffYGgDiyHBNbXQuPGqMopmN6fmeiyXZOg'\n",
    "\n",
    "os.environ['BINANCE_API_KEY'] = 'w3IvBp92KAbrmu1ZjjDiYI4Ev5vTqtRTOkr28tkRBS3iH3z4B0FidCk4JxB6dWjZ'\n",
    "os.environ['BINANCE_API_SECRET'] = 'f1RC3X5yuWbtzQMBVTl0LwDPTacK1BiLPXcUwwfXTenxh4TcJZ04qXAMik8FYmWp'"
   ]
  },
  {
   "cell_type": "code",
   "execution_count": 9,
   "id": "d01f6774",
   "metadata": {},
   "outputs": [],
   "source": [
    "import pandas as pd\n",
    "from features import bitcoin_price, tweets"
   ]
  },
  {
   "cell_type": "markdown",
   "id": "08417bba",
   "metadata": {},
   "source": [
    "---\n",
    "## <span style=\"color:#ff5f27;\"> 🧙🏼‍♂️ Parsing Data</span>"
   ]
  },
  {
   "cell_type": "markdown",
   "id": "6b6309c5",
   "metadata": {},
   "source": [
    "You will parse timeseries Bitcoin data from Binance using your own credentials, so you have to get a free Binance account and [create API-keys](https://www.binance.com/en/support/faq/360002502072).\n",
    "\n",
    "Also, you should [contact Twitter](https://developer.twitter.com/en/docs/twitter-api/getting-started/getting-access-to-the-twitter-api) for their API-keys.\n",
    "\n",
    "\n",
    "#### Don't forget to create an `.env` configuration file inside this directory where all the necessary environment variables will be stored:\n",
    "\n",
    "`TWITTER_API_KEY = \"YOUR_API_KEY\"`\n",
    "\n",
    "`TWITTER_API_SECRET = \"YOUR_API_KEY\"`\n",
    "\n",
    "`TWITTER_ACCESS_TOKEN = \"YOUR_API_KEY\"`\n",
    "\n",
    "`TWITTER_ACCESS_TOKEN_SECRET = \"YOUR_API_KEY\"`\n",
    "\n",
    "\n",
    "`BINANCE_API_KEY = \"YOUR_API_KEY\"`\n",
    "\n",
    "`BINANCE_API_SECRET = \"YOUR_API_KEY\"`\n",
    "\n",
    "> If you done it after you run this notebook, restart the Python Kernel (because `functions.py` does not have these variables in his namespace).\n",
    "\n",
    "![](images/api_keys_env_file.png)"
   ]
  },
  {
   "cell_type": "markdown",
   "id": "b2ae340d",
   "metadata": {},
   "source": [
    "### <span style='color:#ff5f27'> 📈 Bitcoin Data"
   ]
  },
  {
   "cell_type": "code",
   "execution_count": 4,
   "id": "73b82255",
   "metadata": {
    "scrolled": true
   },
   "outputs": [
    {
     "data": {
      "text/html": [
       "<div>\n",
       "<style scoped>\n",
       "    .dataframe tbody tr th:only-of-type {\n",
       "        vertical-align: middle;\n",
       "    }\n",
       "\n",
       "    .dataframe tbody tr th {\n",
       "        vertical-align: top;\n",
       "    }\n",
       "\n",
       "    .dataframe thead th {\n",
       "        text-align: right;\n",
       "    }\n",
       "</style>\n",
       "<table border=\"1\" class=\"dataframe\">\n",
       "  <thead>\n",
       "    <tr style=\"text-align: right;\">\n",
       "      <th></th>\n",
       "      <th>date</th>\n",
       "      <th>open</th>\n",
       "      <th>high</th>\n",
       "      <th>low</th>\n",
       "      <th>close</th>\n",
       "      <th>volume</th>\n",
       "      <th>quote_av</th>\n",
       "      <th>trades</th>\n",
       "      <th>tb_base_av</th>\n",
       "      <th>tb_quote_av</th>\n",
       "      <th>unix</th>\n",
       "    </tr>\n",
       "  </thead>\n",
       "  <tbody>\n",
       "    <tr>\n",
       "      <th>0</th>\n",
       "      <td>2024-02-23 00:00:00</td>\n",
       "      <td>51288.42</td>\n",
       "      <td>51548.54</td>\n",
       "      <td>50521.0</td>\n",
       "      <td>50744.15</td>\n",
       "      <td>30545.79544</td>\n",
       "      <td>1.559144e+09</td>\n",
       "      <td>1487039</td>\n",
       "      <td>14610.80906</td>\n",
       "      <td>7.458210e+08</td>\n",
       "      <td>1708642800000</td>\n",
       "    </tr>\n",
       "    <tr>\n",
       "      <th>1</th>\n",
       "      <td>2024-02-24 00:00:00</td>\n",
       "      <td>50744.15</td>\n",
       "      <td>51698.00</td>\n",
       "      <td>50585.0</td>\n",
       "      <td>51568.22</td>\n",
       "      <td>16560.42110</td>\n",
       "      <td>8.477934e+08</td>\n",
       "      <td>855015</td>\n",
       "      <td>8462.15627</td>\n",
       "      <td>4.332396e+08</td>\n",
       "      <td>1708729200000</td>\n",
       "    </tr>\n",
       "    <tr>\n",
       "      <th>2</th>\n",
       "      <td>2024-02-25 00:00:00</td>\n",
       "      <td>51568.21</td>\n",
       "      <td>51958.55</td>\n",
       "      <td>51279.8</td>\n",
       "      <td>51728.85</td>\n",
       "      <td>18721.63159</td>\n",
       "      <td>9.669511e+08</td>\n",
       "      <td>923992</td>\n",
       "      <td>9544.17672</td>\n",
       "      <td>4.929525e+08</td>\n",
       "      <td>1708815600000</td>\n",
       "    </tr>\n",
       "  </tbody>\n",
       "</table>\n",
       "</div>"
      ],
      "text/plain": [
       "                  date      open      high      low     close       volume  \\\n",
       "0  2024-02-23 00:00:00  51288.42  51548.54  50521.0  50744.15  30545.79544   \n",
       "1  2024-02-24 00:00:00  50744.15  51698.00  50585.0  51568.22  16560.42110   \n",
       "2  2024-02-25 00:00:00  51568.21  51958.55  51279.8  51728.85  18721.63159   \n",
       "\n",
       "       quote_av   trades   tb_base_av   tb_quote_av           unix  \n",
       "0  1.559144e+09  1487039  14610.80906  7.458210e+08  1708642800000  \n",
       "1  8.477934e+08   855015   8462.15627  4.332396e+08  1708729200000  \n",
       "2  9.669511e+08   923992   9544.17672  4.929525e+08  1708815600000  "
      ]
     },
     "execution_count": 4,
     "metadata": {},
     "output_type": "execute_result"
    }
   ],
   "source": [
    "# we should take 56+ days because of feature engineering with window aggregations.\n",
    "df_bitcoin = bitcoin_price.parse_btc_data(number_of_days_ago=57)\n",
    "df_bitcoin.head(3)"
   ]
  },
  {
   "cell_type": "code",
   "execution_count": 5,
   "id": "a862962f",
   "metadata": {
    "scrolled": true
   },
   "outputs": [
    {
     "data": {
      "text/html": [
       "<div>\n",
       "<style scoped>\n",
       "    .dataframe tbody tr th:only-of-type {\n",
       "        vertical-align: middle;\n",
       "    }\n",
       "\n",
       "    .dataframe tbody tr th {\n",
       "        vertical-align: top;\n",
       "    }\n",
       "\n",
       "    .dataframe thead th {\n",
       "        text-align: right;\n",
       "    }\n",
       "</style>\n",
       "<table border=\"1\" class=\"dataframe\">\n",
       "  <thead>\n",
       "    <tr style=\"text-align: right;\">\n",
       "      <th></th>\n",
       "      <th>date</th>\n",
       "      <th>open</th>\n",
       "      <th>high</th>\n",
       "      <th>low</th>\n",
       "      <th>close</th>\n",
       "      <th>volume</th>\n",
       "      <th>quote_av</th>\n",
       "      <th>trades</th>\n",
       "      <th>tb_base_av</th>\n",
       "      <th>tb_quote_av</th>\n",
       "      <th>...</th>\n",
       "      <th>exp_std_14_days</th>\n",
       "      <th>momentum_14_days</th>\n",
       "      <th>rate_of_change_14_days</th>\n",
       "      <th>strength_index_14_days</th>\n",
       "      <th>std_56_days</th>\n",
       "      <th>exp_mean_56_days</th>\n",
       "      <th>exp_std_56_days</th>\n",
       "      <th>momentum_56_days</th>\n",
       "      <th>rate_of_change_56_days</th>\n",
       "      <th>strength_index_56_days</th>\n",
       "    </tr>\n",
       "  </thead>\n",
       "  <tbody>\n",
       "    <tr>\n",
       "      <th>55</th>\n",
       "      <td>2024-04-18</td>\n",
       "      <td>61277.38</td>\n",
       "      <td>64117.09</td>\n",
       "      <td>60803.35</td>\n",
       "      <td>63470.08</td>\n",
       "      <td>43601.60918</td>\n",
       "      <td>2.726741e+09</td>\n",
       "      <td>2142511</td>\n",
       "      <td>20870.20705</td>\n",
       "      <td>1.305027e+09</td>\n",
       "      <td>...</td>\n",
       "      <td>3259.915810</td>\n",
       "      <td>-5017.71</td>\n",
       "      <td>-6.414775</td>\n",
       "      <td>44.593135</td>\n",
       "      <td>5129.861015</td>\n",
       "      <td>66726.875601</td>\n",
       "      <td>3956.587429</td>\n",
       "      <td>0.00</td>\n",
       "      <td>25.078615</td>\n",
       "      <td>0.000000</td>\n",
       "    </tr>\n",
       "    <tr>\n",
       "      <th>56</th>\n",
       "      <td>2024-04-19</td>\n",
       "      <td>63470.09</td>\n",
       "      <td>65450.00</td>\n",
       "      <td>59600.01</td>\n",
       "      <td>63818.01</td>\n",
       "      <td>69774.30271</td>\n",
       "      <td>4.419893e+09</td>\n",
       "      <td>2828284</td>\n",
       "      <td>34941.50216</td>\n",
       "      <td>2.214810e+09</td>\n",
       "      <td>...</td>\n",
       "      <td>3110.616630</td>\n",
       "      <td>-4002.61</td>\n",
       "      <td>-7.370515</td>\n",
       "      <td>45.380545</td>\n",
       "      <td>4705.824240</td>\n",
       "      <td>66609.483564</td>\n",
       "      <td>3918.524698</td>\n",
       "      <td>13073.86</td>\n",
       "      <td>23.754533</td>\n",
       "      <td>56.075637</td>\n",
       "    </tr>\n",
       "    <tr>\n",
       "      <th>57</th>\n",
       "      <td>2024-04-20</td>\n",
       "      <td>63818.01</td>\n",
       "      <td>64268.58</td>\n",
       "      <td>63090.07</td>\n",
       "      <td>63656.41</td>\n",
       "      <td>9509.29230</td>\n",
       "      <td>6.066525e+08</td>\n",
       "      <td>540253</td>\n",
       "      <td>4884.54200</td>\n",
       "      <td>3.116233e+08</td>\n",
       "      <td>...</td>\n",
       "      <td>2967.551959</td>\n",
       "      <td>-5239.59</td>\n",
       "      <td>-8.223685</td>\n",
       "      <td>45.060239</td>\n",
       "      <td>4281.982584</td>\n",
       "      <td>66490.932081</td>\n",
       "      <td>3883.183688</td>\n",
       "      <td>12088.19</td>\n",
       "      <td>23.057849</td>\n",
       "      <td>55.990013</td>\n",
       "    </tr>\n",
       "  </tbody>\n",
       "</table>\n",
       "<p>3 rows × 32 columns</p>\n",
       "</div>"
      ],
      "text/plain": [
       "         date      open      high       low     close       volume  \\\n",
       "55 2024-04-18  61277.38  64117.09  60803.35  63470.08  43601.60918   \n",
       "56 2024-04-19  63470.09  65450.00  59600.01  63818.01  69774.30271   \n",
       "57 2024-04-20  63818.01  64268.58  63090.07  63656.41   9509.29230   \n",
       "\n",
       "        quote_av   trades   tb_base_av   tb_quote_av  ...  exp_std_14_days  \\\n",
       "55  2.726741e+09  2142511  20870.20705  1.305027e+09  ...      3259.915810   \n",
       "56  4.419893e+09  2828284  34941.50216  2.214810e+09  ...      3110.616630   \n",
       "57  6.066525e+08   540253   4884.54200  3.116233e+08  ...      2967.551959   \n",
       "\n",
       "    momentum_14_days  rate_of_change_14_days  strength_index_14_days  \\\n",
       "55          -5017.71               -6.414775               44.593135   \n",
       "56          -4002.61               -7.370515               45.380545   \n",
       "57          -5239.59               -8.223685               45.060239   \n",
       "\n",
       "    std_56_days  exp_mean_56_days  exp_std_56_days  momentum_56_days  \\\n",
       "55  5129.861015      66726.875601      3956.587429              0.00   \n",
       "56  4705.824240      66609.483564      3918.524698          13073.86   \n",
       "57  4281.982584      66490.932081      3883.183688          12088.19   \n",
       "\n",
       "    rate_of_change_56_days  strength_index_56_days  \n",
       "55               25.078615                0.000000  \n",
       "56               23.754533               56.075637  \n",
       "57               23.057849               55.990013  \n",
       "\n",
       "[3 rows x 32 columns]"
      ]
     },
     "execution_count": 5,
     "metadata": {},
     "output_type": "execute_result"
    }
   ],
   "source": [
    "df_bitcoin_processed = bitcoin_price.process_btc_data(df_bitcoin)\n",
    "df_bitcoin_processed.tail(3)"
   ]
  },
  {
   "cell_type": "code",
   "execution_count": 6,
   "id": "38a5561f-c52c-4441-9f0d-8401ed286eb8",
   "metadata": {},
   "outputs": [],
   "source": [
    "df_bitcoin_processed.date = df_bitcoin_processed.date.astype(str)"
   ]
  },
  {
   "cell_type": "markdown",
   "id": "df222845",
   "metadata": {},
   "source": [
    "### <span style='color:#ff5f27'> 💭 Tweets Data"
   ]
  },
  {
   "cell_type": "code",
   "execution_count": 10,
   "id": "c0444ac9",
   "metadata": {
    "scrolled": true
   },
   "outputs": [
    {
     "ename": "Forbidden",
     "evalue": "403 Forbidden\n453 - You currently have access to a subset of Twitter API v2 endpoints and limited v1.1 endpoints (e.g. media post, oauth) only. If you need access to this endpoint, you may need a different access level. You can learn more here: https://developer.twitter.com/en/portal/product",
     "output_type": "error",
     "traceback": [
      "\u001b[0;31m---------------------------------------------------------------------------\u001b[0m",
      "\u001b[0;31mForbidden\u001b[0m                                 Traceback (most recent call last)",
      "Cell \u001b[0;32mIn[10], line 1\u001b[0m\n\u001b[0;32m----> 1\u001b[0m df_tweets_parsed \u001b[38;5;241m=\u001b[39m \u001b[43mtweets\u001b[49m\u001b[38;5;241;43m.\u001b[39;49m\u001b[43mget_last_tweets\u001b[49m\u001b[43m(\u001b[49m\u001b[43m)\u001b[49m\n\u001b[1;32m      2\u001b[0m df_tweets_parsed\u001b[38;5;241m.\u001b[39mhead()\n",
      "File \u001b[0;32m~/Workspace/Hopsworks/hopsworks-tutorials/advanced_tutorials/bitcoin/features/tweets.py:110\u001b[0m, in \u001b[0;36mget_last_tweets\u001b[0;34m(query, twitter_accounts, n_tweets)\u001b[0m\n\u001b[1;32m    103\u001b[0m \u001b[38;5;66;03m#date_until = \"2022-06-26\"\u001b[39;00m\n\u001b[1;32m    104\u001b[0m tweets_cursor \u001b[38;5;241m=\u001b[39m tweepy\u001b[38;5;241m.\u001b[39mCursor(api\u001b[38;5;241m.\u001b[39msearch_tweets,\n\u001b[1;32m    105\u001b[0m                    q\u001b[38;5;241m=\u001b[39msearch_query,\n\u001b[1;32m    106\u001b[0m                    lang\u001b[38;5;241m=\u001b[39m\u001b[38;5;124m\"\u001b[39m\u001b[38;5;124men\u001b[39m\u001b[38;5;124m\"\u001b[39m,\n\u001b[1;32m    107\u001b[0m                    tweet_mode\u001b[38;5;241m=\u001b[39m\u001b[38;5;124m\"\u001b[39m\u001b[38;5;124mextended\u001b[39m\u001b[38;5;124m\"\u001b[39m,\n\u001b[1;32m    108\u001b[0m                    \u001b[38;5;66;03m#until=date_until\u001b[39;00m\n\u001b[1;32m    109\u001b[0m                    )\u001b[38;5;241m.\u001b[39mitems(n_tweets)\n\u001b[0;32m--> 110\u001b[0m json_data \u001b[38;5;241m=\u001b[39m [r\u001b[38;5;241m.\u001b[39m_json \u001b[38;5;28;01mfor\u001b[39;00m r \u001b[38;5;129;01min\u001b[39;00m tweets_cursor]\n\u001b[1;32m    112\u001b[0m \u001b[38;5;28;01mtry\u001b[39;00m:\n\u001b[1;32m    113\u001b[0m     temp_df \u001b[38;5;241m=\u001b[39m pd\u001b[38;5;241m.\u001b[39mjson_normalize(json_data) [[\u001b[38;5;124m\"\u001b[39m\u001b[38;5;124mcreated_at\u001b[39m\u001b[38;5;124m\"\u001b[39m, \u001b[38;5;124m\"\u001b[39m\u001b[38;5;124mfull_text\u001b[39m\u001b[38;5;124m\"\u001b[39m]]\n",
      "File \u001b[0;32m~/Workspace/Hopsworks/hopsworks-tutorials/advanced_tutorials/bitcoin/features/tweets.py:110\u001b[0m, in \u001b[0;36m<listcomp>\u001b[0;34m(.0)\u001b[0m\n\u001b[1;32m    103\u001b[0m \u001b[38;5;66;03m#date_until = \"2022-06-26\"\u001b[39;00m\n\u001b[1;32m    104\u001b[0m tweets_cursor \u001b[38;5;241m=\u001b[39m tweepy\u001b[38;5;241m.\u001b[39mCursor(api\u001b[38;5;241m.\u001b[39msearch_tweets,\n\u001b[1;32m    105\u001b[0m                    q\u001b[38;5;241m=\u001b[39msearch_query,\n\u001b[1;32m    106\u001b[0m                    lang\u001b[38;5;241m=\u001b[39m\u001b[38;5;124m\"\u001b[39m\u001b[38;5;124men\u001b[39m\u001b[38;5;124m\"\u001b[39m,\n\u001b[1;32m    107\u001b[0m                    tweet_mode\u001b[38;5;241m=\u001b[39m\u001b[38;5;124m\"\u001b[39m\u001b[38;5;124mextended\u001b[39m\u001b[38;5;124m\"\u001b[39m,\n\u001b[1;32m    108\u001b[0m                    \u001b[38;5;66;03m#until=date_until\u001b[39;00m\n\u001b[1;32m    109\u001b[0m                    )\u001b[38;5;241m.\u001b[39mitems(n_tweets)\n\u001b[0;32m--> 110\u001b[0m json_data \u001b[38;5;241m=\u001b[39m [r\u001b[38;5;241m.\u001b[39m_json \u001b[38;5;28;01mfor\u001b[39;00m r \u001b[38;5;129;01min\u001b[39;00m tweets_cursor]\n\u001b[1;32m    112\u001b[0m \u001b[38;5;28;01mtry\u001b[39;00m:\n\u001b[1;32m    113\u001b[0m     temp_df \u001b[38;5;241m=\u001b[39m pd\u001b[38;5;241m.\u001b[39mjson_normalize(json_data) [[\u001b[38;5;124m\"\u001b[39m\u001b[38;5;124mcreated_at\u001b[39m\u001b[38;5;124m\"\u001b[39m, \u001b[38;5;124m\"\u001b[39m\u001b[38;5;124mfull_text\u001b[39m\u001b[38;5;124m\"\u001b[39m]]\n",
      "File \u001b[0;32m~/.pyenv/versions/3.10.13/envs/tutorials/lib/python3.10/site-packages/tweepy/cursor.py:86\u001b[0m, in \u001b[0;36mBaseIterator.__next__\u001b[0;34m(self)\u001b[0m\n\u001b[1;32m     85\u001b[0m \u001b[38;5;28;01mdef\u001b[39;00m \u001b[38;5;21m__next__\u001b[39m(\u001b[38;5;28mself\u001b[39m):\n\u001b[0;32m---> 86\u001b[0m     \u001b[38;5;28;01mreturn\u001b[39;00m \u001b[38;5;28;43mself\u001b[39;49m\u001b[38;5;241;43m.\u001b[39;49m\u001b[43mnext\u001b[49m\u001b[43m(\u001b[49m\u001b[43m)\u001b[49m\n",
      "File \u001b[0;32m~/.pyenv/versions/3.10.13/envs/tutorials/lib/python3.10/site-packages/tweepy/cursor.py:286\u001b[0m, in \u001b[0;36mItemIterator.next\u001b[0;34m(self)\u001b[0m\n\u001b[1;32m    283\u001b[0m     \u001b[38;5;28;01mraise\u001b[39;00m \u001b[38;5;167;01mStopIteration\u001b[39;00m\n\u001b[1;32m    284\u001b[0m \u001b[38;5;28;01mif\u001b[39;00m \u001b[38;5;28mself\u001b[39m\u001b[38;5;241m.\u001b[39mcurrent_page \u001b[38;5;129;01mis\u001b[39;00m \u001b[38;5;28;01mNone\u001b[39;00m \u001b[38;5;129;01mor\u001b[39;00m \u001b[38;5;28mself\u001b[39m\u001b[38;5;241m.\u001b[39mpage_index \u001b[38;5;241m==\u001b[39m \u001b[38;5;28mlen\u001b[39m(\u001b[38;5;28mself\u001b[39m\u001b[38;5;241m.\u001b[39mcurrent_page) \u001b[38;5;241m-\u001b[39m \u001b[38;5;241m1\u001b[39m:\n\u001b[1;32m    285\u001b[0m     \u001b[38;5;66;03m# Reached end of current page, get the next page...\u001b[39;00m\n\u001b[0;32m--> 286\u001b[0m     \u001b[38;5;28mself\u001b[39m\u001b[38;5;241m.\u001b[39mcurrent_page \u001b[38;5;241m=\u001b[39m \u001b[38;5;28;43mnext\u001b[39;49m\u001b[43m(\u001b[49m\u001b[38;5;28;43mself\u001b[39;49m\u001b[38;5;241;43m.\u001b[39;49m\u001b[43mpage_iterator\u001b[49m\u001b[43m)\u001b[49m\n\u001b[1;32m    287\u001b[0m     \u001b[38;5;28;01mwhile\u001b[39;00m \u001b[38;5;28mlen\u001b[39m(\u001b[38;5;28mself\u001b[39m\u001b[38;5;241m.\u001b[39mcurrent_page) \u001b[38;5;241m==\u001b[39m \u001b[38;5;241m0\u001b[39m:\n\u001b[1;32m    288\u001b[0m         \u001b[38;5;28mself\u001b[39m\u001b[38;5;241m.\u001b[39mcurrent_page \u001b[38;5;241m=\u001b[39m \u001b[38;5;28mnext\u001b[39m(\u001b[38;5;28mself\u001b[39m\u001b[38;5;241m.\u001b[39mpage_iterator)\n",
      "File \u001b[0;32m~/.pyenv/versions/3.10.13/envs/tutorials/lib/python3.10/site-packages/tweepy/cursor.py:86\u001b[0m, in \u001b[0;36mBaseIterator.__next__\u001b[0;34m(self)\u001b[0m\n\u001b[1;32m     85\u001b[0m \u001b[38;5;28;01mdef\u001b[39;00m \u001b[38;5;21m__next__\u001b[39m(\u001b[38;5;28mself\u001b[39m):\n\u001b[0;32m---> 86\u001b[0m     \u001b[38;5;28;01mreturn\u001b[39;00m \u001b[38;5;28;43mself\u001b[39;49m\u001b[38;5;241;43m.\u001b[39;49m\u001b[43mnext\u001b[49m\u001b[43m(\u001b[49m\u001b[43m)\u001b[49m\n",
      "File \u001b[0;32m~/.pyenv/versions/3.10.13/envs/tutorials/lib/python3.10/site-packages/tweepy/cursor.py:167\u001b[0m, in \u001b[0;36mIdIterator.next\u001b[0;34m(self)\u001b[0m\n\u001b[1;32m    164\u001b[0m     \u001b[38;5;28;01mraise\u001b[39;00m \u001b[38;5;167;01mStopIteration\u001b[39;00m\n\u001b[1;32m    166\u001b[0m \u001b[38;5;28;01mif\u001b[39;00m \u001b[38;5;28mself\u001b[39m\u001b[38;5;241m.\u001b[39mindex \u001b[38;5;241m>\u001b[39m\u001b[38;5;241m=\u001b[39m \u001b[38;5;28mlen\u001b[39m(\u001b[38;5;28mself\u001b[39m\u001b[38;5;241m.\u001b[39mresults) \u001b[38;5;241m-\u001b[39m \u001b[38;5;241m1\u001b[39m:\n\u001b[0;32m--> 167\u001b[0m     data \u001b[38;5;241m=\u001b[39m \u001b[38;5;28;43mself\u001b[39;49m\u001b[38;5;241;43m.\u001b[39;49m\u001b[43mmethod\u001b[49m\u001b[43m(\u001b[49m\u001b[43mmax_id\u001b[49m\u001b[38;5;241;43m=\u001b[39;49m\u001b[38;5;28;43mself\u001b[39;49m\u001b[38;5;241;43m.\u001b[39;49m\u001b[43mmax_id\u001b[49m\u001b[43m,\u001b[49m\u001b[43m \u001b[49m\u001b[43mparser\u001b[49m\u001b[38;5;241;43m=\u001b[39;49m\u001b[43mRawParser\u001b[49m\u001b[43m(\u001b[49m\u001b[43m)\u001b[49m\u001b[43m,\u001b[49m\u001b[43m \u001b[49m\u001b[38;5;241;43m*\u001b[39;49m\u001b[38;5;28;43mself\u001b[39;49m\u001b[38;5;241;43m.\u001b[39;49m\u001b[43margs\u001b[49m\u001b[43m,\u001b[49m\u001b[43m \u001b[49m\u001b[38;5;241;43m*\u001b[39;49m\u001b[38;5;241;43m*\u001b[39;49m\u001b[38;5;28;43mself\u001b[39;49m\u001b[38;5;241;43m.\u001b[39;49m\u001b[43mkwargs\u001b[49m\u001b[43m)\u001b[49m\n\u001b[1;32m    169\u001b[0m     model \u001b[38;5;241m=\u001b[39m ModelParser()\u001b[38;5;241m.\u001b[39mparse(\n\u001b[1;32m    170\u001b[0m         data, api \u001b[38;5;241m=\u001b[39m \u001b[38;5;28mself\u001b[39m\u001b[38;5;241m.\u001b[39mmethod\u001b[38;5;241m.\u001b[39m\u001b[38;5;18m__self__\u001b[39m,\n\u001b[1;32m    171\u001b[0m         payload_list\u001b[38;5;241m=\u001b[39m\u001b[38;5;28mself\u001b[39m\u001b[38;5;241m.\u001b[39mmethod\u001b[38;5;241m.\u001b[39mpayload_list,\n\u001b[1;32m    172\u001b[0m         payload_type\u001b[38;5;241m=\u001b[39m\u001b[38;5;28mself\u001b[39m\u001b[38;5;241m.\u001b[39mmethod\u001b[38;5;241m.\u001b[39mpayload_type\n\u001b[1;32m    173\u001b[0m     )\n\u001b[1;32m    174\u001b[0m     result \u001b[38;5;241m=\u001b[39m \u001b[38;5;28mself\u001b[39m\u001b[38;5;241m.\u001b[39mmethod\u001b[38;5;241m.\u001b[39m\u001b[38;5;18m__self__\u001b[39m\u001b[38;5;241m.\u001b[39mparser\u001b[38;5;241m.\u001b[39mparse(\n\u001b[1;32m    175\u001b[0m         data, api \u001b[38;5;241m=\u001b[39m \u001b[38;5;28mself\u001b[39m\u001b[38;5;241m.\u001b[39mmethod\u001b[38;5;241m.\u001b[39m\u001b[38;5;18m__self__\u001b[39m,\n\u001b[1;32m    176\u001b[0m         payload_list\u001b[38;5;241m=\u001b[39m\u001b[38;5;28mself\u001b[39m\u001b[38;5;241m.\u001b[39mmethod\u001b[38;5;241m.\u001b[39mpayload_list,\n\u001b[1;32m    177\u001b[0m         payload_type\u001b[38;5;241m=\u001b[39m\u001b[38;5;28mself\u001b[39m\u001b[38;5;241m.\u001b[39mmethod\u001b[38;5;241m.\u001b[39mpayload_type\n\u001b[1;32m    178\u001b[0m     )\n",
      "File \u001b[0;32m~/.pyenv/versions/3.10.13/envs/tutorials/lib/python3.10/site-packages/tweepy/api.py:33\u001b[0m, in \u001b[0;36mpagination.<locals>.decorator.<locals>.wrapper\u001b[0;34m(*args, **kwargs)\u001b[0m\n\u001b[1;32m     31\u001b[0m \u001b[38;5;129m@functools\u001b[39m\u001b[38;5;241m.\u001b[39mwraps(method)\n\u001b[1;32m     32\u001b[0m \u001b[38;5;28;01mdef\u001b[39;00m \u001b[38;5;21mwrapper\u001b[39m(\u001b[38;5;241m*\u001b[39margs, \u001b[38;5;241m*\u001b[39m\u001b[38;5;241m*\u001b[39mkwargs):\n\u001b[0;32m---> 33\u001b[0m     \u001b[38;5;28;01mreturn\u001b[39;00m \u001b[43mmethod\u001b[49m\u001b[43m(\u001b[49m\u001b[38;5;241;43m*\u001b[39;49m\u001b[43margs\u001b[49m\u001b[43m,\u001b[49m\u001b[43m \u001b[49m\u001b[38;5;241;43m*\u001b[39;49m\u001b[38;5;241;43m*\u001b[39;49m\u001b[43mkwargs\u001b[49m\u001b[43m)\u001b[49m\n",
      "File \u001b[0;32m~/.pyenv/versions/3.10.13/envs/tutorials/lib/python3.10/site-packages/tweepy/api.py:46\u001b[0m, in \u001b[0;36mpayload.<locals>.decorator.<locals>.wrapper\u001b[0;34m(*args, **kwargs)\u001b[0m\n\u001b[1;32m     44\u001b[0m kwargs[\u001b[38;5;124m'\u001b[39m\u001b[38;5;124mpayload_list\u001b[39m\u001b[38;5;124m'\u001b[39m] \u001b[38;5;241m=\u001b[39m payload_list\n\u001b[1;32m     45\u001b[0m kwargs[\u001b[38;5;124m'\u001b[39m\u001b[38;5;124mpayload_type\u001b[39m\u001b[38;5;124m'\u001b[39m] \u001b[38;5;241m=\u001b[39m payload_type\n\u001b[0;32m---> 46\u001b[0m \u001b[38;5;28;01mreturn\u001b[39;00m \u001b[43mmethod\u001b[49m\u001b[43m(\u001b[49m\u001b[38;5;241;43m*\u001b[39;49m\u001b[43margs\u001b[49m\u001b[43m,\u001b[49m\u001b[43m \u001b[49m\u001b[38;5;241;43m*\u001b[39;49m\u001b[38;5;241;43m*\u001b[39;49m\u001b[43mkwargs\u001b[49m\u001b[43m)\u001b[49m\n",
      "File \u001b[0;32m~/.pyenv/versions/3.10.13/envs/tutorials/lib/python3.10/site-packages/tweepy/api.py:1146\u001b[0m, in \u001b[0;36mAPI.search_tweets\u001b[0;34m(self, q, **kwargs)\u001b[0m\n\u001b[1;32m   1052\u001b[0m \u001b[38;5;129m@pagination\u001b[39m(mode\u001b[38;5;241m=\u001b[39m\u001b[38;5;124m'\u001b[39m\u001b[38;5;124mid\u001b[39m\u001b[38;5;124m'\u001b[39m)\n\u001b[1;32m   1053\u001b[0m \u001b[38;5;129m@payload\u001b[39m(\u001b[38;5;124m'\u001b[39m\u001b[38;5;124msearch_results\u001b[39m\u001b[38;5;124m'\u001b[39m)\n\u001b[1;32m   1054\u001b[0m \u001b[38;5;28;01mdef\u001b[39;00m \u001b[38;5;21msearch_tweets\u001b[39m(\u001b[38;5;28mself\u001b[39m, q, \u001b[38;5;241m*\u001b[39m\u001b[38;5;241m*\u001b[39mkwargs):\n\u001b[1;32m   1055\u001b[0m \u001b[38;5;250m    \u001b[39m\u001b[38;5;124;03m\"\"\"search_tweets(q, *, geocode, lang, locale, result_type, count, \\\u001b[39;00m\n\u001b[1;32m   1056\u001b[0m \u001b[38;5;124;03m                     until, since_id, max_id, include_entities)\u001b[39;00m\n\u001b[1;32m   1057\u001b[0m \n\u001b[0;32m   (...)\u001b[0m\n\u001b[1;32m   1144\u001b[0m \u001b[38;5;124;03m    .. _Twitter's documentation on the standard search API: https://developer.twitter.com/en/docs/twitter-api/v1/tweets/search/overview\u001b[39;00m\n\u001b[1;32m   1145\u001b[0m \u001b[38;5;124;03m    \"\"\"\u001b[39;00m\n\u001b[0;32m-> 1146\u001b[0m     \u001b[38;5;28;01mreturn\u001b[39;00m \u001b[38;5;28;43mself\u001b[39;49m\u001b[38;5;241;43m.\u001b[39;49m\u001b[43mrequest\u001b[49m\u001b[43m(\u001b[49m\n\u001b[1;32m   1147\u001b[0m \u001b[43m        \u001b[49m\u001b[38;5;124;43m'\u001b[39;49m\u001b[38;5;124;43mGET\u001b[39;49m\u001b[38;5;124;43m'\u001b[39;49m\u001b[43m,\u001b[49m\u001b[43m \u001b[49m\u001b[38;5;124;43m'\u001b[39;49m\u001b[38;5;124;43msearch/tweets\u001b[39;49m\u001b[38;5;124;43m'\u001b[39;49m\u001b[43m,\u001b[49m\u001b[43m \u001b[49m\u001b[43mendpoint_parameters\u001b[49m\u001b[38;5;241;43m=\u001b[39;49m\u001b[43m(\u001b[49m\n\u001b[1;32m   1148\u001b[0m \u001b[43m            \u001b[49m\u001b[38;5;124;43m'\u001b[39;49m\u001b[38;5;124;43mq\u001b[39;49m\u001b[38;5;124;43m'\u001b[39;49m\u001b[43m,\u001b[49m\u001b[43m \u001b[49m\u001b[38;5;124;43m'\u001b[39;49m\u001b[38;5;124;43mgeocode\u001b[39;49m\u001b[38;5;124;43m'\u001b[39;49m\u001b[43m,\u001b[49m\u001b[43m \u001b[49m\u001b[38;5;124;43m'\u001b[39;49m\u001b[38;5;124;43mlang\u001b[39;49m\u001b[38;5;124;43m'\u001b[39;49m\u001b[43m,\u001b[49m\u001b[43m \u001b[49m\u001b[38;5;124;43m'\u001b[39;49m\u001b[38;5;124;43mlocale\u001b[39;49m\u001b[38;5;124;43m'\u001b[39;49m\u001b[43m,\u001b[49m\u001b[43m \u001b[49m\u001b[38;5;124;43m'\u001b[39;49m\u001b[38;5;124;43mresult_type\u001b[39;49m\u001b[38;5;124;43m'\u001b[39;49m\u001b[43m,\u001b[49m\u001b[43m \u001b[49m\u001b[38;5;124;43m'\u001b[39;49m\u001b[38;5;124;43mcount\u001b[39;49m\u001b[38;5;124;43m'\u001b[39;49m\u001b[43m,\u001b[49m\n\u001b[1;32m   1149\u001b[0m \u001b[43m            \u001b[49m\u001b[38;5;124;43m'\u001b[39;49m\u001b[38;5;124;43muntil\u001b[39;49m\u001b[38;5;124;43m'\u001b[39;49m\u001b[43m,\u001b[49m\u001b[43m \u001b[49m\u001b[38;5;124;43m'\u001b[39;49m\u001b[38;5;124;43msince_id\u001b[39;49m\u001b[38;5;124;43m'\u001b[39;49m\u001b[43m,\u001b[49m\u001b[43m \u001b[49m\u001b[38;5;124;43m'\u001b[39;49m\u001b[38;5;124;43mmax_id\u001b[39;49m\u001b[38;5;124;43m'\u001b[39;49m\u001b[43m,\u001b[49m\u001b[43m \u001b[49m\u001b[38;5;124;43m'\u001b[39;49m\u001b[38;5;124;43minclude_entities\u001b[39;49m\u001b[38;5;124;43m'\u001b[39;49m\n\u001b[1;32m   1150\u001b[0m \u001b[43m        \u001b[49m\u001b[43m)\u001b[49m\u001b[43m,\u001b[49m\u001b[43m \u001b[49m\u001b[43mq\u001b[49m\u001b[38;5;241;43m=\u001b[39;49m\u001b[43mq\u001b[49m\u001b[43m,\u001b[49m\u001b[43m \u001b[49m\u001b[38;5;241;43m*\u001b[39;49m\u001b[38;5;241;43m*\u001b[39;49m\u001b[43mkwargs\u001b[49m\n\u001b[1;32m   1151\u001b[0m \u001b[43m    \u001b[49m\u001b[43m)\u001b[49m\n",
      "File \u001b[0;32m~/.pyenv/versions/3.10.13/envs/tutorials/lib/python3.10/site-packages/tweepy/api.py:271\u001b[0m, in \u001b[0;36mAPI.request\u001b[0;34m(self, method, endpoint, endpoint_parameters, params, headers, json_payload, parser, payload_list, payload_type, post_data, files, require_auth, return_cursors, upload_api, use_cache, **kwargs)\u001b[0m\n\u001b[1;32m    269\u001b[0m     \u001b[38;5;28;01mraise\u001b[39;00m Unauthorized(resp)\n\u001b[1;32m    270\u001b[0m \u001b[38;5;28;01mif\u001b[39;00m resp\u001b[38;5;241m.\u001b[39mstatus_code \u001b[38;5;241m==\u001b[39m \u001b[38;5;241m403\u001b[39m:\n\u001b[0;32m--> 271\u001b[0m     \u001b[38;5;28;01mraise\u001b[39;00m Forbidden(resp)\n\u001b[1;32m    272\u001b[0m \u001b[38;5;28;01mif\u001b[39;00m resp\u001b[38;5;241m.\u001b[39mstatus_code \u001b[38;5;241m==\u001b[39m \u001b[38;5;241m404\u001b[39m:\n\u001b[1;32m    273\u001b[0m     \u001b[38;5;28;01mraise\u001b[39;00m NotFound(resp)\n",
      "\u001b[0;31mForbidden\u001b[0m: 403 Forbidden\n453 - You currently have access to a subset of Twitter API v2 endpoints and limited v1.1 endpoints (e.g. media post, oauth) only. If you need access to this endpoint, you may need a different access level. You can learn more here: https://developer.twitter.com/en/portal/product"
     ]
    }
   ],
   "source": [
    "df_tweets_parsed = tweets.get_last_tweets()\n",
    "df_tweets_parsed.head()"
   ]
  },
  {
   "cell_type": "code",
   "execution_count": null,
   "id": "6dca6609",
   "metadata": {},
   "outputs": [],
   "source": [
    "tweets_textblob = tweets.textblob_processing(df_tweets_parsed)"
   ]
  },
  {
   "cell_type": "code",
   "execution_count": null,
   "id": "ac7417cd",
   "metadata": {},
   "outputs": [],
   "source": [
    "tweets_vader = tweets.vader_processing(df_tweets_parsed)"
   ]
  },
  {
   "cell_type": "code",
   "execution_count": null,
   "id": "cc9fd6d8-89bf-4af8-ad69-5a95d79bc076",
   "metadata": {},
   "outputs": [],
   "source": [
    "tweets_textblob.date = tweets_textblob.date.apply(lambda x: x[:10])\n",
    "tweets_vader.date = tweets_vader.date.apply(lambda x: x[:10])"
   ]
  },
  {
   "cell_type": "code",
   "execution_count": null,
   "id": "15d8930b-1a40-4664-9169-ec003c5bf716",
   "metadata": {},
   "outputs": [],
   "source": [
    "tweets_textblob.head()"
   ]
  },
  {
   "cell_type": "markdown",
   "id": "6d5c795f-c97f-44bc-ad16-b6c94de0426a",
   "metadata": {},
   "source": [
    "---"
   ]
  },
  {
   "cell_type": "markdown",
   "id": "763ad2e6-d635-467a-af0b-459d98265ad5",
   "metadata": {
    "tags": []
   },
   "source": [
    "### <span style=\"color:#ff5f27;\"> 📡 Connecting to the Hopsworks Feature Store </span>"
   ]
  },
  {
   "cell_type": "code",
   "execution_count": 12,
   "id": "1e5efba4-6fbe-46ec-a4ba-e3f560fdd254",
   "metadata": {},
   "outputs": [
    {
     "name": "stdout",
     "output_type": "stream",
     "text": [
      "Connected. Call `.close()` to terminate connection gracefully.\n",
      "\n",
      "Logged in to project, explore it here https://127.0.0.1:8181/p/122\n",
      "Connected. Call `.close()` to terminate connection gracefully.\n"
     ]
    }
   ],
   "source": [
    "import hopsworks\n",
    "\n",
    "project = hopsworks.login(\n",
    "    host=\"127.0.0.1\",\n",
    "    port=\"8181\",\n",
    "    project=\"BinanceFunctionCalling\",\n",
    "    api_key_value=\"If1pZaYvBO4vFrXP.9JmiCchSUYcyjeRT9rYcbl2KcAUvfNW0Wd81ETdeRdVdgSuB1taPB11DwIIx4vkd\"\n",
    ")\n",
    "\n",
    "fs = project.get_feature_store()"
   ]
  },
  {
   "cell_type": "code",
   "execution_count": 13,
   "id": "6505c5f6-b7b4-4c4d-ba3e-3012850881ee",
   "metadata": {},
   "outputs": [],
   "source": [
    "btc_price_fg = fs.get_or_create_feature_group(\n",
    "    name='bitcoin_price',\n",
    "    version=1,\n",
    ")\n",
    "\n",
    "tweets_textblob_fg = fs.get_or_create_feature_group(\n",
    "    name='bitcoin_tweets_textblob',\n",
    "    version=1,\n",
    ")\n",
    "\n",
    "tweets_vader_fg = fs.get_or_create_feature_group(\n",
    "    name='bitcoin_tweets_vader',\n",
    "    version=1,\n",
    ")"
   ]
  },
  {
   "cell_type": "markdown",
   "id": "cecb1c40-4299-4c93-9eef-98ee510ec8a4",
   "metadata": {},
   "source": [
    "---"
   ]
  },
  {
   "cell_type": "markdown",
   "id": "b7296a36-2b6b-48a5-b640-abe2cec6c257",
   "metadata": {},
   "source": [
    "### <span style='color:#ff5f27'> 💫 Filling the gap in tweets"
   ]
  },
  {
   "cell_type": "code",
   "execution_count": null,
   "id": "3024a19d-6fb1-457d-9eec-e8a56a47a0ab",
   "metadata": {},
   "outputs": [],
   "source": [
    "btc_dates = btc_price_fg.read().date.sort_values().reset_index(drop=True).astype(str)"
   ]
  },
  {
   "cell_type": "code",
   "execution_count": null,
   "id": "5defd487-69ff-4679-9041-9a62b84bcac2",
   "metadata": {},
   "outputs": [],
   "source": [
    "stored_tweets_df = tweets_textblob_fg.read()"
   ]
  },
  {
   "cell_type": "code",
   "execution_count": null,
   "id": "011fa65f-f99a-41e1-b5db-2086601c2dde",
   "metadata": {},
   "outputs": [],
   "source": [
    "stored_dates = stored_tweets_df.date.apply(lambda x: str(x)[:10]).drop_duplicates().sort_values().reset_index(drop=True)"
   ]
  },
  {
   "cell_type": "code",
   "execution_count": null,
   "id": "ec30f1eb-c366-42b3-ba7b-f9f7c00276dd",
   "metadata": {},
   "outputs": [],
   "source": [
    "btc_dates"
   ]
  },
  {
   "cell_type": "code",
   "execution_count": null,
   "id": "bde40761-fb30-47ec-98eb-1b5399037665",
   "metadata": {},
   "outputs": [],
   "source": [
    "stored_dates"
   ]
  },
  {
   "cell_type": "code",
   "execution_count": null,
   "id": "febd4cec-f9d4-4cbb-a5e5-c49c1d51836a",
   "metadata": {},
   "outputs": [],
   "source": [
    "missing_dates = list(set(btc_dates) - set(stored_dates))"
   ]
  },
  {
   "cell_type": "code",
   "execution_count": null,
   "id": "82cb7210-27bc-450f-a7c4-eb7a2f34e4e4",
   "metadata": {},
   "outputs": [],
   "source": [
    "len(missing_dates)"
   ]
  },
  {
   "cell_type": "code",
   "execution_count": null,
   "id": "3e5c50a7-74ac-4508-a288-9673cc22025f",
   "metadata": {},
   "outputs": [],
   "source": [
    "tweets_textblob_fix = pd.DataFrame(\n",
    "    {\n",
    "        \"date\": missing_dates,\n",
    "        \"subjectivity\": [1] * len(missing_dates),\n",
    "        \"polarity\": [1] * len(missing_dates),\n",
    "    })"
   ]
  },
  {
   "cell_type": "code",
   "execution_count": null,
   "id": "868dc4c8-c5f7-44ca-8aae-6eb429de81c9",
   "metadata": {},
   "outputs": [],
   "source": [
    "tweets_vader_fix = pd.DataFrame(\n",
    "    {\n",
    "        \"date\": missing_dates,\n",
    "        \"compound\": [1] * len(missing_dates),\n",
    "    })"
   ]
  },
  {
   "cell_type": "code",
   "execution_count": null,
   "id": "d41eb4fb-6471-4890-8de5-71a536b9f2c7",
   "metadata": {},
   "outputs": [],
   "source": [
    "tweets_vader_fix"
   ]
  },
  {
   "cell_type": "code",
   "execution_count": null,
   "id": "fde75621-df6e-4e01-826d-06933f04766a",
   "metadata": {},
   "outputs": [],
   "source": [
    "tweets_vader_fix[\"unix\"] = tweets_vader_fix.date.apply(tweets.convert_date_to_unix)\n",
    "tweets_textblob_fix[\"unix\"] = tweets_textblob_fix.date.apply(tweets.convert_date_to_unix)"
   ]
  },
  {
   "cell_type": "code",
   "execution_count": null,
   "id": "a2917dec-55ed-4f44-8a25-ba95391bf7d4",
   "metadata": {},
   "outputs": [],
   "source": [
    "tweets_vader_fix.sort_values(\"date\")"
   ]
  },
  {
   "cell_type": "code",
   "execution_count": null,
   "id": "827a8bfe-f690-4820-9f80-2e339785147f",
   "metadata": {},
   "outputs": [],
   "source": [
    "tweets_vader_batch = pd.concat([tweets_vader_fix, tweets_vader]).sort_values(\"date\").reset_index(drop=True)\n",
    "tweets_textblob_batch = pd.concat([tweets_textblob_fix, tweets_textblob]).sort_values(\"date\").reset_index(drop=True)"
   ]
  },
  {
   "cell_type": "markdown",
   "id": "228f5cd5",
   "metadata": {},
   "source": [
    "---"
   ]
  },
  {
   "cell_type": "markdown",
   "id": "772f675d",
   "metadata": {},
   "source": [
    "## <span style=\"color:#ff5f27;\">⬆️ Uploading new data to the Feature Store</span>"
   ]
  },
  {
   "cell_type": "markdown",
   "id": "be1eb71f",
   "metadata": {},
   "source": [
    "### <span style='color:#ff5f27'> 📈 Bitcoin Feature Group"
   ]
  },
  {
   "cell_type": "code",
   "execution_count": 14,
   "id": "3157a4f7",
   "metadata": {
    "scrolled": true
   },
   "outputs": [
    {
     "data": {
      "application/vnd.jupyter.widget-view+json": {
       "model_id": "ce4831f8f13f40d18773528f1598bd8e",
       "version_major": 2,
       "version_minor": 0
      },
      "text/plain": [
       "Uploading Dataframe: 0.00% |          | Rows 0/58 | Elapsed Time: 00:00 | Remaining Time: ?"
      ]
     },
     "metadata": {},
     "output_type": "display_data"
    },
    {
     "name": "stdout",
     "output_type": "stream",
     "text": [
      "Launching job: bitcoin_price_1_offline_fg_materialization\n",
      "Job started successfully, you can follow the progress at \n",
      "https://127.0.0.1:8181/p/122/jobs/named/bitcoin_price_1_offline_fg_materialization/executions\n"
     ]
    },
    {
     "data": {
      "text/plain": [
       "(<hsfs.core.job.Job at 0x7f974860d630>, None)"
      ]
     },
     "execution_count": 14,
     "metadata": {},
     "output_type": "execute_result"
    }
   ],
   "source": [
    "btc_price_fg.insert(df_bitcoin_processed)"
   ]
  },
  {
   "cell_type": "markdown",
   "id": "47f1f52a",
   "metadata": {},
   "source": [
    "### <span style='color:#ff5f27'> 💭 Tweets Feature Groups"
   ]
  },
  {
   "cell_type": "code",
   "execution_count": null,
   "id": "a6a8e047",
   "metadata": {},
   "outputs": [],
   "source": [
    "tweets_textblob_fg.insert(tweets_textblob_batch)"
   ]
  },
  {
   "cell_type": "code",
   "execution_count": null,
   "id": "034fc462",
   "metadata": {},
   "outputs": [],
   "source": [
    "tweets_vader_fg.insert(tweets_vader_batch)"
   ]
  },
  {
   "cell_type": "markdown",
   "id": "25e42178",
   "metadata": {},
   "source": [
    "## <span style=\"color:#ff5f27;\">⏭️ **Next:** Part 03: Training Pipeline </span>\n",
    "\n",
    "In the next notebook you will create a feature view, training dataset, train a model and register it in Hopsworks Model Registry.\n",
    "\n",
    "[![Open In Colab](https://colab.research.google.com/assets/colab-badge.svg)](https://colab.research.google.com/github/logicalclocks/hopsworks-tutorials/blob/master/advanced_tutorials/bitcoin/3_bitcoin_training_pipeline.ipynb)"
   ]
  }
 ],
 "metadata": {
  "kernelspec": {
   "display_name": "Python 3 (ipykernel)",
   "language": "python",
   "name": "python3"
  },
  "language_info": {
   "codemirror_mode": {
    "name": "ipython",
    "version": 3
   },
   "file_extension": ".py",
   "mimetype": "text/x-python",
   "name": "python",
   "nbconvert_exporter": "python",
   "pygments_lexer": "ipython3",
   "version": "3.10.13"
  }
 },
 "nbformat": 4,
 "nbformat_minor": 5
}
