{
 "cells": [
  {
   "cell_type": "markdown",
   "id": "6363ec8b",
   "metadata": {},
   "source": [
    "# <span style=\"font-width:bold; font-size: 3rem; color:#1EB182;\"><img src=\"images/icon102.png\" width=\"38px\"></img> **Hopsworks Feature Store** </span><span style=\"font-width:bold; font-size: 3rem; color:#333;\">- Part 03: Training Pipeline</span>\n",
    "\n",
    "<span style=\"font-width:bold; font-size: 1.4rem;\">This notebook explains how to create a feature view, create a training dataset, train a model and save it in the Hopsworks Model Registry.</span>\n",
    "\n",
    "## 🗒️ This notebook is divided into the following sections:\n",
    "\n",
    "1. Fetch Feature Groups.\n",
    "2. Create a Feature View.\n",
    "3. Create a Training Dataset.\n",
    "4. Train a model.\n",
    "5. Save trained model in the Model Registry.\n",
    "\n",
    "![part2](images/02_training-dataset.png)"
   ]
  },
  {
   "cell_type": "code",
   "execution_count": 4,
   "id": "49144d37",
   "metadata": {},
   "outputs": [
    {
     "name": "stdout",
     "output_type": "stream",
     "text": [
      "Connection closed.\n",
      "2024-09-18 20:09:02,088 INFO: Python Engine initialized.\n",
      "\n",
      "Logged in to project, explore it here https://hopsworks0.logicalclocks.com/p/119\n"
     ]
    }
   ],
   "source": [
    "# connect to Hopsworks\n",
    "\n",
    "import hopsworks\n",
    "\n",
    "project = hopsworks.login()\n",
    "\n",
    "fs = project.get_feature_store()"
   ]
  },
  {
   "cell_type": "markdown",
   "id": "dd00393a",
   "metadata": {},
   "source": [
    "## Create a Feature view"
   ]
  },
  {
   "cell_type": "code",
   "execution_count": 5,
   "id": "c875baa5",
   "metadata": {},
   "outputs": [],
   "source": [
    "# Get departures feature groups\n",
    "\n",
    "departures_fg = fs.get_feature_group(\"departures\", 2)\n",
    "departures_agg_30m_fg = fs.get_feature_group(\"departures_agg_30m\", 1)\n",
    "departures_agg_1h_fg = fs.get_feature_group(\"departures_agg_1h\", 1)\n",
    "departures_agg_6h_fg = fs.get_feature_group(\"departures_agg_6h\", 1)"
   ]
  },
  {
   "cell_type": "code",
   "execution_count": 4,
   "id": "94220654",
   "metadata": {},
   "outputs": [
    {
     "name": "stdout",
     "output_type": "stream",
     "text": [
      "Finished: Reading data from Hopsworks, using Hopsworks Feature Query Service (0.67s) \n"
     ]
    },
    {
     "data": {
      "text/html": [
       "<div>\n",
       "<style scoped>\n",
       "    .dataframe tbody tr th:only-of-type {\n",
       "        vertical-align: middle;\n",
       "    }\n",
       "\n",
       "    .dataframe tbody tr th {\n",
       "        vertical-align: top;\n",
       "    }\n",
       "\n",
       "    .dataframe thead th {\n",
       "        text-align: right;\n",
       "    }\n",
       "</style>\n",
       "<table border=\"1\" class=\"dataframe\">\n",
       "  <thead>\n",
       "    <tr style=\"text-align: right;\">\n",
       "      <th></th>\n",
       "      <th>scheduled</th>\n",
       "      <th>expected</th>\n",
       "      <th>deviations_count</th>\n",
       "      <th>deviations_importance_max</th>\n",
       "      <th>late</th>\n",
       "      <th>d30m_state_issue_count</th>\n",
       "      <th>d30m_deviations_count_mean</th>\n",
       "      <th>d30m_deviations_importance_mean</th>\n",
       "      <th>d30m_late_count</th>\n",
       "      <th>d1h_state_issue_count</th>\n",
       "      <th>d1h_deviations_count_mean</th>\n",
       "      <th>d1h_deviations_importance_mean</th>\n",
       "      <th>d1h_late_count</th>\n",
       "      <th>d6h_state_issue_count</th>\n",
       "      <th>d6h_deviations_count_mean</th>\n",
       "      <th>d6h_deviations_importance_mean</th>\n",
       "      <th>d6h_late_count</th>\n",
       "    </tr>\n",
       "  </thead>\n",
       "  <tbody>\n",
       "    <tr>\n",
       "      <th>0</th>\n",
       "      <td>2024-09-18 02:31:00+00:00</td>\n",
       "      <td>2024-09-18 02:31:00+00:00</td>\n",
       "      <td>0.0</td>\n",
       "      <td>0.0</td>\n",
       "      <td>False</td>\n",
       "      <td>0.0</td>\n",
       "      <td>0.000000</td>\n",
       "      <td>0.000000</td>\n",
       "      <td>0.0</td>\n",
       "      <td>0.0</td>\n",
       "      <td>0.000000</td>\n",
       "      <td>0.000000</td>\n",
       "      <td>0.0</td>\n",
       "      <td>0.0</td>\n",
       "      <td>0.000000</td>\n",
       "      <td>0.000000</td>\n",
       "      <td>0.0</td>\n",
       "    </tr>\n",
       "    <tr>\n",
       "      <th>1</th>\n",
       "      <td>2024-09-18 02:53:30+00:00</td>\n",
       "      <td>2024-09-18 02:53:43+00:00</td>\n",
       "      <td>0.0</td>\n",
       "      <td>0.0</td>\n",
       "      <td>True</td>\n",
       "      <td>0.0</td>\n",
       "      <td>0.000000</td>\n",
       "      <td>0.000000</td>\n",
       "      <td>0.0</td>\n",
       "      <td>0.0</td>\n",
       "      <td>0.000000</td>\n",
       "      <td>0.000000</td>\n",
       "      <td>0.0</td>\n",
       "      <td>0.0</td>\n",
       "      <td>0.000000</td>\n",
       "      <td>0.000000</td>\n",
       "      <td>0.0</td>\n",
       "    </tr>\n",
       "    <tr>\n",
       "      <th>2</th>\n",
       "      <td>2024-09-18 02:19:00+00:00</td>\n",
       "      <td>2024-09-18 02:18:07+00:00</td>\n",
       "      <td>0.0</td>\n",
       "      <td>0.0</td>\n",
       "      <td>True</td>\n",
       "      <td>0.0</td>\n",
       "      <td>0.000000</td>\n",
       "      <td>0.000000</td>\n",
       "      <td>0.0</td>\n",
       "      <td>0.0</td>\n",
       "      <td>0.000000</td>\n",
       "      <td>0.000000</td>\n",
       "      <td>0.0</td>\n",
       "      <td>0.0</td>\n",
       "      <td>0.000000</td>\n",
       "      <td>0.000000</td>\n",
       "      <td>0.0</td>\n",
       "    </tr>\n",
       "    <tr>\n",
       "      <th>3</th>\n",
       "      <td>2024-09-18 02:59:45+00:00</td>\n",
       "      <td>2024-09-18 02:59:52+00:00</td>\n",
       "      <td>0.0</td>\n",
       "      <td>0.0</td>\n",
       "      <td>True</td>\n",
       "      <td>4.0</td>\n",
       "      <td>0.043478</td>\n",
       "      <td>0.304348</td>\n",
       "      <td>0.0</td>\n",
       "      <td>9.0</td>\n",
       "      <td>2.021739</td>\n",
       "      <td>14.152174</td>\n",
       "      <td>0.0</td>\n",
       "      <td>18.0</td>\n",
       "      <td>5.510870</td>\n",
       "      <td>38.576088</td>\n",
       "      <td>0.0</td>\n",
       "    </tr>\n",
       "    <tr>\n",
       "      <th>4</th>\n",
       "      <td>2024-09-18 03:00:30+00:00</td>\n",
       "      <td>2024-09-18 03:00:30+00:00</td>\n",
       "      <td>1.0</td>\n",
       "      <td>7.0</td>\n",
       "      <td>False</td>\n",
       "      <td>3.0</td>\n",
       "      <td>0.032609</td>\n",
       "      <td>0.228261</td>\n",
       "      <td>0.0</td>\n",
       "      <td>5.0</td>\n",
       "      <td>1.016304</td>\n",
       "      <td>7.114130</td>\n",
       "      <td>0.0</td>\n",
       "      <td>5.0</td>\n",
       "      <td>1.016304</td>\n",
       "      <td>7.114130</td>\n",
       "      <td>0.0</td>\n",
       "    </tr>\n",
       "  </tbody>\n",
       "</table>\n",
       "</div>"
      ],
      "text/plain": [
       "                  scheduled                  expected  deviations_count  \\\n",
       "0 2024-09-18 02:31:00+00:00 2024-09-18 02:31:00+00:00               0.0   \n",
       "1 2024-09-18 02:53:30+00:00 2024-09-18 02:53:43+00:00               0.0   \n",
       "2 2024-09-18 02:19:00+00:00 2024-09-18 02:18:07+00:00               0.0   \n",
       "3 2024-09-18 02:59:45+00:00 2024-09-18 02:59:52+00:00               0.0   \n",
       "4 2024-09-18 03:00:30+00:00 2024-09-18 03:00:30+00:00               1.0   \n",
       "\n",
       "   deviations_importance_max   late  d30m_state_issue_count  \\\n",
       "0                        0.0  False                     0.0   \n",
       "1                        0.0   True                     0.0   \n",
       "2                        0.0   True                     0.0   \n",
       "3                        0.0   True                     4.0   \n",
       "4                        7.0  False                     3.0   \n",
       "\n",
       "   d30m_deviations_count_mean  d30m_deviations_importance_mean  \\\n",
       "0                    0.000000                         0.000000   \n",
       "1                    0.000000                         0.000000   \n",
       "2                    0.000000                         0.000000   \n",
       "3                    0.043478                         0.304348   \n",
       "4                    0.032609                         0.228261   \n",
       "\n",
       "   d30m_late_count  d1h_state_issue_count  d1h_deviations_count_mean  \\\n",
       "0              0.0                    0.0                   0.000000   \n",
       "1              0.0                    0.0                   0.000000   \n",
       "2              0.0                    0.0                   0.000000   \n",
       "3              0.0                    9.0                   2.021739   \n",
       "4              0.0                    5.0                   1.016304   \n",
       "\n",
       "   d1h_deviations_importance_mean  d1h_late_count  d6h_state_issue_count  \\\n",
       "0                        0.000000             0.0                    0.0   \n",
       "1                        0.000000             0.0                    0.0   \n",
       "2                        0.000000             0.0                    0.0   \n",
       "3                       14.152174             0.0                   18.0   \n",
       "4                        7.114130             0.0                    5.0   \n",
       "\n",
       "   d6h_deviations_count_mean  d6h_deviations_importance_mean  d6h_late_count  \n",
       "0                   0.000000                        0.000000             0.0  \n",
       "1                   0.000000                        0.000000             0.0  \n",
       "2                   0.000000                        0.000000             0.0  \n",
       "3                   5.510870                       38.576088             0.0  \n",
       "4                   1.016304                        7.114130             0.0  "
      ]
     },
     "execution_count": 4,
     "metadata": {},
     "output_type": "execute_result"
    }
   ],
   "source": [
    "# Feature selection - define a Query for the Feature view\n",
    "\n",
    "skip_agg_cols = [\"departure_id\", \"site_id\", \"state\", \"journey_state\", \"journey_prediction_state\"]\n",
    "select_agg_cols = [\"state_issue_count\", \"deviations_count_mean\", \"deviations_importance_mean\", \"late_count\"]\n",
    "\n",
    "query = departures_fg.select_except(skip_agg_cols) \\\n",
    "                     .join(departures_agg_30m_fg.select(select_agg_cols), left_on=[\"departure_id\"], right_on=[\"departure_agg_id\"], prefix=\"d30m_\", join_type=\"inner\") \\\n",
    "                     .join(departures_agg_1h_fg.select(select_agg_cols), left_on=[\"departure_id\"], right_on=[\"departure_agg_id\"], prefix=\"d1h_\", join_type=\"inner\") \\\n",
    "                     .join(departures_agg_6h_fg.select(select_agg_cols), left_on=[\"departure_id\"], right_on=[\"departure_agg_id\"], prefix=\"d6h_\", join_type=\"inner\")\n",
    "\n",
    "query.show(5)"
   ]
  },
  {
   "cell_type": "code",
   "execution_count": 6,
   "id": "8b5ad1f2",
   "metadata": {},
   "outputs": [],
   "source": [
    "# Create the Feature view\n",
    "\n",
    "feature_view = fs.get_or_create_feature_view(\n",
    "    name='departures_agg',\n",
    "    version=1,\n",
    "    query=query,\n",
    "    labels=[\"late\"]\n",
    ")"
   ]
  },
  {
   "cell_type": "code",
   "execution_count": 15,
   "id": "9153e0b5",
   "metadata": {},
   "outputs": [],
   "source": [
    "# Test get feature vector\n",
    "\n",
    "feature_view.get_feature_vector({\"departure_id\": \"9295-2024-09-18T04:53:30+02:00\"})"
   ]
  },
  {
   "cell_type": "markdown",
   "id": "6a3e2619",
   "metadata": {},
   "source": [
    "## Create a Training Dataset"
   ]
  },
  {
   "cell_type": "code",
   "execution_count": 6,
   "id": "c93f9d4f",
   "metadata": {},
   "outputs": [],
   "source": [
    "# Get existing feature view\n",
    "\n",
    "feature_view = fs.get_feature_view(name='departures_agg', version=1)"
   ]
  },
  {
   "cell_type": "code",
   "execution_count": 7,
   "id": "b26159a1",
   "metadata": {},
   "outputs": [
    {
     "name": "stdout",
     "output_type": "stream",
     "text": [
      "Finished: Reading data from Hopsworks, using Hopsworks Feature Query Service (0.88s) \n",
      "2024-09-18 20:09:15,133 WARNING: VersionWarning: Incremented version to `5`.\n",
      "\n"
     ]
    },
    {
     "data": {
      "text/html": [
       "<div>\n",
       "<style scoped>\n",
       "    .dataframe tbody tr th:only-of-type {\n",
       "        vertical-align: middle;\n",
       "    }\n",
       "\n",
       "    .dataframe tbody tr th {\n",
       "        vertical-align: top;\n",
       "    }\n",
       "\n",
       "    .dataframe thead th {\n",
       "        text-align: right;\n",
       "    }\n",
       "</style>\n",
       "<table border=\"1\" class=\"dataframe\">\n",
       "  <thead>\n",
       "    <tr style=\"text-align: right;\">\n",
       "      <th></th>\n",
       "      <th>scheduled</th>\n",
       "      <th>expected</th>\n",
       "      <th>deviations_count</th>\n",
       "      <th>deviations_importance_max</th>\n",
       "      <th>d30m_state_issue_count</th>\n",
       "      <th>d30m_deviations_count_mean</th>\n",
       "      <th>d30m_deviations_importance_mean</th>\n",
       "      <th>d30m_late_count</th>\n",
       "      <th>d1h_state_issue_count</th>\n",
       "      <th>d1h_deviations_count_mean</th>\n",
       "      <th>d1h_deviations_importance_mean</th>\n",
       "      <th>d1h_late_count</th>\n",
       "      <th>d6h_state_issue_count</th>\n",
       "      <th>d6h_deviations_count_mean</th>\n",
       "      <th>d6h_deviations_importance_mean</th>\n",
       "      <th>d6h_late_count</th>\n",
       "    </tr>\n",
       "  </thead>\n",
       "  <tbody>\n",
       "    <tr>\n",
       "      <th>2</th>\n",
       "      <td>2024-09-18 02:53:30+00:00</td>\n",
       "      <td>2024-09-18 02:53:43+00:00</td>\n",
       "      <td>0.0</td>\n",
       "      <td>0.0</td>\n",
       "      <td>0.0</td>\n",
       "      <td>0.0</td>\n",
       "      <td>0.0</td>\n",
       "      <td>0.0</td>\n",
       "      <td>0.0</td>\n",
       "      <td>0.0</td>\n",
       "      <td>0.0</td>\n",
       "      <td>0.0</td>\n",
       "      <td>0.0</td>\n",
       "      <td>0.0</td>\n",
       "      <td>0.0</td>\n",
       "      <td>0.0</td>\n",
       "    </tr>\n",
       "    <tr>\n",
       "      <th>5</th>\n",
       "      <td>2024-09-18 06:24:00+00:00</td>\n",
       "      <td>2024-09-18 06:25:01+00:00</td>\n",
       "      <td>0.0</td>\n",
       "      <td>0.0</td>\n",
       "      <td>0.0</td>\n",
       "      <td>0.0</td>\n",
       "      <td>0.0</td>\n",
       "      <td>1.0</td>\n",
       "      <td>0.0</td>\n",
       "      <td>0.0</td>\n",
       "      <td>0.0</td>\n",
       "      <td>2.0</td>\n",
       "      <td>0.0</td>\n",
       "      <td>0.0</td>\n",
       "      <td>0.0</td>\n",
       "      <td>4.0</td>\n",
       "    </tr>\n",
       "    <tr>\n",
       "      <th>6</th>\n",
       "      <td>2024-09-18 06:05:00+00:00</td>\n",
       "      <td>2024-09-18 06:05:55+00:00</td>\n",
       "      <td>0.0</td>\n",
       "      <td>0.0</td>\n",
       "      <td>0.0</td>\n",
       "      <td>0.0</td>\n",
       "      <td>0.0</td>\n",
       "      <td>0.0</td>\n",
       "      <td>0.0</td>\n",
       "      <td>0.0</td>\n",
       "      <td>0.0</td>\n",
       "      <td>0.0</td>\n",
       "      <td>0.0</td>\n",
       "      <td>0.0</td>\n",
       "      <td>0.0</td>\n",
       "      <td>0.0</td>\n",
       "    </tr>\n",
       "    <tr>\n",
       "      <th>7</th>\n",
       "      <td>2024-09-18 06:29:00+00:00</td>\n",
       "      <td>2024-09-18 06:30:37+00:00</td>\n",
       "      <td>0.0</td>\n",
       "      <td>0.0</td>\n",
       "      <td>0.0</td>\n",
       "      <td>0.0</td>\n",
       "      <td>0.0</td>\n",
       "      <td>0.0</td>\n",
       "      <td>0.0</td>\n",
       "      <td>0.0</td>\n",
       "      <td>0.0</td>\n",
       "      <td>0.0</td>\n",
       "      <td>0.0</td>\n",
       "      <td>0.0</td>\n",
       "      <td>0.0</td>\n",
       "      <td>0.0</td>\n",
       "    </tr>\n",
       "    <tr>\n",
       "      <th>9</th>\n",
       "      <td>2024-09-18 06:10:32+00:00</td>\n",
       "      <td>2024-09-18 06:11:41+00:00</td>\n",
       "      <td>0.0</td>\n",
       "      <td>0.0</td>\n",
       "      <td>0.0</td>\n",
       "      <td>0.0</td>\n",
       "      <td>0.0</td>\n",
       "      <td>0.0</td>\n",
       "      <td>0.0</td>\n",
       "      <td>0.0</td>\n",
       "      <td>0.0</td>\n",
       "      <td>0.0</td>\n",
       "      <td>0.0</td>\n",
       "      <td>0.0</td>\n",
       "      <td>0.0</td>\n",
       "      <td>0.0</td>\n",
       "    </tr>\n",
       "  </tbody>\n",
       "</table>\n",
       "</div>"
      ],
      "text/plain": [
       "                   scheduled                   expected  deviations_count  \\\n",
       "2  2024-09-18 02:53:30+00:00  2024-09-18 02:53:43+00:00               0.0   \n",
       "5  2024-09-18 06:24:00+00:00  2024-09-18 06:25:01+00:00               0.0   \n",
       "6  2024-09-18 06:05:00+00:00  2024-09-18 06:05:55+00:00               0.0   \n",
       "7  2024-09-18 06:29:00+00:00  2024-09-18 06:30:37+00:00               0.0   \n",
       "9  2024-09-18 06:10:32+00:00  2024-09-18 06:11:41+00:00               0.0   \n",
       "\n",
       "   deviations_importance_max  d30m_state_issue_count  \\\n",
       "2                        0.0                     0.0   \n",
       "5                        0.0                     0.0   \n",
       "6                        0.0                     0.0   \n",
       "7                        0.0                     0.0   \n",
       "9                        0.0                     0.0   \n",
       "\n",
       "   d30m_deviations_count_mean  d30m_deviations_importance_mean  \\\n",
       "2                         0.0                              0.0   \n",
       "5                         0.0                              0.0   \n",
       "6                         0.0                              0.0   \n",
       "7                         0.0                              0.0   \n",
       "9                         0.0                              0.0   \n",
       "\n",
       "   d30m_late_count  d1h_state_issue_count  d1h_deviations_count_mean  \\\n",
       "2              0.0                    0.0                        0.0   \n",
       "5              1.0                    0.0                        0.0   \n",
       "6              0.0                    0.0                        0.0   \n",
       "7              0.0                    0.0                        0.0   \n",
       "9              0.0                    0.0                        0.0   \n",
       "\n",
       "   d1h_deviations_importance_mean  d1h_late_count  d6h_state_issue_count  \\\n",
       "2                             0.0             0.0                    0.0   \n",
       "5                             0.0             2.0                    0.0   \n",
       "6                             0.0             0.0                    0.0   \n",
       "7                             0.0             0.0                    0.0   \n",
       "9                             0.0             0.0                    0.0   \n",
       "\n",
       "   d6h_deviations_count_mean  d6h_deviations_importance_mean  d6h_late_count  \n",
       "2                        0.0                             0.0             0.0  \n",
       "5                        0.0                             0.0             4.0  \n",
       "6                        0.0                             0.0             0.0  \n",
       "7                        0.0                             0.0             0.0  \n",
       "9                        0.0                             0.0             0.0  "
      ]
     },
     "execution_count": 7,
     "metadata": {},
     "output_type": "execute_result"
    }
   ],
   "source": [
    "# Create a Training dataset\n",
    "\n",
    "X_train, X_test, y_train, y_test = feature_view.train_test_split(\n",
    "    test_size=0.5\n",
    ")\n",
    "\n",
    "X_train.head(5)"
   ]
  },
  {
   "cell_type": "code",
   "execution_count": 8,
   "id": "baebf207",
   "metadata": {},
   "outputs": [
    {
     "data": {
      "text/html": [
       "<div>\n",
       "<style scoped>\n",
       "    .dataframe tbody tr th:only-of-type {\n",
       "        vertical-align: middle;\n",
       "    }\n",
       "\n",
       "    .dataframe tbody tr th {\n",
       "        vertical-align: top;\n",
       "    }\n",
       "\n",
       "    .dataframe thead th {\n",
       "        text-align: right;\n",
       "    }\n",
       "</style>\n",
       "<table border=\"1\" class=\"dataframe\">\n",
       "  <thead>\n",
       "    <tr style=\"text-align: right;\">\n",
       "      <th></th>\n",
       "      <th>late</th>\n",
       "    </tr>\n",
       "  </thead>\n",
       "  <tbody>\n",
       "    <tr>\n",
       "      <th>2</th>\n",
       "      <td>True</td>\n",
       "    </tr>\n",
       "    <tr>\n",
       "      <th>5</th>\n",
       "      <td>True</td>\n",
       "    </tr>\n",
       "    <tr>\n",
       "      <th>6</th>\n",
       "      <td>True</td>\n",
       "    </tr>\n",
       "    <tr>\n",
       "      <th>7</th>\n",
       "      <td>True</td>\n",
       "    </tr>\n",
       "    <tr>\n",
       "      <th>9</th>\n",
       "      <td>True</td>\n",
       "    </tr>\n",
       "  </tbody>\n",
       "</table>\n",
       "</div>"
      ],
      "text/plain": [
       "   late\n",
       "2  True\n",
       "5  True\n",
       "6  True\n",
       "7  True\n",
       "9  True"
      ]
     },
     "execution_count": 8,
     "metadata": {},
     "output_type": "execute_result"
    }
   ],
   "source": [
    "y_train.head(5)"
   ]
  },
  {
   "cell_type": "markdown",
   "id": "eeaf1c11",
   "metadata": {},
   "source": [
    "## Train a model to predict delays"
   ]
  },
  {
   "cell_type": "code",
   "execution_count": 9,
   "id": "6a62c343",
   "metadata": {},
   "outputs": [],
   "source": [
    "# Necessary imports\n",
    "\n",
    "import os\n",
    "import joblib\n",
    "\n",
    "import datetime\n",
    "\n",
    "import pandas as pd\n",
    "\n",
    "import matplotlib.pyplot as plt\n",
    "import seaborn as sns\n",
    "\n",
    "from xgboost import XGBRegressor\n",
    "from xgboost import plot_importance\n",
    "from sklearn.metrics import mean_squared_error, r2_score\n",
    "from sklearn.model_selection import train_test_split\n",
    "from sklearn.preprocessing import LabelEncoder\n",
    "\n",
    "import warnings\n",
    "warnings.filterwarnings(\"ignore\")"
   ]
  },
  {
   "cell_type": "code",
   "execution_count": 10,
   "id": "95c348d9",
   "metadata": {},
   "outputs": [],
   "source": [
    "# Apply model-dependent transformations\n",
    "\n",
    "from functions.common_functions import convert_date_to_unix\n",
    "\n",
    "X_train[\"scheduled\"] = X_train[\"scheduled\"].apply(convert_date_to_unix)\n",
    "X_test[\"scheduled\"] = X_test[\"scheduled\"].apply(convert_date_to_unix)\n",
    "\n",
    "X_train[\"expected\"] = X_train[\"expected\"].apply(convert_date_to_unix)\n",
    "X_test[\"expected\"] = X_test[\"expected\"].apply(convert_date_to_unix)"
   ]
  },
  {
   "cell_type": "code",
   "execution_count": 11,
   "id": "bd20328f",
   "metadata": {},
   "outputs": [
    {
     "data": {
      "text/html": [
       "<div>\n",
       "<style scoped>\n",
       "    .dataframe tbody tr th:only-of-type {\n",
       "        vertical-align: middle;\n",
       "    }\n",
       "\n",
       "    .dataframe tbody tr th {\n",
       "        vertical-align: top;\n",
       "    }\n",
       "\n",
       "    .dataframe thead th {\n",
       "        text-align: right;\n",
       "    }\n",
       "</style>\n",
       "<table border=\"1\" class=\"dataframe\">\n",
       "  <thead>\n",
       "    <tr style=\"text-align: right;\">\n",
       "      <th></th>\n",
       "      <th>scheduled</th>\n",
       "      <th>expected</th>\n",
       "      <th>deviations_count</th>\n",
       "      <th>deviations_importance_max</th>\n",
       "      <th>d30m_state_issue_count</th>\n",
       "      <th>d30m_deviations_count_mean</th>\n",
       "      <th>d30m_deviations_importance_mean</th>\n",
       "      <th>d30m_late_count</th>\n",
       "      <th>d1h_state_issue_count</th>\n",
       "      <th>d1h_deviations_count_mean</th>\n",
       "      <th>d1h_deviations_importance_mean</th>\n",
       "      <th>d1h_late_count</th>\n",
       "      <th>d6h_state_issue_count</th>\n",
       "      <th>d6h_deviations_count_mean</th>\n",
       "      <th>d6h_deviations_importance_mean</th>\n",
       "      <th>d6h_late_count</th>\n",
       "    </tr>\n",
       "  </thead>\n",
       "  <tbody>\n",
       "    <tr>\n",
       "      <th>2</th>\n",
       "      <td>1726628010000</td>\n",
       "      <td>1726628023000</td>\n",
       "      <td>0.0</td>\n",
       "      <td>0.0</td>\n",
       "      <td>0.0</td>\n",
       "      <td>0.0</td>\n",
       "      <td>0.0</td>\n",
       "      <td>0.0</td>\n",
       "      <td>0.0</td>\n",
       "      <td>0.0</td>\n",
       "      <td>0.0</td>\n",
       "      <td>0.0</td>\n",
       "      <td>0.0</td>\n",
       "      <td>0.0</td>\n",
       "      <td>0.0</td>\n",
       "      <td>0.0</td>\n",
       "    </tr>\n",
       "    <tr>\n",
       "      <th>5</th>\n",
       "      <td>1726640640000</td>\n",
       "      <td>1726640701000</td>\n",
       "      <td>0.0</td>\n",
       "      <td>0.0</td>\n",
       "      <td>0.0</td>\n",
       "      <td>0.0</td>\n",
       "      <td>0.0</td>\n",
       "      <td>1.0</td>\n",
       "      <td>0.0</td>\n",
       "      <td>0.0</td>\n",
       "      <td>0.0</td>\n",
       "      <td>2.0</td>\n",
       "      <td>0.0</td>\n",
       "      <td>0.0</td>\n",
       "      <td>0.0</td>\n",
       "      <td>4.0</td>\n",
       "    </tr>\n",
       "    <tr>\n",
       "      <th>6</th>\n",
       "      <td>1726639500000</td>\n",
       "      <td>1726639555000</td>\n",
       "      <td>0.0</td>\n",
       "      <td>0.0</td>\n",
       "      <td>0.0</td>\n",
       "      <td>0.0</td>\n",
       "      <td>0.0</td>\n",
       "      <td>0.0</td>\n",
       "      <td>0.0</td>\n",
       "      <td>0.0</td>\n",
       "      <td>0.0</td>\n",
       "      <td>0.0</td>\n",
       "      <td>0.0</td>\n",
       "      <td>0.0</td>\n",
       "      <td>0.0</td>\n",
       "      <td>0.0</td>\n",
       "    </tr>\n",
       "    <tr>\n",
       "      <th>7</th>\n",
       "      <td>1726640940000</td>\n",
       "      <td>1726641037000</td>\n",
       "      <td>0.0</td>\n",
       "      <td>0.0</td>\n",
       "      <td>0.0</td>\n",
       "      <td>0.0</td>\n",
       "      <td>0.0</td>\n",
       "      <td>0.0</td>\n",
       "      <td>0.0</td>\n",
       "      <td>0.0</td>\n",
       "      <td>0.0</td>\n",
       "      <td>0.0</td>\n",
       "      <td>0.0</td>\n",
       "      <td>0.0</td>\n",
       "      <td>0.0</td>\n",
       "      <td>0.0</td>\n",
       "    </tr>\n",
       "    <tr>\n",
       "      <th>9</th>\n",
       "      <td>1726639832000</td>\n",
       "      <td>1726639901000</td>\n",
       "      <td>0.0</td>\n",
       "      <td>0.0</td>\n",
       "      <td>0.0</td>\n",
       "      <td>0.0</td>\n",
       "      <td>0.0</td>\n",
       "      <td>0.0</td>\n",
       "      <td>0.0</td>\n",
       "      <td>0.0</td>\n",
       "      <td>0.0</td>\n",
       "      <td>0.0</td>\n",
       "      <td>0.0</td>\n",
       "      <td>0.0</td>\n",
       "      <td>0.0</td>\n",
       "      <td>0.0</td>\n",
       "    </tr>\n",
       "  </tbody>\n",
       "</table>\n",
       "</div>"
      ],
      "text/plain": [
       "       scheduled       expected  deviations_count  deviations_importance_max  \\\n",
       "2  1726628010000  1726628023000               0.0                        0.0   \n",
       "5  1726640640000  1726640701000               0.0                        0.0   \n",
       "6  1726639500000  1726639555000               0.0                        0.0   \n",
       "7  1726640940000  1726641037000               0.0                        0.0   \n",
       "9  1726639832000  1726639901000               0.0                        0.0   \n",
       "\n",
       "   d30m_state_issue_count  d30m_deviations_count_mean  \\\n",
       "2                     0.0                         0.0   \n",
       "5                     0.0                         0.0   \n",
       "6                     0.0                         0.0   \n",
       "7                     0.0                         0.0   \n",
       "9                     0.0                         0.0   \n",
       "\n",
       "   d30m_deviations_importance_mean  d30m_late_count  d1h_state_issue_count  \\\n",
       "2                              0.0              0.0                    0.0   \n",
       "5                              0.0              1.0                    0.0   \n",
       "6                              0.0              0.0                    0.0   \n",
       "7                              0.0              0.0                    0.0   \n",
       "9                              0.0              0.0                    0.0   \n",
       "\n",
       "   d1h_deviations_count_mean  d1h_deviations_importance_mean  d1h_late_count  \\\n",
       "2                        0.0                             0.0             0.0   \n",
       "5                        0.0                             0.0             2.0   \n",
       "6                        0.0                             0.0             0.0   \n",
       "7                        0.0                             0.0             0.0   \n",
       "9                        0.0                             0.0             0.0   \n",
       "\n",
       "   d6h_state_issue_count  d6h_deviations_count_mean  \\\n",
       "2                    0.0                        0.0   \n",
       "5                    0.0                        0.0   \n",
       "6                    0.0                        0.0   \n",
       "7                    0.0                        0.0   \n",
       "9                    0.0                        0.0   \n",
       "\n",
       "   d6h_deviations_importance_mean  d6h_late_count  \n",
       "2                             0.0             0.0  \n",
       "5                             0.0             4.0  \n",
       "6                             0.0             0.0  \n",
       "7                             0.0             0.0  \n",
       "9                             0.0             0.0  "
      ]
     },
     "execution_count": 11,
     "metadata": {},
     "output_type": "execute_result"
    }
   ],
   "source": [
    "X_train.head(5)"
   ]
  },
  {
   "cell_type": "code",
   "execution_count": 12,
   "id": "946829fb",
   "metadata": {},
   "outputs": [
    {
     "data": {
      "text/html": [
       "<style>#sk-container-id-1 {color: black;background-color: white;}#sk-container-id-1 pre{padding: 0;}#sk-container-id-1 div.sk-toggleable {background-color: white;}#sk-container-id-1 label.sk-toggleable__label {cursor: pointer;display: block;width: 100%;margin-bottom: 0;padding: 0.3em;box-sizing: border-box;text-align: center;}#sk-container-id-1 label.sk-toggleable__label-arrow:before {content: \"▸\";float: left;margin-right: 0.25em;color: #696969;}#sk-container-id-1 label.sk-toggleable__label-arrow:hover:before {color: black;}#sk-container-id-1 div.sk-estimator:hover label.sk-toggleable__label-arrow:before {color: black;}#sk-container-id-1 div.sk-toggleable__content {max-height: 0;max-width: 0;overflow: hidden;text-align: left;background-color: #f0f8ff;}#sk-container-id-1 div.sk-toggleable__content pre {margin: 0.2em;color: black;border-radius: 0.25em;background-color: #f0f8ff;}#sk-container-id-1 input.sk-toggleable__control:checked~div.sk-toggleable__content {max-height: 200px;max-width: 100%;overflow: auto;}#sk-container-id-1 input.sk-toggleable__control:checked~label.sk-toggleable__label-arrow:before {content: \"▾\";}#sk-container-id-1 div.sk-estimator input.sk-toggleable__control:checked~label.sk-toggleable__label {background-color: #d4ebff;}#sk-container-id-1 div.sk-label input.sk-toggleable__control:checked~label.sk-toggleable__label {background-color: #d4ebff;}#sk-container-id-1 input.sk-hidden--visually {border: 0;clip: rect(1px 1px 1px 1px);clip: rect(1px, 1px, 1px, 1px);height: 1px;margin: -1px;overflow: hidden;padding: 0;position: absolute;width: 1px;}#sk-container-id-1 div.sk-estimator {font-family: monospace;background-color: #f0f8ff;border: 1px dotted black;border-radius: 0.25em;box-sizing: border-box;margin-bottom: 0.5em;}#sk-container-id-1 div.sk-estimator:hover {background-color: #d4ebff;}#sk-container-id-1 div.sk-parallel-item::after {content: \"\";width: 100%;border-bottom: 1px solid gray;flex-grow: 1;}#sk-container-id-1 div.sk-label:hover label.sk-toggleable__label {background-color: #d4ebff;}#sk-container-id-1 div.sk-serial::before {content: \"\";position: absolute;border-left: 1px solid gray;box-sizing: border-box;top: 0;bottom: 0;left: 50%;z-index: 0;}#sk-container-id-1 div.sk-serial {display: flex;flex-direction: column;align-items: center;background-color: white;padding-right: 0.2em;padding-left: 0.2em;position: relative;}#sk-container-id-1 div.sk-item {position: relative;z-index: 1;}#sk-container-id-1 div.sk-parallel {display: flex;align-items: stretch;justify-content: center;background-color: white;position: relative;}#sk-container-id-1 div.sk-item::before, #sk-container-id-1 div.sk-parallel-item::before {content: \"\";position: absolute;border-left: 1px solid gray;box-sizing: border-box;top: 0;bottom: 0;left: 50%;z-index: -1;}#sk-container-id-1 div.sk-parallel-item {display: flex;flex-direction: column;z-index: 1;position: relative;background-color: white;}#sk-container-id-1 div.sk-parallel-item:first-child::after {align-self: flex-end;width: 50%;}#sk-container-id-1 div.sk-parallel-item:last-child::after {align-self: flex-start;width: 50%;}#sk-container-id-1 div.sk-parallel-item:only-child::after {width: 0;}#sk-container-id-1 div.sk-dashed-wrapped {border: 1px dashed gray;margin: 0 0.4em 0.5em 0.4em;box-sizing: border-box;padding-bottom: 0.4em;background-color: white;}#sk-container-id-1 div.sk-label label {font-family: monospace;font-weight: bold;display: inline-block;line-height: 1.2em;}#sk-container-id-1 div.sk-label-container {text-align: center;}#sk-container-id-1 div.sk-container {/* jupyter's `normalize.less` sets `[hidden] { display: none; }` but bootstrap.min.css set `[hidden] { display: none !important; }` so we also need the `!important` here to be able to override the default hidden behavior on the sphinx rendered scikit-learn.org. See: https://github.com/scikit-learn/scikit-learn/issues/21755 */display: inline-block !important;position: relative;}#sk-container-id-1 div.sk-text-repr-fallback {display: none;}</style><div id=\"sk-container-id-1\" class=\"sk-top-container\"><div class=\"sk-text-repr-fallback\"><pre>XGBRegressor(base_score=None, booster=None, callbacks=None,\n",
       "             colsample_bylevel=None, colsample_bynode=None,\n",
       "             colsample_bytree=None, device=None, early_stopping_rounds=None,\n",
       "             enable_categorical=True, eval_metric=None, feature_types=None,\n",
       "             gamma=None, grow_policy=None, importance_type=None,\n",
       "             interaction_constraints=None, learning_rate=None, max_bin=None,\n",
       "             max_cat_threshold=None, max_cat_to_onehot=None,\n",
       "             max_delta_step=None, max_depth=None, max_leaves=None,\n",
       "             min_child_weight=None, missing=nan, monotone_constraints=None,\n",
       "             multi_strategy=None, n_estimators=None, n_jobs=None,\n",
       "             num_parallel_tree=None, random_state=None, ...)</pre><b>In a Jupyter environment, please rerun this cell to show the HTML representation or trust the notebook. <br />On GitHub, the HTML representation is unable to render, please try loading this page with nbviewer.org.</b></div><div class=\"sk-container\" hidden><div class=\"sk-item\"><div class=\"sk-estimator sk-toggleable\"><input class=\"sk-toggleable__control sk-hidden--visually\" id=\"sk-estimator-id-1\" type=\"checkbox\" checked><label for=\"sk-estimator-id-1\" class=\"sk-toggleable__label sk-toggleable__label-arrow\">XGBRegressor</label><div class=\"sk-toggleable__content\"><pre>XGBRegressor(base_score=None, booster=None, callbacks=None,\n",
       "             colsample_bylevel=None, colsample_bynode=None,\n",
       "             colsample_bytree=None, device=None, early_stopping_rounds=None,\n",
       "             enable_categorical=True, eval_metric=None, feature_types=None,\n",
       "             gamma=None, grow_policy=None, importance_type=None,\n",
       "             interaction_constraints=None, learning_rate=None, max_bin=None,\n",
       "             max_cat_threshold=None, max_cat_to_onehot=None,\n",
       "             max_delta_step=None, max_depth=None, max_leaves=None,\n",
       "             min_child_weight=None, missing=nan, monotone_constraints=None,\n",
       "             multi_strategy=None, n_estimators=None, n_jobs=None,\n",
       "             num_parallel_tree=None, random_state=None, ...)</pre></div></div></div></div></div>"
      ],
      "text/plain": [
       "XGBRegressor(base_score=None, booster=None, callbacks=None,\n",
       "             colsample_bylevel=None, colsample_bynode=None,\n",
       "             colsample_bytree=None, device=None, early_stopping_rounds=None,\n",
       "             enable_categorical=True, eval_metric=None, feature_types=None,\n",
       "             gamma=None, grow_policy=None, importance_type=None,\n",
       "             interaction_constraints=None, learning_rate=None, max_bin=None,\n",
       "             max_cat_threshold=None, max_cat_to_onehot=None,\n",
       "             max_delta_step=None, max_depth=None, max_leaves=None,\n",
       "             min_child_weight=None, missing=nan, monotone_constraints=None,\n",
       "             multi_strategy=None, n_estimators=None, n_jobs=None,\n",
       "             num_parallel_tree=None, random_state=None, ...)"
      ]
     },
     "execution_count": 12,
     "metadata": {},
     "output_type": "execute_result"
    }
   ],
   "source": [
    "# Create an instance of the XGBoost Regressor\n",
    "xgb_regressor = XGBRegressor(enable_categorical=True)\n",
    "\n",
    "# Fit the XGBoost Regressor to the training data\n",
    "xgb_regressor.fit(X_train, y_train)"
   ]
  },
  {
   "cell_type": "code",
   "execution_count": 13,
   "id": "26626024",
   "metadata": {},
   "outputs": [
    {
     "name": "stdout",
     "output_type": "stream",
     "text": [
      "⛳️ MSE: 0.23076019\n",
      "⛳️ RMSE: 0.48037505\n",
      "⛳️ R^2: -0.2999490859867382\n"
     ]
    }
   ],
   "source": [
    "# Predict target values on the test set\n",
    "y_pred = xgb_regressor.predict(X_test)\n",
    "\n",
    "# Calculate Mean Squared Error (MSE) using sklearn\n",
    "mse = mean_squared_error(y_test, y_pred)\n",
    "print(\"⛳️ MSE:\", mse)\n",
    "\n",
    "# Calculate Root Mean Squared Error (RMSE) using sklearn\n",
    "rmse = mean_squared_error(y_test, y_pred, squared=False)\n",
    "print(\"⛳️ RMSE:\", rmse)\n",
    "\n",
    "# Calculate R squared using sklearn\n",
    "r2 = r2_score(y_test, y_pred)\n",
    "print(\"⛳️ R^2:\", r2)"
   ]
  },
  {
   "cell_type": "code",
   "execution_count": 17,
   "id": "c78fd946",
   "metadata": {
    "tags": []
   },
   "outputs": [],
   "source": [
    "# Create a DataFrame 'df_' to store true and predicted values for evaluation\n",
    "df_pred = pd.DataFrame({\n",
    "    \"y_true\": y_test[\"late\"],\n",
    "    \"y_pred\": y_pred,\n",
    "})"
   ]
  },
  {
   "cell_type": "code",
   "execution_count": 18,
   "id": "1bd0fbcc",
   "metadata": {
    "tags": []
   },
   "outputs": [
    {
     "data": {
      "image/png": "[encoded data removed]",
      "text/plain": [
       "<Figure size 640x480 with 1 Axes>"
      ]
     },
     "metadata": {},
     "output_type": "display_data"
    }
   ],
   "source": [
    "# Create a residual plot using Seaborn\n",
    "residplot = sns.residplot(data=df_pred, x=\"y_true\", y=\"y_pred\", color='orange')\n",
    "\n",
    "# Add title, xlabel, and ylabel to the residual plot\n",
    "plt.title('Model Residuals')\n",
    "plt.xlabel('Observation #')\n",
    "plt.ylabel('Error')\n",
    "\n",
    "# Display the residual plot\n",
    "plt.show()\n",
    "\n",
    "# Get the figure from the residual plot and displaying it separately\n",
    "fig = residplot.get_figure()\n",
    "fig.show()"
   ]
  },
  {
   "cell_type": "code",
   "execution_count": 19,
   "id": "05be38cd",
   "metadata": {
    "tags": []
   },
   "outputs": [
    {
     "data": {
      "image/png": "[encoded data removed]",
      "text/plain": [
       "<Figure size 640x480 with 1 Axes>"
      ]
     },
     "metadata": {},
     "output_type": "display_data"
    }
   ],
   "source": [
    "# Plot feature importances using the plot_importance function from XGBoost\n",
    "plot_importance(\n",
    "    xgb_regressor, \n",
    "    max_num_features=25,  # Display the top 25 most important features\n",
    ")\n",
    "plt.show()"
   ]
  },
  {
   "cell_type": "markdown",
   "id": "192b1d17",
   "metadata": {
    "tags": []
   },
   "source": [
    "## Save model into the Model Registry"
   ]
  },
  {
   "cell_type": "code",
   "execution_count": 3,
   "id": "6ac67071",
   "metadata": {
    "tags": []
   },
   "outputs": [],
   "source": [
    "# Retrieve the model registry\n",
    "mr = project.get_model_registry()"
   ]
  },
  {
   "cell_type": "markdown",
   "id": "e349490d",
   "metadata": {},
   "source": [
    "### <span style=\"color:#ff5f27;\">⚙️ Model Schema</span>"
   ]
  },
  {
   "cell_type": "markdown",
   "id": "0596bac7",
   "metadata": {},
   "source": [
    "The model needs to be set up with a [Model Schema](https://docs.hopsworks.ai/machine-learning-api/latest/generated/model_schema/), which describes the inputs and outputs for a model.\n",
    "\n",
    "A Model Schema can be automatically generated from training examples, as shown below."
   ]
  },
  {
   "cell_type": "code",
   "execution_count": 21,
   "id": "9acdcb61",
   "metadata": {
    "scrolled": true
   },
   "outputs": [],
   "source": [
    "from hsml.schema import Schema\n",
    "from hsml.model_schema import ModelSchema\n",
    "\n",
    "# Create input and output schemas using the 'Schema' class for features (X) and target variable (y)\n",
    "input_schema = Schema(X_train)\n",
    "output_schema = Schema(y_train)\n",
    "\n",
    "# Create a model schema using 'ModelSchema' with the input and output schemas\n",
    "model_schema = ModelSchema(input_schema=input_schema, output_schema=output_schema)\n",
    "\n",
    "# Convert the model schema to a dictionary representation\n",
    "schema_dict = model_schema.to_dict()"
   ]
  },
  {
   "cell_type": "code",
   "execution_count": 22,
   "id": "6c128e1d",
   "metadata": {
    "scrolled": true
   },
   "outputs": [],
   "source": [
    "# Create a directory for the model artifacts if it doesn't exist\n",
    "model_dir = \"late_departure_model\"\n",
    "if os.path.isdir(model_dir) == False:\n",
    "    os.mkdir(model_dir)\n",
    "\n",
    "# Save the label encoder and XGBoost regressor as joblib files in the model directory\n",
    "joblib.dump(xgb_regressor, model_dir + '/xgboost_regressor.pkl')\n",
    "\n",
    "# Save the residual plot figure as an image in the model directory\n",
    "fig.savefig(model_dir + \"/residplot.png\")"
   ]
  },
  {
   "cell_type": "code",
   "execution_count": 23,
   "id": "bfbc44c5",
   "metadata": {},
   "outputs": [
    {
     "data": {
      "application/vnd.jupyter.widget-view+json": {
       "model_id": "13acf89255e0415ba12ddb1a78074c99",
       "version_major": 2,
       "version_minor": 0
      },
      "text/plain": [
       "  0%|          | 0/6 [00:00<?, ?it/s]"
      ]
     },
     "metadata": {},
     "output_type": "display_data"
    },
    {
     "data": {
      "application/vnd.jupyter.widget-view+json": {
       "model_id": "693ec1fb292047318d172d6afc69d93d",
       "version_major": 2,
       "version_minor": 0
      },
      "text/plain": [
       "Uploading: 0.000%|          | 0/191 elapsed<00:00 remaining<?"
      ]
     },
     "metadata": {},
     "output_type": "display_data"
    },
    {
     "data": {
      "application/vnd.jupyter.widget-view+json": {
       "model_id": "44f2b9c802ca4f7aa6fd8a0af739428b",
       "version_major": 2,
       "version_minor": 0
      },
      "text/plain": [
       "Uploading: 0.000%|          | 0/1513 elapsed<00:00 remaining<?"
      ]
     },
     "metadata": {},
     "output_type": "display_data"
    },
    {
     "name": "stdout",
     "output_type": "stream",
     "text": [
      "Model created, explore it at https://hopsworks0.logicalclocks.com/p/119/models/late_departure_model/4\n"
     ]
    },
    {
     "data": {
      "text/plain": [
       "Model(name: 'late_departure_model', version: 4)"
      ]
     },
     "execution_count": 23,
     "metadata": {},
     "output_type": "execute_result"
    }
   ],
   "source": [
    "# Create a Python model in the model registry named 'air_quality_xgboost_model'\n",
    "ld_model = mr.python.create_model(\n",
    "    name=\"late_departure_model\", \n",
    "    metrics={\n",
    "        \"RMSE\": float(rmse),\n",
    "        \"MSE\": float(mse),\n",
    "        \"R squared\": float(r2),\n",
    "    },\n",
    "    model_schema=model_schema,\n",
    "    input_example=X_test.sample().values, \n",
    "    description=\"Late departures predictor\",\n",
    ")\n",
    "\n",
    "# Save the model artifacts to the 'air_quality_model' directory in the model registry\n",
    "ld_model.save(model_dir)"
   ]
  }
 ],
 "metadata": {
  "kernelspec": {
   "display_name": "Python",
   "language": "python",
   "name": "python3"
  },
  "language_info": {
   "codemirror_mode": {
    "name": "ipython",
    "version": 3
   },
   "file_extension": ".py",
   "mimetype": "text/x-python",
   "name": "python",
   "nbconvert_exporter": "python",
   "pygments_lexer": "ipython3",
   "version": "3.10.11"
  }
 },
 "nbformat": 4,
 "nbformat_minor": 5
}
