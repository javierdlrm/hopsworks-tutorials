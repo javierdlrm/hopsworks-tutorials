{
 "cells": [
  {
   "cell_type": "markdown",
   "id": "6e8bad77",
   "metadata": {},
   "source": [
    "# <span style=\"font-width:bold; font-size: 3rem; color:#1EB182;\"><img src=\"images/icon102.png\" width=\"38px\"></img> **Hopsworks Feature Store** </span><span style=\"font-width:bold; font-size: 3rem; color:#333;\">- Part 01: Feature Backfill</span>\n",
    "\n",
    "## 🗒️ This notebook is divided into the following sections:\n",
    "1. Connect to the Hopsworks AI Lakehouse.\n",
    "2. Fetch users and sites\n",
    "3. Create feature groups and insert them to the feature store.\n",
    "\n",
    "![tutorial-flow](images/01_featuregroups.png)"
   ]
  },
  {
   "cell_type": "code",
   "execution_count": 2,
   "id": "6e48ef8b",
   "metadata": {},
   "outputs": [
    {
     "name": "stdout",
     "output_type": "stream",
     "text": [
      "2024-09-18 22:17:24,728 INFO: Python Engine initialized.\n",
      "\n",
      "Logged in to project, explore it here https://hopsworks0.logicalclocks.com/p/119\n"
     ]
    }
   ],
   "source": [
    "# connect to Hopsworks\n",
    "\n",
    "import hopsworks\n",
    "\n",
    "project = hopsworks.login()\n",
    "fs = project.get_feature_store()"
   ]
  },
  {
   "cell_type": "code",
   "execution_count": 3,
   "id": "b84d4020",
   "metadata": {},
   "outputs": [],
   "source": [
    "# other imports\n",
    "\n",
    "import pandas as pd"
   ]
  },
  {
   "cell_type": "markdown",
   "id": "98a71cc8",
   "metadata": {},
   "source": [
    "#### Fetch users"
   ]
  },
  {
   "cell_type": "code",
   "execution_count": 20,
   "id": "d90a39f8",
   "metadata": {},
   "outputs": [],
   "source": [
    "users_df = pd.read_csv(\"users.csv\")"
   ]
  },
  {
   "cell_type": "code",
   "execution_count": 22,
   "id": "c56bd89a",
   "metadata": {},
   "outputs": [],
   "source": [
    "users_df.reset_index(drop=True, inplace=True)\n",
    "users_df = users_df.astype(str)\n",
    "users_df[\"uid\"] = users_df[\"uid\"].astype(int)"
   ]
  },
  {
   "cell_type": "markdown",
   "id": "59097133",
   "metadata": {},
   "source": [
    "#### Fetch sites"
   ]
  },
  {
   "cell_type": "code",
   "execution_count": null,
   "id": "b82c625c",
   "metadata": {},
   "outputs": [],
   "source": [
    "sites_df = pd.read_json(\"https://transport.integration.sl.se/v1/sites\")"
   ]
  },
  {
   "cell_type": "code",
   "execution_count": null,
   "id": "9d2e7885",
   "metadata": {},
   "outputs": [],
   "source": [
    "# Feature engineering:\n",
    "# - Drop unnecessary columns\n",
    "# - Clean up null values\n",
    "# - Fill missing values in relevant columns\n",
    "\n",
    "sites_df.reset_index(drop=True, inplace=True)\n",
    "sites_df[\"valid_from\"] = sites_df['valid'].apply(lambda x: x['from'])\n",
    "sites_df.drop(labels=[\"gid\", \"abbreviation\", \"alias\", \"valid\"], axis=1, inplace=True)\n",
    "sites_df.dropna(subset=['lat'], inplace=True)\n",
    "sites_df.dropna(subset=['lon'], inplace=True)\n",
    "sites_df.fillna({'note': 'n/d'}, inplace=True)"
   ]
  },
  {
   "cell_type": "markdown",
   "id": "14df6c9c",
   "metadata": {},
   "source": [
    "#### Create Feature Groups and write features into Hopsworks"
   ]
  },
  {
   "cell_type": "code",
   "execution_count": 23,
   "id": "dd0b77c7",
   "metadata": {},
   "outputs": [
    {
     "name": "stderr",
     "output_type": "stream",
     "text": [
      "Uploading Dataframe: 100.00% |██████████| Rows 5/5 | Elapsed Time: 00:00 | Remaining Time: 00:00\n"
     ]
    },
    {
     "name": "stdout",
     "output_type": "stream",
     "text": [
      "Launching job: users_1_offline_fg_materialization\n",
      "Job started successfully, you can follow the progress at \n",
      "https://hopsworks0.logicalclocks.com/p/119/jobs/named/users_1_offline_fg_materialization/executions\n"
     ]
    },
    {
     "data": {
      "text/plain": [
       "(Job('users_1_offline_fg_materialization', 'SPARK'), None)"
      ]
     },
     "execution_count": 23,
     "metadata": {},
     "output_type": "execute_result"
    }
   ],
   "source": [
    "users_fg = fs.get_or_create_feature_group(\n",
    "    name=\"users\",\n",
    "    description=\"Users information including home location, office location and whether they are time optimists or not.\",\n",
    "    version=1,\n",
    "    primary_key=[\"uid\"],\n",
    "    online_enabled=True\n",
    ")\n",
    "\n",
    "users_fg.insert(users_df)"
   ]
  },
  {
   "cell_type": "code",
   "execution_count": 6,
   "id": "05e15cc7",
   "metadata": {},
   "outputs": [
    {
     "name": "stdout",
     "output_type": "stream",
     "text": [
      "Feature Group created successfully, explore it at \n",
      "https://hopsworks0.logicalclocks.com/p/119/fs/67/fg/14\n"
     ]
    },
    {
     "name": "stderr",
     "output_type": "stream",
     "text": [
      "Uploading Dataframe: 100.00% |██████████| Rows 6470/6470 | Elapsed Time: 00:00 | Remaining Time: 00:00\n"
     ]
    },
    {
     "name": "stdout",
     "output_type": "stream",
     "text": [
      "Launching job: sites_1_offline_fg_materialization\n",
      "Job started successfully, you can follow the progress at \n",
      "https://hopsworks0.logicalclocks.com/p/119/jobs/named/sites_1_offline_fg_materialization/executions\n"
     ]
    },
    {
     "data": {
      "text/plain": [
       "(Job('sites_1_offline_fg_materialization', 'SPARK'), None)"
      ]
     },
     "execution_count": 6,
     "metadata": {},
     "output_type": "execute_result"
    }
   ],
   "source": [
    "sites_fg = fs.get_or_create_feature_group(\n",
    "    name=\"sites\",\n",
    "    description=\"Sites information including ID, latitude and longitud.\",\n",
    "    version=1,\n",
    "    primary_key=[\"id\"],\n",
    "    online_enabled=False\n",
    ")\n",
    "sites_fg.save(sites_df)"
   ]
  },
  {
   "cell_type": "code",
   "execution_count": null,
   "id": "42ed9e43",
   "metadata": {},
   "outputs": [],
   "source": [
    "# def convert_site_id(site_id):\n",
    "#     return int(str(site_id)[-5:])\n",
    "\n",
    "# sites_df[sites_df[\"id\"] == convert_site_id(300109192)]"
   ]
  }
 ],
 "metadata": {
  "kernelspec": {
   "display_name": "Python",
   "language": "python",
   "name": "python3"
  },
  "language_info": {
   "codemirror_mode": {
    "name": "ipython",
    "version": 3
   },
   "file_extension": ".py",
   "mimetype": "text/x-python",
   "name": "python",
   "nbconvert_exporter": "python",
   "pygments_lexer": "ipython3",
   "version": "3.10.11"
  }
 },
 "nbformat": 4,
 "nbformat_minor": 5
}
