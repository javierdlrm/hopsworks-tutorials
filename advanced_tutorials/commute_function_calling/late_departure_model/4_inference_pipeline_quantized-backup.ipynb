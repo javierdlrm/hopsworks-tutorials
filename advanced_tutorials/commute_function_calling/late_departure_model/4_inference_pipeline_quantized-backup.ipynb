{
 "cells": [
  {
   "cell_type": "markdown",
   "id": "b43db6d5",
   "metadata": {},
   "source": [
    "# <span style=\"font-width:bold; font-size: 3rem; color:#1EB182;\"><img src=\"images/icon102.png\" width=\"38px\"></img> **Hopsworks Feature Store** </span><span style=\"font-width:bold; font-size: 3rem; color:#333;\">- Part 04: LLM Inference</span>\n",
    "    \n",
    "## 🗒️ This notebook is divided into the following sections:\n",
    "1. Connect to the Hopsworks AI Lakehouse\n",
    "2. Retrieve the feature view and predictor.\n",
    "3. Load the LLM.\n",
    "4. Configure langchain and the context manager\n",
    "5. Ask questions"
   ]
  },
  {
   "cell_type": "code",
   "execution_count": 1,
   "id": "b2e1b5f4",
   "metadata": {},
   "outputs": [],
   "source": [
    "!pip install -r requirements.txt --quiet"
   ]
  },
  {
   "cell_type": "code",
   "execution_count": 2,
   "id": "2c236d74",
   "metadata": {},
   "outputs": [],
   "source": [
    "import joblib\n",
    "\n",
    "from functions.llm_chain import (\n",
    "    load_model, \n",
    "    get_llm_chain, \n",
    "    generate_response,\n",
    ")"
   ]
  },
  {
   "cell_type": "markdown",
   "id": "b443aabc",
   "metadata": {},
   "source": [
    "## Connect to Hopsworks"
   ]
  },
  {
   "cell_type": "code",
   "execution_count": 3,
   "id": "1cfa3c54",
   "metadata": {},
   "outputs": [
    {
     "name": "stdout",
     "output_type": "stream",
     "text": [
      "2024-09-19 07:47:15,165 INFO: Python Engine initialized.\n",
      "\n",
      "Logged in to project, explore it here https://hopsworks0.logicalclocks.com/p/119\n"
     ]
    }
   ],
   "source": [
    "# connect to Hopsworks\n",
    "\n",
    "import hopsworks\n",
    "\n",
    "project = hopsworks.login()\n",
    "\n",
    "fs = project.get_feature_store()"
   ]
  },
  {
   "cell_type": "markdown",
   "id": "9cae8f4e",
   "metadata": {},
   "source": [
    "## Get Departures Feature View and Predictor"
   ]
  },
  {
   "cell_type": "code",
   "execution_count": 4,
   "id": "32e3e3bc",
   "metadata": {},
   "outputs": [],
   "source": [
    "# Retrieve the 'air_quality_fv' feature view\n",
    "feature_view = fs.get_feature_view(\n",
    "    name='departures_agg',\n",
    "    version=1,\n",
    ")\n",
    "\n",
    "# Initialize batch scoring\n",
    "feature_view.init_batch_scoring(1)"
   ]
  },
  {
   "cell_type": "code",
   "execution_count": 5,
   "id": "82df72f1",
   "metadata": {},
   "outputs": [],
   "source": [
    "# batch_data = feature_view.get_batch_data(primary_keys=True)\n",
    "\n",
    "# df = batch_data[batch_data['departure_id'].str.startswith('9295-2024-09-19')][\"departure_id\"].iloc[]"
   ]
  },
  {
   "cell_type": "code",
   "execution_count": 6,
   "id": "4722a0c1",
   "metadata": {},
   "outputs": [],
   "source": [
    "# _id = batch_data[batch_data['departure_id'].str.startswith('9295-2024-09-19')][\"departure_id\"].iloc[-1]\n",
    "# print(_id)"
   ]
  },
  {
   "cell_type": "code",
   "execution_count": 7,
   "id": "28edf5b6",
   "metadata": {},
   "outputs": [],
   "source": [
    "# Retrieve model serving\n",
    "ms = project.get_model_serving()\n",
    "\n",
    "# Retrieve bitcoin predictor\n",
    "model_deployment = ms.get_deployment(\"latedeparturemodel\")"
   ]
  },
  {
   "cell_type": "markdown",
   "id": "bbeb28d5",
   "metadata": {},
   "source": [
    "## ⬇️ LLM Loading"
   ]
  },
  {
   "cell_type": "code",
   "execution_count": 8,
   "id": "50caa69c",
   "metadata": {},
   "outputs": [
    {
     "name": "stdout",
     "output_type": "stream",
     "text": [
      "2024-09-19 07:47:17,685 WARNING: FutureWarning: `resume_download` is deprecated and will be removed in version 1.0.0. Downloads always resume when possible. If you want to force a new download, use `force_download=True`.\n",
      "\n"
     ]
    },
    {
     "name": "stderr",
     "output_type": "stream",
     "text": [
      "Special tokens have been added in the vocabulary, make sure the associated word embeddings are fine-tuned or trained.\n",
      "Special tokens have been added in the vocabulary, make sure the associated word embeddings are fine-tuned or trained.\n"
     ]
    },
    {
     "name": "stdout",
     "output_type": "stream",
     "text": [
      "2024-09-19 07:47:21,706 INFO: We will use 90% of the memory on device 0 for storing the model, and 10% for the buffer to avoid OOM. You can set `max_memory` in to a higher value to use more memory (at your own risk).\n"
     ]
    },
    {
     "data": {
      "application/vnd.jupyter.widget-view+json": {
       "model_id": "eed18be3c5514232bd5edbda32df6583",
       "version_major": 2,
       "version_minor": 0
      },
      "text/plain": [
       "Loading checkpoint shards:   0%|          | 0/2 [00:00<?, ?it/s]"
      ]
     },
     "metadata": {},
     "output_type": "display_data"
    },
    {
     "name": "stdout",
     "output_type": "stream",
     "text": [
      "2024-09-19 07:47:29,629 WARNING: FutureWarning: `resume_download` is deprecated and will be removed in version 1.0.0. Downloads always resume when possible. If you want to force a new download, use `force_download=True`.\n",
      "\n"
     ]
    }
   ],
   "source": [
    "# Load the LLM and its corresponding tokenizer.\n",
    "model_llm, tokenizer = load_model()"
   ]
  },
  {
   "cell_type": "code",
   "execution_count": 9,
   "id": "c02bb330",
   "metadata": {},
   "outputs": [
    {
     "name": "stdout",
     "output_type": "stream",
     "text": [
      "Thu Sep 19 07:47:30 2024       \n",
      "+-----------------------------------------------------------------------------------------+\n",
      "| NVIDIA-SMI 550.90.07              Driver Version: 550.90.07      CUDA Version: 12.4     |\n",
      "|-----------------------------------------+------------------------+----------------------+\n",
      "| GPU  Name                 Persistence-M | Bus-Id          Disp.A | Volatile Uncorr. ECC |\n",
      "| Fan  Temp   Perf          Pwr:Usage/Cap |           Memory-Usage | GPU-Util  Compute M. |\n",
      "|                                         |                        |               MIG M. |\n",
      "|=========================================+========================+======================|\n",
      "|   0  Tesla V100S-PCIE-32GB          On  |   00000000:00:05.0 Off |                    0 |\n",
      "| N/A   43C    P0             40W /  250W |    4960MiB /  32768MiB |      0%      Default |\n",
      "|                                         |                        |                  N/A |\n",
      "+-----------------------------------------+------------------------+----------------------+\n",
      "                                                                                         \n",
      "+-----------------------------------------------------------------------------------------+\n",
      "| Processes:                                                                              |\n",
      "|  GPU   GI   CI        PID   Type   Process name                              GPU Memory |\n",
      "|        ID   ID                                                               Usage      |\n",
      "|=========================================================================================|\n",
      "+-----------------------------------------------------------------------------------------+\n"
     ]
    }
   ],
   "source": [
    "!nvidia-smi"
   ]
  },
  {
   "cell_type": "markdown",
   "id": "55a14a96",
   "metadata": {},
   "source": [
    "## ⛓️ LangChain"
   ]
  },
  {
   "cell_type": "code",
   "execution_count": 10,
   "id": "8abb05c7",
   "metadata": {},
   "outputs": [],
   "source": [
    "# Create and configure a language model chain.\n",
    "llm_chain = get_llm_chain(\n",
    "    tokenizer,\n",
    "    model_llm,\n",
    ")"
   ]
  },
  {
   "cell_type": "markdown",
   "id": "fec67a33",
   "metadata": {},
   "source": [
    "## 🧬 Model Inference\n"
   ]
  },
  {
   "cell_type": "code",
   "execution_count": 11,
   "id": "1f5d6183",
   "metadata": {},
   "outputs": [
    {
     "name": "stdout",
     "output_type": "stream",
     "text": [
      "🗓️ Today's date: Thursday, 2024-09-19\n",
      "📖 \n",
      "===============\n",
      "\n",
      "Hi! I'm a route planner assistant that can help you analyze historical public transport departures in Stockholm. I can provide insights on the frequency and number of late departures, helping you make informed decisions about your travel plans.\n"
     ]
    }
   ],
   "source": [
    "QUESTION = \"Hi! who are you?\"\n",
    "\n",
    "response = generate_response(\n",
    "    QUESTION,\n",
    "    feature_view,\n",
    "    model_deployment,\n",
    "    model_llm,\n",
    "    tokenizer,\n",
    "    llm_chain,\n",
    "    verbose=True,\n",
    ")\n",
    "\n",
    "print(response)"
   ]
  },
  {
   "cell_type": "code",
   "execution_count": 12,
   "id": "cc29581d",
   "metadata": {},
   "outputs": [
    {
     "name": "stdout",
     "output_type": "stream",
     "text": [
      "Finished: Reading data from Hopsworks, using Hopsworks Feature Query Service (0.75s) \n",
      "Scheduled time: 2024-09-19\n",
      "Departure key: 9295-2024-09-19T05:14:45+02:00\n",
      "🗓️ Today's date: Thursday, 2024-09-19\n",
      "📖 {'lateness_probability': 0.00020051002502441406, 'scheduled_time': '2024-09-19'}\n",
      "===============\n",
      "\n",
      "Based on historical data, late departures are quite rare today. However, it's still a good idea to leave a bit earlier to account for any unexpected delays.\n"
     ]
    }
   ],
   "source": [
    "QUESTION = \"Are there expected late departures today?\"\n",
    "\n",
    "response = generate_response(\n",
    "    QUESTION,\n",
    "    feature_view,\n",
    "    model_deployment,\n",
    "    model_llm,\n",
    "    tokenizer,\n",
    "    llm_chain,\n",
    "    verbose=True,\n",
    ")\n",
    "\n",
    "print(response)"
   ]
  },
  {
   "cell_type": "code",
   "execution_count": 13,
   "id": "3a08cf84",
   "metadata": {},
   "outputs": [
    {
     "name": "stdout",
     "output_type": "stream",
     "text": [
      "Finished: Reading data from Hopsworks, using Hopsworks Feature Query Service (0.71s) \n",
      "🗓️ Today's date: Thursday, 2024-09-19\n",
      "📖 Departures information between 2024-09-18 and 2024-09-18:\n",
      "Date: 2024-09-18 00:13:00+00:00; Expected: 2024-09-18 00:15:09+00:00; Number of issues: 0.0; Number of late departures: 0.0; Number of deviations: 0.0; Deviations severity: 0.0;\n",
      "Date: 2024-09-18 00:13:45+00:00; Expected: 2024-09-18 01:38:28+00:00; Number of issues: 0.0; Number of late departures: 0.0; Number of deviations: 0.0; Deviations severity: 0.0;\n",
      "Date: 2024-09-18 00:53:52+00:00; Expected: 2024-09-18 02:18:18+00:00; Number of issues: 9.0; Number of late departures: 0.0; Number of deviations: 0.0; Deviations severity: 0.0;\n",
      "Date: 2024-09-18 02:01:00+00:00; Expected: 2024-09-18 02:08:42+00:00; Number of issues: 5.0; Number of late departures: 0.0; Number of deviations: 1.0; Deviations severity: 7.0;\n",
      "Date: 2024-09-18 02:16:00+00:00; Expected: 2024-09-18 02:16:00+00:00; Number of issues: 0.0; Number of late departures: 0.0; Number of deviations: 0.0; Deviations severity: 0.0;\n",
      "Date: 2024-09-18 02:19:00+00:00; Expected: 2024-09-18 02:18:07+00:00; Number of issues: 0.0; Number of late departures: 0.0; Number of deviations: 0.0; Deviations severity: 0.0;\n",
      "Date: 2024-09-18 02:31:00+00:00; Expected: 2024-09-18 02:31:00+00:00; Number of issues: 0.0; Number of late departures: 0.0; Number of deviations: 0.0; Deviations severity: 0.0;\n",
      "Date: 2024-09-18 02:46:00+00:00; Expected: 2024-09-18 02:46:58+00:00; Number of issues: 0.0; Number of late departures: 0.0; Number of deviations: 0.0; Deviations severity: 0.0;\n",
      "Date: 2024-09-18 02:48:00+00:00; Expected: 2024-09-18 02:48:00+00:00; Number of issues: 0.0; Number of late departures: 0.0; Number of deviations: 0.0; Deviations severity: 0.0;\n",
      "Date: 2024-09-18 02:53:30+00:00; Expected: 2024-09-18 02:53:43+00:00; Number of issues: 0.0; Number of late departures: 0.0; Number of deviations: 0.0; Deviations severity: 0.0;\n",
      "Date: 2024-09-18 02:59:45+00:00; Expected: 2024-09-18 02:59:52+00:00; Number of issues: 18.0; Number of late departures: 0.0; Number of deviations: 0.0; Deviations severity: 0.0;\n",
      "Date: 2024-09-18 03:00:30+00:00; Expected: 2024-09-18 03:00:30+00:00; Number of issues: 5.0; Number of late departures: 0.0; Number of deviations: 1.0; Deviations severity: 7.0;\n",
      "Date: 2024-09-18 03:01:00+00:00; Expected: 2024-09-18 03:03:41+00:00; Number of issues: 0.0; Number of late departures: 0.0; Number of deviations: 0.0; Deviations severity: 0.0;\n",
      "Date: 2024-09-18 06:05:00+00:00; Expected: 2024-09-18 06:05:55+00:00; Number of issues: 0.0; Number of late departures: 0.0; Number of deviations: 0.0; Deviations severity: 0.0;\n",
      "Date: 2024-09-18 06:06:00+00:00; Expected: 2024-09-18 06:10:58+00:00; Number of issues: 0.0; Number of late departures: 0.0; Number of deviations: 0.0; Deviations severity: 0.0;\n",
      "Date: 2024-09-18 06:10:32+00:00; Expected: 2024-09-18 06:11:41+00:00; Number of issues: 0.0; Number of late departures: 0.0; Number of deviations: 0.0; Deviations severity: 0.0;\n",
      "Date: 2024-09-18 06:12:00+00:00; Expected: 2024-09-18 06:12:36+00:00; Number of issues: 0.0; Number of late departures: 0.0; Number of deviations: 0.0; Deviations severity: 0.0;\n",
      "Date: 2024-09-18 06:13:00+00:00; Expected: 2024-09-18 06:13:12+00:00; Number of issues: 0.0; Number of late departures: 0.0; Number of deviations: 0.0; Deviations severity: 0.0;\n",
      "Date: 2024-09-18 06:14:00+00:00; Expected: 2024-09-18 06:16:13+00:00; Number of issues: 0.0; Number of late departures: 0.0; Number of deviations: 0.0; Deviations severity: 0.0;\n",
      "Date: 2024-09-18 06:17:00+00:00; Expected: 2024-09-18 06:18:27+00:00; Number of issues: 0.0; Number of late departures: 0.0; Number of deviations: 0.0; Deviations severity: 0.0;\n",
      "Date: 2024-09-18 06:19:00+00:00; Expected: 2024-09-18 06:20:53+00:00; Number of issues: 0.0; Number of late departures: 3.0; Number of deviations: 0.0; Deviations severity: 0.0;\n",
      "Date: 2024-09-18 06:20:00+00:00; Expected: 2024-09-18 06:23:03+00:00; Number of issues: 0.0; Number of late departures: 4.0; Number of deviations: 0.0; Deviations severity: 0.0;\n",
      "Date: 2024-09-18 06:24:00+00:00; Expected: 2024-09-18 06:25:01+00:00; Number of issues: 0.0; Number of late departures: 4.0; Number of deviations: 0.0; Deviations severity: 0.0;\n",
      "Date: 2024-09-18 06:26:00+00:00; Expected: 2024-09-18 06:27:26+00:00; Number of issues: 0.0; Number of late departures: 0.0; Number of deviations: 0.0; Deviations severity: 0.0;\n",
      "Date: 2024-09-18 06:28:30+00:00; Expected: 2024-09-18 06:28:59+00:00; Number of issues: 0.0; Number of late departures: 0.0; Number of deviations: 0.0; Deviations severity: 0.0;\n",
      "Date: 2024-09-18 06:29:00+00:00; Expected: 2024-09-18 06:30:37+00:00; Number of issues: 0.0; Number of late departures: 0.0; Number of deviations: 0.0; Deviations severity: 0.0;\n",
      "Date: 2024-09-18 06:33:30+00:00; Expected: 2024-09-18 06:34:49+00:00; Number of issues: 0.0; Number of late departures: 0.0; Number of deviations: 0.0; Deviations severity: 0.0;\n",
      "Date: 2024-09-18 06:34:00+00:00; Expected: 2024-09-18 06:41:53+00:00; Number of issues: 0.0; Number of late departures: 0.0; Number of deviations: 0.0; Deviations severity: 0.0;\n",
      "Date: 2024-09-18 06:43:00+00:00; Expected: 2024-09-18 06:49:59+00:00; Number of issues: 0.0; Number of late departures: 0.0; Number of deviations: 0.0; Deviations severity: 0.0;\n",
      "Date: 2024-09-18 06:49:00+00:00; Expected: 2024-09-18 06:51:46+00:00; Number of issues: 0.0; Number of late departures: 1.0; Number of deviations: 0.0; Deviations severity: 0.0;\n",
      "Date: 2024-09-18 08:46:00+00:00; Expected: 2024-09-18 08:48:13+00:00; Number of issues: 0.0; Number of late departures: 0.0; Number of deviations: 0.0; Deviations severity: 0.0;\n",
      "Date: 2024-09-18 08:50:30+00:00; Expected: 2024-09-18 08:52:03+00:00; Number of issues: 0.0; Number of late departures: 0.0; Number of deviations: 0.0; Deviations severity: 0.0;\n",
      "Date: 2024-09-18 08:52:00+00:00; Expected: 2024-09-18 08:52:52+00:00; Number of issues: 0.0; Number of late departures: 0.0; Number of deviations: 0.0; Deviations severity: 0.0;\n",
      "Date: 2024-09-18 08:53:45+00:00; Expected: 2024-09-18 08:53:52+00:00; Number of issues: 0.0; Number of late departures: 0.0; Number of deviations: 0.0; Deviations severity: 0.0;\n",
      "Date: 2024-09-18 08:54:00+00:00; Expected: 2024-09-18 08:55:41+00:00; Number of issues: 0.0; Number of late departures: 0.0; Number of deviations: 0.0; Deviations severity: 0.0;\n",
      "Date: 2024-09-18 08:56:45+00:00; Expected: 2024-09-18 08:57:12+00:00; Number of issues: 0.0; Number of late departures: 0.0; Number of deviations: 0.0; Deviations severity: 0.0;\n",
      "Date: 2024-09-18 08:57:30+00:00; Expected: 2024-09-18 08:57:48+00:00; Number of issues: 0.0; Number of late departures: 0.0; Number of deviations: 0.0; Deviations severity: 0.0;\n",
      "Date: 2024-09-18 09:00:15+00:00; Expected: 2024-09-18 09:00:15+00:00; Number of issues: 0.0; Number of late departures: 0.0; Number of deviations: 0.0; Deviations severity: 0.0;\n",
      "Date: 2024-09-18 09:00:30+00:00; Expected: 2024-09-18 09:00:40+00:00; Number of issues: 0.0; Number of late departures: 0.0; Number of deviations: 0.0; Deviations severity: 0.0;\n",
      "Date: 2024-09-18 09:01:00+00:00; Expected: 2024-09-18 09:03:45+00:00; Number of issues: 0.0; Number of late departures: 0.0; Number of deviations: 0.0; Deviations severity: 0.0;\n",
      "Date: 2024-09-18 09:04:00+00:00; Expected: 2024-09-18 09:05:16+00:00; Number of issues: 0.0; Number of late departures: 0.0; Number of deviations: 0.0; Deviations severity: 0.0;\n",
      "Date: 2024-09-18 09:06:00+00:00; Expected: 2024-09-18 09:09:52+00:00; Number of issues: 0.0; Number of late departures: 0.0; Number of deviations: 0.0; Deviations severity: 0.0;\n",
      "Date: 2024-09-18 09:10:15+00:00; Expected: 2024-09-18 09:10:24+00:00; Number of issues: 0.0; Number of late departures: 0.0; Number of deviations: 0.0; Deviations severity: 0.0;\n",
      "Date: 2024-09-18 09:11:00+00:00; Expected: 2024-09-18 09:12:20+00:00; Number of issues: 0.0; Number of late departures: 0.0; Number of deviations: 0.0; Deviations severity: 0.0;\n",
      "Date: 2024-09-18 21:49:00+00:00; Expected: 2024-09-18 21:49:01+00:00; Number of issues: 0.0; Number of late departures: 0.0; Number of deviations: 0.0; Deviations severity: 0.0;\n",
      "Date: 2024-09-18 21:50:00+00:00; Expected: 2024-09-18 21:51:39+00:00; Number of issues: 0.0; Number of late departures: 0.0; Number of deviations: 0.0; Deviations severity: 0.0;\n",
      "Date: 2024-09-18 21:53:00+00:00; Expected: 2024-09-18 21:54:21+00:00; Number of issues: 0.0; Number of late departures: 0.0; Number of deviations: 0.0; Deviations severity: 0.0;\n",
      "Date: 2024-09-18 22:00:30+00:00; Expected: 2024-09-18 22:00:48+00:00; Number of issues: 0.0; Number of late departures: 0.0; Number of deviations: 0.0; Deviations severity: 0.0;\n",
      "Date: 2024-09-18 22:04:00+00:00; Expected: 2024-09-18 22:07:57+00:00; Number of issues: 0.0; Number of late departures: 0.0; Number of deviations: 0.0; Deviations severity: 0.0;\n",
      "Date: 2024-09-18 22:07:00+00:00; Expected: 2024-09-18 22:09:06+00:00; Number of issues: 0.0; Number of late departures: 0.0; Number of deviations: 0.0; Deviations severity: 0.0;\n",
      "Date: 2024-09-18 22:14:45+00:00; Expected: 2024-09-18 22:14:59+00:00; Number of issues: 0.0; Number of late departures: 0.0; Number of deviations: 0.0; Deviations severity: 0.0;\n",
      "Date: 2024-09-18 22:18:00+00:00; Expected: 2024-09-18 22:18:37+00:00; Number of issues: 0.0; Number of late departures: 0.0; Number of deviations: 0.0; Deviations severity: 0.0;\n",
      "Date: 2024-09-18 22:19:00+00:00; Expected: 2024-09-18 22:20:19+00:00; Number of issues: 0.0; Number of late departures: 0.0; Number of deviations: 0.0; Deviations severity: 0.0;\n",
      "Date: 2024-09-18 22:22:00+00:00; Expected: 2024-09-18 22:23:02+00:00; Number of issues: 0.0; Number of late departures: 0.0; Number of deviations: 0.0; Deviations severity: 0.0;\n",
      "Date: 2024-09-18 22:23:00+00:00; Expected: 2024-09-18 22:23:22+00:00; Number of issues: 0.0; Number of late departures: 0.0; Number of deviations: 0.0; Deviations severity: 0.0;\n",
      "Date: 2024-09-18 22:30:30+00:00; Expected: 2024-09-18 22:31:48+00:00; Number of issues: 0.0; Number of late departures: 0.0; Number of deviations: 0.0; Deviations severity: 0.0;\n",
      "===============\n",
      "\n",
      "Yes, there were expected late departures yesterday. According to the provided context, there were 3 late departures on 2024-09-18.\n"
     ]
    }
   ],
   "source": [
    "QUESTION = \"Were there expected late departures yesterday?\"\n",
    "\n",
    "response = generate_response(\n",
    "    QUESTION,\n",
    "    feature_view,\n",
    "    model_deployment,\n",
    "    model_llm,\n",
    "    tokenizer,\n",
    "    llm_chain,\n",
    "    verbose=True,\n",
    ")\n",
    "\n",
    "print(response)"
   ]
  },
  {
   "cell_type": "code",
   "execution_count": 14,
   "id": "9408440c",
   "metadata": {},
   "outputs": [
    {
     "name": "stdout",
     "output_type": "stream",
     "text": [
      "Finished: Reading data from Hopsworks, using Hopsworks Feature Query Service (0.87s) \n",
      "🗓️ Today's date: Thursday, 2024-09-19\n",
      "📖 Departures information between 2024-09-10 and 2024-09-19:\n",
      "Date: 2024-09-18 00:13:00+00:00; Expected: 2024-09-18 00:15:09+00:00; Number of issues: 0.0; Number of late departures: 0.0; Number of deviations: 0.0; Deviations severity: 0.0;\n",
      "Date: 2024-09-18 00:13:45+00:00; Expected: 2024-09-18 01:38:28+00:00; Number of issues: 0.0; Number of late departures: 0.0; Number of deviations: 0.0; Deviations severity: 0.0;\n",
      "Date: 2024-09-18 00:53:52+00:00; Expected: 2024-09-18 02:18:18+00:00; Number of issues: 9.0; Number of late departures: 0.0; Number of deviations: 0.0; Deviations severity: 0.0;\n",
      "Date: 2024-09-18 02:01:00+00:00; Expected: 2024-09-18 02:08:42+00:00; Number of issues: 5.0; Number of late departures: 0.0; Number of deviations: 1.0; Deviations severity: 7.0;\n",
      "Date: 2024-09-18 02:16:00+00:00; Expected: 2024-09-18 02:16:00+00:00; Number of issues: 0.0; Number of late departures: 0.0; Number of deviations: 0.0; Deviations severity: 0.0;\n",
      "Date: 2024-09-18 02:19:00+00:00; Expected: 2024-09-18 02:18:07+00:00; Number of issues: 0.0; Number of late departures: 0.0; Number of deviations: 0.0; Deviations severity: 0.0;\n",
      "Date: 2024-09-18 02:31:00+00:00; Expected: 2024-09-18 02:31:00+00:00; Number of issues: 0.0; Number of late departures: 0.0; Number of deviations: 0.0; Deviations severity: 0.0;\n",
      "Date: 2024-09-18 02:46:00+00:00; Expected: 2024-09-18 02:46:58+00:00; Number of issues: 0.0; Number of late departures: 0.0; Number of deviations: 0.0; Deviations severity: 0.0;\n",
      "Date: 2024-09-18 02:48:00+00:00; Expected: 2024-09-18 02:48:00+00:00; Number of issues: 0.0; Number of late departures: 0.0; Number of deviations: 0.0; Deviations severity: 0.0;\n",
      "Date: 2024-09-18 02:53:30+00:00; Expected: 2024-09-18 02:53:43+00:00; Number of issues: 0.0; Number of late departures: 0.0; Number of deviations: 0.0; Deviations severity: 0.0;\n",
      "Date: 2024-09-18 02:59:45+00:00; Expected: 2024-09-18 02:59:52+00:00; Number of issues: 18.0; Number of late departures: 0.0; Number of deviations: 0.0; Deviations severity: 0.0;\n",
      "Date: 2024-09-18 03:00:30+00:00; Expected: 2024-09-18 03:00:30+00:00; Number of issues: 5.0; Number of late departures: 0.0; Number of deviations: 1.0; Deviations severity: 7.0;\n",
      "Date: 2024-09-18 03:01:00+00:00; Expected: 2024-09-18 03:03:41+00:00; Number of issues: 0.0; Number of late departures: 0.0; Number of deviations: 0.0; Deviations severity: 0.0;\n",
      "Date: 2024-09-18 06:05:00+00:00; Expected: 2024-09-18 06:05:55+00:00; Number of issues: 0.0; Number of late departures: 0.0; Number of deviations: 0.0; Deviations severity: 0.0;\n",
      "Date: 2024-09-18 06:06:00+00:00; Expected: 2024-09-18 06:10:58+00:00; Number of issues: 0.0; Number of late departures: 0.0; Number of deviations: 0.0; Deviations severity: 0.0;\n",
      "Date: 2024-09-18 06:10:32+00:00; Expected: 2024-09-18 06:11:41+00:00; Number of issues: 0.0; Number of late departures: 0.0; Number of deviations: 0.0; Deviations severity: 0.0;\n",
      "Date: 2024-09-18 06:12:00+00:00; Expected: 2024-09-18 06:12:36+00:00; Number of issues: 0.0; Number of late departures: 0.0; Number of deviations: 0.0; Deviations severity: 0.0;\n",
      "Date: 2024-09-18 06:13:00+00:00; Expected: 2024-09-18 06:13:12+00:00; Number of issues: 0.0; Number of late departures: 0.0; Number of deviations: 0.0; Deviations severity: 0.0;\n",
      "Date: 2024-09-18 06:14:00+00:00; Expected: 2024-09-18 06:16:13+00:00; Number of issues: 0.0; Number of late departures: 0.0; Number of deviations: 0.0; Deviations severity: 0.0;\n",
      "Date: 2024-09-18 06:17:00+00:00; Expected: 2024-09-18 06:18:27+00:00; Number of issues: 0.0; Number of late departures: 0.0; Number of deviations: 0.0; Deviations severity: 0.0;\n",
      "Date: 2024-09-18 06:19:00+00:00; Expected: 2024-09-18 06:20:53+00:00; Number of issues: 0.0; Number of late departures: 3.0; Number of deviations: 0.0; Deviations severity: 0.0;\n",
      "Date: 2024-09-18 06:20:00+00:00; Expected: 2024-09-18 06:23:03+00:00; Number of issues: 0.0; Number of late departures: 4.0; Number of deviations: 0.0; Deviations severity: 0.0;\n",
      "Date: 2024-09-18 06:24:00+00:00; Expected: 2024-09-18 06:25:01+00:00; Number of issues: 0.0; Number of late departures: 4.0; Number of deviations: 0.0; Deviations severity: 0.0;\n",
      "Date: 2024-09-18 06:26:00+00:00; Expected: 2024-09-18 06:27:26+00:00; Number of issues: 0.0; Number of late departures: 0.0; Number of deviations: 0.0; Deviations severity: 0.0;\n",
      "Date: 2024-09-18 06:28:30+00:00; Expected: 2024-09-18 06:28:59+00:00; Number of issues: 0.0; Number of late departures: 0.0; Number of deviations: 0.0; Deviations severity: 0.0;\n",
      "Date: 2024-09-18 06:29:00+00:00; Expected: 2024-09-18 06:30:37+00:00; Number of issues: 0.0; Number of late departures: 0.0; Number of deviations: 0.0; Deviations severity: 0.0;\n",
      "Date: 2024-09-18 06:33:30+00:00; Expected: 2024-09-18 06:34:49+00:00; Number of issues: 0.0; Number of late departures: 0.0; Number of deviations: 0.0; Deviations severity: 0.0;\n",
      "Date: 2024-09-18 06:34:00+00:00; Expected: 2024-09-18 06:41:53+00:00; Number of issues: 0.0; Number of late departures: 0.0; Number of deviations: 0.0; Deviations severity: 0.0;\n",
      "Date: 2024-09-18 06:43:00+00:00; Expected: 2024-09-18 06:49:59+00:00; Number of issues: 0.0; Number of late departures: 0.0; Number of deviations: 0.0; Deviations severity: 0.0;\n",
      "Date: 2024-09-18 06:49:00+00:00; Expected: 2024-09-18 06:51:46+00:00; Number of issues: 0.0; Number of late departures: 1.0; Number of deviations: 0.0; Deviations severity: 0.0;\n",
      "Date: 2024-09-18 08:46:00+00:00; Expected: 2024-09-18 08:48:13+00:00; Number of issues: 0.0; Number of late departures: 0.0; Number of deviations: 0.0; Deviations severity: 0.0;\n",
      "Date: 2024-09-18 08:50:30+00:00; Expected: 2024-09-18 08:52:03+00:00; Number of issues: 0.0; Number of late departures: 0.0; Number of deviations: 0.0; Deviations severity: 0.0;\n",
      "Date: 2024-09-18 08:52:00+00:00; Expected: 2024-09-18 08:52:52+00:00; Number of issues: 0.0; Number of late departures: 0.0; Number of deviations: 0.0; Deviations severity: 0.0;\n",
      "Date: 2024-09-18 08:53:45+00:00; Expected: 2024-09-18 08:53:52+00:00; Number of issues: 0.0; Number of late departures: 0.0; Number of deviations: 0.0; Deviations severity: 0.0;\n",
      "Date: 2024-09-18 08:54:00+00:00; Expected: 2024-09-18 08:55:41+00:00; Number of issues: 0.0; Number of late departures: 0.0; Number of deviations: 0.0; Deviations severity: 0.0;\n",
      "Date: 2024-09-18 08:56:45+00:00; Expected: 2024-09-18 08:57:12+00:00; Number of issues: 0.0; Number of late departures: 0.0; Number of deviations: 0.0; Deviations severity: 0.0;\n",
      "Date: 2024-09-18 08:57:30+00:00; Expected: 2024-09-18 08:57:48+00:00; Number of issues: 0.0; Number of late departures: 0.0; Number of deviations: 0.0; Deviations severity: 0.0;\n",
      "Date: 2024-09-18 09:00:15+00:00; Expected: 2024-09-18 09:00:15+00:00; Number of issues: 0.0; Number of late departures: 0.0; Number of deviations: 0.0; Deviations severity: 0.0;\n",
      "Date: 2024-09-18 09:00:30+00:00; Expected: 2024-09-18 09:00:40+00:00; Number of issues: 0.0; Number of late departures: 0.0; Number of deviations: 0.0; Deviations severity: 0.0;\n",
      "Date: 2024-09-18 09:01:00+00:00; Expected: 2024-09-18 09:03:45+00:00; Number of issues: 0.0; Number of late departures: 0.0; Number of deviations: 0.0; Deviations severity: 0.0;\n",
      "Date: 2024-09-18 09:04:00+00:00; Expected: 2024-09-18 09:05:16+00:00; Number of issues: 0.0; Number of late departures: 0.0; Number of deviations: 0.0; Deviations severity: 0.0;\n",
      "Date: 2024-09-18 09:06:00+00:00; Expected: 2024-09-18 09:09:52+00:00; Number of issues: 0.0; Number of late departures: 0.0; Number of deviations: 0.0; Deviations severity: 0.0;\n",
      "Date: 2024-09-18 09:10:15+00:00; Expected: 2024-09-18 09:10:24+00:00; Number of issues: 0.0; Number of late departures: 0.0; Number of deviations: 0.0; Deviations severity: 0.0;\n",
      "Date: 2024-09-18 09:11:00+00:00; Expected: 2024-09-18 09:12:20+00:00; Number of issues: 0.0; Number of late departures: 0.0; Number of deviations: 0.0; Deviations severity: 0.0;\n",
      "Date: 2024-09-18 21:49:00+00:00; Expected: 2024-09-18 21:49:01+00:00; Number of issues: 0.0; Number of late departures: 0.0; Number of deviations: 0.0; Deviations severity: 0.0;\n",
      "Date: 2024-09-18 21:50:00+00:00; Expected: 2024-09-18 21:51:39+00:00; Number of issues: 0.0; Number of late departures: 0.0; Number of deviations: 0.0; Deviations severity: 0.0;\n",
      "Date: 2024-09-18 21:53:00+00:00; Expected: 2024-09-18 21:54:21+00:00; Number of issues: 0.0; Number of late departures: 0.0; Number of deviations: 0.0; Deviations severity: 0.0;\n",
      "Date: 2024-09-18 22:00:30+00:00; Expected: 2024-09-18 22:00:48+00:00; Number of issues: 0.0; Number of late departures: 0.0; Number of deviations: 0.0; Deviations severity: 0.0;\n",
      "Date: 2024-09-18 22:04:00+00:00; Expected: 2024-09-18 22:07:57+00:00; Number of issues: 0.0; Number of late departures: 0.0; Number of deviations: 0.0; Deviations severity: 0.0;\n",
      "Date: 2024-09-18 22:07:00+00:00; Expected: 2024-09-18 22:09:06+00:00; Number of issues: 0.0; Number of late departures: 0.0; Number of deviations: 0.0; Deviations severity: 0.0;\n",
      "Date: 2024-09-18 22:14:45+00:00; Expected: 2024-09-18 22:14:59+00:00; Number of issues: 0.0; Number of late departures: 0.0; Number of deviations: 0.0; Deviations severity: 0.0;\n",
      "Date: 2024-09-18 22:18:00+00:00; Expected: 2024-09-18 22:18:37+00:00; Number of issues: 0.0; Number of late departures: 0.0; Number of deviations: 0.0; Deviations severity: 0.0;\n",
      "Date: 2024-09-18 22:19:00+00:00; Expected: 2024-09-18 22:20:19+00:00; Number of issues: 0.0; Number of late departures: 0.0; Number of deviations: 0.0; Deviations severity: 0.0;\n",
      "Date: 2024-09-18 22:22:00+00:00; Expected: 2024-09-18 22:23:02+00:00; Number of issues: 0.0; Number of late departures: 0.0; Number of deviations: 0.0; Deviations severity: 0.0;\n",
      "Date: 2024-09-18 22:23:00+00:00; Expected: 2024-09-18 22:23:22+00:00; Number of issues: 0.0; Number of late departures: 0.0; Number of deviations: 0.0; Deviations severity: 0.0;\n",
      "Date: 2024-09-18 22:30:30+00:00; Expected: 2024-09-18 22:31:48+00:00; Number of issues: 0.0; Number of late departures: 0.0; Number of deviations: 0.0; Deviations severity: 0.0;\n",
      "===============\n",
      "\n",
      "To calculate the number of late departures from 2024-09-10 to 2024-09-19, I need to analyze the provided context table with departures information.\n",
      "\n",
      "According to the context table, there are 0 late departures from 2024-09-10 to 2024-09-19.\n"
     ]
    }
   ],
   "source": [
    "QUESTION = \"How many late departures are from 2024-09-10 till 2024-09-19?\"\n",
    "\n",
    "response = generate_response(\n",
    "    QUESTION,\n",
    "    feature_view,\n",
    "    model_deployment,\n",
    "    model_llm,\n",
    "    tokenizer,\n",
    "    llm_chain,\n",
    "    verbose=True,\n",
    ")\n",
    "\n",
    "print(response)"
   ]
  },
  {
   "cell_type": "code",
   "execution_count": 17,
   "id": "c2c38431",
   "metadata": {},
   "outputs": [
    {
     "name": "stdout",
     "output_type": "stream",
     "text": [
      "Finished: Reading data from Hopsworks, using Hopsworks Feature Query Service (0.78s) \n",
      "🗓️ Today's date: Thursday, 2024-09-19\n",
      "📖 Not information found about Departures on this date range\n",
      "===============\n",
      "\n",
      "Last month, there were several departures that faced issues. It appears that a considerable number of them were late, which might suggest that you should consider leaving home a bit earlier to account for any potential delays.\n"
     ]
    }
   ],
   "source": [
    "QUESTION = \"How many departure issues occurred last month?\"\n",
    "\n",
    "response = generate_response(\n",
    "    QUESTION, \n",
    "    feature_view, \n",
    "    model_deployment,\n",
    "    model_llm,\n",
    "    tokenizer,\n",
    "    llm_chain,\n",
    "    verbose=True,\n",
    ")\n",
    "\n",
    "print(response)"
   ]
  },
  {
   "cell_type": "code",
   "execution_count": 18,
   "id": "d106f834",
   "metadata": {},
   "outputs": [
    {
     "name": "stdout",
     "output_type": "stream",
     "text": [
      "Finished: Reading data from Hopsworks, using Hopsworks Feature Query Service (0.72s) \n",
      "🗓️ Today's date: Thursday, 2024-09-19\n",
      "📖 Not information found about Departures on this date range\n",
      "===============\n",
      "\n",
      "I'm sorry, but I don't have any information about the number of departure deviations planned for last month. Please provide me with more specific details, such as the routes or the dates of the departures you're interested in, so I can assist you better.\n"
     ]
    }
   ],
   "source": [
    "QUESTION = \"How many departure deviations were planned for last month?\"\n",
    "\n",
    "response = generate_response(\n",
    "    QUESTION, \n",
    "    feature_view, \n",
    "    model_deployment,\n",
    "    model_llm,\n",
    "    tokenizer,\n",
    "    llm_chain,\n",
    "    verbose=True,\n",
    ")\n",
    "\n",
    "print(response)"
   ]
  },
  {
   "cell_type": "code",
   "execution_count": null,
   "id": "5c8a70c4",
   "metadata": {
    "jupyter": {
     "source_hidden": true
    }
   },
   "outputs": [],
   "source": [
    "QUESTION = \"How long will take me to commute if I leave now?\"\n",
    "\n",
    "response = generate_response(\n",
    "    QUESTION,\n",
    "    feature_view,\n",
    "    model_deployment,\n",
    "    model_llm,\n",
    "    tokenizer,\n",
    "    llm_chain,\n",
    "    verbose=True,\n",
    ")\n",
    "\n",
    "print(response)"
   ]
  },
  {
   "cell_type": "code",
   "execution_count": null,
   "id": "988cba7a",
   "metadata": {
    "jupyter": {
     "source_hidden": true
    }
   },
   "outputs": [],
   "source": [
    "QUESTION = \"At what time should I leave if I want to reach before 10:00 to my office?\"\n",
    "\n",
    "response = generate_response(\n",
    "    QUESTION,\n",
    "    feature_view,\n",
    "    model_deployment,\n",
    "    model_llm,\n",
    "    tokenizer,\n",
    "    llm_chain,\n",
    "    verbose=True,\n",
    ")\n",
    "\n",
    "print(response)"
   ]
  }
 ],
 "metadata": {
  "kernelspec": {
   "display_name": "Python",
   "language": "python",
   "name": "python3"
  },
  "language_info": {
   "codemirror_mode": {
    "name": "ipython",
    "version": 3
   },
   "file_extension": ".py",
   "mimetype": "text/x-python",
   "name": "python",
   "nbconvert_exporter": "python",
   "pygments_lexer": "ipython3",
   "version": "3.10.11"
  }
 },
 "nbformat": 4,
 "nbformat_minor": 5
}
